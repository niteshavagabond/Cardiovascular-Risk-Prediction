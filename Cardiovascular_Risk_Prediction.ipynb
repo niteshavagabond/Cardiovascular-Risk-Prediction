{
  "nbformat": 4,
  "nbformat_minor": 0,
  "metadata": {
    "colab": {
      "provenance": [],
      "collapsed_sections": [],
      "mount_file_id": "1KnIUdYPTD8TzboNxl39ZHy_SxqICnBcl",
      "authorship_tag": "ABX9TyOfjtwOKfa38fw1JaLaNItf",
      "include_colab_link": true
    },
    "kernelspec": {
      "name": "python3",
      "display_name": "Python 3"
    },
    "language_info": {
      "name": "python"
    }
  },
  "cells": [
    {
      "cell_type": "markdown",
      "metadata": {
        "id": "view-in-github",
        "colab_type": "text"
      },
      "source": [
        "<a href=\"https://colab.research.google.com/github/niteshavagabond/Cardiovascular-Risk-Prediction/blob/main/Cardiovascular_Risk_Prediction.ipynb\" target=\"_parent\"><img src=\"https://colab.research.google.com/assets/colab-badge.svg\" alt=\"Open In Colab\"/></a>"
      ]
    },
    {
      "cell_type": "markdown",
      "source": [
        "# Cardiovascular Risk Prediction"
      ],
      "metadata": {
        "id": "esQWkExI3QNB"
      }
    },
    {
      "cell_type": "markdown",
      "source": [
        "The dataset is from an ongoing cardiovascular study on residents of the town of Framingham,\n",
        "Massachusetts. The classification goal is to predict whether the patient has a 10-year risk of\n",
        "future coronary heart disease (CHD). The dataset provides the patients’ information. It includes\n",
        "over 4,000 records and 15 attributes.\n"
      ],
      "metadata": {
        "id": "QYwduqg-06Aw"
      }
    },
    {
      "cell_type": "markdown",
      "source": [
        "Variables\n",
        "Each attribute is a potential risk factor. There are both demographic, behavioral, and medical risk\n",
        "factors."
      ],
      "metadata": {
        "id": "FeCpzjXy1DlM"
      }
    },
    {
      "cell_type": "markdown",
      "source": [
        "Data Description\n",
        "Demographic:\n",
        "*  Sex: male or female(\"M\" or \"F\")\n",
        "*  Age: Age of the patient;(Continuous - Although the recorded ages have been truncated to\n",
        "whole numbers, the concept of age is continuous)\n",
        "Behavioral\n",
        "*  is_smoking: whether or not the patient is a current smoker (\"YES\" or \"NO\")\n",
        "* Cigs Per Day: the number of cigarettes that the person smoked on average in one day.(can be\n",
        "considered continuous as one can have any number of cigarettes, even half a cigarette.)\n",
        "Medical( history)\n",
        "* BP Meds: whether or not the patient was on blood pressure medication (Nominal)\n",
        "* Prevalent Stroke: whether or not the patient had previously had a stroke (Nominal)\n",
        "* Prevalent Hyp: whether or not the patient was hypertensive (Nominal)\n",
        "* Diabetes: whether or not the patient had diabetes (Nominal)\n",
        "Medical(current)\n",
        "* Tot Chol: total cholesterol level (Continuous)\n",
        "* Sys BP: systolic blood pressure (Continuous)\n",
        "* Dia BP: diastolic blood pressure (Continuous)\n",
        "* BMI: Body Mass Index (Continuous)\n",
        "* Heart Rate: heart rate (Continuous - In medical research, variables such as heart rate though in\n",
        "fact discrete, yet are considered continuous because of large number of possible values.)\n",
        "* Glucose: glucose level (Continuous)\n",
        "* 10-year risk of coronary heart disease CHD(binary: “1”, means “Yes”, “0” means “No”) - Target variable"
      ],
      "metadata": {
        "id": "Q7ifPCti1Hg0"
      }
    },
    {
      "cell_type": "code",
      "source": [
        "#importing libraries\n",
        "import pandas as pd\n",
        "import numpy as np\n",
        "import seaborn as sns\n",
        "import matplotlib.pyplot as plt\n",
        "\n",
        "\n"
      ],
      "metadata": {
        "id": "uyFbRxTm14w5"
      },
      "execution_count": 1061,
      "outputs": []
    },
    {
      "cell_type": "code",
      "source": [
        "# mounting google drive\n",
        "from google.colab import drive \n",
        "drive.mount('/content/drive')"
      ],
      "metadata": {
        "colab": {
          "base_uri": "https://localhost:8080/"
        },
        "id": "x_fh9iOI3esH",
        "outputId": "a1cd69ed-7422-49d8-a6da-08ce22293ea6"
      },
      "execution_count": 1062,
      "outputs": [
        {
          "output_type": "stream",
          "name": "stdout",
          "text": [
            "Drive already mounted at /content/drive; to attempt to forcibly remount, call drive.mount(\"/content/drive\", force_remount=True).\n"
          ]
        }
      ]
    },
    {
      "cell_type": "code",
      "source": [
        "# loading dataset\n",
        "df = pd.read_csv('/content/drive/MyDrive/AlmaBetter/Cardiovascular Risk Prediction - Nitesh Verma/data_cardiovascular_risk.csv')"
      ],
      "metadata": {
        "id": "OzP4v8_e1m1J"
      },
      "execution_count": 1063,
      "outputs": []
    },
    {
      "cell_type": "code",
      "source": [
        "# top 5 index values\n",
        "df.head()"
      ],
      "metadata": {
        "colab": {
          "base_uri": "https://localhost:8080/",
          "height": 250
        },
        "id": "yxGQO9kE2H-y",
        "outputId": "f25899db-73b3-4236-d6ac-5c3a245d6f5f"
      },
      "execution_count": 1064,
      "outputs": [
        {
          "output_type": "execute_result",
          "data": {
            "text/plain": [
              "   id  age  education sex is_smoking  cigsPerDay  BPMeds  prevalentStroke  \\\n",
              "0   0   64        2.0   F        YES         3.0     0.0                0   \n",
              "1   1   36        4.0   M         NO         0.0     0.0                0   \n",
              "2   2   46        1.0   F        YES        10.0     0.0                0   \n",
              "3   3   50        1.0   M        YES        20.0     0.0                0   \n",
              "4   4   64        1.0   F        YES        30.0     0.0                0   \n",
              "\n",
              "   prevalentHyp  diabetes  totChol  sysBP  diaBP    BMI  heartRate  glucose  \\\n",
              "0             0         0    221.0  148.0   85.0    NaN       90.0     80.0   \n",
              "1             1         0    212.0  168.0   98.0  29.77       72.0     75.0   \n",
              "2             0         0    250.0  116.0   71.0  20.35       88.0     94.0   \n",
              "3             1         0    233.0  158.0   88.0  28.26       68.0     94.0   \n",
              "4             0         0    241.0  136.5   85.0  26.42       70.0     77.0   \n",
              "\n",
              "   TenYearCHD  \n",
              "0           1  \n",
              "1           0  \n",
              "2           0  \n",
              "3           1  \n",
              "4           0  "
            ],
            "text/html": [
              "\n",
              "  <div id=\"df-549d8caa-b219-4936-bd20-b2b94d35527e\">\n",
              "    <div class=\"colab-df-container\">\n",
              "      <div>\n",
              "<style scoped>\n",
              "    .dataframe tbody tr th:only-of-type {\n",
              "        vertical-align: middle;\n",
              "    }\n",
              "\n",
              "    .dataframe tbody tr th {\n",
              "        vertical-align: top;\n",
              "    }\n",
              "\n",
              "    .dataframe thead th {\n",
              "        text-align: right;\n",
              "    }\n",
              "</style>\n",
              "<table border=\"1\" class=\"dataframe\">\n",
              "  <thead>\n",
              "    <tr style=\"text-align: right;\">\n",
              "      <th></th>\n",
              "      <th>id</th>\n",
              "      <th>age</th>\n",
              "      <th>education</th>\n",
              "      <th>sex</th>\n",
              "      <th>is_smoking</th>\n",
              "      <th>cigsPerDay</th>\n",
              "      <th>BPMeds</th>\n",
              "      <th>prevalentStroke</th>\n",
              "      <th>prevalentHyp</th>\n",
              "      <th>diabetes</th>\n",
              "      <th>totChol</th>\n",
              "      <th>sysBP</th>\n",
              "      <th>diaBP</th>\n",
              "      <th>BMI</th>\n",
              "      <th>heartRate</th>\n",
              "      <th>glucose</th>\n",
              "      <th>TenYearCHD</th>\n",
              "    </tr>\n",
              "  </thead>\n",
              "  <tbody>\n",
              "    <tr>\n",
              "      <th>0</th>\n",
              "      <td>0</td>\n",
              "      <td>64</td>\n",
              "      <td>2.0</td>\n",
              "      <td>F</td>\n",
              "      <td>YES</td>\n",
              "      <td>3.0</td>\n",
              "      <td>0.0</td>\n",
              "      <td>0</td>\n",
              "      <td>0</td>\n",
              "      <td>0</td>\n",
              "      <td>221.0</td>\n",
              "      <td>148.0</td>\n",
              "      <td>85.0</td>\n",
              "      <td>NaN</td>\n",
              "      <td>90.0</td>\n",
              "      <td>80.0</td>\n",
              "      <td>1</td>\n",
              "    </tr>\n",
              "    <tr>\n",
              "      <th>1</th>\n",
              "      <td>1</td>\n",
              "      <td>36</td>\n",
              "      <td>4.0</td>\n",
              "      <td>M</td>\n",
              "      <td>NO</td>\n",
              "      <td>0.0</td>\n",
              "      <td>0.0</td>\n",
              "      <td>0</td>\n",
              "      <td>1</td>\n",
              "      <td>0</td>\n",
              "      <td>212.0</td>\n",
              "      <td>168.0</td>\n",
              "      <td>98.0</td>\n",
              "      <td>29.77</td>\n",
              "      <td>72.0</td>\n",
              "      <td>75.0</td>\n",
              "      <td>0</td>\n",
              "    </tr>\n",
              "    <tr>\n",
              "      <th>2</th>\n",
              "      <td>2</td>\n",
              "      <td>46</td>\n",
              "      <td>1.0</td>\n",
              "      <td>F</td>\n",
              "      <td>YES</td>\n",
              "      <td>10.0</td>\n",
              "      <td>0.0</td>\n",
              "      <td>0</td>\n",
              "      <td>0</td>\n",
              "      <td>0</td>\n",
              "      <td>250.0</td>\n",
              "      <td>116.0</td>\n",
              "      <td>71.0</td>\n",
              "      <td>20.35</td>\n",
              "      <td>88.0</td>\n",
              "      <td>94.0</td>\n",
              "      <td>0</td>\n",
              "    </tr>\n",
              "    <tr>\n",
              "      <th>3</th>\n",
              "      <td>3</td>\n",
              "      <td>50</td>\n",
              "      <td>1.0</td>\n",
              "      <td>M</td>\n",
              "      <td>YES</td>\n",
              "      <td>20.0</td>\n",
              "      <td>0.0</td>\n",
              "      <td>0</td>\n",
              "      <td>1</td>\n",
              "      <td>0</td>\n",
              "      <td>233.0</td>\n",
              "      <td>158.0</td>\n",
              "      <td>88.0</td>\n",
              "      <td>28.26</td>\n",
              "      <td>68.0</td>\n",
              "      <td>94.0</td>\n",
              "      <td>1</td>\n",
              "    </tr>\n",
              "    <tr>\n",
              "      <th>4</th>\n",
              "      <td>4</td>\n",
              "      <td>64</td>\n",
              "      <td>1.0</td>\n",
              "      <td>F</td>\n",
              "      <td>YES</td>\n",
              "      <td>30.0</td>\n",
              "      <td>0.0</td>\n",
              "      <td>0</td>\n",
              "      <td>0</td>\n",
              "      <td>0</td>\n",
              "      <td>241.0</td>\n",
              "      <td>136.5</td>\n",
              "      <td>85.0</td>\n",
              "      <td>26.42</td>\n",
              "      <td>70.0</td>\n",
              "      <td>77.0</td>\n",
              "      <td>0</td>\n",
              "    </tr>\n",
              "  </tbody>\n",
              "</table>\n",
              "</div>\n",
              "      <button class=\"colab-df-convert\" onclick=\"convertToInteractive('df-549d8caa-b219-4936-bd20-b2b94d35527e')\"\n",
              "              title=\"Convert this dataframe to an interactive table.\"\n",
              "              style=\"display:none;\">\n",
              "        \n",
              "  <svg xmlns=\"http://www.w3.org/2000/svg\" height=\"24px\"viewBox=\"0 0 24 24\"\n",
              "       width=\"24px\">\n",
              "    <path d=\"M0 0h24v24H0V0z\" fill=\"none\"/>\n",
              "    <path d=\"M18.56 5.44l.94 2.06.94-2.06 2.06-.94-2.06-.94-.94-2.06-.94 2.06-2.06.94zm-11 1L8.5 8.5l.94-2.06 2.06-.94-2.06-.94L8.5 2.5l-.94 2.06-2.06.94zm10 10l.94 2.06.94-2.06 2.06-.94-2.06-.94-.94-2.06-.94 2.06-2.06.94z\"/><path d=\"M17.41 7.96l-1.37-1.37c-.4-.4-.92-.59-1.43-.59-.52 0-1.04.2-1.43.59L10.3 9.45l-7.72 7.72c-.78.78-.78 2.05 0 2.83L4 21.41c.39.39.9.59 1.41.59.51 0 1.02-.2 1.41-.59l7.78-7.78 2.81-2.81c.8-.78.8-2.07 0-2.86zM5.41 20L4 18.59l7.72-7.72 1.47 1.35L5.41 20z\"/>\n",
              "  </svg>\n",
              "      </button>\n",
              "      \n",
              "  <style>\n",
              "    .colab-df-container {\n",
              "      display:flex;\n",
              "      flex-wrap:wrap;\n",
              "      gap: 12px;\n",
              "    }\n",
              "\n",
              "    .colab-df-convert {\n",
              "      background-color: #E8F0FE;\n",
              "      border: none;\n",
              "      border-radius: 50%;\n",
              "      cursor: pointer;\n",
              "      display: none;\n",
              "      fill: #1967D2;\n",
              "      height: 32px;\n",
              "      padding: 0 0 0 0;\n",
              "      width: 32px;\n",
              "    }\n",
              "\n",
              "    .colab-df-convert:hover {\n",
              "      background-color: #E2EBFA;\n",
              "      box-shadow: 0px 1px 2px rgba(60, 64, 67, 0.3), 0px 1px 3px 1px rgba(60, 64, 67, 0.15);\n",
              "      fill: #174EA6;\n",
              "    }\n",
              "\n",
              "    [theme=dark] .colab-df-convert {\n",
              "      background-color: #3B4455;\n",
              "      fill: #D2E3FC;\n",
              "    }\n",
              "\n",
              "    [theme=dark] .colab-df-convert:hover {\n",
              "      background-color: #434B5C;\n",
              "      box-shadow: 0px 1px 3px 1px rgba(0, 0, 0, 0.15);\n",
              "      filter: drop-shadow(0px 1px 2px rgba(0, 0, 0, 0.3));\n",
              "      fill: #FFFFFF;\n",
              "    }\n",
              "  </style>\n",
              "\n",
              "      <script>\n",
              "        const buttonEl =\n",
              "          document.querySelector('#df-549d8caa-b219-4936-bd20-b2b94d35527e button.colab-df-convert');\n",
              "        buttonEl.style.display =\n",
              "          google.colab.kernel.accessAllowed ? 'block' : 'none';\n",
              "\n",
              "        async function convertToInteractive(key) {\n",
              "          const element = document.querySelector('#df-549d8caa-b219-4936-bd20-b2b94d35527e');\n",
              "          const dataTable =\n",
              "            await google.colab.kernel.invokeFunction('convertToInteractive',\n",
              "                                                     [key], {});\n",
              "          if (!dataTable) return;\n",
              "\n",
              "          const docLinkHtml = 'Like what you see? Visit the ' +\n",
              "            '<a target=\"_blank\" href=https://colab.research.google.com/notebooks/data_table.ipynb>data table notebook</a>'\n",
              "            + ' to learn more about interactive tables.';\n",
              "          element.innerHTML = '';\n",
              "          dataTable['output_type'] = 'display_data';\n",
              "          await google.colab.output.renderOutput(dataTable, element);\n",
              "          const docLink = document.createElement('div');\n",
              "          docLink.innerHTML = docLinkHtml;\n",
              "          element.appendChild(docLink);\n",
              "        }\n",
              "      </script>\n",
              "    </div>\n",
              "  </div>\n",
              "  "
            ]
          },
          "metadata": {},
          "execution_count": 1064
        }
      ]
    },
    {
      "cell_type": "code",
      "source": [
        "# last 5 index values\n",
        "df.tail()"
      ],
      "metadata": {
        "colab": {
          "base_uri": "https://localhost:8080/",
          "height": 270
        },
        "id": "1v2rJ_HS2P1I",
        "outputId": "d9fa5294-ef7b-4cd6-c721-de71339172ad"
      },
      "execution_count": 1065,
      "outputs": [
        {
          "output_type": "execute_result",
          "data": {
            "text/plain": [
              "        id  age  education sex is_smoking  cigsPerDay  BPMeds  \\\n",
              "3385  3385   60        1.0   F         NO         0.0     0.0   \n",
              "3386  3386   46        1.0   F         NO         0.0     0.0   \n",
              "3387  3387   44        3.0   M        YES         3.0     0.0   \n",
              "3388  3388   60        1.0   M         NO         0.0     NaN   \n",
              "3389  3389   54        3.0   F         NO         0.0     0.0   \n",
              "\n",
              "      prevalentStroke  prevalentHyp  diabetes  totChol  sysBP  diaBP    BMI  \\\n",
              "3385                0             0         0    261.0  123.5   79.0  29.28   \n",
              "3386                0             0         0    199.0  102.0   56.0  21.96   \n",
              "3387                0             1         0    352.0  164.0  119.0  28.92   \n",
              "3388                0             1         0    191.0  167.0  105.0  23.01   \n",
              "3389                0             0         0    288.0  124.0   77.0  29.88   \n",
              "\n",
              "      heartRate  glucose  TenYearCHD  \n",
              "3385       70.0    103.0           0  \n",
              "3386       80.0     84.0           0  \n",
              "3387       73.0     72.0           1  \n",
              "3388       80.0     85.0           0  \n",
              "3389       79.0     92.0           0  "
            ],
            "text/html": [
              "\n",
              "  <div id=\"df-af701d1c-b657-4282-8873-14d41569d783\">\n",
              "    <div class=\"colab-df-container\">\n",
              "      <div>\n",
              "<style scoped>\n",
              "    .dataframe tbody tr th:only-of-type {\n",
              "        vertical-align: middle;\n",
              "    }\n",
              "\n",
              "    .dataframe tbody tr th {\n",
              "        vertical-align: top;\n",
              "    }\n",
              "\n",
              "    .dataframe thead th {\n",
              "        text-align: right;\n",
              "    }\n",
              "</style>\n",
              "<table border=\"1\" class=\"dataframe\">\n",
              "  <thead>\n",
              "    <tr style=\"text-align: right;\">\n",
              "      <th></th>\n",
              "      <th>id</th>\n",
              "      <th>age</th>\n",
              "      <th>education</th>\n",
              "      <th>sex</th>\n",
              "      <th>is_smoking</th>\n",
              "      <th>cigsPerDay</th>\n",
              "      <th>BPMeds</th>\n",
              "      <th>prevalentStroke</th>\n",
              "      <th>prevalentHyp</th>\n",
              "      <th>diabetes</th>\n",
              "      <th>totChol</th>\n",
              "      <th>sysBP</th>\n",
              "      <th>diaBP</th>\n",
              "      <th>BMI</th>\n",
              "      <th>heartRate</th>\n",
              "      <th>glucose</th>\n",
              "      <th>TenYearCHD</th>\n",
              "    </tr>\n",
              "  </thead>\n",
              "  <tbody>\n",
              "    <tr>\n",
              "      <th>3385</th>\n",
              "      <td>3385</td>\n",
              "      <td>60</td>\n",
              "      <td>1.0</td>\n",
              "      <td>F</td>\n",
              "      <td>NO</td>\n",
              "      <td>0.0</td>\n",
              "      <td>0.0</td>\n",
              "      <td>0</td>\n",
              "      <td>0</td>\n",
              "      <td>0</td>\n",
              "      <td>261.0</td>\n",
              "      <td>123.5</td>\n",
              "      <td>79.0</td>\n",
              "      <td>29.28</td>\n",
              "      <td>70.0</td>\n",
              "      <td>103.0</td>\n",
              "      <td>0</td>\n",
              "    </tr>\n",
              "    <tr>\n",
              "      <th>3386</th>\n",
              "      <td>3386</td>\n",
              "      <td>46</td>\n",
              "      <td>1.0</td>\n",
              "      <td>F</td>\n",
              "      <td>NO</td>\n",
              "      <td>0.0</td>\n",
              "      <td>0.0</td>\n",
              "      <td>0</td>\n",
              "      <td>0</td>\n",
              "      <td>0</td>\n",
              "      <td>199.0</td>\n",
              "      <td>102.0</td>\n",
              "      <td>56.0</td>\n",
              "      <td>21.96</td>\n",
              "      <td>80.0</td>\n",
              "      <td>84.0</td>\n",
              "      <td>0</td>\n",
              "    </tr>\n",
              "    <tr>\n",
              "      <th>3387</th>\n",
              "      <td>3387</td>\n",
              "      <td>44</td>\n",
              "      <td>3.0</td>\n",
              "      <td>M</td>\n",
              "      <td>YES</td>\n",
              "      <td>3.0</td>\n",
              "      <td>0.0</td>\n",
              "      <td>0</td>\n",
              "      <td>1</td>\n",
              "      <td>0</td>\n",
              "      <td>352.0</td>\n",
              "      <td>164.0</td>\n",
              "      <td>119.0</td>\n",
              "      <td>28.92</td>\n",
              "      <td>73.0</td>\n",
              "      <td>72.0</td>\n",
              "      <td>1</td>\n",
              "    </tr>\n",
              "    <tr>\n",
              "      <th>3388</th>\n",
              "      <td>3388</td>\n",
              "      <td>60</td>\n",
              "      <td>1.0</td>\n",
              "      <td>M</td>\n",
              "      <td>NO</td>\n",
              "      <td>0.0</td>\n",
              "      <td>NaN</td>\n",
              "      <td>0</td>\n",
              "      <td>1</td>\n",
              "      <td>0</td>\n",
              "      <td>191.0</td>\n",
              "      <td>167.0</td>\n",
              "      <td>105.0</td>\n",
              "      <td>23.01</td>\n",
              "      <td>80.0</td>\n",
              "      <td>85.0</td>\n",
              "      <td>0</td>\n",
              "    </tr>\n",
              "    <tr>\n",
              "      <th>3389</th>\n",
              "      <td>3389</td>\n",
              "      <td>54</td>\n",
              "      <td>3.0</td>\n",
              "      <td>F</td>\n",
              "      <td>NO</td>\n",
              "      <td>0.0</td>\n",
              "      <td>0.0</td>\n",
              "      <td>0</td>\n",
              "      <td>0</td>\n",
              "      <td>0</td>\n",
              "      <td>288.0</td>\n",
              "      <td>124.0</td>\n",
              "      <td>77.0</td>\n",
              "      <td>29.88</td>\n",
              "      <td>79.0</td>\n",
              "      <td>92.0</td>\n",
              "      <td>0</td>\n",
              "    </tr>\n",
              "  </tbody>\n",
              "</table>\n",
              "</div>\n",
              "      <button class=\"colab-df-convert\" onclick=\"convertToInteractive('df-af701d1c-b657-4282-8873-14d41569d783')\"\n",
              "              title=\"Convert this dataframe to an interactive table.\"\n",
              "              style=\"display:none;\">\n",
              "        \n",
              "  <svg xmlns=\"http://www.w3.org/2000/svg\" height=\"24px\"viewBox=\"0 0 24 24\"\n",
              "       width=\"24px\">\n",
              "    <path d=\"M0 0h24v24H0V0z\" fill=\"none\"/>\n",
              "    <path d=\"M18.56 5.44l.94 2.06.94-2.06 2.06-.94-2.06-.94-.94-2.06-.94 2.06-2.06.94zm-11 1L8.5 8.5l.94-2.06 2.06-.94-2.06-.94L8.5 2.5l-.94 2.06-2.06.94zm10 10l.94 2.06.94-2.06 2.06-.94-2.06-.94-.94-2.06-.94 2.06-2.06.94z\"/><path d=\"M17.41 7.96l-1.37-1.37c-.4-.4-.92-.59-1.43-.59-.52 0-1.04.2-1.43.59L10.3 9.45l-7.72 7.72c-.78.78-.78 2.05 0 2.83L4 21.41c.39.39.9.59 1.41.59.51 0 1.02-.2 1.41-.59l7.78-7.78 2.81-2.81c.8-.78.8-2.07 0-2.86zM5.41 20L4 18.59l7.72-7.72 1.47 1.35L5.41 20z\"/>\n",
              "  </svg>\n",
              "      </button>\n",
              "      \n",
              "  <style>\n",
              "    .colab-df-container {\n",
              "      display:flex;\n",
              "      flex-wrap:wrap;\n",
              "      gap: 12px;\n",
              "    }\n",
              "\n",
              "    .colab-df-convert {\n",
              "      background-color: #E8F0FE;\n",
              "      border: none;\n",
              "      border-radius: 50%;\n",
              "      cursor: pointer;\n",
              "      display: none;\n",
              "      fill: #1967D2;\n",
              "      height: 32px;\n",
              "      padding: 0 0 0 0;\n",
              "      width: 32px;\n",
              "    }\n",
              "\n",
              "    .colab-df-convert:hover {\n",
              "      background-color: #E2EBFA;\n",
              "      box-shadow: 0px 1px 2px rgba(60, 64, 67, 0.3), 0px 1px 3px 1px rgba(60, 64, 67, 0.15);\n",
              "      fill: #174EA6;\n",
              "    }\n",
              "\n",
              "    [theme=dark] .colab-df-convert {\n",
              "      background-color: #3B4455;\n",
              "      fill: #D2E3FC;\n",
              "    }\n",
              "\n",
              "    [theme=dark] .colab-df-convert:hover {\n",
              "      background-color: #434B5C;\n",
              "      box-shadow: 0px 1px 3px 1px rgba(0, 0, 0, 0.15);\n",
              "      filter: drop-shadow(0px 1px 2px rgba(0, 0, 0, 0.3));\n",
              "      fill: #FFFFFF;\n",
              "    }\n",
              "  </style>\n",
              "\n",
              "      <script>\n",
              "        const buttonEl =\n",
              "          document.querySelector('#df-af701d1c-b657-4282-8873-14d41569d783 button.colab-df-convert');\n",
              "        buttonEl.style.display =\n",
              "          google.colab.kernel.accessAllowed ? 'block' : 'none';\n",
              "\n",
              "        async function convertToInteractive(key) {\n",
              "          const element = document.querySelector('#df-af701d1c-b657-4282-8873-14d41569d783');\n",
              "          const dataTable =\n",
              "            await google.colab.kernel.invokeFunction('convertToInteractive',\n",
              "                                                     [key], {});\n",
              "          if (!dataTable) return;\n",
              "\n",
              "          const docLinkHtml = 'Like what you see? Visit the ' +\n",
              "            '<a target=\"_blank\" href=https://colab.research.google.com/notebooks/data_table.ipynb>data table notebook</a>'\n",
              "            + ' to learn more about interactive tables.';\n",
              "          element.innerHTML = '';\n",
              "          dataTable['output_type'] = 'display_data';\n",
              "          await google.colab.output.renderOutput(dataTable, element);\n",
              "          const docLink = document.createElement('div');\n",
              "          docLink.innerHTML = docLinkHtml;\n",
              "          element.appendChild(docLink);\n",
              "        }\n",
              "      </script>\n",
              "    </div>\n",
              "  </div>\n",
              "  "
            ]
          },
          "metadata": {},
          "execution_count": 1065
        }
      ]
    },
    {
      "cell_type": "code",
      "source": [
        "# shape of dataset\n",
        "df.shape"
      ],
      "metadata": {
        "colab": {
          "base_uri": "https://localhost:8080/"
        },
        "id": "fUFNb18z2maP",
        "outputId": "a9817409-9d1d-4f4c-a89a-c5be58151fc3"
      },
      "execution_count": 1066,
      "outputs": [
        {
          "output_type": "execute_result",
          "data": {
            "text/plain": [
              "(3390, 17)"
            ]
          },
          "metadata": {},
          "execution_count": 1066
        }
      ]
    },
    {
      "cell_type": "code",
      "source": [
        "# information regarding dataset\n",
        "df.info()"
      ],
      "metadata": {
        "colab": {
          "base_uri": "https://localhost:8080/"
        },
        "id": "haRJMtVQ2R1Q",
        "outputId": "febd812e-1d9e-4dda-97bb-7f20dd3ea8c5"
      },
      "execution_count": 1067,
      "outputs": [
        {
          "output_type": "stream",
          "name": "stdout",
          "text": [
            "<class 'pandas.core.frame.DataFrame'>\n",
            "RangeIndex: 3390 entries, 0 to 3389\n",
            "Data columns (total 17 columns):\n",
            " #   Column           Non-Null Count  Dtype  \n",
            "---  ------           --------------  -----  \n",
            " 0   id               3390 non-null   int64  \n",
            " 1   age              3390 non-null   int64  \n",
            " 2   education        3303 non-null   float64\n",
            " 3   sex              3390 non-null   object \n",
            " 4   is_smoking       3390 non-null   object \n",
            " 5   cigsPerDay       3368 non-null   float64\n",
            " 6   BPMeds           3346 non-null   float64\n",
            " 7   prevalentStroke  3390 non-null   int64  \n",
            " 8   prevalentHyp     3390 non-null   int64  \n",
            " 9   diabetes         3390 non-null   int64  \n",
            " 10  totChol          3352 non-null   float64\n",
            " 11  sysBP            3390 non-null   float64\n",
            " 12  diaBP            3390 non-null   float64\n",
            " 13  BMI              3376 non-null   float64\n",
            " 14  heartRate        3389 non-null   float64\n",
            " 15  glucose          3086 non-null   float64\n",
            " 16  TenYearCHD       3390 non-null   int64  \n",
            "dtypes: float64(9), int64(6), object(2)\n",
            "memory usage: 450.4+ KB\n"
          ]
        }
      ]
    },
    {
      "cell_type": "code",
      "source": [
        "# looking for outliers of every fearture of dataset with the help of boxplot\n",
        "import warnings\n",
        "warnings.simplefilter(action='ignore',category=FutureWarning)\n",
        "plt.figure(figsize = (20, 10))\n",
        "num_it = 1 \n",
        "\n",
        "for col in df.describe().columns:\n",
        "    plt.subplot(6,4,num_it)\n",
        "    sns.boxplot(df[col])\n",
        "    num_it+=1\n",
        "    \n",
        "plt.tight_layout()"
      ],
      "metadata": {
        "colab": {
          "base_uri": "https://localhost:8080/",
          "height": 449
        },
        "id": "b7aK0KwNdKJx",
        "outputId": "bec6de7e-637d-4225-944a-b2303892513c"
      },
      "execution_count": 1068,
      "outputs": [
        {
          "output_type": "display_data",
          "data": {
            "text/plain": [
              "<Figure size 1440x720 with 15 Axes>"
            ],
            "image/png": "[encoded data removed]"
          },
          "metadata": {
            "needs_background": "light"
          }
        }
      ]
    },
    {
      "cell_type": "markdown",
      "source": [
        "# Feature engineering"
      ],
      "metadata": {
        "id": "KSPuhSiHT74L"
      }
    },
    {
      "cell_type": "code",
      "source": [
        "# droping irrelevant columns from dataset\n",
        "df.drop(['id','education'], axis=1, inplace=True) # id and education status of patients are not going to help to predict cardiovascular risk "
      ],
      "metadata": {
        "id": "H8P6190D7uit"
      },
      "execution_count": 1069,
      "outputs": []
    },
    {
      "cell_type": "code",
      "source": [
        "# total null values present in columns\n",
        "df.isna().sum()"
      ],
      "metadata": {
        "colab": {
          "base_uri": "https://localhost:8080/"
        },
        "id": "lGkKjA032U7o",
        "outputId": "7e9d4919-caa8-4cbc-9e5d-3bb737dcfc89"
      },
      "execution_count": 1070,
      "outputs": [
        {
          "output_type": "execute_result",
          "data": {
            "text/plain": [
              "age                  0\n",
              "sex                  0\n",
              "is_smoking           0\n",
              "cigsPerDay          22\n",
              "BPMeds              44\n",
              "prevalentStroke      0\n",
              "prevalentHyp         0\n",
              "diabetes             0\n",
              "totChol             38\n",
              "sysBP                0\n",
              "diaBP                0\n",
              "BMI                 14\n",
              "heartRate            1\n",
              "glucose            304\n",
              "TenYearCHD           0\n",
              "dtype: int64"
            ]
          },
          "metadata": {},
          "execution_count": 1070
        }
      ]
    },
    {
      "cell_type": "code",
      "source": [
        "# looking column names, datatype of features, null values, unique values and their number of unique values\n",
        "df_columns_table=[[name,df[name].dtypes,df[name].isnull().sum(),round(df[name].isnull().sum()/len(df)*100, 2),\n",
        "                   df[name].nunique(),df[name].unique()] for name in df.columns]\n",
        "df_columns = pd.DataFrame(df_columns_table, columns = ['Column', 'Dtype', 'Null', 'Null (%)', 'nUnique', 'Unique'])\n",
        "df_columns"
      ],
      "metadata": {
        "colab": {
          "base_uri": "https://localhost:8080/",
          "height": 520
        },
        "id": "guOhymFB2hzp",
        "outputId": "cd183266-105e-4509-cf23-fe33ee6b2c86"
      },
      "execution_count": 1071,
      "outputs": [
        {
          "output_type": "execute_result",
          "data": {
            "text/plain": [
              "             Column    Dtype  Null  Null (%)  nUnique  \\\n",
              "0               age    int64     0      0.00       39   \n",
              "1               sex   object     0      0.00        2   \n",
              "2        is_smoking   object     0      0.00        2   \n",
              "3        cigsPerDay  float64    22      0.65       32   \n",
              "4            BPMeds  float64    44      1.30        2   \n",
              "5   prevalentStroke    int64     0      0.00        2   \n",
              "6      prevalentHyp    int64     0      0.00        2   \n",
              "7          diabetes    int64     0      0.00        2   \n",
              "8           totChol  float64    38      1.12      240   \n",
              "9             sysBP  float64     0      0.00      226   \n",
              "10            diaBP  float64     0      0.00      142   \n",
              "11              BMI  float64    14      0.41     1259   \n",
              "12        heartRate  float64     1      0.03       68   \n",
              "13          glucose  float64   304      8.97      132   \n",
              "14       TenYearCHD    int64     0      0.00        2   \n",
              "\n",
              "                                               Unique  \n",
              "0   [64, 36, 46, 50, 61, 41, 55, 53, 43, 44, 58, 5...  \n",
              "1                                              [F, M]  \n",
              "2                                           [YES, NO]  \n",
              "3   [3.0, 0.0, 10.0, 20.0, 30.0, 35.0, 40.0, 15.0,...  \n",
              "4                                     [0.0, nan, 1.0]  \n",
              "5                                              [0, 1]  \n",
              "6                                              [0, 1]  \n",
              "7                                              [0, 1]  \n",
              "8   [221.0, 212.0, 250.0, 233.0, 241.0, 272.0, 238...  \n",
              "9   [148.0, 168.0, 116.0, 158.0, 136.5, 182.0, 232...  \n",
              "10  [85.0, 98.0, 71.0, 88.0, 121.0, 136.0, 68.0, 7...  \n",
              "11  [nan, 29.77, 20.35, 28.26, 26.42, 32.8, 24.83,...  \n",
              "12  [90.0, 72.0, 88.0, 68.0, 70.0, 85.0, 75.0, 60....  \n",
              "13  [80.0, 75.0, 94.0, 77.0, 65.0, 79.0, 63.0, nan...  \n",
              "14                                             [1, 0]  "
            ],
            "text/html": [
              "\n",
              "  <div id=\"df-be077553-4aaa-42fd-b754-992fcd8902ce\">\n",
              "    <div class=\"colab-df-container\">\n",
              "      <div>\n",
              "<style scoped>\n",
              "    .dataframe tbody tr th:only-of-type {\n",
              "        vertical-align: middle;\n",
              "    }\n",
              "\n",
              "    .dataframe tbody tr th {\n",
              "        vertical-align: top;\n",
              "    }\n",
              "\n",
              "    .dataframe thead th {\n",
              "        text-align: right;\n",
              "    }\n",
              "</style>\n",
              "<table border=\"1\" class=\"dataframe\">\n",
              "  <thead>\n",
              "    <tr style=\"text-align: right;\">\n",
              "      <th></th>\n",
              "      <th>Column</th>\n",
              "      <th>Dtype</th>\n",
              "      <th>Null</th>\n",
              "      <th>Null (%)</th>\n",
              "      <th>nUnique</th>\n",
              "      <th>Unique</th>\n",
              "    </tr>\n",
              "  </thead>\n",
              "  <tbody>\n",
              "    <tr>\n",
              "      <th>0</th>\n",
              "      <td>age</td>\n",
              "      <td>int64</td>\n",
              "      <td>0</td>\n",
              "      <td>0.00</td>\n",
              "      <td>39</td>\n",
              "      <td>[64, 36, 46, 50, 61, 41, 55, 53, 43, 44, 58, 5...</td>\n",
              "    </tr>\n",
              "    <tr>\n",
              "      <th>1</th>\n",
              "      <td>sex</td>\n",
              "      <td>object</td>\n",
              "      <td>0</td>\n",
              "      <td>0.00</td>\n",
              "      <td>2</td>\n",
              "      <td>[F, M]</td>\n",
              "    </tr>\n",
              "    <tr>\n",
              "      <th>2</th>\n",
              "      <td>is_smoking</td>\n",
              "      <td>object</td>\n",
              "      <td>0</td>\n",
              "      <td>0.00</td>\n",
              "      <td>2</td>\n",
              "      <td>[YES, NO]</td>\n",
              "    </tr>\n",
              "    <tr>\n",
              "      <th>3</th>\n",
              "      <td>cigsPerDay</td>\n",
              "      <td>float64</td>\n",
              "      <td>22</td>\n",
              "      <td>0.65</td>\n",
              "      <td>32</td>\n",
              "      <td>[3.0, 0.0, 10.0, 20.0, 30.0, 35.0, 40.0, 15.0,...</td>\n",
              "    </tr>\n",
              "    <tr>\n",
              "      <th>4</th>\n",
              "      <td>BPMeds</td>\n",
              "      <td>float64</td>\n",
              "      <td>44</td>\n",
              "      <td>1.30</td>\n",
              "      <td>2</td>\n",
              "      <td>[0.0, nan, 1.0]</td>\n",
              "    </tr>\n",
              "    <tr>\n",
              "      <th>5</th>\n",
              "      <td>prevalentStroke</td>\n",
              "      <td>int64</td>\n",
              "      <td>0</td>\n",
              "      <td>0.00</td>\n",
              "      <td>2</td>\n",
              "      <td>[0, 1]</td>\n",
              "    </tr>\n",
              "    <tr>\n",
              "      <th>6</th>\n",
              "      <td>prevalentHyp</td>\n",
              "      <td>int64</td>\n",
              "      <td>0</td>\n",
              "      <td>0.00</td>\n",
              "      <td>2</td>\n",
              "      <td>[0, 1]</td>\n",
              "    </tr>\n",
              "    <tr>\n",
              "      <th>7</th>\n",
              "      <td>diabetes</td>\n",
              "      <td>int64</td>\n",
              "      <td>0</td>\n",
              "      <td>0.00</td>\n",
              "      <td>2</td>\n",
              "      <td>[0, 1]</td>\n",
              "    </tr>\n",
              "    <tr>\n",
              "      <th>8</th>\n",
              "      <td>totChol</td>\n",
              "      <td>float64</td>\n",
              "      <td>38</td>\n",
              "      <td>1.12</td>\n",
              "      <td>240</td>\n",
              "      <td>[221.0, 212.0, 250.0, 233.0, 241.0, 272.0, 238...</td>\n",
              "    </tr>\n",
              "    <tr>\n",
              "      <th>9</th>\n",
              "      <td>sysBP</td>\n",
              "      <td>float64</td>\n",
              "      <td>0</td>\n",
              "      <td>0.00</td>\n",
              "      <td>226</td>\n",
              "      <td>[148.0, 168.0, 116.0, 158.0, 136.5, 182.0, 232...</td>\n",
              "    </tr>\n",
              "    <tr>\n",
              "      <th>10</th>\n",
              "      <td>diaBP</td>\n",
              "      <td>float64</td>\n",
              "      <td>0</td>\n",
              "      <td>0.00</td>\n",
              "      <td>142</td>\n",
              "      <td>[85.0, 98.0, 71.0, 88.0, 121.0, 136.0, 68.0, 7...</td>\n",
              "    </tr>\n",
              "    <tr>\n",
              "      <th>11</th>\n",
              "      <td>BMI</td>\n",
              "      <td>float64</td>\n",
              "      <td>14</td>\n",
              "      <td>0.41</td>\n",
              "      <td>1259</td>\n",
              "      <td>[nan, 29.77, 20.35, 28.26, 26.42, 32.8, 24.83,...</td>\n",
              "    </tr>\n",
              "    <tr>\n",
              "      <th>12</th>\n",
              "      <td>heartRate</td>\n",
              "      <td>float64</td>\n",
              "      <td>1</td>\n",
              "      <td>0.03</td>\n",
              "      <td>68</td>\n",
              "      <td>[90.0, 72.0, 88.0, 68.0, 70.0, 85.0, 75.0, 60....</td>\n",
              "    </tr>\n",
              "    <tr>\n",
              "      <th>13</th>\n",
              "      <td>glucose</td>\n",
              "      <td>float64</td>\n",
              "      <td>304</td>\n",
              "      <td>8.97</td>\n",
              "      <td>132</td>\n",
              "      <td>[80.0, 75.0, 94.0, 77.0, 65.0, 79.0, 63.0, nan...</td>\n",
              "    </tr>\n",
              "    <tr>\n",
              "      <th>14</th>\n",
              "      <td>TenYearCHD</td>\n",
              "      <td>int64</td>\n",
              "      <td>0</td>\n",
              "      <td>0.00</td>\n",
              "      <td>2</td>\n",
              "      <td>[1, 0]</td>\n",
              "    </tr>\n",
              "  </tbody>\n",
              "</table>\n",
              "</div>\n",
              "      <button class=\"colab-df-convert\" onclick=\"convertToInteractive('df-be077553-4aaa-42fd-b754-992fcd8902ce')\"\n",
              "              title=\"Convert this dataframe to an interactive table.\"\n",
              "              style=\"display:none;\">\n",
              "        \n",
              "  <svg xmlns=\"http://www.w3.org/2000/svg\" height=\"24px\"viewBox=\"0 0 24 24\"\n",
              "       width=\"24px\">\n",
              "    <path d=\"M0 0h24v24H0V0z\" fill=\"none\"/>\n",
              "    <path d=\"M18.56 5.44l.94 2.06.94-2.06 2.06-.94-2.06-.94-.94-2.06-.94 2.06-2.06.94zm-11 1L8.5 8.5l.94-2.06 2.06-.94-2.06-.94L8.5 2.5l-.94 2.06-2.06.94zm10 10l.94 2.06.94-2.06 2.06-.94-2.06-.94-.94-2.06-.94 2.06-2.06.94z\"/><path d=\"M17.41 7.96l-1.37-1.37c-.4-.4-.92-.59-1.43-.59-.52 0-1.04.2-1.43.59L10.3 9.45l-7.72 7.72c-.78.78-.78 2.05 0 2.83L4 21.41c.39.39.9.59 1.41.59.51 0 1.02-.2 1.41-.59l7.78-7.78 2.81-2.81c.8-.78.8-2.07 0-2.86zM5.41 20L4 18.59l7.72-7.72 1.47 1.35L5.41 20z\"/>\n",
              "  </svg>\n",
              "      </button>\n",
              "      \n",
              "  <style>\n",
              "    .colab-df-container {\n",
              "      display:flex;\n",
              "      flex-wrap:wrap;\n",
              "      gap: 12px;\n",
              "    }\n",
              "\n",
              "    .colab-df-convert {\n",
              "      background-color: #E8F0FE;\n",
              "      border: none;\n",
              "      border-radius: 50%;\n",
              "      cursor: pointer;\n",
              "      display: none;\n",
              "      fill: #1967D2;\n",
              "      height: 32px;\n",
              "      padding: 0 0 0 0;\n",
              "      width: 32px;\n",
              "    }\n",
              "\n",
              "    .colab-df-convert:hover {\n",
              "      background-color: #E2EBFA;\n",
              "      box-shadow: 0px 1px 2px rgba(60, 64, 67, 0.3), 0px 1px 3px 1px rgba(60, 64, 67, 0.15);\n",
              "      fill: #174EA6;\n",
              "    }\n",
              "\n",
              "    [theme=dark] .colab-df-convert {\n",
              "      background-color: #3B4455;\n",
              "      fill: #D2E3FC;\n",
              "    }\n",
              "\n",
              "    [theme=dark] .colab-df-convert:hover {\n",
              "      background-color: #434B5C;\n",
              "      box-shadow: 0px 1px 3px 1px rgba(0, 0, 0, 0.15);\n",
              "      filter: drop-shadow(0px 1px 2px rgba(0, 0, 0, 0.3));\n",
              "      fill: #FFFFFF;\n",
              "    }\n",
              "  </style>\n",
              "\n",
              "      <script>\n",
              "        const buttonEl =\n",
              "          document.querySelector('#df-be077553-4aaa-42fd-b754-992fcd8902ce button.colab-df-convert');\n",
              "        buttonEl.style.display =\n",
              "          google.colab.kernel.accessAllowed ? 'block' : 'none';\n",
              "\n",
              "        async function convertToInteractive(key) {\n",
              "          const element = document.querySelector('#df-be077553-4aaa-42fd-b754-992fcd8902ce');\n",
              "          const dataTable =\n",
              "            await google.colab.kernel.invokeFunction('convertToInteractive',\n",
              "                                                     [key], {});\n",
              "          if (!dataTable) return;\n",
              "\n",
              "          const docLinkHtml = 'Like what you see? Visit the ' +\n",
              "            '<a target=\"_blank\" href=https://colab.research.google.com/notebooks/data_table.ipynb>data table notebook</a>'\n",
              "            + ' to learn more about interactive tables.';\n",
              "          element.innerHTML = '';\n",
              "          dataTable['output_type'] = 'display_data';\n",
              "          await google.colab.output.renderOutput(dataTable, element);\n",
              "          const docLink = document.createElement('div');\n",
              "          docLink.innerHTML = docLinkHtml;\n",
              "          element.appendChild(docLink);\n",
              "        }\n",
              "      </script>\n",
              "    </div>\n",
              "  </div>\n",
              "  "
            ]
          },
          "metadata": {},
          "execution_count": 1071
        }
      ]
    },
    {
      "cell_type": "markdown",
      "source": [
        "Going through every column, checking their null values and also replacing and removing outliers from every columns if any. "
      ],
      "metadata": {
        "id": "8u72I6ATVkQY"
      }
    },
    {
      "cell_type": "code",
      "source": [
        "# age column distribution, mean and median line in histogram plot\n",
        "plt.figure(figsize=(8,6))\n",
        "ax=sns.histplot(df['age'],kde =True)\n",
        "ax.axvline(df['age'].mean(), color='magenta', linestyle='dashed', linewidth=2)\n",
        "ax.axvline(df['age'].median(), color='cyan', linestyle='dashed', linewidth=2)"
      ],
      "metadata": {
        "colab": {
          "base_uri": "https://localhost:8080/",
          "height": 405
        },
        "id": "bZj8232eUnI7",
        "outputId": "d37ed3e6-b7aa-42a0-c60a-103644ec0735"
      },
      "execution_count": 1072,
      "outputs": [
        {
          "output_type": "execute_result",
          "data": {
            "text/plain": [
              "<matplotlib.lines.Line2D at 0x7f2db320e890>"
            ]
          },
          "metadata": {},
          "execution_count": 1072
        },
        {
          "output_type": "display_data",
          "data": {
            "text/plain": [
              "<Figure size 576x432 with 1 Axes>"
            ],
            "image/png": "[encoded data removed]"
          },
          "metadata": {
            "needs_background": "light"
          }
        }
      ]
    },
    {
      "cell_type": "code",
      "source": [
        "# checking outliers of age column through boxplot\n",
        "plt.figure(figsize=(6,4))\n",
        "sns.boxplot(df['age'])"
      ],
      "metadata": {
        "colab": {
          "base_uri": "https://localhost:8080/",
          "height": 296
        },
        "id": "XPcWRl5-U8-x",
        "outputId": "7435f2eb-33e4-4269-f015-385f259c447e"
      },
      "execution_count": 1073,
      "outputs": [
        {
          "output_type": "execute_result",
          "data": {
            "text/plain": [
              "<matplotlib.axes._subplots.AxesSubplot at 0x7f2db322e050>"
            ]
          },
          "metadata": {},
          "execution_count": 1073
        },
        {
          "output_type": "display_data",
          "data": {
            "text/plain": [
              "<Figure size 432x288 with 1 Axes>"
            ],
            "image/png": "[encoded data removed]"
          },
          "metadata": {
            "needs_background": "light"
          }
        }
      ]
    },
    {
      "cell_type": "code",
      "source": [
        "# showing countplot of sex column and its value counts\n",
        "plt.figure(figsize=(6,4))\n",
        "sns.countplot(df['sex'])\n",
        "df['sex'].value_counts()"
      ],
      "metadata": {
        "colab": {
          "base_uri": "https://localhost:8080/",
          "height": 333
        },
        "id": "CepR6pn4vahu",
        "outputId": "599021fd-51ae-4919-99d8-da1221c96655"
      },
      "execution_count": 1074,
      "outputs": [
        {
          "output_type": "execute_result",
          "data": {
            "text/plain": [
              "F    1923\n",
              "M    1467\n",
              "Name: sex, dtype: int64"
            ]
          },
          "metadata": {},
          "execution_count": 1074
        },
        {
          "output_type": "display_data",
          "data": {
            "text/plain": [
              "<Figure size 432x288 with 1 Axes>"
            ],
            "image/png": "[encoded data removed]"
          },
          "metadata": {
            "needs_background": "light"
          }
        }
      ]
    },
    {
      "cell_type": "code",
      "source": [
        "# Categorical encoding for sex column (1='male' and 2 ='female')\n",
        "df['sex'].replace({'F':2,'M':1},inplace=True)"
      ],
      "metadata": {
        "id": "r8LG9BIJ9MaE"
      },
      "execution_count": 1075,
      "outputs": []
    },
    {
      "cell_type": "code",
      "source": [
        "# countplot of smoking status and its value counts\n",
        "plt.figure(figsize=(6,4))\n",
        "sns.countplot(df['is_smoking'])\n",
        "df['is_smoking'].value_counts()"
      ],
      "metadata": {
        "colab": {
          "base_uri": "https://localhost:8080/",
          "height": 332
        },
        "id": "BYvAwoOVvooy",
        "outputId": "53dd9850-e5e4-4b73-f674-d12f38d1b198"
      },
      "execution_count": 1076,
      "outputs": [
        {
          "output_type": "execute_result",
          "data": {
            "text/plain": [
              "NO     1703\n",
              "YES    1687\n",
              "Name: is_smoking, dtype: int64"
            ]
          },
          "metadata": {},
          "execution_count": 1076
        },
        {
          "output_type": "display_data",
          "data": {
            "text/plain": [
              "<Figure size 432x288 with 1 Axes>"
            ],
            "image/png": "[encoded data removed]"
          },
          "metadata": {
            "needs_background": "light"
          }
        }
      ]
    },
    {
      "cell_type": "code",
      "source": [
        "# Categorical encoding for smoking column (0='NO' and 1 ='YES')\n",
        "df['is_smoking'].replace({'YES':1,'NO':0},inplace=True)"
      ],
      "metadata": {
        "id": "7YtS_ZiB-Gcv"
      },
      "execution_count": 1077,
      "outputs": []
    },
    {
      "cell_type": "code",
      "source": [
        "# Cigrates per day column distribution, mean and median line in histogram plot\n",
        "plt.figure(figsize=(8,6))\n",
        "ax = sns.histplot(df['cigsPerDay'],kde=True)\n",
        "ax.axvline(df['cigsPerDay'].mean(), color='magenta', linestyle='dashed', linewidth=2)\n",
        "ax.axvline(df['cigsPerDay'].median(), color='cyan', linestyle='dashed', linewidth=2)"
      ],
      "metadata": {
        "colab": {
          "base_uri": "https://localhost:8080/",
          "height": 405
        },
        "id": "mKlQnzFBv9Ep",
        "outputId": "73043ece-caac-4fc5-8036-788cd18d7f05"
      },
      "execution_count": 1078,
      "outputs": [
        {
          "output_type": "execute_result",
          "data": {
            "text/plain": [
              "<matplotlib.lines.Line2D at 0x7f2db30c89d0>"
            ]
          },
          "metadata": {},
          "execution_count": 1078
        },
        {
          "output_type": "display_data",
          "data": {
            "text/plain": [
              "<Figure size 576x432 with 1 Axes>"
            ],
            "image/png": "[encoded data removed]"
          },
          "metadata": {
            "needs_background": "light"
          }
        }
      ]
    },
    {
      "cell_type": "code",
      "source": [
        "# checking outliers of Cigrates per day column through boxplot\n",
        "sns.boxplot(df['cigsPerDay'])"
      ],
      "metadata": {
        "colab": {
          "base_uri": "https://localhost:8080/",
          "height": 296
        },
        "id": "ZKAD-AIswMAh",
        "outputId": "98455239-ac8b-4b40-fe66-76ea7fe32beb"
      },
      "execution_count": 1079,
      "outputs": [
        {
          "output_type": "execute_result",
          "data": {
            "text/plain": [
              "<matplotlib.axes._subplots.AxesSubplot at 0x7f2db2fd49d0>"
            ]
          },
          "metadata": {},
          "execution_count": 1079
        },
        {
          "output_type": "display_data",
          "data": {
            "text/plain": [
              "<Figure size 432x288 with 1 Axes>"
            ],
            "image/png": "[encoded data removed]"
          },
          "metadata": {
            "needs_background": "light"
          }
        }
      ]
    },
    {
      "cell_type": "code",
      "source": [
        "# Replacing null values of cigrates per day column with mean\n",
        "df['cigsPerDay'] = df['cigsPerDay'].fillna(df['cigsPerDay'].mean())"
      ],
      "metadata": {
        "id": "BsNDQHV6ynOu"
      },
      "execution_count": 1080,
      "outputs": []
    },
    {
      "cell_type": "code",
      "source": [
        "# Checking outliers of cigrates per day through IQR, upper fence and lower fence \n",
        "iqr = np.percentile(df['cigsPerDay'],75) - np.percentile(df['cigsPerDay'],25)\n",
        "upper_fence = np.percentile(df['cigsPerDay'],75) + (1.5*iqr)\n",
        "lower_fence = np.percentile(df['cigsPerDay'],25) - (1.5*iqr)\n",
        "print(iqr)\n",
        "print(upper_fence)\n",
        "print(lower_fence)"
      ],
      "metadata": {
        "colab": {
          "base_uri": "https://localhost:8080/"
        },
        "id": "VhjEAgP7YGbo",
        "outputId": "99925d92-d6bc-4fea-9a01-52b8318b438f"
      },
      "execution_count": 1081,
      "outputs": [
        {
          "output_type": "stream",
          "name": "stdout",
          "text": [
            "20.0\n",
            "50.0\n",
            "-30.0\n"
          ]
        }
      ]
    },
    {
      "cell_type": "code",
      "source": [
        "# droping index values above upper fence\n",
        "df.drop(df.index[df['cigsPerDay']>50],inplace=True)"
      ],
      "metadata": {
        "id": "qwT8LuMOwTbX"
      },
      "execution_count": 1082,
      "outputs": []
    },
    {
      "cell_type": "code",
      "source": [
        "# showing countplot of blood pressure mediacation column and its value counts\n",
        "plt.figure(figsize=(6,4))\n",
        "sns.countplot(df['BPMeds'])\n",
        "df['BPMeds'].value_counts()"
      ],
      "metadata": {
        "colab": {
          "base_uri": "https://localhost:8080/",
          "height": 331
        },
        "id": "FuMEN6M1xQUI",
        "outputId": "acfacea0-55eb-4107-f6c8-f06511cae8c3"
      },
      "execution_count": 1083,
      "outputs": [
        {
          "output_type": "execute_result",
          "data": {
            "text/plain": [
              "0.0    3237\n",
              "1.0     100\n",
              "Name: BPMeds, dtype: int64"
            ]
          },
          "metadata": {},
          "execution_count": 1083
        },
        {
          "output_type": "display_data",
          "data": {
            "text/plain": [
              "<Figure size 432x288 with 1 Axes>"
            ],
            "image/png": "[encoded data removed]"
          },
          "metadata": {
            "needs_background": "light"
          }
        }
      ]
    },
    {
      "cell_type": "code",
      "source": [
        "# Replacing null values of Blood pressure medication status column with mean\n",
        "df['BPMeds'] = df['BPMeds'].fillna(df['BPMeds'].mode()[0]).astype('int64')"
      ],
      "metadata": {
        "id": "3dM7dx2a0cN8"
      },
      "execution_count": 1084,
      "outputs": []
    },
    {
      "cell_type": "code",
      "source": [
        "# showing countplot of prevalent stroke status (previous stroke status) column and its value counts\n",
        "plt.figure(figsize=(6,4))\n",
        "sns.countplot(df['prevalentStroke'])\n",
        "df['prevalentStroke'].value_counts()"
      ],
      "metadata": {
        "colab": {
          "base_uri": "https://localhost:8080/",
          "height": 334
        },
        "id": "xKOAUHS63W7g",
        "outputId": "378d8a7b-4577-414e-cf63-86398f3a1648"
      },
      "execution_count": 1085,
      "outputs": [
        {
          "output_type": "execute_result",
          "data": {
            "text/plain": [
              "0    3359\n",
              "1      22\n",
              "Name: prevalentStroke, dtype: int64"
            ]
          },
          "metadata": {},
          "execution_count": 1085
        },
        {
          "output_type": "display_data",
          "data": {
            "text/plain": [
              "<Figure size 432x288 with 1 Axes>"
            ],
            "image/png": "[encoded data removed]"
          },
          "metadata": {
            "needs_background": "light"
          }
        }
      ]
    },
    {
      "cell_type": "code",
      "source": [
        "# showing countplot of prevalent hypertensiv status (previous hypertensiv status) column and its value counts\n",
        "plt.figure(figsize=(6,4))\n",
        "sns.countplot(df['prevalentHyp'])\n",
        "df['prevalentHyp'].value_counts()"
      ],
      "metadata": {
        "colab": {
          "base_uri": "https://localhost:8080/",
          "height": 331
        },
        "id": "6mae06Og3-ij",
        "outputId": "7e792e6e-11b0-4e26-8d21-c1962c36eefc"
      },
      "execution_count": 1086,
      "outputs": [
        {
          "output_type": "execute_result",
          "data": {
            "text/plain": [
              "0    2316\n",
              "1    1065\n",
              "Name: prevalentHyp, dtype: int64"
            ]
          },
          "metadata": {},
          "execution_count": 1086
        },
        {
          "output_type": "display_data",
          "data": {
            "text/plain": [
              "<Figure size 432x288 with 1 Axes>"
            ],
            "image/png": "[encoded data removed]"
          },
          "metadata": {
            "needs_background": "light"
          }
        }
      ]
    },
    {
      "cell_type": "code",
      "source": [
        "# showing countplot of diabetes status (0 = 'NO' and 1 = 'YES') and its value counts\n",
        "plt.figure(figsize=(6,4))\n",
        "sns.countplot(df['diabetes'])\n",
        "df['diabetes'].value_counts()"
      ],
      "metadata": {
        "colab": {
          "base_uri": "https://localhost:8080/",
          "height": 331
        },
        "id": "l7w4ZTXO4rMq",
        "outputId": "59826106-f8eb-40a3-c03c-82f95dec26b1"
      },
      "execution_count": 1087,
      "outputs": [
        {
          "output_type": "execute_result",
          "data": {
            "text/plain": [
              "0    3294\n",
              "1      87\n",
              "Name: diabetes, dtype: int64"
            ]
          },
          "metadata": {},
          "execution_count": 1087
        },
        {
          "output_type": "display_data",
          "data": {
            "text/plain": [
              "<Figure size 432x288 with 1 Axes>"
            ],
            "image/png": "[encoded data removed]"
          },
          "metadata": {
            "needs_background": "light"
          }
        }
      ]
    },
    {
      "cell_type": "code",
      "source": [
        "# total cholestrol column distribution, mean and median line in histogram plot\n",
        "plt.figure(figsize=(8,6))\n",
        "ax = sns.histplot(df['totChol'],kde=True)\n",
        "ax.axvline(df['totChol'].mean(), color='magenta', linestyle='dashed', linewidth=2)\n",
        "ax.axvline(df['totChol'].median(), color='green', linestyle='dashed', linewidth=2)"
      ],
      "metadata": {
        "colab": {
          "base_uri": "https://localhost:8080/",
          "height": 405
        },
        "id": "XZtikykj4mBQ",
        "outputId": "7d51299a-9371-49aa-bb23-54ef2414e22e"
      },
      "execution_count": 1088,
      "outputs": [
        {
          "output_type": "execute_result",
          "data": {
            "text/plain": [
              "<matplotlib.lines.Line2D at 0x7f2db2d76050>"
            ]
          },
          "metadata": {},
          "execution_count": 1088
        },
        {
          "output_type": "display_data",
          "data": {
            "text/plain": [
              "<Figure size 576x432 with 1 Axes>"
            ],
            "image/png": "[encoded data removed]"
          },
          "metadata": {
            "needs_background": "light"
          }
        }
      ]
    },
    {
      "cell_type": "code",
      "source": [
        "# Replacing null values of total cholestrol column with median\n",
        "df.totChol =df.totChol.fillna(df.totChol.median())"
      ],
      "metadata": {
        "id": "Sr9gU2_15U92"
      },
      "execution_count": 1089,
      "outputs": []
    },
    {
      "cell_type": "code",
      "source": [
        "# checking outliers of total cholestrol column through boxplot\n",
        "sns.boxplot(df['totChol'])"
      ],
      "metadata": {
        "colab": {
          "base_uri": "https://localhost:8080/",
          "height": 296
        },
        "id": "Eq7aNb0F5l8_",
        "outputId": "be4a6c7e-03f3-456b-be67-271257196cdd"
      },
      "execution_count": 1090,
      "outputs": [
        {
          "output_type": "execute_result",
          "data": {
            "text/plain": [
              "<matplotlib.axes._subplots.AxesSubplot at 0x7f2db2c9e8d0>"
            ]
          },
          "metadata": {},
          "execution_count": 1090
        },
        {
          "output_type": "display_data",
          "data": {
            "text/plain": [
              "<Figure size 432x288 with 1 Axes>"
            ],
            "image/png": "[encoded data removed]"
          },
          "metadata": {
            "needs_background": "light"
          }
        }
      ]
    },
    {
      "cell_type": "code",
      "source": [
        "# Checking outliers of total cholestrol column through IQR, upper fence and lower fence \n",
        "iqr = np.percentile(df['totChol'],75) - np.percentile(df['totChol'],25)\n",
        "upper_fence = np.percentile(df['totChol'],75) + (1.5*iqr)\n",
        "lower_fence = np.percentile(df['totChol'],25) - (1.5*iqr)\n",
        "print(iqr)\n",
        "print(upper_fence)\n",
        "print(lower_fence)"
      ],
      "metadata": {
        "colab": {
          "base_uri": "https://localhost:8080/"
        },
        "id": "gtFoKKYWALci",
        "outputId": "587e00d1-c513-4ec5-f5bc-07154b8d4f5f"
      },
      "execution_count": 1091,
      "outputs": [
        {
          "output_type": "stream",
          "name": "stdout",
          "text": [
            "58.0\n",
            "351.0\n",
            "119.0\n"
          ]
        }
      ]
    },
    {
      "cell_type": "code",
      "source": [
        "# droping index values above upper fence and below lower fence\n",
        "df.drop(df.index[df['totChol']>351],inplace=True)\n",
        "df.drop(df.index[df['totChol']<119],inplace=True)"
      ],
      "metadata": {
        "id": "baKRbsS1CS2U"
      },
      "execution_count": 1092,
      "outputs": []
    },
    {
      "cell_type": "markdown",
      "source": [
        "![map2.JPG](data:image/jpeg;base64,/9j/4AAQSkZJRgABAQEAYABgAAD/4RDgRXhpZgAATU0AKgAAAAgABAE7AAIAAAAHAAAISodpAAQAAAABAAAIUpydAAEAAAAOAAAQyuocAAcAAAgMAAAAPgAAAAAc6gAAAAgAAAAAAAAAAAAAAAAAAAAAAAAAAAAAAAAAAAAAAAAAAAAAAAAAAAAAAAAAAAAAAAAAAAAAAAAAAAAAAAAAAAAAAAAAAAAAAAAAAAAAAAAAAAAAAAAAAAAAAAAAAAAAAAAAAAAAAAAAAAAAAAAAAAAAAAAAAAAAAAAAAAAAAAAAAAAAAAAAAAAAAAAAAAAAAAAAAAAAAAAAAAAAAAAAAAAAAAAAAAAAAAAAAAAAAAAAAAAAAAAAAAAAAAAAAAAAAAAAAAAAAAAAAAAAAAAAAAAAAAAAAAAAAAAAAAAAAAAAAAAAAAAAAAAAAAAAAAAAAAAAAAAAAAAAAAAAAAAAAAAAAAAAAAAAAAAAAAAAAAAAAAAAAAAAAAAAAAAAAAAAAAAAAAAAAAAAAAAAAAAAAAAAAAAAAAAAAAAAAAAAAAAAAAAAAAAAAAAAAAAAAAAAAAAAAAAAAAAAAAAAAAAAAAAAAAAAAAAAAAAAAAAAAAAAAAAAAAAAAAAAAAAAAAAAAAAAAAAAAAAAAAAAAAAAAAAAAAAAAAAAAAAAAAAAAAAAAAAAAAAAAAAAAAAAAAAAAAAAAAAAAAAAAAAAAAAAAAAAAAAAAAAAAAAAAAAAAAAAAAAAAAAAAAAAAAAAAAAAAAAAAAAAAAAAAAAAAAAAAAAAAAAAAAAAAAAAAAAAAAAAAAAAAAAAAAAAAAAAAAAAAAAAAAAAAAAAAAAAAAAAAAAAAAAAAAAAAAAAAAAAAAAAAAAAAAAAAAAAAAAAAAAAAAAAAAAAAAAAAAAAAAAAAAAAAAAAAAAAAAAAAAAAAAAAAAAAAAAAAAAAAAAAAAAAAAAAAAAAAAAAAAAAAAAAAAAAAAAAAAAAAAAAAAAAAAAAAAAAAAAAAAAAAAAAAAAAAAAAAAAAAAAAAAAAAAAAAAAAAAAAAAAAAAAAAAAAAAAAAAAAAAAAAAAAAAAAAAAAAAAAAAAAAAAAAAAAAAAAAAAAAAAAAAAAAAAAAAAAAAAAAAAAAAAAAAAAAAAAAAAAAAAAAAAAAAAAAAAAAAAAAAAAAAAAAAAAAAAAAAAAAAAAAAAAAAAAAAAAAAAAAAAAAAAAAAAAAAAAAAAAAAAAAAAAAAAAAAAAAAAAAAAAAAAAAAAAAAAAAAAAAAAAAAAAAAAAAAAAAAAAAAAAAAAAAAAAAAAAAAAAAAAAAAAAAAAAAAAAAAAAAAAAAAAAAAAAAAAAAAAAAAAAAAAAAAAAAAAAAAAAAAAAAAAAAAAAAAAAAAAAAAAAAAAAAAAAAAAAAAAAAAAAAAAAAAAAAAAAAAAAAAAAAAAAAAAAAAAAAAAAAAAAAAAAAAAAAAAAAAAAAAAAAAAAAAAAAAAAAAAAAAAAAAAAAAAAAAAAAAAAAAAAAAAAAAAAAAAAAAAAAAAAAAAAAAAAAAAAAAAAAAAAAAAAAAAAAAAAAAAAAAAAAAAAAAAAAAAAAAAAAAAAAAAAAAAAAAAAAAAAAAAAAAAAAAAAAAAAAAAAAAAAAAAAAAAAAAAAAAAAAAAAAAAAAAAAAAAAAAAAAAAAAAAAAAAAAAAAAAAAAAAAAAAAAAAAAAAAAAAAAAAAAAAAAAAAAAAAAAAAAAAAAAAAAAAAAAAAAAAAAAAAAAAAAAAAAAAAAAAAAAAAAAAAAAAAAAAAAAAAAAAAAAAAAAAAAAAAAAAAAAAAAAAAAAAAAAAAAAAAAAAAAAAAAAAAAAAAAAAAAAAAAAAAAAAAAAAAAAAAAAAAAAAAAAAAAAAAAAAAAAAAAAAAAAAAAAAAAAAAAAAAAAAAAAAAAAAAAAAAAAAAAAAAAAAAAAAAAAAAAAAAAAAAAAAAAAAAAAAAAAAAAAAAAAAAAAAAAAAAAAAAAAAAAAAAAAAAAAAAAAAAAAAAAAAAAAAAAAAAAAAAAAAAAAAAAAAAAAAAAAAAAAAAAAAAAAAAAAAAAAAAAAAAAAAAAAAAAAAAAAAAAAAAAAAAAAAAAAAAAAAAAAAAAAAAAAAAAAAAAAAAAAAAAAAAAAAAAAAAAAAAAAAAAAAAAAAAAAAAAAAAAAAAAAAAAAAAAAAAAAAAAAAAAAAAAAAAAAAAAAAAAAAAAAAAAAAAAAAAAAAAAAAAAAAAAAAAAAAAAAAAAAAAAAAAAAAAAAAAAAAAAAAAAAAAAAAAAAAAAAAAAAAAAAAAAAAAAAAAAAAAAAAAAAAAAAAAAAAAAAAAAAAAAAAAAAAAAAAAAAAAAAAAAAAAAAAAAAAAAAAAAAAAAAAAAAAAAAAAAAAAAAAAAAAAAAAAAAAAAAAAAAAAAAAAAAAAAAAAAAAAAAAAAAAAAAAAAAAAAAAAAAAAAAAAAAAAAAAAAAAAAAAAAAAAAAAAAAAAAAAAAAAAAAAAAAAAAAAAAAAAAAAAAAAAAAAAAAAAAAAAAAAAAAAAAAAAAAAAAAAAAAAAAAAAAAAAAAAAAAAAAAAAAAAAAAAAAAAAAAAAAAAAAAAAAAAAAAAAAAAAAAAAAAAAAAAAAAAAAAAAAAAAAAAAAAAAAAAAAAAAAAAAAAAAAAAAAAAAAAAAAAAAAAAAAAAAAAAAAAAAAAAAAAAAAAAAAAAAAAAAAAAAAAAAAAAAAAAAAAAAAAAAAAAAAAAAAAAAAAAAAAAAAAAAAAAAAAAAAAAAAAAAAAAAAAAAAAAAAAAAAAAAAAAAAAAAAAAAAAAAAAAAAAAAAAAAAAAAAAAAAAAAAAAAAAAAAAAAAAAAAAAAAAAAAAAAAG5pdGVzaAAAAAWQAwACAAAAFAAAEKCQBAACAAAAFAAAELSSkQACAAAAAzA2AACSkgACAAAAAzA2AADqHAAHAAAIDAAACJQAAAAAHOoAAAAIAAAAAAAAAAAAAAAAAAAAAAAAAAAAAAAAAAAAAAAAAAAAAAAAAAAAAAAAAAAAAAAAAAAAAAAAAAAAAAAAAAAAAAAAAAAAAAAAAAAAAAAAAAAAAAAAAAAAAAAAAAAAAAAAAAAAAAAAAAAAAAAAAAAAAAAAAAAAAAAAAAAAAAAAAAAAAAAAAAAAAAAAAAAAAAAAAAAAAAAAAAAAAAAAAAAAAAAAAAAAAAAAAAAAAAAAAAAAAAAAAAAAAAAAAAAAAAAAAAAAAAAAAAAAAAAAAAAAAAAAAAAAAAAAAAAAAAAAAAAAAAAAAAAAAAAAAAAAAAAAAAAAAAAAAAAAAAAAAAAAAAAAAAAAAAAAAAAAAAAAAAAAAAAAAAAAAAAAAAAAAAAAAAAAAAAAAAAAAAAAAAAAAAAAAAAAAAAAAAAAAAAAAAAAAAAAAAAAAAAAAAAAAAAAAAAAAAAAAAAAAAAAAAAAAAAAAAAAAAAAAAAAAAAAAAAAAAAAAAAAAAAAAAAAAAAAAAAAAAAAAAAAAAAAAAAAAAAAAAAAAAAAAAAAAAAAAAAAAAAAAAAAAAAAAAAAAAAAAAAAAAAAAAAAAAAAAAAAAAAAAAAAAAAAAAAAAAAAAAAAAAAAAAAAAAAAAAAAAAAAAAAAAAAAAAAAAAAAAAAAAAAAAAAAAAAAAAAAAAAAAAAAAAAAAAAAAAAAAAAAAAAAAAAAAAAAAAAAAAAAAAAAAAAAAAAAAAAAAAAAAAAAAAAAAAAAAAAAAAAAAAAAAAAAAAAAAAAAAAAAAAAAAAAAAAAAAAAAAAAAAAAAAAAAAAAAAAAAAAAAAAAAAAAAAAAAAAAAAAAAAAAAAAAAAAAAAAAAAAAAAAAAAAAAAAAAAAAAAAAAAAAAAAAAAAAAAAAAAAAAAAAAAAAAAAAAAAAAAAAAAAAAAAAAAAAAAAAAAAAAAAAAAAAAAAAAAAAAAAAAAAAAAAAAAAAAAAAAAAAAAAAAAAAAAAAAAAAAAAAAAAAAAAAAAAAAAAAAAAAAAAAAAAAAAAAAAAAAAAAAAAAAAAAAAAAAAAAAAAAAAAAAAAAAAAAAAAAAAAAAAAAAAAAAAAAAAAAAAAAAAAAAAAAAAAAAAAAAAAAAAAAAAAAAAAAAAAAAAAAAAAAAAAAAAAAAAAAAAAAAAAAAAAAAAAAAAAAAAAAAAAAAAAAAAAAAAAAAAAAAAAAAAAAAAAAAAAAAAAAAAAAAAAAAAAAAAAAAAAAAAAAAAAAAAAAAAAAAAAAAAAAAAAAAAAAAAAAAAAAAAAAAAAAAAAAAAAAAAAAAAAAAAAAAAAAAAAAAAAAAAAAAAAAAAAAAAAAAAAAAAAAAAAAAAAAAAAAAAAAAAAAAAAAAAAAAAAAAAAAAAAAAAAAAAAAAAAAAAAAAAAAAAAAAAAAAAAAAAAAAAAAAAAAAAAAAAAAAAAAAAAAAAAAAAAAAAAAAAAAAAAAAAAAAAAAAAAAAAAAAAAAAAAAAAAAAAAAAAAAAAAAAAAAAAAAAAAAAAAAAAAAAAAAAAAAAAAAAAAAAAAAAAAAAAAAAAAAAAAAAAAAAAAAAAAAAAAAAAAAAAAAAAAAAAAAAAAAAAAAAAAAAAAAAAAAAAAAAAAAAAAAAAAAAAAAAAAAAAAAAAAAAAAAAAAAAAAAAAAAAAAAAAAAAAAAAAAAAAAAAAAAAAAAAAAAAAAAAAAAAAAAAAAAAAAAAAAAAAAAAAAAAAAAAAAAAAAAAAAAAAAAAAAAAAAAAAAAAAAAAAAAAAAAAAAAAAAAAAAAAAAAAAAAAAAAAAAAAAAAAAAAAAAAAAAAAAAAAAAAAAAAAAAAAAAAAAAAAAAAAAAAAAAAAAAAAAAAAAAAAAAAAAAAAAAAAAAAAAAAAAAAAAAAAAAAAAAAAAAAAAAAAAAAAAAAAAAAAAAAAAAAAAAAAAAAAAAAAAAAAAAAAAAAAAAAAAAAAAAAAAAAAAAAAAAAAAAAAAAAAAAAAAAAAAAAAAAAAAAAAAAAAAAAAAAAAAAAAAAAAAAAAAAAAAAAAAAAAAAAAAAAAAAAAAAAAAAAAAAAAAAAAAAAAAAAAAAAAAAAAAAAAAAAAAAAAAAAAAAAAAAAAAAAAAAAAAAAAAAAAAAAAAAAAAAAAAAAAAAAAAAAAAAAAAAAAAAAAAAAAAAAAAAAAAAAAAAAAAAAAAAAAAAAAAAAAAAAAAAAAAAAAAAAAAAAAAAAAAAAAAAAAAAAAAAAAAAAAAAAAAAAAAAAAAAAAAAAAAAAAAAAAAAAAAAAAAAAAAAAAAAAAAAAAAAAAAAAAAAAAAAAAAAAAAAAAAAAAAAAAAAAAAAAAAAAAAAAAAAAAAAAAAAAAAAAAAAAAAAAAAAAAAAAAAAAAAAAAAAAAAAAAAAAAAAAAAAAAAAAAAAAAAAAAAAAAAAAAAAAAAAAAAAAAAAAAAAAAAAAAAAAAAAAAAAAAAAAAAAAAAAAAAAAAAAAAAAAAAAAAAAAAAAAAAAAAAAAAAAAAAAAAAAAAAAAAAAAAAAAAAAAAAAAAAAAAAAAAAAAAAAAAAAAAAAAAAAAAAAAAAAAAAAAAAAAAAAAAAAAAAAAAAAAAAAAAAAAAAAAAAAAAAAAAAAAAAAAAAAAAAAAAAAAAAAAAAAAAAAAAAAAAAAAAAAAAAAAAAAAAAAAAAAAAAAAAAAAAAAAAAAAAAAAAAAAAAAAAAAAAAAAAAAAAAAAAAAAAAAAAAAAAAAAAAAAAAAAAAAAyMDIyOjEwOjAyIDE5OjM3OjM0ADIwMjI6MTA6MDIgMTk6Mzc6MzQAAABuAGkAdABlAHMAaAAAAP/hCxlodHRwOi8vbnMuYWRvYmUuY29tL3hhcC8xLjAvADw/eHBhY2tldCBiZWdpbj0n77u/JyBpZD0nVzVNME1wQ2VoaUh6cmVTek5UY3prYzlkJz8+DQo8eDp4bXBtZXRhIHhtbG5zOng9ImFkb2JlOm5zOm1ldGEvIj48cmRmOlJERiB4bWxuczpyZGY9Imh0dHA6Ly93d3cudzMub3JnLzE5OTkvMDIvMjItcmRmLXN5bnRheC1ucyMiPjxyZGY6RGVzY3JpcHRpb24gcmRmOmFib3V0PSJ1dWlkOmZhZjViZGQ1LWJhM2QtMTFkYS1hZDMxLWQzM2Q3NTE4MmYxYiIgeG1sbnM6ZGM9Imh0dHA6Ly9wdXJsLm9yZy9kYy9lbGVtZW50cy8xLjEvIi8+PHJkZjpEZXNjcmlwdGlvbiByZGY6YWJvdXQ9InV1aWQ6ZmFmNWJkZDUtYmEzZC0xMWRhLWFkMzEtZDMzZDc1MTgyZjFiIiB4bWxuczp4bXA9Imh0dHA6Ly9ucy5hZG9iZS5jb20veGFwLzEuMC8iPjx4bXA6Q3JlYXRlRGF0ZT4yMDIyLTEwLTAyVDE5OjM3OjM0LjA2MTwveG1wOkNyZWF0ZURhdGU+PC9yZGY6RGVzY3JpcHRpb24+PHJkZjpEZXNjcmlwdGlvbiByZGY6YWJvdXQ9InV1aWQ6ZmFmNWJkZDUtYmEzZC0xMWRhLWFkMzEtZDMzZDc1MTgyZjFiIiB4bWxuczpkYz0iaHR0cDovL3B1cmwub3JnL2RjL2VsZW1lbnRzLzEuMS8iPjxkYzpjcmVhdG9yPjxyZGY6U2VxIHhtbG5zOnJkZj0iaHR0cDovL3d3dy53My5vcmcvMTk5OS8wMi8yMi1yZGYtc3ludGF4LW5zIyI+PHJkZjpsaT5uaXRlc2g8L3JkZjpsaT48L3JkZjpTZXE+DQoJCQk8L2RjOmNyZWF0b3I+PC9yZGY6RGVzY3JpcHRpb24+PC9yZGY6UkRGPjwveDp4bXBtZXRhPg0KICAgICAgICAgICAgICAgICAgICAgICAgICAgICAgICAgICAgICAgICAgICAgICAgICAgICAgICAgICAgICAgICAgICAgICAgICAgICAgICAgICAgICAgICAgICAgICAgICAgIAogICAgICAgICAgICAgICAgICAgICAgICAgICAgICAgICAgICAgICAgICAgICAgICAgICAgICAgICAgICAgICAgICAgICAgICAgICAgICAgICAgICAgICAgICAgICAgICAgICAgCiAgICAgICAgICAgICAgICAgICAgICAgICAgICAgICAgICAgICAgICAgICAgICAgICAgICAgICAgICAgICAgICAgICAgICAgICAgICAgICAgICAgICAgICAgICAgICAgICAgICAKICAgICAgICAgICAgICAgICAgICAgICAgICAgICAgICAgICAgICAgICAgICAgICAgICAgICAgICAgICAgICAgICAgICAgICAgICAgICAgICAgICAgICAgICAgICAgICAgICAgIAogICAgICAgICAgICAgICAgICAgICAgICAgICAgICAgICAgICAgICAgICAgICAgICAgICAgICAgICAgICAgICAgICAgICAgICAgICAgICAgICAgICAgICAgICAgICAgICAgICAgCiAgICAgICAgICAgICAgICAgICAgICAgICAgICAgICAgICAgICAgICAgICAgICAgICAgICAgICAgICAgICAgICAgICAgICAgICAgICAgICAgICAgICAgICAgICAgICAgICAgICAKICAgICAgICAgICAgICAgICAgICAgICAgICAgICAgICAgICAgICAgICAgICAgICAgICAgICAgICAgICAgICAgICAgICAgICAgICAgICAgICAgICAgICAgICAgICAgICAgICAgIAogICAgICAgICAgICAgICAgICAgICAgICAgICAgICAgICAgICAgICAgICAgICAgICAgICAgICAgICAgICAgICAgICAgICAgICAgICAgICAgICAgICAgICAgICAgICAgICAgICAgCiAgICAgICAgICAgICAgICAgICAgICAgICAgICAgICAgICAgICAgICAgICAgICAgICAgICAgICAgICAgICAgICAgICAgICAgICAgICAgICAgICAgICAgICAgICAgICAgICAgICAKICAgICAgICAgICAgICAgICAgICAgICAgICAgICAgICAgICAgICAgICAgICAgICAgICAgICAgICAgICAgICAgICAgICAgICAgICAgICAgICAgICAgICAgICAgICAgICAgICAgIAogICAgICAgICAgICAgICAgICAgICAgICAgICAgICAgICAgICAgICAgICAgICAgICAgICAgICAgICAgICAgICAgICAgICAgICAgICAgICAgICAgICAgICAgICAgICAgICAgICAgCiAgICAgICAgICAgICAgICAgICAgICAgICAgICAgICAgICAgICAgICAgICAgICAgICAgICAgICAgICAgICAgICAgICAgICAgICAgICAgICAgICAgICAgICAgICAgICAgICAgICAKICAgICAgICAgICAgICAgICAgICAgICAgICAgICAgICAgICAgICAgICAgICAgICAgICAgICAgICAgICAgICAgICAgICAgICAgICAgICAgICAgICAgICAgICAgICAgICAgICAgIAogICAgICAgICAgICAgICAgICAgICAgICAgICAgICAgICAgICAgICAgICAgICAgICAgICAgICAgICAgICAgICAgICAgICAgICAgICAgICAgICAgICAgICAgICAgICAgICAgICAgCiAgICAgICAgICAgICAgICAgICAgICAgICAgICAgICAgICAgICAgICAgICAgICAgICAgICAgICAgICAgICAgICAgICAgICAgICAgICAgICAgICAgICAgICAgICAgICAgICAgICAKICAgICAgICAgICAgICAgICAgICAgICAgICAgICAgICAgICAgICAgICAgICAgICAgICAgICAgICAgICAgICAgICAgICAgICAgICAgICAgICAgICAgICAgICAgICAgICAgICAgIAogICAgICAgICAgICAgICAgICAgICAgICAgICAgICAgICAgICAgICAgICAgICAgICAgICAgICAgICAgICAgICAgICAgICAgICAgICAgICAgICAgICAgICAgICAgICAgICAgICAgCiAgICAgICAgICAgICAgICAgICAgICAgICAgICAgICAgICAgICAgICAgICAgICAgICAgICAgICAgICAgICAgICAgICAgICAgICAgICAgICAgICAgICAgICAgICAgICAgICAgICAKICAgICAgICAgICAgICAgICAgICAgICAgICAgICAgICAgICAgICAgICAgICAgICAgICAgICAgICAgICAgICAgICAgICAgICAgICAgICAgICAgICAgICAgICAgICAgICAgICAgIAogICAgICAgICAgICAgICAgICAgICAgICAgICAgICAgICAgICAgICAgICAgICAgICAgICAgICAgICAgICAgICAgICAgICAgICAgICAgICAgICAgICAgICAgICAgICAgICAgICAgCiAgICAgICAgICAgICAgICAgICAgICAgICAgICA8P3hwYWNrZXQgZW5kPSd3Jz8+/9sAQwAHBQUGBQQHBgUGCAcHCAoRCwoJCQoVDxAMERgVGhkYFRgXGx4nIRsdJR0XGCIuIiUoKSssKxogLzMvKjInKisq/9sAQwEHCAgKCQoUCwsUKhwYHCoqKioqKioqKioqKioqKioqKioqKioqKioqKioqKioqKioqKioqKioqKioqKioqKioq/8AAEQgBTwJlAwEiAAIRAQMRAf/EAB8AAAEFAQEBAQEBAAAAAAAAAAABAgMEBQYHCAkKC//EALUQAAIBAwMCBAMFBQQEAAABfQECAwAEEQUSITFBBhNRYQcicRQygZGhCCNCscEVUtHwJDNicoIJChYXGBkaJSYnKCkqNDU2Nzg5OkNERUZHSElKU1RVVldYWVpjZGVmZ2hpanN0dXZ3eHl6g4SFhoeIiYqSk5SVlpeYmZqio6Slpqeoqaqys7S1tre4ubrCw8TFxsfIycrS09TV1tfY2drh4uPk5ebn6Onq8fLz9PX29/j5+v/EAB8BAAMBAQEBAQEBAQEAAAAAAAABAgMEBQYHCAkKC//EALURAAIBAgQEAwQHBQQEAAECdwABAgMRBAUhMQYSQVEHYXETIjKBCBRCkaGxwQkjM1LwFWJy0QoWJDThJfEXGBkaJicoKSo1Njc4OTpDREVGR0hJSlNUVVZXWFlaY2RlZmdoaWpzdHV2d3h5eoKDhIWGh4iJipKTlJWWl5iZmqKjpKWmp6ipqrKztLW2t7i5usLDxMXGx8jJytLT1NXW19jZ2uLj5OXm5+jp6vLz9PX29/j5+v/aAAwDAQACEQMRAD8A9Pooor1zxQooooAKKKKACiiigAooooAKKKKACivJz8apB4+Hhv8AsRcHUhY+f9p9ZNm7bt/HGa9YqYyUtipQlHcKKKKokKKKKACiiigAooooAKK5Pxd8R9D8FX0FrrIujJPH5ieREGGM455FaPhXxdpXjHS2vtFldo0cxuki7XQ+49+tTzK9rlcsrc1tDboooqiQoqC9vbfTrGe8vZVit4EMkjseFUDJNcLpnxp8K6vq9rptoL7z7qZYYy0AC7mOBk7unNS5JbspRlLVI9BoooqiQooooAKKKKACiiigAooooAKKKKACiiigAooooAKKQnAyelecT/HXwfBcyQk3zmNypZIAVODjI+bpUyko7lRjKWyPSKKhtLqK+sobu2bfDPGskbDupGQf1qaqJCiiigAooooAKKKKACiiigAooooAKKKKACiiuT8T/Erw34S1KOw1e6k+0soZo4Yy5jB6FvT+dJtJXY1FydkdZRVexvrbU7CC9sZlmtp0DxyL0ZT3qxTEFFFFABRRXlfjT4yyeEvGFxoa6Kt0IRH++NzszuQN02n1qZSUVdlRhKbsj1SimQyebBHJjG9Q2PTIp9USFFFFABRRRQAUUUUAFFFFABRRRQAUUUUAFFFFABRRRQAVieMNcl8NeEb/AFe3hSaS1j3rG5IDcgc4+tbdeJ/GD4m+S2qeDrfTckoiS3Ty9MhX+VQPfuazqSUY3NKcHOVjqPhf8SLzx7calHe2MFqLNI2UxMTu3Fuuf92vRK+SvAnxAvfAc17JYWdvcm8VFYTFvl256YPvXuHwt+I9/wCPbjUo7+yt7YWaxsphLfNuLZzk/wCzWdKqmknua1qLi3JLQ8Zb/kvS/wDYxr/6UCvquvk3Ub2HTfjRPfXRKwWuumaQgZIVZ8nj6Cuv1j9oHWp75xoWn21vag/J54MjsPU4IA+nb1NZ06kYXua1acp2t2PoOivEvCfx++0XyWviyyigjkIAu7bOEP8AtKc8e4P4V7XHIksSyRMHRwGVlOQQehFdMZxmtDknTlB2kOorK8ReI9N8LaPJqWsTiGBOAByzt2VR3NeJav8AtB6xPeMND022trcH5PPBkdh6nBAH0/WlOpGG44UpT2PoKivBvD/7Qd4t4kXibTYXt2OGmtcq6e+05DfTivcNP1C11XT4L7T5lntp0DxyL0YGnCpGewp05Q3LNFFFWQfPn7RH/I0aV/15n/0M1xfw+8aXPgjxNFeDe9lNhLuEH76Z+8B6jqPxHeu0/aI/5GjSv+vM/wDoZpJvh8PEfwR0bWtLiJ1Syhl3Ig5niErkj3YdR+I9K4JKTqNx6HoQcVSSlsz32yvINQsYbyzlWWCdBJG6nhlIyDU9fP8A8EviB/Zt4vhjV5cWtw+bSR2/1ch/g+jdvf613nxc8fjwloX2HTpV/ta+UiPHJhToX+vYe/0rqjVThzHLKlJT5Tgvjb8QP7TvW8MaTKDaW7/6XIh/1kg/g+i/z+lefeBOPiHoGf8AoIwf+jBXa/BrwAfEWrf2/rERfTrSTMav/wAt5hzz6gdT6nj1rkvCn/JVtJ/7C8f/AKNFccuZtTfU7Y8sYuC6H11RRXlPjn43WWgXkum+H7dNRvImKSzO2IoyOoGOWP5D3rvlJRV2edGEpuyPVqK+cYvj94pjmDzWmnyR5+55TLn8d1eteAfiVpnjqBookNnqMK7pbV2zkf3lP8Q/lURqwk7IudGcFdnaUUV5p47+Mum+FrqXTdKhGpajGcSfNiKI+hI6n2H5irlJRV2RGMpOyPS6K+cV+PvisTea1np7RZ+55TAfnurqLn4/2zeFFurKwRNYEyxyWkzFk2kEl1YYyOPwz+NZqtBmrw9RdD2aiuV+HXiy58Z+E11a9t4reUzvHsiJ24XHPP1rgLL49PD4pnste0+GHT4ZJUM1uGaTK528E45Ix+NU6kUk31IVKTbS6HtNFfPeq/tBa3PeP/YunWttbA/IJgZHI9TggCtnwl8fPtWoR2niuzit45CFW7t8hUP+0p7e4PHpUqtBuxboVEr2Pa6KQEMoZSCCMgjvS1sYBRRRQBxfxX8Sf8I18P7ySGTZdXg+ywEHkFgckfRcnP0r5cj027l0qfUo4WNpBKkUkvZWcMVH/jp/T1r0X46eJBq/jRNLt33QaWmxsHgytgt+QwPwNeieGfhzG3wVk0S6ULealCbl2I+5KRmP8sKD+NcU06s2l0O6DVGmm+o34E+JP7W8GPpU8m640t9gBPPlNkr+RyPwFeoV8qfDDX28IfEa3F6TFDM5s7oH+HJwCfowH619V1vRlzQ9DCvDlnfuFFVNVu20/Rry8jUM9vA8qq3QlVJx+leQaB+0Ak0d8/iOwigMUQa2S13EzPnG3nOOuc+xq5TjF2ZnGnKSuj2qivnO6/aA8TS3DPaWNhBDniMozkD3ORXc678Wr3wz4O0G+v8ASo7jUNXtzMFWQxxxjgjjknhhxUKtBluhNWRQ8E/GnUvFPjGx0a50q1gjuWYNJG7Flwhbv9K9ir408MeIJ/C/iS11m1hjmltixWOTO05Urzj617P4H+M+reKfGNjo91plnDFclg0kZfcMKW4yfas6Va6tJ6mtajZ3itD2SiqGta1YeH9Jm1LVp1gtoRlmPUnsAO5PpXiOuftB6lLeOnh3TYIbYHCPc5d398AgD6c/Wtp1Iw3MIU5T2PfaK8B0T9oPU4rxE8Q6ZBPbE4d7bKOnuASQfpx9a9w0bWLHX9Jg1LSp1ntZ1yjjt6gjsQeCKIVIz2CdOUNy9RXn/wAU/iFfeAo9Laws7e6+2mUP5xb5dmzGMH/arldY/aAii0OxOj2CS6nNEGuRLkRQN0IHduefpjrRKrGLsxxpTkk0j2qvIviP8Hb7xX4p/tjR7+3iNwqrcR3O4bSoA3KQDngdOP14zfAfxa8VeKfGljpM9tYmCdi0rLEwKIoJJBz7Y+prb+JfxW1LwR4nh0yx0+1uY5LVZy8xbIJZhjg9PlqJThOF3sXGFSE7Lc7/AMM6HH4a8NWOkQytMtpEE8xhguepOO3J6Vq1n6BqL6v4b03UpkWOS8tYp2ReilkDED25rlvHnxT0nwSfsmw32psu4W0bABM9C7dvp1/nWvNGMb9DHllKVup3NFfOUnx98VPMZIrPT0iB+55THH47q6az+P8AbzeGbyW6sEg1mFQYYslopzkDg9RjJOD6dazVaDNXh6i6Hs9fLvxk/wCSu6h9IP8A0Ulez/C/x7e+O7C/nv7SC2a1lVFEJbnIJ5ya8Y+Mn/JXdQ+kH/opKzrSUqaaNKEXGo0z6cs/+PGD/rmv8qmqGz/48YP+ua/yqauo5AooooAKKKKACiiigAooooAKKKKACiiigAooooAKKKKACuG+Kulae3w91u9NhbG78kH7QYV8zOQPvYz0rua5D4qf8kv1v/rgP/QhUT+Fl0/jR5d+z/ptjqN9rg1Cyt7oJHDtE8SvtyXzjI4r3az0uw04udPsba1L43mCFU3Y6ZwOa8S/Zz/4/wDX/wDrlB/N693rOgvcRpiG/aM+P/FdtJefEnV7WAbpZtUljQepMhA/nX054T8D6P4U0WKztLOF5to8+4dAzytjkknt6DoK+eHGfjyoPT/hIl/9KBX1XUUIq7ZpiJO0UeE/HLwHY6faxeJdIgS23SiK7ijUKrE/dcAdDkYPrkGuo+BGvSar4HksLiQvJps3lruOSI2GV/XcPwrQ+NQB+Feo57SQ4/7+LXG/s4E7fEY7Ztv/AGrTty1tOoruVDXocv8AGXX7nxB8Q30mGXNtYMLeKPOF8w43MffJx+Fev+CfCnhbwfo0UKz6fcX7KDc3TuhZ2xyBk8L6Cvn/AOIVjJbfE7W4LlhH5l88m9ugV23A/TDCuuj/AGf/ABBLEskWqaa6OAysruQQehHy1lFy527XNZRjyRTdkdl8XPCvhzWPDFzq2nSWMOqWSeYGgdAZ1HVWA6nGSD14xWZ+z1r80sGpaDNIWjhAuYAT90E7WA9s7T+J9awv+Ge/Ef8A0EtO/wC+n/8Aia7L4YfC3WPBHiibUdQvLSaGW0aArCWzksrA8gf3atKTqKVrEScFTcea56vRRRXWcZ8+ftEf8jRpX/Xmf/QzXp/wh/5JRov+5L/6NevMP2iP+Ro0r/rzP/oZr0/4Q/8AJKNF/wByX/0a9c0P40jqn/AieT/Gb4fnw9q3/CQaPEU0+7kzKqH/AFEx5/AHqPQ8elcv4e0jWfid41jiurmSaRgpubl/+WcSgD88cAdyfqa+rru0tr+1e2vreK5gkGHimQOrfUHg1Bp+jaXpHmf2VptnY+Zjf9mgWPdjpnaBnrQ6Ccr9AjiGo26jtK0u00XSrfTtOhWG2t0CRoPQdz6k9Se9fKPhT/kq2lf9heP/ANGivrmvkbwp/wAlW0r/ALC8f/o0Uq+8R4faR7/8XvE8vhrwFO1oxS7vXFtE4PKZBLN/3yD+JFeU/Bzwdo+tXU+seJJLdra1kCQ280igSyYySwPUAEcdDn2rtv2hLWWTwfp1wgJjhvMPjtuU4/lXlHgn4cX/AI6tbmXTL+zhe2cK8UxYNgjIbgHjqPwqajftdrlUklSvex9J31p4V1LT3sb1dLltnXaYyyAAe2Oh9xXzdf4+HPxWL6VN59vYXKyRsrg+ZEwBK5HX5SVrpv8AhnvxH/0EtO/76f8A+Jo/4Z78R/8AQS07/vp//iaJ88re6On7OF/euj1r4jeKW8O/Dy71Swk2zzIsdtIOzP0YfQZP4V4z8HvAcHjDWbnUtbXzrCyYbo2J/fynnB9h1Prke9d78YdKuYPg3YW7kO+ny2/nMnQ4RkJ+mWFVP2eL2F9A1axDATx3Cylc8lWXAP5qaqXvVUmRH3aLcT1d9I02SzNo+n2rWxXb5JhXZj0xjFfNXxd8D2/g3xHC+mKyadfqzxITny2BG5QfTkEfWvqGvD/2itQgK6Jp6kGdTLOw7qpwB+ZB/KrrxXJcjDyfPY6f4Ef8kzT/AK+5f6V4RBpJ174kf2UH2C71Jomb+6DIcn8s17v8CP8Akmaf9fcv9K8d8Jf8lssv+ws3/oZrGesYI2g7Tmz6U0bwtougabHY6Zp0EUSLgkxgs59WJ5J+teLfHjwjpukXFhrOl26WrXjtFPHGoVWYDIYAdD1z619AV49+0T/yLmkf9fbf+gVvWivZswoyftEdf8Jr6TUPhfo8szFmjjaHJ9EYqP0Arsq4L4Lf8kp0z/fm/wDRrV3tXD4EZ1PjYVleJtch8N+Gr7V7gbltYi6pnG9v4V/E4FateJ/tB+JWjt7Dw5bvjzf9KuQDzgcIPpncfwFFSXLFsKceeSR5FpN9ZXPjCDUPEzSSWr3Pn3exdzPzuIx7nj8a9+Hx48HAYH24D/r3/wDr1w3w6+Ddn4r8KprGtXd5ameRhAkBUZQcbjkHqQfyrqv+GefDn/QV1T/vqP8A+IrlpxqpXj1OurKlJ2l0PHfH2p6PrHjO71Tw55qW10RKyyJsKyH735nn8a+kvhv4m/4SrwLY30h/0mNfIuB/trwT+Iwfxrzbxd8CtP0jwrfajol7fXF3ax+aIpihDKOW6KDnGT+FZfwC8SNY+JrjQp5MQagm+IE9JUGePqufyFOHNCpaXUKnLUp3j0PdPEn/ACKuq/8AXnN/6Aa+Wvhz4UTxj4zttMuHKWqq01wVPJRew+pIH419S+JP+RV1X/rzm/8AQDXgHwB/5KLP/wBg+T/0NKuqk5xTM6LapyaPoDT/AA7o+l2K2dhplrDbqu3YsQ5+p6k+5qa50jTb1IlvNPtbhYRtjEsKsEHoMjjoKuUV0WRzXZ8nfCm2gu/idpMF3DHPCzSbo5UDKf3bdQa+orfQtJtJ1ntNLsoJV+7JFborD6ECvmL4Q/8AJVtH/wB+T/0U1fVlc+HS5TpxLfOfOXx48TSaj4uTQ4XYW2moC654aVgGJ98KQPzr0j4d+EPDPhXQoJLmWwn1WeMPcTyyIxQkZ2LnoB04614t8W7SW0+KWsCZSBLIsqE/xKyA8fqPwresvgPruoWEF5a6pprw3EayRsGflSMj+Gs05e0btc1lGPs4q9j0X4n+FvDfiLwvd3dpJYRaraRNLDLFIitJtGShwecgcZ6GuO/Z98QyxatfeH5WJgmj+0wgn7rrgNj6g/8AjtUv+Ge/Ef8A0EtO/wC+n/8Aia6f4efCLWvCHjG31a9vbOWCON0ZIi247lx3HrVWm5qXLYhuCpuPNcp/tHf6nw7/AL1x/KOnfBP4faVd6IviTV7eO8nkkZbaKVQyRqpxuweC2c9emKb+0d/qfDv+9cfyjrsvgv8A8kr03/fl/wDRjU0k6zuJyaoKx2sdnaxSLJFbQo6ghWWMAgema+dv2gf+Sh2v/YNj/wDRklfSFfN/7QP/ACUO1/7Bsf8A6Mkqq/wEYf8AiHsGn6wPD/wasdVYBvsmjQyKp6FvKXA/PFeD+APDU/xI8eSyaxK8kAJur6TOGfJ4UemSfwANev61bSXf7OSRwglv7Gt3wPRVRj+gNcR+zxfwQ+IdWspGVZri3R4wT97YxyB/30D+dRPWcYvY0h7sJSW57laaLpljYpZ2mn20Vsi7REsQ24/rXg/xr+H1n4fkg17RIFgtLqTyriFPuxyEEgqOwIB46Aj3r6Gry/4+ahBb+AI7ORh591dp5ad8KCS30HA/GtasU4Mxoykpqxk/s6/8gXWv+viP/wBBNcH8ZP8AkruofSD/ANFJXefs6/8AIF1r/r4j/wDQTXB/GT/kruofSD/0UlYS/go6Yfx5H05Z/wDHjB/1zX+VTVDZ/wDHjB/1zX+VTV2nAFFFFABRRRQAUUUUAFFFFABRRRQAUUUUAFFFFABRRRQAVheNdJl13wTq2m2w3Tz2zCNc9WHIH4kVu0Umrqw07O58r/Dbx3/wr3W7039jLPDcoI5o1O142U8HB+pBHv7V7/4G8eWPjuyurjT7ea3+yyCNkmIycjIPH4/lUms/Dzwrr1815qejQSXLnLyplC/udpGT7mtDQ/DOjeGoZItD06GyWUgyGMcvjpknk4yfzrGnCcHa+htUqQmr21Pmlv8AkvS/9jGv/pQK+q6yv+EW8P8A2/7d/YWmfa/M837R9jj8zfnO7djOc8565rVqqcHC5NSop28jgvjV/wAkr1H/AH4f/Ri1xn7OHTxJ/wBuv/tWvaL2ws9StWtdRtYLu3fBaGeMOjYORkHiodN0TStG8z+yNMs7DzceZ9lt0i34zjO0DOMn8zQ4N1FIFUSpuB5n8ZPhrP4gUa/oMRkv4Y9txAvWZB0Kj+8OeO4x6c8H4L+MOseDrVdJ1Wz/ALQs4PkSN2McsPtkg8exH419LVi6x4O8O6/L5usaPaXUuMea0eHx/vDB/WplTfNzQdmVGquXlmro8g1v9oW5uLJodA0cWs7cefcy+Zt+igDn6n8K7z4Ta34n1rwy0niq0ddjYt7uQbXnX3X2/vcZ/CtvTPAHhTSLhZ9P0GzjmQ5WRo97KfUFs4/Cui6U4xne8mKc4NWigooorYxPnz9oj/kaNK/68z/6Ga9P+EP/ACSjRf8Acl/9GvXSaj4f0bWJUl1bSbG+kRdqvc2ySFR6AsDgVZs7K10+0S1sLaG1t487IYIwiLk5OAOBySayjTam5G0qidNQ7E9FFFamIV8jeFP+SraV/wBheP8A9GivrmsiLwl4cgu0uoPD+lx3COJFmSyjDq2c7gQMg571lUpubXkbU6ign5kviHQ7XxJ4fu9JvxmG6j2kgcqeoYe4IB/Cvmaa38VfCHxaZYwYyMqsu0mC6T09/p1FfVdQXljaajavbahbQ3UDjDRTIHU/gaKlPn1W4qdXk0eqPGYP2jIfsg+0+HZDcAciO6AQn8VyP1ql4Z+KXjbxT49tzp9gs1gW2S2US4jSMnlmkPRh6/pzXp3/AAq/wUZvN/4R603Zzj5tv5ZxXR2GnWWl2q22m2kFpAvSOCMIo/AVKhUb96RbnSS92JFrOk2uu6NdaZqCFra6jMbgHBGe4PqOor5kvLDxN8IPGX2iAY25WK4KEw3MZ7H+o6gj6GvqmoLyxtdRtXtr+2huoHGGimQOrfUGqqU+fVbkU6nJo9UeLP8AtFqdOPl+HiL3bgFrnMYb1+7nHt+teXeIJvEPiZJ/FmsRySQSTLB5+3agOCQij0AB/rya+l0+GPgtLjzl8O2e/OcFSV/75Jx+lb1zo+mXtgtjeadaXFomNtvLArRrjphSMcVm6U5L3maxrU4P3YnBfAj/AJJmn/X3L/SvHfCX/JbLL/sLN/6Ga+orDTbHSrX7Nplnb2cGS3lW8Sxrk9TgACqUPhXw9b3y3kGhaZFdK+9Z0s4w4b+9uAzn3qnSbUV2JVVJydtzWrx79on/AJFzSP8Ar7b/ANAr2Gqeo6PpusRpHq2nWl8kZ3ItzAsgU+oDA4rSceaLRlTlyyUjjvgt/wAkp0z/AH5v/RrV3tV7KwtNNtFtdOtYLS3TO2GCMIi5OTgDjrVinFWikKT5pNjJpo7eB5p3WOONS7uxwFAGSTXyTqtzd/ET4lSNbEmTUrsRQbuiJ91c+wUZP419az28N1byQXUSTQyqVkjkUMrg9QQeCKzrPwt4f066S50/QtNtbhPuywWcaOvbggZFZ1KbnZGlKoqd31LemafBpOlWun2gxDaxLEg9gMVaoorYxEZQ6MjjKsMEHuK+S/FOl3PgD4kypakr9juVubRxxlM7l/wP0NfWtZuoeHdE1a4E+q6PYX0yrtElzapIwHplgeKyqU+daG1KpyPUoXWqwa58ObnU7Ng0N1pskq47ZjOR9QePwrw/4Af8lDuP+wfJ/wChpX0Pb6ZYWmn/AGC0sreCzwV+zxRKseD1G0DHOTVfT/DmiaTcG40rRtPspiu0yW1qkbFfTKgHHAolBykn2CNRRjKPc0qKKK1MT5OjkuPhr8VPNntmk/s66YhCdvmRHIBB91Ne5+DPi1pPjTXjpVpZ3NrN5LSq0xXDYIyoweuDn8DXSa/4Q0HxOE/tzTYbp4xhJGBDqPQMOce1QaJ4D8M+HbpbrSNIt4LlQQsxBZ1yMHBJOOPSueFOcHo9DonUhOOq1OU+MHw6m8W2EWp6Ou7VLNCvlf8APePrtH+0D0+pry7wZ8VNc8Bg6TqFobuyhYj7LOTHJCe4UkcDPYj8q+nayNY8KaD4gIbWdJtbtwMCSSMbwPTcOf1pypty5ouzFCqlHlmro8i1b9oiSSxZNE0QQ3DDAluZt6p/wEAZ/Ous+EHiHxVr2lXL+JrZ2tw263vZBsaTJyV29wOx/CujsPh34R0ydZrPw/ZLIpyrOnmFT6jdnFdIAAMAYA7CnGM73kxSnDltFHiX7R3+p8O/71x/KOuy+C//ACSvTP8Ael/9GNXXalomlayIxq+mWd+Is+X9qt1l2ZxnG4HGcD8qmsrG0021W1061htLdM7YYIwiLk5OAOKag1UchOonTUCxXzf+0D/yUO1/7Bsf/oySvpCs3UPDmiatcC41XRtPvplUIJLm1SRgvJxlgTjk8e9OpDnjYVKahK7KPg6GO4+HOiQzoJIpNMhR0YZDAxgEGvAPGPg7Wfhj4sTVdH80WSy+ZaXajd5f+w/vjjnqK+m4IIrW3jgtokhhiUJHHGoVUUcAADgAelLLDHcQtFPGksbjDI6ghh6EGlOmpJLsOFVwk30Z4jZftFbNOUahoBkvFXDNDcbY3PrgqSv05rzvxLrPiT4gzXevXluzWdggB8pcRW6lgAAT1JJ+v4CvouX4ZeDJbjzn8O2YbOcKpVf++QcfpW6mjaZHpZ0xNOtRYFdptfJXyyPQrjFZunOStJmqq04u8Ynk37Ov/IF1r/r4j/8AQTXB/GT/AJK7qH0g/wDRSV9K6do2maOjppGnWlgshBdbWBYgx9TtAzUF74Y0DUbxrvUND027uWxumntI3c4GBliM9BTdJuCiTGslUc7F6z/48YP+ua/yqakACqFUAADAA7UtdBzhRRRQAUUUUAFFFFABRRRQAUUUUAFFFFABRRRQAUUUUAFFFFABRRRQAUUV59d/GvwhZXs9rPNdiWCRo3xbkjIOD/KpclHcqMZS2R6DRXnH/C9fBf8Az3vP/AY/41asPjR4KvrgRHUpLZm4BuIGVT+IBA/Gl7SHcfs59jvaKit7mG7t0uLWVJoZBuSSNgysPUEVLVkBRRRQAUUUUAFFFFABRRRQAUUUUAFFFFABRRRQAUUUUAFFFFABRRRQAUUUUAFFFFABRRRQAUVXv7630zTri+vZBFb28bSSOeygZNeWfDn4l+JPGvjG6tDZWv8AZMe6VpNjB4Ez8i7gcEn6dj6VDmk0u5cYOSbXQ9bornfFnjnRvBa2ra48yC7LiLyoy+duM59PvCn+FfGmi+MrWabQ7hpPIYLJHIu11z0OPQ+vtT5le3UXLK3NbQ36KKKokKKa7rHGzyMFRQSzE4AHrXBJ8afB0upLZQ3NzJI8oiRltztYk4BB9KlyS3KUZS2R39FFFUSFFZPiXxNpvhPRzqWsytHbh1jGxdzMx6ADv0J/CsTw58UvDPinWE0zS55/tLozIssJQNjqAfXFS5RTtcpRk1dI7GiiiqJCiuX8V/ELQvBl1b2+tyTrJcIXTyoi/AOKwP8Ahevgv/nvef8AgMf8ahzinZstU5tXSPR6K86T45+CmcBrm7QH+JrZsD8q7DQ/E2jeJbYz6HqMN4i/eCHDL9VOCPxFNTi9mJwlHdGrRWdr9xqNpoF5caLBHc30UReGGXO1yOccc9M/jXAfCj4n3XjG9vdN14QR3yfvoBEuwMnAKgEnkHn6H2pOSTSY1BuLkuh6hRRRVkBRRRQAUUUUAFFFFABRRRQAUUUUAFFFFABRRRQAUUUUAFFFFABRRRQAUUUUAFFFFABXx9c2Kan8SZbCVmRLrVjCzL1AaXaSPzr7Br5Itv8Akr8P/YdX/wBH1y4jodeG+0etf8M8aD/0GNR/KP8A+JrL1/8AZ8ig0uWfw/qs011GpZYLlRiTHYEdDXuNZ+t65p/h7SpdQ1a5jt4IxnLtgseygdyfStHSp22MlWqX3PAvgr40utH8UReHb6ZzYXzGOONzxDN2x6ZPGPUivo2vk/wPbz+Ivi1p81rFjfqH2xwBwiK+8/px+VfQ3xD8YSeCPDK6rDaLds1wsPlu5UchjnP4VFGVoO+yNK8bzSW7OqoryD/hfunr4TS9aw3as8rR/Ykk+VQMEOWx0II7dc1h6X8ePEmp61a2MOj6aTczLEijzM5Y467vf0q/bQ7maoVOx73RUN1dQWNpLdXkyQwQqXkkc4VQOpJrxrxH+0FHb3kkHhnTUuY0OBc3TEB/cKOcfU1cpxhuRCnKfwntdFeB6d+0RqS3C/2votrJDn5jauyMB/wIkGvZ/DviTTfFOjx6lo8/mwvwwPDRt3Vh2NKNSM9hzpShuatFZfiHxDp3hfR5dS1ifybePgYGWduyqO5NeNah+0Tem5b+y9Dt1gB+U3MjMxH/AAHAH60SqRhuEKcp7I95oryzwV8btO8RahHp2tWo0y6lIWKQPuidv7uTyp9M8V6i7rHGzyMFRRlmJwAPWqjJSV0TKEoOzHUV474o+Ptpp9/Ja+G7BdQWM4N1M5WNj/sgcke/FZ+jftDu14ia/o0aQMcNLaOcoPXa3X86z9tC9rmnsKlr2PcqKq6dqNpq2nQ3+nTrcW06745E6MK801X4w3OnfEc+GF0iJ4xex2vnmYg4YqM4x/tVcpqKuzOMJSdkeq0UVzHj/wAWSeC/CzatDardMsyR+Wz7R83fNU2krsSTbsjp6K4z4beOpfHmk3d5PYpZm3nEQVJC275Qc8j3rH+IvxWn8DeIINOi0uO7WWATF2lKkZYjGMe1T7SKjzdClTk5cvU9LorxzxT8fLWwlSDwzZx3zGNWeeZiI1JGdoA5OO/Iq78M/inrfjfxJJp99p1lFBFA0rywBwRyAByT3NT7WDlyor2M1HmaPVqKxvE/irSvCOktqGsz+WnSONRl5W/uqO5/SvGtQ/aI1Rrg/wBlaLZxQ54+0szsR/wEgU5VIw3FClOeqR79RXi/hn9oCC7vo7bxNpyWaSHb9qt2JVD6sp5x7gmvZYZo7iBJoJFkikUMjochgeQQe4pxnGewpwlB+8PoooqyDyb4++Izp/hi20SBsS6jJulx2iTBx+LEfka2/g54ZHh7wDbzSri61L/SZeOQp+4P++efqTXmHxhkk1/4wWujRHJjFvaKP9qQhv8A2cV9EwQpbW8cEQ2xxIEUegAwK54e9Ub7HRP3aUY99TxX9o7/AFHh7/euP5R15X4L8WXngzxJBqlp86fcnhPSWM9R9e4PqBXqn7R3+o8Pf71x/KOsPQPAC+MPguLvT4l/teyupmiPeZOCY/6j3+prGom6r5TopyiqS5tj37SdVs9c0m31LTZlmtrhA6MP5H0I6EVcr5w+Dnj9vDWsHQdZlKaddyYQv0t5en4A9D6HB9a9h+I3jaHwT4Za5GHvrjMdpEe7d2Psuc/kO9dMKilHmZyzpOM+VHD/ABv+IJs4G8LaPNieVc30ifwIekefU9T7Y9a8T0L/AJGPTf8Ar7i/9DFdj8NvBl18QfFkl/q7yS2MMnnXkz5JmcnOzPqe/oPwrN16NIfjFdRxIqRprG1VUYCgSDAArjm5SfOztgowXIj6zooqjrOq2+h6JeaneHENpE0rY6nA6D3PSvRPM3PB/j74lF/4jtdCtpN0WnpvmAPHmsOn4Lj/AL6Ned6Zd6h4Q8TWF+YmhubZo7hUcY3owDAfRlP61p+HNOuPiD8SYo7zc3265ae6K/wpnc2D9OB+FejfH7wqI7bTtfsolWOFRZzhR90dYz9Oo/KvPac71D0k4wtTZ7Tp97DqWm219atuhuYllQ+oYZH86sV5T8BfEn9peFJ9GuJN0+mvmME8mJskfkcj8RXq1dsJc0Uzz5x5JNHgH7RP/IxaP/16v/6HS+Bfg1pPivwbZaxd6lewzXG/ckQTaNrleMj2pP2if+Ri0f8A69X/APQ69G+Df/JKdJ/7a/8Ao1q51FSrNM6nKUaMWjmZP2d9FMbCHWb9Xx8pZUIB+mBXluo2eufCbx4qw3GJocSRypkJcRE9CPQ4II9RX1gSFUljgDkk9q+Z/jb4msPEPjGCLS5UuIbCDymnjOVdyxJAI6gcD65orQjGN1owo1JzlaWqPorQ9Wh17QbLVbUFYruFZVU9VyOQfoeK+ffHVtJ8OvjPBrFmm23mkW9RU4yrEiRP/QvzFe2fDvT59L+HejWt2jJMtsGZGGCu75sH864D9ojTg+h6RqQHMVy0BPsy7h/6Aaurd0+bqjOk0qnL0Z7DBNHc28c8DB45FDow6MCMg0+uT+GF+dS+GWiXDNuYQeUT/uMU/wDZa6yt07q5hJWbQUUUUxBRRRQAUUUUAFFFFABRRRQAUUUUAFFFFABRRRQAUUUUAFFFFABRRRQAUUUUAFfG2sQT3Xje+gs1ZriXUJEiVTglzIQAPxr7Jr5Itv8Akr8P/YdX/wBH1y4jodeG0uaA+HnxGP8AzDtQ/wDAkf8AxVPh+E3j3VLhI7qwkQZx5l1cLtX9Sfyr6kop/V49yfrMuyOH+HPw1s/AtrJNJKLvU7hQss4GFVf7qj0z371k/H3/AJJzF/1/xf8AoL16dXmPx9/5JzF/1/xf+gvVzio02kRTk5VU2eefBjwDY+K9QutS1qPzrOxZVWAnCyuefm9gO3fIr3+Hw9o1t5X2fSbKIwsGjKW6goR0IOODXmX7O/8AyK+rf9fg/wDQBXr9KjFKCY68m5tHiX7QXiaeBbHw5bSFEmT7TchT98ZIRT7ZDH8BWj8JfhrpVn4ft9b122hvL68QSRRzKGWBD04PBJHOfwrivj9ayxfEGCd8mOexQofTDMCP6/jWfovwZ8R6/otrqmnXWmNbXSb0LTsCOxB+XqDkVi2/at2ubqK9klex7f4w+Hfh/wAT6LNAlna2l7sJguYYwhRu2cdR6ivH/ghrlzo/xAbRpXIt79XjeIngSoCQ314YfjR/woHxd/z30v8A7/v/APEVs+Efgx4p0DxhpeqXM+nmG1uFkkEczFivfA2+lN8zmpKNhLkjBxcrk37Rf2zzNE+/9hxL0+75nHX3x0/Gr3wgvvAg8K29pdf2fHrDMwuBequ+QljjaW6jGOBXqmuaDp3iTSpNO1i2W4tpOqngqexBHII9a8c1z9niQb5PDuso3PywXqEYH++uf/QauUJKfOlciE4ShySdjqda+COgax4iOpw3E2nQsFLW9mqqNw/iBOcZ46Ct/wCJCXkfwv1lNNZ2nW1xu/iKAjef++N1eDJqnjb4Ta7Fa3MskSY3i3kfzIJkz2/xGCK+kPD2sQeJ/DFlqkUeIr2EM0bc7T0ZT64ORTg4yukrMVRSjZt3R86fCC88KWXiK4fxcLcExgWr3S7olbPOc8A4xgn3r2XxP8OvDPj3TLebT3tbZlcMt7YKjb17rkcH+mKwvE/wF0fVbuW70K8fSpJCWMHl74s+wyCo/P6V5trXgTxp8NlOq29yy2yMN11YTNhecDcCAeuByMc1mlKnG0o3Ro3GpLmjKzPoTwh4UtfBugjSrG5ubiESNIGuGBKk4yBgDA4zj1Jr5+8Tf8nCN/2GLf8A9CSvXPhJ4/uvGuj3MOqqv2+xKh5UGBMrZw2Ox4OccV5F4pYR/tAuznaF1e3JJ7DclOo04RcdhUlJTkpb2Pp+vN/jt/yTOT/r7i/ma9Irzb47sB8M3BOC13EB79a3qfAznpfGjK/Z4/5FXVf+v0f+gCuR/aC/5Hqy/wCvFf8A0Nq679nj/kVdV/6/R/6AK5H9oL/kerL/AK8V/wDQ2rnl/AR0x/3hnafCf4Z6RbeGLTWtZs4r2+voxNGJl3LFGeVwp4yRgk+9em2ulafZTtNZWNvbyuu1niiVCw9DgVneCePAHh7/ALBlt/6KWtyumEUoqxyzk5Sdz5c+IOr3fjv4ovp9rIWhS5+w2iE/KPm2lvxOTn0xXu/hj4feHPDOkx2sVlbXU4X97czxq7yN3PPQewr5gvtKnbxjc6VK6Q3Bvnty8xwqtvK5J9M13P8AwoHxd/z30v8A8CH/APiK5KcnzN8tztqRXKo81kdR8aPh9pUOgN4i0O2htJrZ1FzHCAqyIx2hto4yCR07E+lavwF8RTap4TudKumLvpkgETH/AJ5tkgfgQ34EVwX/AAoHxd/z30v/AL/v/wDEV6F8Jfh5rfge/wBSk1iS0eO6iRUFvIzHKk9cqPWripe05rWM5uPsuXmueoUUUV1nGfOOpfv/ANppPM5xqsOM/wCyq4/kK+jq+cfGB/sX9o6G7l+WFr60m3H+6QgY/wDoX5V9HVhR3l6nRW2j6HiP7R3+o8Pf71x/KOuk+A//ACTVf+vyX+lc3+0d/qPD3+9cfyjrpPgP/wAk1X/r8l/pUr+Oyn/u6ON+N3w++w3LeKdIixbzMBexov8Aq3JwJPoTwff6155aDX/iF4h0/TpLiW9uRGtvE0nIijXufYDknqa+u7i3hu7aS3uokmhlUo8bjKsD1BFZ2l+GND0W4afSNJtLOV12M8EIUkemRRKheV1sEMRyxs1qM8LeG7Pwn4dttJ08fJEMvIRzK56sfc18zeIv+Sz3n/YZ/wDatfWNfJ3iL/ks95/2Gf8A2rSrqySQ8O25Ns+sa8g+P/iU2WhWmgW74kvm86fHXy1PA/Fv/Qa9eJCqSxwBySe1fJnjDVLnx78Sp2sSZ/tNwtrZLnjYDtXHoD978TV15WjZdSMPG87vodB8H/FXhjwfJqF9r08iXswWKHZCz7Y+rcj1OP8Avmu78U/FPwJ4l8L3+kTX1wBcwlUY2r/I/VW6djg1TX9nXTdo369dbsc4hXGaX/hnXS/+g9d/9+VrOMasY8qRpKVGUuZtnmHwy8Sjwt49sruZ9trMfs9wewRjjP0Bwfwr6z69K+VPiX8P/wDhAtUs44LmS6tbqIskrqFO5T8w4+qn8a97+F3iX/hJ/AVlcSnN1bj7Ncc9WTgH8Rg/jToNxbgxYhKSVSJ5h+0T/wAjFo//AF6v/wCh1xGi+DfGmq6TDeaJZXkllJny3jmCqcEg4G4dwa7f9on/AJGLR/8Ar1f/ANDr0b4N/wDJKdJ/7a/+jWqORTqtMv2jhRTR4ifht8Q518uTTb1lbgh7gYP/AI9XceAfgbPa38Op+MGjxCweOxjbduI6bz0x7D8+1e30VtGhFO5jLETatsFeb/HaNX+GcjN1ju4mX65I/kTXpFeWftAXgg8A21sD81zfIMf7KqxP64q6vwMzpfxEXfgXIz/DGFWziO6lVfpkH+ZNejVwfwYszafCvTWYYa4aWUj6yMB+gFd5Tp/AhVPjYUUUVZAUUUUAFFFFABRRRQAUUUUAFFFFABRRRQAUUUUAFFFFABRRRQAUUUUAFFFFABXyRbf8lfh/7Dq/+j6+t6xh4Q8Nrei8XQNMFyJPNEwtE3h853ZxnOec1lUpudjalUUL36mzRRRWpiFeY/H3/knMX/X/ABf+gvXp1VNR0uw1e1Ftqtlb3sAYOIriISLkdDg9+TUzjzRaKhLlkmeWfs7/APIq6r/1+j/0AV69VLTdH03RoXi0jT7WxjdtzpbQrGGPTJAHWrtKEeWKQ6kuaTkcL8VPAR8a+H1aywup2RL25JwJAeqE++OD6ivFfB/xD174a3dxpl1ZtNbLJ+9sbglGjbuVODtz9CDX1JWVrPhjRPEMezWtLtrzjAaRPmX6MOR+BqJ023zRdmaU6qUeWSujyq9/aKtBZ/8AEu0GY3JH/LeYBFP4DJ/StD4TeO/FXivV70avZefpzEut2iBFt27Rj+8PzI6nrXVWfwo8EWFwJoPD8DODkCaSSVf++XYj9K6yCCK2hWG2iSKNRhURQoH0AojGpe8mEp07WijzX40X3i3TNFhuvDdw8OnYK3jQL+9Q9ju6he3GP1rj/D/7QN3YaTFaa1pP2+aFAguY59hkwMDcCp59T+le+soZSrAFSMEEda5bUPhl4N1O6Nxd6BbeYTkmItECfcIQDRKE+a8WEJw5eWaPnvxT4n1r4p+KLRILDDgeVa2kOX25OSScc+54AAr3+DQtZ8NfCqPSfDk0Z1e0tR5bum5WkzuYAH1ywGfbNbmj+HNG0CLy9G0y2swRgmKMBm+rdT+NadEKbV23qwnVUrKK0R81eGfjH4j8LaheQeIYptUEkuZIrlzHJC/Q4ODjp93GOO1P8dfGe78W6LJo9hposLWcjzmaXzHkAOcdBtGQPWvd9b8G+HvEbbta0i2upP8AnoV2v/30uD+tV9I+H3hTQ5hNpmh2scoOVkcGRl+hckj8Kj2dS3LzaF+1pX5uXU4z4F+Eb3QtDu9V1ONoJNRKeVEwwwjXOGI7ZJ6eg965H45+Drqx8Rf8JPZRyPaXYUXDqM+TKoCgn0BAHPrmvoSmSxRzxNFMiyRuMMjjII9CKt0k4cpmqzU+c8K0L9oSa10yODXNIa7uI0C/aIZgvmY7spHB9wfwrjfHHjrXPiEpuGsnt9KsCGMUWXSMscBnbHJ7Dp3x3r365+F/gu7ufPm8PWofOf3e6Nf++VIH6VuR6BpEOlNpkel2a2DDDWwgXy2+q4wah06klaTNFVpxd4x1PMf2eP8AkVdV/wCv0f8AoArkf2gv+R6sv+vFf/Q2r3/TdH03RoXi0jT7WxjdtzpbQrGGPqQB1qHUfDeiaxcLPq2j2N7Mq7VkuLZJGA9MkdKp026fIQqqVTnK/gv/AJEHw/8A9gy2/wDRS1t1HBBFbW8cFtGkUMSBI40XCooGAAB0AFSVstFYxbu7nhnxn+G11LfyeKNChadZBm9gjXLIQP8AWADqMdfTGfpl+Efjtf6Lp8Vh4gsm1KKFdiXCybZQB0ByMN9eD9a+h65rWPh34T16YzanodtJKeskeYmb6lCCfxrGVNqXNB2N41YuPLNXPKvEX7QVzdWr2/hrSzaO4wLm4cOy/RAMZ+pP0r034ba5rmveEIbrxJYvbXI+VJWAX7SmOH2/w/yPUdas6R8PvCmhSCXTNDtY5B0kkBlZfozkkV0lVCM07yZM5QatFBRRRWpieCftCaRJBrOla3Eh2SxG3dx2ZTuX9CfyNeyeFdYj8QeE9N1SJw/2i3VmPo4GGH4MCKz/AIh+GP8AhLfBN7psYBuQvnW2f+ei8ge2eR+NeafAbxX9lnu/Ceolo5C7TWofjDD76fXjP/fVc/wVfU6PjpeaJP2jv9R4e/3rj+UddJ8B/wDkmq/9fkv9K7vU9D0rWhGNY020vxFny/tMCybM4zjIOM4H5VLp+mWOk2v2bS7O3s4NxbyreIIuT1OBxVqm/ac5LqJ01AtUUUVqYhXyd4i/5LPef9hn/wBq19Y1jyeEvDs1815NoOmyXTP5hna0QuWznduxnOe9ZVIOdjalUUG7nO/F7xMvhzwDdLG+271D/RYAOvI+Y/gufxIry34DeGRqfiubWrhcwaYn7v3lbgfkMn64r33U9C0nWvL/ALX0y0vvKzs+0wLJtz1xkHFP03SNO0aBodJsLaxidt7JbQrGrNjGSAOvApSpuU1JhGoo03FbsuUUUVsYnEfFvw0fEngC7WCPfdWX+lQgDk7R8wH1XPHrivKfgP4lbTPFsujTyYt9TT5AT0lUEj8xke/FfRhAIIIyD1BrGh8HeGra6S5t/D+lxTxuHSVLOMMrA5BBAyDmsZU25qSNo1EoODPGv2if+Ri0f/r1f/0OvRvg3/ySnSf+2v8A6Nauo1Lw9o2syJJq+lWV88Y2o1zbrIVHoCRxVmysbTTbNLXTraG1t487IYUCKuTk4A4HNONNqbkEqidNQ7FiiiitTEK+f/j/AKx9v8TaZoVqTI9rHvdF5/eSEYX64AP/AAIV7lrWr2ug6LdapqD7Le1jLt6n0A9ycD8a8A+GumXfxA+Kdx4k1JR5FrN9ql7jf/yzQfTr9F96wrO9oLqdFBWvN9D3nw1pX9h+F9N0zjNrbJG2P7wHP65rUoorZaKxzt3dwooopgFFFFABRRRQAUUUUAFFFFABRRRQAUUUUAFFFFABRRRQAUUUUAFFFFABRRRQAUUUUAFFFFABRRRQAUUUUAFFFFABRRRQAUUUUAFFFFABRRRQAUUUUAFFFFABRRRQAUUUUAFFFFABRRRQAUUUUAFZdr4a0Sy1KbUbXSrSO9mcyPcCEbyx6nd1H4VqUUrILsKKKKYBRRRQAUUUUAFFFFABRRRQAUUUUAFFFFABRRRQBDdWtve27W95BFcQv96OVAyt9QeKraTommaFBJDo9jBZRSyGR0gQKCx4zgfQVfopWQXewUUUUwCiiigAooooAKKKKACiiigAooooAKKKKACiiigAqzaafcXwc2yBtmM/MB1qtXQ+F/u3P1X+tZ1JOMW0aUoqc1Fmf/YOof8APEf99j/Gj+wdQ/54j/vsf4119Fcn1iZ2fVoHIf2DqH/PEf8AfY/xo/sHUP8AniP++x/jXX0UfWJh9Wgch/YOof8APEf99j/Gj+wdQ/54j/vsf4119FH1iYfVoHIf2DqH/PEf99j/ABo/sHUP+eI/77H+NdfRR9YmH1aByH9g6h/zxH/fY/xo/sHUP+eI/wC+x/jXX0UfWJh9Wgch/YOof88R/wB9j/Gj+wdQ/wCeI/77H+NdfRR9YmH1aByH9g6h/wA8R/32P8aP7B1D/niP++x/jXX0UfWJh9Wgch/YOof88R/32P8AGj+wdQ/54j/vsf4119FH1iYfVoHIf2DqH/PEf99j/Gj+wdQ/54j/AL7H+NdfRR9YmH1aByH9g6h/zxH/AH2P8aP7B1D/AJ4j/vsf4119FH1iYfVoHIf2DqH/ADxH/fY/xo/sHUP+eI/77H+NdfRR9YmH1aByH9g6h/zxH/fY/wAaP7B1D/niP++x/jXX0UfWJh9Wgch/YOof88R/32P8aP7B1D/niP8Avsf4119FH1iYfVoHIf2DqH/PEf8AfY/xo/sHUP8AniP++x/jXX0UfWJh9Wgch/YOof8APEf99j/Gj+wdQ/54j/vsf4119FH1iYfVoHIf2DqH/PEf99j/ABo/sHUP+eI/77H+NdfRR9YmH1aByH9g6h/zxH/fY/xo/sHUP+eI/wC+x/jXX0UfWJh9Wgch/YOof88R/wB9j/Gj+wdQ/wCeI/77H+NdfRR9YmH1aByH9g6h/wA8R/32P8aP7B1D/niP++x/jXX0UfWJh9Wgch/YOof88R/32P8AGj+wdQ/54j/vsf4119FH1iYfVoHIf2DqH/PEf99j/Gj+wdQ/54j/AL7H+NdfRR9YmH1aByH9g6h/zxH/AH2P8aP7B1D/AJ4j/vsf4119FH1iYfVoHIf2DqH/ADxH/fY/xo/sHUP+eI/77H+NdfRR9YmH1aByH9g6h/zxH/fY/wAaP7B1D/niP++x/jXX0UfWJh9Wgch/YOof88R/32P8aP7B1D/niP8Avsf4119FH1iYfVoHIf2DqH/PEf8AfY/xo/sHUP8AniP++x/jXX0UfWJh9Wgch/YOof8APEf99j/Gj+wdQ/54j/vsf4119FH1iYfVoHIf2DqH/PEf99j/ABo/sHUP+eI/77H+NdfRR9YmH1aByH9g6h/zxH/fY/xo/sHUP+eI/wC+x/jXX0UfWJh9Wgch/YOof88R/wB9j/Gj+wdQ/wCeI/77H+NdfRR9YmH1aByH9g6h/wA8R/32P8aP7B1D/niP++x/jXX0UfWJh9Wgch/YOof88R/32P8AGj+wdQ/54j/vsf4119FH1iYfVoHIf2DqH/PEf99j/Gj+wdQ/54j/AL7H+NdfRR9YmH1aByH9g6h/zxH/AH2P8aP7B1D/AJ4j/vsf4119FH1iYfVoHIf2DqH/ADxH/fY/xo/sHUP+eI/77H+NdfRR9YmH1aBwDqUdkbgqcGkqW6/4/Jv+ujfzqKu5bHnvcKKKKYBRRRQAV0Phf7tz9V/rXPV0Phf7tz9V/rWNb+GzfD/xEb9FFFecemFFFFABRRRQAUUUUAFFFFABRRRQAUUUUAFFFFABRRRQAUUUUAFFFFABRRRQAUUUUAFFFFABRRRQAUUUUAFFFFABRRRQAUUUUAFFFFABRRRQAUUUUAFFFFABRRRQAUUUUAFFFFABRRRQAUUUUAFFFFABRRRQAUUUUAFFFFABRRRQAUUUUAFFFFAHCXX/AB+Tf9dG/nUVS3X/AB+Tf9dG/nUVestjxnuFFFFMQUUUUAFdD4X+7c/Vf61z1dD4X+7c/Vf61jW/hs3w/wDERv0UUV5x6YUUUUAFFFFABRRRQAUUUUAFFFFABRRRQAUUUUAFFFFABRRRQAUUUUAFFFFABRRRQAUUUUAFFFFABRRRQAUUUUAFFFFABRRRQAUUUUAFFFFABRRRQAUUUUAFFFFABRRRQAUUUUAFFFFABRRRQAUUUUAFFFFABRRRQAUUUUAFFFFABRRRQAUUUUAcJdf8fk3/AF0b+dRVLdf8fk3/AF0b+dRV6y2PGe4UUUUxBRRRQAV0Phf7tz9V/rXPV0Phf7tz9V/rWNb+GzfD/wARG/RRRXnHphRRRQAUUUUAFFeJ/tOavqOj+C9Hl0m/ubKR9Q2s9vK0ZYeWxwSD0q3+zn4yvfEXg280jWriSfUtHuCjNOxaQxuSV3E8khg4+gFAHsNFFfLn7RfxA1b/AITqPRPD2pXVrFpNuGujaTMmZJMH5ip5wNn0JNAH1HRXL/DO5mvPhb4buLuZ5p5dOhaSSRizOSoyST1NdRQAUV8m/E74i+IZfi3qGreHb28Oj+G7iCCVIZmWJir87gDg7n3LnvgV9TaTqdtrWjWep2EnmW15Ck8TeqsMj+dAFyiivlLwJoHiP4leNvFFp/wm2r6ZHp1wxQRzO4IMjDGNwxjFAH1bRXhd58EfHGn2r3Ph74manLfRjdHFcs6q59N284/I1sfBP4nar4sm1Lw14vRU1/SPvuFCmZA21iwHG4NgHHByKAPXKKKKACiiigAooooAKKhu7qKysp7q4bbFBG0jn0VRk/oK+cvD8vjP9oDXNTvh4hufDvhuzk8qK3tCQxJ5C8EbmxySSeoAFAH0nRXz34k+FPjD4eaLceIvBXjjUrqSwQzz2l0SQ6LyxAJKnA5wRyM816h8KvHyfEXwNBq7IsV7G5t7yJAdqSrg8Z7EFT+OO1AHaUV89/HW41e5+L3hLQdL1u+0uLU1jgdraZlCl5tu7AIyRmtZvgN4mRS1v8UdZWQfdLhyM/8AfygD26ivCfhd448W6N8ULv4cePboajNGrNbXhOW4UOPmx8yspzzyDx9PZfEUjxeF9UkiZkdLOZlZTgghDgigDRor5X+E3gnxJ8S/DV1qsvj/AFnTzb3Rt/LWV33YVWzneP71dXrXwn+IvhbTJdW8JfELUdRurVTIbS4LDzAOSBlmUn2I5oA99orzv4NfEpviP4Tlmv0ji1awkEN5HGMA5GVcDsGwePVTXolABRRVXU9RttI0q61G+cpbWkTTSsFJIVRknA68CgC1RWF4R8Y6N440Z9U8OXD3FokzQF3iaM7wASMMAejCt2gAoorL8S67beGPDGo63fZMFjbtMyjq2Bwo9ycD8aANSivnHwh4a8YfG+2uPE/iPxXe6RpckzR2llYEqMKcHAyBgHjJySQar+Il8XfADxNpV9D4gutc8N3snlSw3rltpHVSCTg45Vh6HI9QD6WpksscELyzOscaKWd2OAoHUk0RSLNCkqfddQw+hrxn43+Ib3Wdd0X4ZeHp3jvNakVr94+qQZPH4hWY+yjsaAPTfC3jDRfGdldXfh26+1W9rctavKFIDOoBJGeoww5rcrM8O+H9O8LaBa6Po0AgtLVAqqOrHuxPcnqTXzz8Qv7c8QftMr4VsfEeo6Ta3aRAG3ncLH+43khQwHJH60AfTNFeGXXwV8eaXA114a+Jmoy3sY3JFdlwjn0zuYD8Qa1/hN8VtS13W7vwb46gS08S2GQGAC/adv3uBwGA544I5HSgD1yiivk/4T+FfEvxOt9Vnl8d6zp32GZYwqTO+7cCf74x0oA+sKK+d/Fnw++IXw60C48SeHfiBqGorYL5s9vcgnMY6thmZWx1II6Zr1j4W+Nm8f8AgCz1ueFYbos0NyifdEinBI9iMH2zigDsKK8E/ab1bVNNfwnFpOp3en/aZbhJGtpmj3f6rGcEZxk/nVxPgN4haNXHxP1sEgHq/wD8coA9vrN8Q6/Y+F/D93rOrO6WdooeVkQsQCQOg68kV4FqGu+P/gV4msP+Ej1l/Enhi+k8vzZsll9cZyVYDnGSCPfp9EOltqenlZFjuLW5j5VhuWRGH6gg0ARaVqtjrel2+paTcx3VncJvimjOQwq5Xg3gi7k+FXxtvfh/cvINB1n/AEnSQ7ZELNkhQT2O1k+qr65r3mgAooooAKKKKACiiigAooooAKKKKAOEuv8Aj8m/66N/Ooqluv8Aj8m/66N/Ooq9ZbHjPcKKKKYgooooAK6Hwv8Adufqv9a56uh8L/dufqv9axrfw2b4f+Ijfooorzj0wooooAKKKKAPB/2rv+RF0X/sJf8AtJqxIyvwy/aB0PVUfydI8VWcYmzwiu4UNn6OFbPYMa2/2rv+RF0X/sJf+0mrQ+L/AITHiX4B2F9BHuvdGs4byNwPm2CMeYPpt+b/AICKAPVvEOtWvhzw5f6xfvtt7KBpn98DgD3JwB7mvkj+x5r34K+K/HmrKWvdb1OOOJ27J5u5yPq2B/wCur8dfEuTx38I/CXhrSS02s65LHBeIDyrRsEwf999rD2Fdf8AG/Q7fwz+zna6LZKFhspbaEbR94g8t9Sck+5oA9C+Ff8AySTwv/2DIP8A0AVP8RPFMXg34f6trUjbZIYCsA/vSt8qD/voj8Aag+Ff/JJPC/8A2DIP/QBXk37SWrXmv63oHw/0GJri9uZPtMsSnG5j8sa+38ZOegwaAL/wl+HMWp/s/wCqx38Ia98TrJMZJBzxkQn8GG8f71aP7NniZ7/wTd+Gr/cl/oVwYzG/BETEkfiGDjHbAqhYar8ddM022sbLwjo0dvaxLDEgdflVRgD/AFnoK47wpqXibwB+0HBeeNtNi0v/AISgss8cDAxEu3DjBPPmAE89GPqKAPqavmj4D67pGh/EPxu2tapZacss5EZu7hIg5Er5xuIzX0vXyj8Jvh74e8f+P/GMPia2kuEtLhmiEczR4LSuD9089KAPoPUfih4H0uze5ufFekMqDOyC8SV2+iqST+VeQfAWG48T/F7xZ45igkh024EsURYY3NJIrgfUKvP+8K721/Z5+G9rOsp0SScqchZryUr+I3c/jXomn6dZaVYx2emWsNpbRDCQwIEVR7AUAWaKKKAPIvFsHxtbxXfHwldaYmjFx9lWYRbgu0Zzlc9c1j/Zv2iv+f3R/wDvmH/4mt3xXL8al8U3w8JwaQ2j7x9lM+zeV2jOcn1zWP5/7Q3/AD76F/45/jQB6h4IXxMnhS2Hjd4JNZ3P5zQbdhG47cbQB0xXQVg+C28SN4Wtz42W3XWNz+cLbGzG47cY9sVvUAQXtpFf6fcWdwCYriJonA/usMH9DXzLot/4r/Zy1u/stT0eXVvDF5cBku4htBxwGB5CsVxlW9OD3r6R17Wrbw74fvdYvkle2soWmlWFdz7R1wMjNZ3hDxdo/wAQfDA1bSA8llK7xNHcIAwKnBDLkj0P0IoA5vw38avAPjTFhHqK201yPLNpqMYjMmeNuTlTnpjJzXa6RoWk6DbvDomnWthFI290toljVmxjJA74rzf4pfBnwlrfhjUtUtNPh0rU7S2knS4tVEauVUth1HBBx1xn3qH9m7xTqPiP4by2+qyNO+l3RtopnOWaPaGAJ7kZI+mKAON+PuqwaF8bvBWrXiyPb2IiuJViALlUn3EAEjJwPWumuP2o/B0du7QaTrssgHyo1vGoJ9z5hx+RrG+Mihv2ivh4rAFTPbAgjr/pIr3trCzdSr2kDKeoMYOaAPn/AODttc/Ej4sal8S9UuLSDyR5UGnwyh5I8psUsOoAUHk/eJJr3XxL/wAinq//AF4zf+gGvA9btLbwZ+1noaeFoktU1RIxeWsAwmJNyt8o6DChseozXvniX/kU9X/68Zv/AEA0AeHfs0eJtB0XwBqUGs63p2nzPqTOsd3dxxMy+WgyAxBxwea9M8S/F3wT4f0a4uj4i069lWNjHbWdyk7yNjgYUnGT3PFeJ/Ab4UeFPHfg2+1DxJZzT3EN80KNHcPGAoRDjAPqTXrum/AP4c6ZdJcJoAuJEOVF1cSSr+Kltp/EGgDjP2XPD97aaHrviG7jaKDVpo0t1IxuEe8lvpl8D/dNe9UyGGK2gSG3jSKKNQqIigKoHYAdKfQBW1C/ttL024v76Tyra2jaWV8E7VAyTx7V5R4z+NfgHVPA2t2Fjrqy3NzYzRRJ5Eg3MyEAcr616ze2dvqNjNZ3sSzW86GOWNujqRgg15n43+E/gXTvAWu3ll4ZsYbi3sJpIpFU5RghII59aAPP/gH8T/CPg74eT6b4i1ZbO7bUJJhGYnbKFEAOQD3U1714Y8WaN4y0p9R8O3gvLVJTC0gRlw4AJGCB2YV4f+z38PvCnij4bz33iDQ7W/ul1GWISzKSQoSMgdfUn86910Dw3o/hfT2sfD+nw2Fq0hlaKEYBcgAn8gPyoA1Krahp1nq2ny2Op2sV3azDEkMyBkcZzyD15FWaKAKmmaVYaLp8dhpFnBZWkWSkEEYRFySTgDjkkmvBvi5fn4p/EnRfh54c23ENhcGfU7lTlYiOGGf9lSwP+0wHUV0/xb+Jd9aX0fgbwEr3fijUcRu0Qz9kRh1z2bHOf4Rye1dF8LPhlZfDrQChZbrV7sB768I5ZuuxT12g/n1oA7iKNYYUiT7qKFH0ArwTwFIPEX7V3i3Upvn/ALMilt4c/wABVli4/JvzNe/V89/B1DZ/tG/EG2l4d5rl1z3BudwP5MKAPoSvnDWf+T2NO+kf/pKa+j6+cNZ/5PY076R/+kpoA+j6+e/inEmi/tOeCNUslEU180EU5XjeTKYyT77WA+gFfQlfOni6+j8dftV+HdN0jM0WglDcyqMqHjYyvz6D5V+uRQB9F18jfBH4raF8ObTWoNcttQna8nR4zZwq4AUEHOWHrX1zXzz+ytBDNpfiYzRJJi6ixuUHHytQBR+Iv7Q2n+KfDNx4c8K6ddW76on2aa71IpCkaNw2MMeoyMkjFev/AAl8HJ4I+HNhpgu47yWTNzNPC2Y2d+flPdQMAHvjPervjrwroOveDNUttYsrYRC1kcTmMBoSFJDhuxGM153+y7qd5e/De9tbp2eGyvjHbljnapVWKj2yT+dAGL+1OwS58FsxCqLi5JJPAGYa9ii8f+Dlt03eLNDGFGc6lDxx/vV45+1VGs03g2NxlXnuVYex8muxi/Zz+HLRIzaXcklQT/psn+NAHA/H3xrpPj3+xfCHgy4TWb570Oz2vzoCRtVQw4OdxJxwAK+h9GsP7L0Kw08vv+yW0cG/+9tULn9KxPC3w38JeC2MnhzRYLWcjBuGLSSkem9ySB7DiuooA8C/aZ3aPe+EPE1sMXNjeMoYdTja4H/jp/M171FKs0KSxnKOoZT6g14N+1dIP+ER0GAcu9+zADqcRkf1Fe5aZA9rpNpbyffigRG+oUCgC1RRRQAUUUUAFFFFABRRRQAUUUUAcJdf8fk3/XRv51FUt1/x+Tf9dG/nUVestjxnuFFFFMQUUUUAFdD4X+7c/Vf61z1dD4X+7c/Vf61jW/hs3w/8RG/RRRXnHphRRRQAUUUUAeW/HfwDrfxA8L6bY+HY4Xmt7zzpBNKEG3Yw6/U16FpNgbfw1ZafeorGO0jgmT7ynCBWHuOtaFFAHgPw1+BGpeFPi5Prepi3OkWTTNp22Tc7FjhMr2wpJ+uK9A+M/hDVfG/w7l0fQUie7a5ikAlk2LhSc8131FAGB4F0i60DwDoek6iFW6srKKGYI24BlUA4PevP/CXw78Rt8c9X8c+LYrdImV009I5g5QH5FyO2IwfxJr1+igAry744/DjUvH+g6a/h7yhqunXO+IySbPkYfNhuxyqn8K9RooAz9BbU38P2J1+OOPU/IQXaxNlfMx8xBHYnmvMvg/8ADnX/AAX4w8U6jrkcCW+pybrcxTByR5jtyO3DCvXaKACiiigAooooAKKKKACiikZlRSzkKqjJJOABQBHdWsN7aTWt3GssEyGOSNhkMpGCD+FeFL8J/H3w21q6u/hNq9vcaZdNufTb8jj0HPBx/eBU9jXsR8XeGwcHxBpQP/X7H/jR/wAJd4b/AOhh0r/wNj/+KoA8c1fQ/jn47sH0bWH0nQ9OuPkuXhYbnTuOCxx7DGeh4r1XwB4H0/4feE4NE0xjLtYyT3DLhp5D1YjtwAAOwAq9/wAJd4b/AOhh0r/wNj/+Ko/4S7w3/wBDDpX/AIGx/wDxVAHl/wAYPh54w8S/EDQPEXg6O0aTSY1ZWuJQuJVk3rweo6VC0f7Q0ilBLoMWeN4CEr+hr1b/AIS7w3/0MOlf+Bsf/wAVR/wl3hv/AKGHSv8AwNj/APiqAPOfht8GtQ0PxXL4x8dauNX8QSbimwlkiLDBbcQMnHAAAAHSvUdatZL7QdQtIADLPbSRJk4G5lIH86qf8Jd4b/6GHSv/AANj/wDiqP8AhLvDf/Qw6V/4Gx//ABVAHE/ArwLrXgDwffad4hSFLia+M6CGUONpRR1+qmvTqx/+Eu8N/wDQw6V/4Gx//FUf8Jd4b/6GHSv/AANj/wDiqANiisf/AIS7w3/0MOlf+Bsf/wAVR/wl3hv/AKGHSv8AwNj/APiqANiqer6Zb61o15pl5v8As95C8Euw4bawwcH1wap/8Jd4b/6GHSv/AANj/wDiqP8AhLvDf/Qw6V/4Gx//ABVAFTwR4H0nwBoL6RoJuDbPO05+0SB23MFB5AHGFFdHWP8A8Jd4b/6GHSv/AANj/wDiqP8AhLvDf/Qw6V/4Gx//ABVAGxWd4gGpt4b1FdAMY1Q20gszJ90S7TtJz2zioP8AhLvDf/Qw6V/4Gx//ABVH/CXeG/8AoYdK/wDA2P8A+KoA8A8JfDb4weDNVvdU0y00SfUb45mvLyYSyHJyQCemTyfXj0rrvM/aD/54+HPzH+Neo/8ACXeG/wDoYdK/8DY//iqP+Eu8N/8AQw6V/wCBsf8A8VQAvhU66fC9kfFotxrG1vtItv8AV53HGP8AgOK8a18P8PP2pNP12dCmk+Jovs8k3YSEBSPwYRk+zV7J/wAJd4b/AOhh0r/wNj/+KrlPiNZeDviF4Tl0q78R6XDcI3m2dyL2PMMoHB+907EenvigD0OvBfHvw18fXXxsbxr4MjsP3SR+Q9zMPvCLY2VP1Ndr8N/GUw8KCz8daxpEep2MxthOuoxMLuNVG2Xg984+oJ46V1v/AAl3hv8A6GHSv/A2P/4qgDyK70D4+eIoGsL/AFzStJtpfllltiqvt74KqWH4EV3Xwz+FWlfDaymNtM9/qd2B9pvpVwz99qjnaueepJ7muj/4S7w3/wBDDpX/AIGx/wDxVH/CXeG/+hh0r/wNj/8AiqANivmrwX8O/jN8P472Lw2mjxx3kgeXzpVfJGQMZ6da99/4S7w3/wBDDpX/AIGx/wDxVH/CXeG/+hh0r/wNj/8AiqAPG9X8F/G7xzZnSPEutaVpulzEC4FtjLr6HaMn6ZAPevWfAngrTvAHhSDRNKLyIhLyzSD5ppD1Y+noB2AFW/8AhLvDf/Qw6V/4Gx//ABVH/CXeG/8AoYdK/wDA2P8A+KoA88+OXw617x7ceGn8PRwONOmmefzpQmAxjxj1+4a9ZiUrCinqFANZP/CXeG/+hh0r/wADY/8A4qj/AIS7w3/0MOlf+Bsf/wAVQBsUVj/8Jd4b/wChh0r/AMDY/wD4qsnxT47sNP8AC9/deHdS0nUNUji/0a2a/iUO5IHXd2zn3xQB5j8SwfiB+0D4Y8I2SGa20bF3qDAZVMkOQf8AgKoPq+K98ryj4U6RovhWG71XXvE2l3/inWpPNvp1vYzgk5EaYPTJ7d+nAFer0AFFFFABRRRQAUUUUAFFFFABRRRQBwl1/wAfk3/XRv51FUt1/wAfk3/XRv51FXrLY8Z7hRRRTEFFFFABXQ+F/u3P1X+tc9XQ+F/u3P1X+tY1v4bN8P8AxEb9FFFecemFFFFABRRRQAUUUUAFFFFABRRRQAUUUUAFFFFABRRRQAUUUUAFFFFABVbUrCDVdLutPuwxguoWhkCnB2sMHB7cGrNFAHjJ/Zf8DZ/4+NW/8CF/+Jo/4Ze8Df8APxq3/gQv/wATXs1FAHjP/DL3gb/n41b/AMCF/wDiaP8Ahl7wN/z8at/4EL/8TXs1FAHjP/DL3gb/AJ+NW/8AAhf/AImj/hl7wN/z8at/4EL/APE17NRQB4z/AMMveBv+fjVv/Ahf/iaP+GXvA3/Pxq3/AIEL/wDE17NRQB4z/wAMveBv+fjVv/Ahf/iaP+GXvA3/AD8at/4EL/8AE17NRQB4z/wy94G/5+NW/wDAhf8A4mj/AIZe8Df8/Grf+BC//E17NRQB4z/wy94G/wCfjVv/AAIX/wCJo/4Ze8Df8/Grf+BC/wDxNezUUAeM/wDDL3gb/n41b/wIX/4mj/hl7wN/z8at/wCBC/8AxNezV518QvjHpfgbVIdGtbC41vXJ1DJYWpwVz03HBIJ7AAmgDnv+GXvA3/Pxq3/gQv8A8TR/wy94G/5+NW/8CF/+Jqo3x+1/Q3jm8bfDnU9J0+RgBdKzHbn2ZACfxFey6Rq1lruj2uqaXOtxZ3UYkikXowP9fagDyX/hl7wN/wA/Grf+BC//ABNH/DL3gb/n41b/AMCF/wDia9mooA8Z/wCGXvA3/Pxq3/gQv/xNH/DL3gb/AJ+NW/8AAhf/AImvZqKAPGf+GXvA3/Pxq3/gQv8A8TR/wy94G/5+NW/8CF/+Jr2aigDxn/hl7wN/z8at/wCBC/8AxNH/AAy94G/5+NW/8CF/+Jr2aigDxn/hl7wN/wA/Grf+BC//ABNH/DL3gb/n41b/AMCF/wDia9mooA8Z/wCGXvA3/Pxq3/gQv/xNH/DL3gb/AJ+NW/8AAhf/AImvZqKAPGf+GXvA3/Pxq3/gQv8A8TR/wy94G/5+NW/8CF/+Jr2aigDxn/hl7wN/z8at/wCBC/8AxNH/AAy94G/5+NW/8CF/+Jr2aigDxpf2YPAquCZ9VYA9Dcrz/wCO17FFGsMKRRjCIoVRnOAKfRQAUUUUAFFFFABRRRQAUUUUAFFFFAHCXX/H5N/10b+dRVLdf8fk3/XRv51FXrLY8Z7hRRRTEFFFFABXQ+F/u3P1X+tc9XQ+F/u3P1X+tY1v4bN8P/ERv0UUV5x6YUUUUAFFFFABRRRQAUUUUAFFFFABRRRQAUUUUAFFFFABRRRQAUUUUAFFFFABRRRQAUUUUAFFFFABRRRQAUUUUAFFFFABRRRQAVwGg/Cix0b4o6n43n1CW+vL4PsiliAWAsRypznhRt+hNd/WZ4j0h9e8N3+lRXstg93C0QuYfvxE/wAQ5HP40Acx8Zr7TLP4ReIF1eSNRPZvFAjkZeYj5MDuQ2D+FY/7Otnf2fwbsRqKPGss8stsrjBERbg49CdxHsc15v45+AWs6FpcviW08Rv4kfS0NxJaanCW3onLDljkYBOOM17P8KvHFv4+8CW2qQ2qWcsRNvPbR/cjdQPu/wCyQQR6dO1AHZ0UUUAFFFFABRRRQAUUUUAFFFFABRRRQAUUUUAFFFFABRRRQAUUUUAFFFFABRRRQAUUUUAFFFFAHCXX/H5N/wBdG/nUVS3X/H5N/wBdG/nUVestjxnuFFFFMQUUUUAFdD4X+7c/Vf61z1dD4X+7c/Vf61jW/hs3w/8AERv0UUV5x6YUUUUAFFFFABRRRQAUUUUAFFFFABRRRQAUUUUAFFFFABRRRQAUUUUAFFFFABRRRQAUUUUAFFFFABRRRQAUUUUAFFFFABRRRQAV8/3njnxB8KfjRqA8cXOoXfhXVCxspixkSEEhgVH+zypXrjkZ4z9AVWv9OstVs3tNTtILy2f70NxGHQ/geKAPIfH/AMevB7+Db+x8Mag2rapqFu9tbww28g2l1K7mLKOmenUntW38BPB1/wCDvhpHFrERgvb6drp4G6xKQAqn3wMkds47V12l+B/C2i3gu9J8PabaXK/dmitkDr9DjI/Ct6gAooooAKKKKACiiigAooooAKKKKACiiigAooooAKKKKACiiigAooooAKKKKACiiigAooooAKKKKAOEuv8Aj8m/66N/Ooqluv8Aj8m/66N/Ooq9ZbHjPcKKKKYgooooAK6Hwv8Adufqv9a56uh8L/dufqv9axrfw2b4f+Ijfooorzj0wooooAKKKKACiiigAooooAKKKKACiiigAooooAKKKKACiiigAooooAKKKKACiiigAooooAKKKKACiiigAooooAKKKKACiiigAooooAKKKKACiiigAooooAKKKKACiiigAooooAKKKKACiiigAooooAKKKKACiiigAooooAKKKKACiiigAooooA4S6/4/Jv8Aro386iqW6/4/Jv8Aro386ir1lseM9wooopiCiiigAq7p+py6cJBEitvxnd7f/rqlRSaUlZjjJxd0bP8Awk1z/wA8ov1o/wCEmuf+eUX61jUVn7KHY09tU7mz/wAJNc/88ov1o/4Sa5/55RfrWNRR7KHYPbVO5s/8JNc/88ov1o/4Sa5/55RfrWNRR7KHYPbVO5s/8JNc/wDPKL9aP+Emuf8AnlF+tY1FHsodg9tU7mz/AMJNc/8APKL9aP8AhJrn/nlF+tY1FHsodg9tU7mz/wAJNc/88ov1o/4Sa5/55RfrWNRR7KHYPbVO5s/8JNc/88ov1o/4Sa5/55RfrWNRR7KHYPbVO5s/8JNc/wDPKL9aP+Emuf8AnlF+tY1FHsodg9tU7mz/AMJNc/8APKL9aP8AhJrn/nlF+tY1FHsodg9tU7mz/wAJNc/88ov1o/4Sa5/55RfrWNRR7KHYPbVO5s/8JNc/88ov1o/4Sa5/55RfrWNRR7KHYPbVO5s/8JNc/wDPKL9aP+Emuf8AnlF+tY1FHsodg9tU7mz/AMJNc/8APKL9aP8AhJrn/nlF+tY1FHsodg9tU7mz/wAJNc/88ov1o/4Sa5/55RfrWNRR7KHYPbVO5s/8JNc/88ov1o/4Sa5/55RfrWNRR7KHYPbVO5s/8JNc/wDPKL9aP+Emuf8AnlF+tY1FHsodg9tU7mz/AMJNc/8APKL9aP8AhJrn/nlF+tY1FHsodg9tU7mz/wAJNc/88ov1o/4Sa5/55RfrWNRR7KHYPbVO5s/8JNc/88ov1o/4Sa5/55RfrWNRR7KHYPbVO5s/8JNc/wDPKL9aP+Emuf8AnlF+tY1FHsodg9tU7mz/AMJNc/8APKL9aP8AhJrn/nlF+tY1FHsodg9tU7mz/wAJNc/88ov1o/4Sa5/55RfrWNRR7KHYPbVO5s/8JNc/88ov1o/4Sa5/55RfrWNRR7KHYPbVO5s/8JNc/wDPKL9aP+Emuf8AnlF+tY1FHsodg9tU7mz/AMJNc/8APKL9aP8AhJrn/nlF+tY1FHsodg9tU7mz/wAJNc/88ov1o/4Sa5/55RfrWNRR7KHYPbVO5s/8JNc/88ov1o/4Sa5/55RfrWNRR7KHYPbVO5s/8JNc/wDPKL9aP+Emuf8AnlF+tY1FHsodg9tU7mz/AMJNc/8APKL9aP8AhJrn/nlF+tY1FHsodg9tU7mz/wAJNc/88ov1o/4Sa5/55RfrWNRR7KHYPbVO5s/8JNc/88ov1o/4Sa5/55RfrWNRR7KHYPbVO5s/8JNc/wDPKL9aP+Emuf8AnlF+tY1FHsodg9tU7mz/AMJNc/8APKL9aP8AhJrn/nlF+tY1FHsodg9tU7mz/wAJNc/88ov1o/4Sa5/55RfrWNRR7KHYPbVO5s/8JNc/88ov1o/4Sa5/55RfrWNRR7KHYPbVO46RzJKzngsSTTaKK1MgooooAKKKKACiiigAooooAKKKKACiiigAooooAKKKKACiiigAooooAKKKKACiiigAooooAKKKKACiiigAooooAKKKKACiiigAooooAKKKKACiiigAooooAKKKKACiiigAooooAKKKKACiiigAooooAKKKKACiiigAooooAKKKKACiiigAooooAKKKKACiiigAooooAKKKKACiiigAooooA//Z)"
      ],
      "metadata": {
        "id": "cLC9IR6zfUIv"
      }
    },
    {
      "cell_type": "code",
      "source": [
        "# Combining systolic and diastolic blood pressure column through formula \n",
        "df['map']=round((df['sysBP']+2*df['diaBP'])/3,3) # calculating mean arterial pressure and storing in seperate column\n",
        "\n",
        "# droping systolic and diastolic blood pressure column\n",
        "df.drop(['sysBP','diaBP'],axis=1,inplace=True)"
      ],
      "metadata": {
        "id": "YmpaBohdBAXE"
      },
      "execution_count": 1093,
      "outputs": []
    },
    {
      "cell_type": "code",
      "source": [
        "# checking outliers of mean arterial pressure column through boxplot\n",
        "sns.boxplot(df['map'])"
      ],
      "metadata": {
        "colab": {
          "base_uri": "https://localhost:8080/",
          "height": 296
        },
        "id": "pQvagPltE2m3",
        "outputId": "f884f424-bdfe-4ec5-e702-6e48415ace17"
      },
      "execution_count": 1094,
      "outputs": [
        {
          "output_type": "execute_result",
          "data": {
            "text/plain": [
              "<matplotlib.axes._subplots.AxesSubplot at 0x7f2db36f5850>"
            ]
          },
          "metadata": {},
          "execution_count": 1094
        },
        {
          "output_type": "display_data",
          "data": {
            "text/plain": [
              "<Figure size 432x288 with 1 Axes>"
            ],
            "image/png": "[encoded data removed]"
          },
          "metadata": {
            "needs_background": "light"
          }
        }
      ]
    },
    {
      "cell_type": "code",
      "source": [
        "# Mean arterial pressure (map) column distribution, mean and median line in histogram plot\n",
        "plt.figure(figsize=(8,6))\n",
        "ax = sns.histplot(df['map'],kde=True)\n",
        "ax.axvline(df['map'].mean(), color='magenta', linestyle='dashed', linewidth=2)\n",
        "ax.axvline(df['map'].median(), color='green', linestyle='dashed', linewidth=2)"
      ],
      "metadata": {
        "colab": {
          "base_uri": "https://localhost:8080/",
          "height": 405
        },
        "id": "RjMecSDAId_b",
        "outputId": "d898ff99-5936-4707-dbb2-3ba19dd9ab4d"
      },
      "execution_count": 1095,
      "outputs": [
        {
          "output_type": "execute_result",
          "data": {
            "text/plain": [
              "<matplotlib.lines.Line2D at 0x7f2db2b0be50>"
            ]
          },
          "metadata": {},
          "execution_count": 1095
        },
        {
          "output_type": "display_data",
          "data": {
            "text/plain": [
              "<Figure size 576x432 with 1 Axes>"
            ],
            "image/png": "[encoded data removed]"
          },
          "metadata": {
            "needs_background": "light"
          }
        }
      ]
    },
    {
      "cell_type": "code",
      "source": [
        "# Checking outliers of Mean arterial pressure (map) column through IQR, upper fence and lower fence \n",
        "iqr = np.percentile(df['map'],75) - np.percentile(df['map'],25)\n",
        "upper_fence = np.percentile(df['map'],75) + (1.5*iqr)\n",
        "lower_fence = np.percentile(df['map'],25) - (1.5*iqr)\n",
        "print(iqr)\n",
        "print(upper_fence)\n",
        "print(lower_fence)"
      ],
      "metadata": {
        "colab": {
          "base_uri": "https://localhost:8080/"
        },
        "id": "T_5V7uXRE9uY",
        "outputId": "0370d8d5-ac3e-4086-c316-6d971cd35fe9"
      },
      "execution_count": 1096,
      "outputs": [
        {
          "output_type": "stream",
          "name": "stdout",
          "text": [
            "17.667\n",
            "133.5005\n",
            "62.832499999999996\n"
          ]
        }
      ]
    },
    {
      "cell_type": "code",
      "source": [
        "# droping index values above upper fence and below lower fence\n",
        "df.drop(df.index[df['map']>133.5005],inplace=True)\n",
        "df.drop(df.index[df['map']<62.8324],inplace=True)"
      ],
      "metadata": {
        "id": "18zOmwQAFJa2"
      },
      "execution_count": 1097,
      "outputs": []
    },
    {
      "cell_type": "code",
      "source": [
        "# checking outliers of Body mass index (BMI) column through boxplot\n",
        "sns.boxplot(df['BMI'])"
      ],
      "metadata": {
        "colab": {
          "base_uri": "https://localhost:8080/",
          "height": 296
        },
        "id": "xvpy69l4Mt5G",
        "outputId": "3c50e5ad-2cd6-44e7-fe6e-7747b35a7233"
      },
      "execution_count": 1098,
      "outputs": [
        {
          "output_type": "execute_result",
          "data": {
            "text/plain": [
              "<matplotlib.axes._subplots.AxesSubplot at 0x7f2db2a75cd0>"
            ]
          },
          "metadata": {},
          "execution_count": 1098
        },
        {
          "output_type": "display_data",
          "data": {
            "text/plain": [
              "<Figure size 432x288 with 1 Axes>"
            ],
            "image/png": "[encoded data removed]"
          },
          "metadata": {
            "needs_background": "light"
          }
        }
      ]
    },
    {
      "cell_type": "code",
      "source": [
        "# Body mass index (BMI) column distribution, mean and median line in histogram plot\n",
        "plt.figure(figsize=(8,6))\n",
        "ax = sns.histplot(df['BMI'],kde=True)\n",
        "ax.axvline(df['BMI'].mean(), color='magenta', linestyle='dashed', linewidth=2)\n",
        "ax.axvline(df['BMI'].median(), color='green', linestyle='dashed', linewidth=2)"
      ],
      "metadata": {
        "colab": {
          "base_uri": "https://localhost:8080/",
          "height": 405
        },
        "id": "V70HqYWYMx3m",
        "outputId": "85556ac7-6f04-441f-95c5-ea06f818d9da"
      },
      "execution_count": 1099,
      "outputs": [
        {
          "output_type": "execute_result",
          "data": {
            "text/plain": [
              "<matplotlib.lines.Line2D at 0x7f2db2bd2f50>"
            ]
          },
          "metadata": {},
          "execution_count": 1099
        },
        {
          "output_type": "display_data",
          "data": {
            "text/plain": [
              "<Figure size 576x432 with 1 Axes>"
            ],
            "image/png": "[encoded data removed]"
          },
          "metadata": {
            "needs_background": "light"
          }
        }
      ]
    },
    {
      "cell_type": "code",
      "source": [
        "# Replacing null values of Body mass index (BMI) column with mean\n",
        "df['BMI']=df.BMI.fillna(df['BMI'].mean())"
      ],
      "metadata": {
        "id": "14YfagInNPUv"
      },
      "execution_count": 1100,
      "outputs": []
    },
    {
      "cell_type": "code",
      "source": [
        "# Checking outliers of Body mass index (BMI) column through IQR, upper fence and lower fence \n",
        "iqr = np.percentile(df['BMI'],75) - np.percentile(df['BMI'],25)\n",
        "upper_fence = np.percentile(df['BMI'],75) + (1.5*iqr)\n",
        "lower_fence = np.percentile(df['BMI'],25) - (1.5*iqr)\n",
        "print(iqr)\n",
        "print(upper_fence)\n",
        "print(lower_fence)"
      ],
      "metadata": {
        "colab": {
          "base_uri": "https://localhost:8080/"
        },
        "id": "bI-pNg3iM6RQ",
        "outputId": "79ce845c-7b54-45ef-e7f6-bc54b6927bc7"
      },
      "execution_count": 1101,
      "outputs": [
        {
          "output_type": "stream",
          "name": "stdout",
          "text": [
            "5.02\n",
            "35.47\n",
            "15.390000000000002\n"
          ]
        }
      ]
    },
    {
      "cell_type": "code",
      "source": [
        "# droping index values of BMI column above upper fence and below lower fence\n",
        "df.drop(df.index[df['BMI']>35.47],inplace=True)\n",
        "df.drop(df.index[df['BMI']<15.39],inplace=True)"
      ],
      "metadata": {
        "id": "v1Am-5HMNfGl"
      },
      "execution_count": 1102,
      "outputs": []
    },
    {
      "cell_type": "code",
      "source": [
        "# checking outliers of Heart rate column through boxplot\n",
        "sns.boxplot(df['heartRate'])"
      ],
      "metadata": {
        "colab": {
          "base_uri": "https://localhost:8080/",
          "height": 296
        },
        "id": "Lbh-kRELN7qt",
        "outputId": "3dc525ea-1ecd-4eac-e6f3-a5d939388a10"
      },
      "execution_count": 1103,
      "outputs": [
        {
          "output_type": "execute_result",
          "data": {
            "text/plain": [
              "<matplotlib.axes._subplots.AxesSubplot at 0x7f2db2933d50>"
            ]
          },
          "metadata": {},
          "execution_count": 1103
        },
        {
          "output_type": "display_data",
          "data": {
            "text/plain": [
              "<Figure size 432x288 with 1 Axes>"
            ],
            "image/png": "[encoded data removed]"
          },
          "metadata": {
            "needs_background": "light"
          }
        }
      ]
    },
    {
      "cell_type": "code",
      "source": [
        "# Heart rate column distribution, mean and median line in histogram plot\n",
        "plt.figure(figsize=(8,6))\n",
        "ax = sns.histplot(df['heartRate'],kde=True)\n",
        "ax.axvline(df['heartRate'].mean(), color='magenta', linestyle='dashed', linewidth=2)\n",
        "ax.axvline(df['heartRate'].median(), color='green', linestyle='dashed', linewidth=2)"
      ],
      "metadata": {
        "colab": {
          "base_uri": "https://localhost:8080/",
          "height": 405
        },
        "id": "82enyIj3OCLy",
        "outputId": "6f831ce4-bf41-4ac5-e771-130cd13696c2"
      },
      "execution_count": 1104,
      "outputs": [
        {
          "output_type": "execute_result",
          "data": {
            "text/plain": [
              "<matplotlib.lines.Line2D at 0x7f2db2984bd0>"
            ]
          },
          "metadata": {},
          "execution_count": 1104
        },
        {
          "output_type": "display_data",
          "data": {
            "text/plain": [
              "<Figure size 576x432 with 1 Axes>"
            ],
            "image/png": "[encoded data removed]"
          },
          "metadata": {
            "needs_background": "light"
          }
        }
      ]
    },
    {
      "cell_type": "code",
      "source": [
        "# Replacing null values of Heart rate column with mean\n",
        "df['heartRate']=df.heartRate.fillna(df['heartRate'].mean())"
      ],
      "metadata": {
        "id": "BKsUzYWaOLLO"
      },
      "execution_count": 1105,
      "outputs": []
    },
    {
      "cell_type": "code",
      "source": [
        "# Checking outliers of Heart rate column through IQR, upper fence and lower fence \n",
        "iqr = np.percentile(df['heartRate'],75) - np.percentile(df['heartRate'],25)\n",
        "upper_fence = np.percentile(df['heartRate'],75) + (1.5*iqr)\n",
        "lower_fence = np.percentile(df['heartRate'],25) - (1.5*iqr)\n",
        "print(iqr)\n",
        "print(upper_fence)\n",
        "print(lower_fence)"
      ],
      "metadata": {
        "colab": {
          "base_uri": "https://localhost:8080/"
        },
        "id": "N56JTOn5OfaZ",
        "outputId": "e115ceda-4857-47ee-e18b-c40fbdebc67e"
      },
      "execution_count": 1106,
      "outputs": [
        {
          "output_type": "stream",
          "name": "stdout",
          "text": [
            "15.0\n",
            "105.5\n",
            "45.5\n"
          ]
        }
      ]
    },
    {
      "cell_type": "code",
      "source": [
        "# droping index values of BMI column above upper fence and below lower fence\n",
        "df.drop(df.index[df['heartRate']>105.5],inplace=True)\n",
        "df.drop(df.index[df['heartRate']<45.5],inplace=True)"
      ],
      "metadata": {
        "id": "uqRpC628OrRR"
      },
      "execution_count": 1107,
      "outputs": []
    },
    {
      "cell_type": "code",
      "source": [
        "# checking outliers of glucose column through boxplot\n",
        "sns.boxplot(df['glucose'])"
      ],
      "metadata": {
        "colab": {
          "base_uri": "https://localhost:8080/",
          "height": 296
        },
        "id": "GlGlrTzkPCxC",
        "outputId": "b818fae0-f9f1-4e23-ed55-cae8478aa9fd"
      },
      "execution_count": 1108,
      "outputs": [
        {
          "output_type": "execute_result",
          "data": {
            "text/plain": [
              "<matplotlib.axes._subplots.AxesSubplot at 0x7f2db27c45d0>"
            ]
          },
          "metadata": {},
          "execution_count": 1108
        },
        {
          "output_type": "display_data",
          "data": {
            "text/plain": [
              "<Figure size 432x288 with 1 Axes>"
            ],
            "image/png": "[encoded data removed]"
          },
          "metadata": {
            "needs_background": "light"
          }
        }
      ]
    },
    {
      "cell_type": "code",
      "source": [
        "# Glucose column distribution, mean and median line in histogram plot\n",
        "plt.figure(figsize=(8,6))\n",
        "ax = sns.histplot(df['glucose'],kde=True)\n",
        "ax.axvline(df['glucose'].mean(), color='magenta', linestyle='dashed', linewidth=2)\n",
        "ax.axvline(df['glucose'].median(), color='green', linestyle='dashed', linewidth=2)"
      ],
      "metadata": {
        "colab": {
          "base_uri": "https://localhost:8080/",
          "height": 405
        },
        "id": "9DkZyFL9PJCK",
        "outputId": "07e93191-b14a-487a-9ec2-e42083d4c78b"
      },
      "execution_count": 1109,
      "outputs": [
        {
          "output_type": "execute_result",
          "data": {
            "text/plain": [
              "<matplotlib.lines.Line2D at 0x7f2db3174f50>"
            ]
          },
          "metadata": {},
          "execution_count": 1109
        },
        {
          "output_type": "display_data",
          "data": {
            "text/plain": [
              "<Figure size 576x432 with 1 Axes>"
            ],
            "image/png": "[encoded data removed]"
          },
          "metadata": {
            "needs_background": "light"
          }
        }
      ]
    },
    {
      "cell_type": "code",
      "source": [
        "# Replacing null values of Glucose column with mean\n",
        "df['glucose']=df.glucose.fillna(df['glucose'].mean())"
      ],
      "metadata": {
        "id": "Z-JJKHQIPnRo"
      },
      "execution_count": 1110,
      "outputs": []
    },
    {
      "cell_type": "code",
      "source": [
        "# Checking outliers of glucose column through IQR, upper fence and lower fence \n",
        "iqr = np.percentile(df['glucose'],75) - np.percentile(df['glucose'],25)\n",
        "upper_fence = np.percentile(df['glucose'],75) + (1.5*iqr)\n",
        "lower_fence = np.percentile(df['glucose'],25) - (1.5*iqr)\n",
        "print(iqr)\n",
        "print(upper_fence)\n",
        "print(lower_fence)"
      ],
      "metadata": {
        "colab": {
          "base_uri": "https://localhost:8080/"
        },
        "id": "FSHOJtA8Py-2",
        "outputId": "9ff19ef5-7d28-471c-f99e-788ec6998c96"
      },
      "execution_count": 1111,
      "outputs": [
        {
          "output_type": "stream",
          "name": "stdout",
          "text": [
            "13.0\n",
            "104.5\n",
            "52.5\n"
          ]
        }
      ]
    },
    {
      "cell_type": "code",
      "source": [
        "# droping index values of Glucose column above upper fence and below lower fence\n",
        "df.drop(df.index[df['glucose']>104.5],inplace=True)\n",
        "df.drop(df.index[df['glucose']<52.5],inplace=True)"
      ],
      "metadata": {
        "id": "A2SMW1_pP_3v"
      },
      "execution_count": 1112,
      "outputs": []
    },
    {
      "cell_type": "code",
      "source": [
        "# checking dataset describe\n",
        "df.describe()"
      ],
      "metadata": {
        "colab": {
          "base_uri": "https://localhost:8080/",
          "height": 364
        },
        "id": "YEACjkX95JjK",
        "outputId": "860637ce-e7c3-444a-ae34-cfd0f48b7fc9"
      },
      "execution_count": 1113,
      "outputs": [
        {
          "output_type": "execute_result",
          "data": {
            "text/plain": [
              "               age          sex   is_smoking   cigsPerDay       BPMeds  \\\n",
              "count  2943.000000  2943.000000  2943.000000  2943.000000  2943.000000   \n",
              "mean     49.095821     1.559633     0.505267     9.143476     0.021407   \n",
              "std       8.514533     0.496516     0.500057    11.587114     0.144760   \n",
              "min      32.000000     1.000000     0.000000     0.000000     0.000000   \n",
              "25%      42.000000     1.000000     0.000000     0.000000     0.000000   \n",
              "50%      48.000000     2.000000     1.000000     1.000000     0.000000   \n",
              "75%      56.000000     2.000000     1.000000    20.000000     0.000000   \n",
              "max      70.000000     2.000000     1.000000    50.000000     1.000000   \n",
              "\n",
              "       prevalentStroke  prevalentHyp     diabetes      totChol          BMI  \\\n",
              "count      2943.000000   2943.000000  2943.000000  2943.000000  2943.000000   \n",
              "mean          0.005437      0.273530     0.005437   234.417261    25.392585   \n",
              "std           0.073545      0.445846     0.073545    40.840621     3.504720   \n",
              "min           0.000000      0.000000     0.000000   119.000000    16.480000   \n",
              "25%           0.000000      0.000000     0.000000   205.000000    22.905000   \n",
              "50%           0.000000      0.000000     0.000000   233.000000    25.160000   \n",
              "75%           0.000000      1.000000     0.000000   261.000000    27.690000   \n",
              "max           1.000000      1.000000     1.000000   351.000000    35.450000   \n",
              "\n",
              "         heartRate      glucose   TenYearCHD          map  \n",
              "count  2943.000000  2943.000000  2943.000000  2943.000000  \n",
              "mean     74.868746    78.257185     0.133877    97.547625  \n",
              "std      10.781351     9.912973     0.340578    12.448470  \n",
              "min      47.000000    53.000000     0.000000    64.500000  \n",
              "25%      67.000000    72.000000     0.000000    88.500000  \n",
              "50%      75.000000    78.000000     0.000000    96.667000  \n",
              "75%      81.000000    84.000000     0.000000   105.167000  \n",
              "max     105.000000   104.000000     1.000000   133.333000  "
            ],
            "text/html": [
              "\n",
              "  <div id=\"df-b1f1b2c4-65c8-450a-95de-ad63c2c75414\">\n",
              "    <div class=\"colab-df-container\">\n",
              "      <div>\n",
              "<style scoped>\n",
              "    .dataframe tbody tr th:only-of-type {\n",
              "        vertical-align: middle;\n",
              "    }\n",
              "\n",
              "    .dataframe tbody tr th {\n",
              "        vertical-align: top;\n",
              "    }\n",
              "\n",
              "    .dataframe thead th {\n",
              "        text-align: right;\n",
              "    }\n",
              "</style>\n",
              "<table border=\"1\" class=\"dataframe\">\n",
              "  <thead>\n",
              "    <tr style=\"text-align: right;\">\n",
              "      <th></th>\n",
              "      <th>age</th>\n",
              "      <th>sex</th>\n",
              "      <th>is_smoking</th>\n",
              "      <th>cigsPerDay</th>\n",
              "      <th>BPMeds</th>\n",
              "      <th>prevalentStroke</th>\n",
              "      <th>prevalentHyp</th>\n",
              "      <th>diabetes</th>\n",
              "      <th>totChol</th>\n",
              "      <th>BMI</th>\n",
              "      <th>heartRate</th>\n",
              "      <th>glucose</th>\n",
              "      <th>TenYearCHD</th>\n",
              "      <th>map</th>\n",
              "    </tr>\n",
              "  </thead>\n",
              "  <tbody>\n",
              "    <tr>\n",
              "      <th>count</th>\n",
              "      <td>2943.000000</td>\n",
              "      <td>2943.000000</td>\n",
              "      <td>2943.000000</td>\n",
              "      <td>2943.000000</td>\n",
              "      <td>2943.000000</td>\n",
              "      <td>2943.000000</td>\n",
              "      <td>2943.000000</td>\n",
              "      <td>2943.000000</td>\n",
              "      <td>2943.000000</td>\n",
              "      <td>2943.000000</td>\n",
              "      <td>2943.000000</td>\n",
              "      <td>2943.000000</td>\n",
              "      <td>2943.000000</td>\n",
              "      <td>2943.000000</td>\n",
              "    </tr>\n",
              "    <tr>\n",
              "      <th>mean</th>\n",
              "      <td>49.095821</td>\n",
              "      <td>1.559633</td>\n",
              "      <td>0.505267</td>\n",
              "      <td>9.143476</td>\n",
              "      <td>0.021407</td>\n",
              "      <td>0.005437</td>\n",
              "      <td>0.273530</td>\n",
              "      <td>0.005437</td>\n",
              "      <td>234.417261</td>\n",
              "      <td>25.392585</td>\n",
              "      <td>74.868746</td>\n",
              "      <td>78.257185</td>\n",
              "      <td>0.133877</td>\n",
              "      <td>97.547625</td>\n",
              "    </tr>\n",
              "    <tr>\n",
              "      <th>std</th>\n",
              "      <td>8.514533</td>\n",
              "      <td>0.496516</td>\n",
              "      <td>0.500057</td>\n",
              "      <td>11.587114</td>\n",
              "      <td>0.144760</td>\n",
              "      <td>0.073545</td>\n",
              "      <td>0.445846</td>\n",
              "      <td>0.073545</td>\n",
              "      <td>40.840621</td>\n",
              "      <td>3.504720</td>\n",
              "      <td>10.781351</td>\n",
              "      <td>9.912973</td>\n",
              "      <td>0.340578</td>\n",
              "      <td>12.448470</td>\n",
              "    </tr>\n",
              "    <tr>\n",
              "      <th>min</th>\n",
              "      <td>32.000000</td>\n",
              "      <td>1.000000</td>\n",
              "      <td>0.000000</td>\n",
              "      <td>0.000000</td>\n",
              "      <td>0.000000</td>\n",
              "      <td>0.000000</td>\n",
              "      <td>0.000000</td>\n",
              "      <td>0.000000</td>\n",
              "      <td>119.000000</td>\n",
              "      <td>16.480000</td>\n",
              "      <td>47.000000</td>\n",
              "      <td>53.000000</td>\n",
              "      <td>0.000000</td>\n",
              "      <td>64.500000</td>\n",
              "    </tr>\n",
              "    <tr>\n",
              "      <th>25%</th>\n",
              "      <td>42.000000</td>\n",
              "      <td>1.000000</td>\n",
              "      <td>0.000000</td>\n",
              "      <td>0.000000</td>\n",
              "      <td>0.000000</td>\n",
              "      <td>0.000000</td>\n",
              "      <td>0.000000</td>\n",
              "      <td>0.000000</td>\n",
              "      <td>205.000000</td>\n",
              "      <td>22.905000</td>\n",
              "      <td>67.000000</td>\n",
              "      <td>72.000000</td>\n",
              "      <td>0.000000</td>\n",
              "      <td>88.500000</td>\n",
              "    </tr>\n",
              "    <tr>\n",
              "      <th>50%</th>\n",
              "      <td>48.000000</td>\n",
              "      <td>2.000000</td>\n",
              "      <td>1.000000</td>\n",
              "      <td>1.000000</td>\n",
              "      <td>0.000000</td>\n",
              "      <td>0.000000</td>\n",
              "      <td>0.000000</td>\n",
              "      <td>0.000000</td>\n",
              "      <td>233.000000</td>\n",
              "      <td>25.160000</td>\n",
              "      <td>75.000000</td>\n",
              "      <td>78.000000</td>\n",
              "      <td>0.000000</td>\n",
              "      <td>96.667000</td>\n",
              "    </tr>\n",
              "    <tr>\n",
              "      <th>75%</th>\n",
              "      <td>56.000000</td>\n",
              "      <td>2.000000</td>\n",
              "      <td>1.000000</td>\n",
              "      <td>20.000000</td>\n",
              "      <td>0.000000</td>\n",
              "      <td>0.000000</td>\n",
              "      <td>1.000000</td>\n",
              "      <td>0.000000</td>\n",
              "      <td>261.000000</td>\n",
              "      <td>27.690000</td>\n",
              "      <td>81.000000</td>\n",
              "      <td>84.000000</td>\n",
              "      <td>0.000000</td>\n",
              "      <td>105.167000</td>\n",
              "    </tr>\n",
              "    <tr>\n",
              "      <th>max</th>\n",
              "      <td>70.000000</td>\n",
              "      <td>2.000000</td>\n",
              "      <td>1.000000</td>\n",
              "      <td>50.000000</td>\n",
              "      <td>1.000000</td>\n",
              "      <td>1.000000</td>\n",
              "      <td>1.000000</td>\n",
              "      <td>1.000000</td>\n",
              "      <td>351.000000</td>\n",
              "      <td>35.450000</td>\n",
              "      <td>105.000000</td>\n",
              "      <td>104.000000</td>\n",
              "      <td>1.000000</td>\n",
              "      <td>133.333000</td>\n",
              "    </tr>\n",
              "  </tbody>\n",
              "</table>\n",
              "</div>\n",
              "      <button class=\"colab-df-convert\" onclick=\"convertToInteractive('df-b1f1b2c4-65c8-450a-95de-ad63c2c75414')\"\n",
              "              title=\"Convert this dataframe to an interactive table.\"\n",
              "              style=\"display:none;\">\n",
              "        \n",
              "  <svg xmlns=\"http://www.w3.org/2000/svg\" height=\"24px\"viewBox=\"0 0 24 24\"\n",
              "       width=\"24px\">\n",
              "    <path d=\"M0 0h24v24H0V0z\" fill=\"none\"/>\n",
              "    <path d=\"M18.56 5.44l.94 2.06.94-2.06 2.06-.94-2.06-.94-.94-2.06-.94 2.06-2.06.94zm-11 1L8.5 8.5l.94-2.06 2.06-.94-2.06-.94L8.5 2.5l-.94 2.06-2.06.94zm10 10l.94 2.06.94-2.06 2.06-.94-2.06-.94-.94-2.06-.94 2.06-2.06.94z\"/><path d=\"M17.41 7.96l-1.37-1.37c-.4-.4-.92-.59-1.43-.59-.52 0-1.04.2-1.43.59L10.3 9.45l-7.72 7.72c-.78.78-.78 2.05 0 2.83L4 21.41c.39.39.9.59 1.41.59.51 0 1.02-.2 1.41-.59l7.78-7.78 2.81-2.81c.8-.78.8-2.07 0-2.86zM5.41 20L4 18.59l7.72-7.72 1.47 1.35L5.41 20z\"/>\n",
              "  </svg>\n",
              "      </button>\n",
              "      \n",
              "  <style>\n",
              "    .colab-df-container {\n",
              "      display:flex;\n",
              "      flex-wrap:wrap;\n",
              "      gap: 12px;\n",
              "    }\n",
              "\n",
              "    .colab-df-convert {\n",
              "      background-color: #E8F0FE;\n",
              "      border: none;\n",
              "      border-radius: 50%;\n",
              "      cursor: pointer;\n",
              "      display: none;\n",
              "      fill: #1967D2;\n",
              "      height: 32px;\n",
              "      padding: 0 0 0 0;\n",
              "      width: 32px;\n",
              "    }\n",
              "\n",
              "    .colab-df-convert:hover {\n",
              "      background-color: #E2EBFA;\n",
              "      box-shadow: 0px 1px 2px rgba(60, 64, 67, 0.3), 0px 1px 3px 1px rgba(60, 64, 67, 0.15);\n",
              "      fill: #174EA6;\n",
              "    }\n",
              "\n",
              "    [theme=dark] .colab-df-convert {\n",
              "      background-color: #3B4455;\n",
              "      fill: #D2E3FC;\n",
              "    }\n",
              "\n",
              "    [theme=dark] .colab-df-convert:hover {\n",
              "      background-color: #434B5C;\n",
              "      box-shadow: 0px 1px 3px 1px rgba(0, 0, 0, 0.15);\n",
              "      filter: drop-shadow(0px 1px 2px rgba(0, 0, 0, 0.3));\n",
              "      fill: #FFFFFF;\n",
              "    }\n",
              "  </style>\n",
              "\n",
              "      <script>\n",
              "        const buttonEl =\n",
              "          document.querySelector('#df-b1f1b2c4-65c8-450a-95de-ad63c2c75414 button.colab-df-convert');\n",
              "        buttonEl.style.display =\n",
              "          google.colab.kernel.accessAllowed ? 'block' : 'none';\n",
              "\n",
              "        async function convertToInteractive(key) {\n",
              "          const element = document.querySelector('#df-b1f1b2c4-65c8-450a-95de-ad63c2c75414');\n",
              "          const dataTable =\n",
              "            await google.colab.kernel.invokeFunction('convertToInteractive',\n",
              "                                                     [key], {});\n",
              "          if (!dataTable) return;\n",
              "\n",
              "          const docLinkHtml = 'Like what you see? Visit the ' +\n",
              "            '<a target=\"_blank\" href=https://colab.research.google.com/notebooks/data_table.ipynb>data table notebook</a>'\n",
              "            + ' to learn more about interactive tables.';\n",
              "          element.innerHTML = '';\n",
              "          dataTable['output_type'] = 'display_data';\n",
              "          await google.colab.output.renderOutput(dataTable, element);\n",
              "          const docLink = document.createElement('div');\n",
              "          docLink.innerHTML = docLinkHtml;\n",
              "          element.appendChild(docLink);\n",
              "        }\n",
              "      </script>\n",
              "    </div>\n",
              "  </div>\n",
              "  "
            ]
          },
          "metadata": {},
          "execution_count": 1113
        }
      ]
    },
    {
      "cell_type": "code",
      "source": [
        "# checking information of dataset after feature engineering\n",
        "df.info()"
      ],
      "metadata": {
        "colab": {
          "base_uri": "https://localhost:8080/"
        },
        "id": "yv0vdg_A1f_5",
        "outputId": "df9a18e2-b352-42a8-c494-bba7a96d6f13"
      },
      "execution_count": 1114,
      "outputs": [
        {
          "output_type": "stream",
          "name": "stdout",
          "text": [
            "<class 'pandas.core.frame.DataFrame'>\n",
            "Int64Index: 2943 entries, 0 to 3389\n",
            "Data columns (total 14 columns):\n",
            " #   Column           Non-Null Count  Dtype  \n",
            "---  ------           --------------  -----  \n",
            " 0   age              2943 non-null   int64  \n",
            " 1   sex              2943 non-null   int64  \n",
            " 2   is_smoking       2943 non-null   int64  \n",
            " 3   cigsPerDay       2943 non-null   float64\n",
            " 4   BPMeds           2943 non-null   int64  \n",
            " 5   prevalentStroke  2943 non-null   int64  \n",
            " 6   prevalentHyp     2943 non-null   int64  \n",
            " 7   diabetes         2943 non-null   int64  \n",
            " 8   totChol          2943 non-null   float64\n",
            " 9   BMI              2943 non-null   float64\n",
            " 10  heartRate        2943 non-null   float64\n",
            " 11  glucose          2943 non-null   float64\n",
            " 12  TenYearCHD       2943 non-null   int64  \n",
            " 13  map              2943 non-null   float64\n",
            "dtypes: float64(6), int64(8)\n",
            "memory usage: 344.9 KB\n"
          ]
        }
      ]
    },
    {
      "cell_type": "code",
      "source": [
        "df.head()"
      ],
      "metadata": {
        "colab": {
          "base_uri": "https://localhost:8080/",
          "height": 206
        },
        "id": "qwE_bqH2BxhL",
        "outputId": "7c4eb9be-5c48-4a17-e455-6cdc6e7fbf8d"
      },
      "execution_count": 1115,
      "outputs": [
        {
          "output_type": "execute_result",
          "data": {
            "text/plain": [
              "   age  sex  is_smoking  cigsPerDay  BPMeds  prevalentStroke  prevalentHyp  \\\n",
              "0   64    2           1         3.0       0                0             0   \n",
              "1   36    1           0         0.0       0                0             1   \n",
              "2   46    2           1        10.0       0                0             0   \n",
              "3   50    1           1        20.0       0                0             1   \n",
              "4   64    2           1        30.0       0                0             0   \n",
              "\n",
              "   diabetes  totChol        BMI  heartRate  glucose  TenYearCHD      map  \n",
              "0         0    221.0  25.675664       90.0     80.0           1  106.000  \n",
              "1         0    212.0  29.770000       72.0     75.0           0  121.333  \n",
              "2         0    250.0  20.350000       88.0     94.0           0   86.000  \n",
              "3         0    233.0  28.260000       68.0     94.0           1  111.333  \n",
              "4         0    241.0  26.420000       70.0     77.0           0  102.167  "
            ],
            "text/html": [
              "\n",
              "  <div id=\"df-6e4b6dd3-805d-4965-9f6d-d3290f3dd3ee\">\n",
              "    <div class=\"colab-df-container\">\n",
              "      <div>\n",
              "<style scoped>\n",
              "    .dataframe tbody tr th:only-of-type {\n",
              "        vertical-align: middle;\n",
              "    }\n",
              "\n",
              "    .dataframe tbody tr th {\n",
              "        vertical-align: top;\n",
              "    }\n",
              "\n",
              "    .dataframe thead th {\n",
              "        text-align: right;\n",
              "    }\n",
              "</style>\n",
              "<table border=\"1\" class=\"dataframe\">\n",
              "  <thead>\n",
              "    <tr style=\"text-align: right;\">\n",
              "      <th></th>\n",
              "      <th>age</th>\n",
              "      <th>sex</th>\n",
              "      <th>is_smoking</th>\n",
              "      <th>cigsPerDay</th>\n",
              "      <th>BPMeds</th>\n",
              "      <th>prevalentStroke</th>\n",
              "      <th>prevalentHyp</th>\n",
              "      <th>diabetes</th>\n",
              "      <th>totChol</th>\n",
              "      <th>BMI</th>\n",
              "      <th>heartRate</th>\n",
              "      <th>glucose</th>\n",
              "      <th>TenYearCHD</th>\n",
              "      <th>map</th>\n",
              "    </tr>\n",
              "  </thead>\n",
              "  <tbody>\n",
              "    <tr>\n",
              "      <th>0</th>\n",
              "      <td>64</td>\n",
              "      <td>2</td>\n",
              "      <td>1</td>\n",
              "      <td>3.0</td>\n",
              "      <td>0</td>\n",
              "      <td>0</td>\n",
              "      <td>0</td>\n",
              "      <td>0</td>\n",
              "      <td>221.0</td>\n",
              "      <td>25.675664</td>\n",
              "      <td>90.0</td>\n",
              "      <td>80.0</td>\n",
              "      <td>1</td>\n",
              "      <td>106.000</td>\n",
              "    </tr>\n",
              "    <tr>\n",
              "      <th>1</th>\n",
              "      <td>36</td>\n",
              "      <td>1</td>\n",
              "      <td>0</td>\n",
              "      <td>0.0</td>\n",
              "      <td>0</td>\n",
              "      <td>0</td>\n",
              "      <td>1</td>\n",
              "      <td>0</td>\n",
              "      <td>212.0</td>\n",
              "      <td>29.770000</td>\n",
              "      <td>72.0</td>\n",
              "      <td>75.0</td>\n",
              "      <td>0</td>\n",
              "      <td>121.333</td>\n",
              "    </tr>\n",
              "    <tr>\n",
              "      <th>2</th>\n",
              "      <td>46</td>\n",
              "      <td>2</td>\n",
              "      <td>1</td>\n",
              "      <td>10.0</td>\n",
              "      <td>0</td>\n",
              "      <td>0</td>\n",
              "      <td>0</td>\n",
              "      <td>0</td>\n",
              "      <td>250.0</td>\n",
              "      <td>20.350000</td>\n",
              "      <td>88.0</td>\n",
              "      <td>94.0</td>\n",
              "      <td>0</td>\n",
              "      <td>86.000</td>\n",
              "    </tr>\n",
              "    <tr>\n",
              "      <th>3</th>\n",
              "      <td>50</td>\n",
              "      <td>1</td>\n",
              "      <td>1</td>\n",
              "      <td>20.0</td>\n",
              "      <td>0</td>\n",
              "      <td>0</td>\n",
              "      <td>1</td>\n",
              "      <td>0</td>\n",
              "      <td>233.0</td>\n",
              "      <td>28.260000</td>\n",
              "      <td>68.0</td>\n",
              "      <td>94.0</td>\n",
              "      <td>1</td>\n",
              "      <td>111.333</td>\n",
              "    </tr>\n",
              "    <tr>\n",
              "      <th>4</th>\n",
              "      <td>64</td>\n",
              "      <td>2</td>\n",
              "      <td>1</td>\n",
              "      <td>30.0</td>\n",
              "      <td>0</td>\n",
              "      <td>0</td>\n",
              "      <td>0</td>\n",
              "      <td>0</td>\n",
              "      <td>241.0</td>\n",
              "      <td>26.420000</td>\n",
              "      <td>70.0</td>\n",
              "      <td>77.0</td>\n",
              "      <td>0</td>\n",
              "      <td>102.167</td>\n",
              "    </tr>\n",
              "  </tbody>\n",
              "</table>\n",
              "</div>\n",
              "      <button class=\"colab-df-convert\" onclick=\"convertToInteractive('df-6e4b6dd3-805d-4965-9f6d-d3290f3dd3ee')\"\n",
              "              title=\"Convert this dataframe to an interactive table.\"\n",
              "              style=\"display:none;\">\n",
              "        \n",
              "  <svg xmlns=\"http://www.w3.org/2000/svg\" height=\"24px\"viewBox=\"0 0 24 24\"\n",
              "       width=\"24px\">\n",
              "    <path d=\"M0 0h24v24H0V0z\" fill=\"none\"/>\n",
              "    <path d=\"M18.56 5.44l.94 2.06.94-2.06 2.06-.94-2.06-.94-.94-2.06-.94 2.06-2.06.94zm-11 1L8.5 8.5l.94-2.06 2.06-.94-2.06-.94L8.5 2.5l-.94 2.06-2.06.94zm10 10l.94 2.06.94-2.06 2.06-.94-2.06-.94-.94-2.06-.94 2.06-2.06.94z\"/><path d=\"M17.41 7.96l-1.37-1.37c-.4-.4-.92-.59-1.43-.59-.52 0-1.04.2-1.43.59L10.3 9.45l-7.72 7.72c-.78.78-.78 2.05 0 2.83L4 21.41c.39.39.9.59 1.41.59.51 0 1.02-.2 1.41-.59l7.78-7.78 2.81-2.81c.8-.78.8-2.07 0-2.86zM5.41 20L4 18.59l7.72-7.72 1.47 1.35L5.41 20z\"/>\n",
              "  </svg>\n",
              "      </button>\n",
              "      \n",
              "  <style>\n",
              "    .colab-df-container {\n",
              "      display:flex;\n",
              "      flex-wrap:wrap;\n",
              "      gap: 12px;\n",
              "    }\n",
              "\n",
              "    .colab-df-convert {\n",
              "      background-color: #E8F0FE;\n",
              "      border: none;\n",
              "      border-radius: 50%;\n",
              "      cursor: pointer;\n",
              "      display: none;\n",
              "      fill: #1967D2;\n",
              "      height: 32px;\n",
              "      padding: 0 0 0 0;\n",
              "      width: 32px;\n",
              "    }\n",
              "\n",
              "    .colab-df-convert:hover {\n",
              "      background-color: #E2EBFA;\n",
              "      box-shadow: 0px 1px 2px rgba(60, 64, 67, 0.3), 0px 1px 3px 1px rgba(60, 64, 67, 0.15);\n",
              "      fill: #174EA6;\n",
              "    }\n",
              "\n",
              "    [theme=dark] .colab-df-convert {\n",
              "      background-color: #3B4455;\n",
              "      fill: #D2E3FC;\n",
              "    }\n",
              "\n",
              "    [theme=dark] .colab-df-convert:hover {\n",
              "      background-color: #434B5C;\n",
              "      box-shadow: 0px 1px 3px 1px rgba(0, 0, 0, 0.15);\n",
              "      filter: drop-shadow(0px 1px 2px rgba(0, 0, 0, 0.3));\n",
              "      fill: #FFFFFF;\n",
              "    }\n",
              "  </style>\n",
              "\n",
              "      <script>\n",
              "        const buttonEl =\n",
              "          document.querySelector('#df-6e4b6dd3-805d-4965-9f6d-d3290f3dd3ee button.colab-df-convert');\n",
              "        buttonEl.style.display =\n",
              "          google.colab.kernel.accessAllowed ? 'block' : 'none';\n",
              "\n",
              "        async function convertToInteractive(key) {\n",
              "          const element = document.querySelector('#df-6e4b6dd3-805d-4965-9f6d-d3290f3dd3ee');\n",
              "          const dataTable =\n",
              "            await google.colab.kernel.invokeFunction('convertToInteractive',\n",
              "                                                     [key], {});\n",
              "          if (!dataTable) return;\n",
              "\n",
              "          const docLinkHtml = 'Like what you see? Visit the ' +\n",
              "            '<a target=\"_blank\" href=https://colab.research.google.com/notebooks/data_table.ipynb>data table notebook</a>'\n",
              "            + ' to learn more about interactive tables.';\n",
              "          element.innerHTML = '';\n",
              "          dataTable['output_type'] = 'display_data';\n",
              "          await google.colab.output.renderOutput(dataTable, element);\n",
              "          const docLink = document.createElement('div');\n",
              "          docLink.innerHTML = docLinkHtml;\n",
              "          element.appendChild(docLink);\n",
              "        }\n",
              "      </script>\n",
              "    </div>\n",
              "  </div>\n",
              "  "
            ]
          },
          "metadata": {},
          "execution_count": 1115
        }
      ]
    },
    {
      "cell_type": "code",
      "source": [
        "# checking duplicate index in dataset\n",
        "df[df.duplicated()].shape "
      ],
      "metadata": {
        "colab": {
          "base_uri": "https://localhost:8080/"
        },
        "id": "f03YhDKn22am",
        "outputId": "4797aa64-d2de-4523-ad26-c09e482b4f51"
      },
      "execution_count": 1116,
      "outputs": [
        {
          "output_type": "execute_result",
          "data": {
            "text/plain": [
              "(0, 14)"
            ]
          },
          "metadata": {},
          "execution_count": 1116
        }
      ]
    },
    {
      "cell_type": "code",
      "source": [
        "# Showing count plot of target variable (10-year risk of future coronary heart disease) and its value counts\n",
        "plt.figure(figsize=(6,4))\n",
        "sns.countplot(df['TenYearCHD'])\n",
        "df['TenYearCHD'].value_counts()"
      ],
      "metadata": {
        "colab": {
          "base_uri": "https://localhost:8080/",
          "height": 331
        },
        "id": "oL223gB7CriS",
        "outputId": "8d4a75f1-6317-4692-9b43-60c53f9c7a7c"
      },
      "execution_count": 1117,
      "outputs": [
        {
          "output_type": "execute_result",
          "data": {
            "text/plain": [
              "0    2549\n",
              "1     394\n",
              "Name: TenYearCHD, dtype: int64"
            ]
          },
          "metadata": {},
          "execution_count": 1117
        },
        {
          "output_type": "display_data",
          "data": {
            "text/plain": [
              "<Figure size 432x288 with 1 Axes>"
            ],
            "image/png": "[encoded data removed]"
          },
          "metadata": {
            "needs_background": "light"
          }
        }
      ]
    },
    {
      "cell_type": "code",
      "source": [
        "# looking for outliers of every fearture of dataset with the help of boxplot after treating null values and outliers\n",
        "import warnings\n",
        "warnings.simplefilter(action='ignore',category=FutureWarning)\n",
        "plt.figure(figsize = (20, 10))\n",
        "num_it = 1 \n",
        "\n",
        "for col in df.describe().columns:\n",
        "    plt.subplot(6,4,num_it)\n",
        "    sns.boxplot(df[col])\n",
        "    num_it+=1\n",
        "    \n",
        "plt.tight_layout()"
      ],
      "metadata": {
        "colab": {
          "base_uri": "https://localhost:8080/",
          "height": 448
        },
        "id": "5VlYPDTWC0GS",
        "outputId": "d7dd3fc1-6ca2-4be5-d8cd-b2a1b72d3168"
      },
      "execution_count": 1118,
      "outputs": [
        {
          "output_type": "display_data",
          "data": {
            "text/plain": [
              "<Figure size 1440x720 with 14 Axes>"
            ],
            "image/png": "[encoded data removed]"
          },
          "metadata": {
            "needs_background": "light"
          }
        }
      ]
    },
    {
      "cell_type": "code",
      "source": [],
      "metadata": {
        "id": "kghjuv6hDmE3"
      },
      "execution_count": 1118,
      "outputs": []
    }
  ]
}