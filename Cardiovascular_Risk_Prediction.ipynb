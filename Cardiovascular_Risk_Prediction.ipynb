{
  "nbformat": 4,
  "nbformat_minor": 0,
  "metadata": {
    "colab": {
      "provenance": [],
      "collapsed_sections": [],
      "mount_file_id": "1KnIUdYPTD8TzboNxl39ZHy_SxqICnBcl",
      "authorship_tag": "ABX9TyMdlSJjqwNOYKudINiMlzfq",
      "include_colab_link": true
    },
    "kernelspec": {
      "name": "python3",
      "display_name": "Python 3"
    },
    "language_info": {
      "name": "python"
    }
  },
  "cells": [
    {
      "cell_type": "markdown",
      "metadata": {
        "id": "view-in-github",
        "colab_type": "text"
      },
      "source": [
        "<a href=\"https://colab.research.google.com/github/niteshavagabond/Cardiovascular-Risk-Prediction/blob/main/Cardiovascular_Risk_Prediction.ipynb\" target=\"_parent\"><img src=\"https://colab.research.google.com/assets/colab-badge.svg\" alt=\"Open In Colab\"/></a>"
      ]
    },
    {
      "cell_type": "markdown",
      "source": [
        "# Cardiovascular Risk Prediction"
      ],
      "metadata": {
        "id": "esQWkExI3QNB"
      }
    },
    {
      "cell_type": "markdown",
      "source": [
        "The dataset is from an ongoing cardiovascular study on residents of the town of Framingham,\n",
        "Massachusetts. The classification goal is to predict whether the patient has a 10-year risk of\n",
        "future coronary heart disease (CHD). The dataset provides the patients’ information. It includes\n",
        "over 4,000 records and 15 attributes.\n"
      ],
      "metadata": {
        "id": "QYwduqg-06Aw"
      }
    },
    {
      "cell_type": "markdown",
      "source": [
        "Variables\n",
        "Each attribute is a potential risk factor. There are both demographic, behavioral, and medical risk\n",
        "factors."
      ],
      "metadata": {
        "id": "FeCpzjXy1DlM"
      }
    },
    {
      "cell_type": "markdown",
      "source": [
        "Data Description\n",
        "Demographic:\n",
        "*  Sex: male or female(\"M\" or \"F\")\n",
        "*  Age: Age of the patient;(Continuous - Although the recorded ages have been truncated to\n",
        "whole numbers, the concept of age is continuous)\n",
        "Behavioral\n",
        "*  is_smoking: whether or not the patient is a current smoker (\"YES\" or \"NO\")\n",
        "* Cigs Per Day: the number of cigarettes that the person smoked on average in one day.(can be\n",
        "considered continuous as one can have any number of cigarettes, even half a cigarette.)\n",
        "Medical( history)\n",
        "* BP Meds: whether or not the patient was on blood pressure medication (Nominal)\n",
        "* Prevalent Stroke: whether or not the patient had previously had a stroke (Nominal)\n",
        "* Prevalent Hyp: whether or not the patient was hypertensive (Nominal)\n",
        "* Diabetes: whether or not the patient had diabetes (Nominal)\n",
        "Medical(current)\n",
        "* Tot Chol: total cholesterol level (Continuous)\n",
        "* Sys BP: systolic blood pressure (Continuous)\n",
        "* Dia BP: diastolic blood pressure (Continuous)\n",
        "* BMI: Body Mass Index (Continuous)\n",
        "* Heart Rate: heart rate (Continuous - In medical research, variables such as heart rate though in\n",
        "fact discrete, yet are considered continuous because of large number of possible values.)\n",
        "* Glucose: glucose level (Continuous)\n",
        "* 10-year risk of coronary heart disease CHD(binary: “1”, means “Yes”, “0” means “No”) - Target variable"
      ],
      "metadata": {
        "id": "Q7ifPCti1Hg0"
      }
    },
    {
      "cell_type": "code",
      "source": [
        "#importing libraries\n",
        "import pandas as pd\n",
        "import numpy as np\n",
        "import seaborn as sns\n",
        "import matplotlib.pyplot as plt\n",
        "%matplotlib inline\n",
        "\n"
      ],
      "metadata": {
        "id": "uyFbRxTm14w5"
      },
      "execution_count": 117,
      "outputs": []
    },
    {
      "cell_type": "code",
      "source": [
        "# mounting google drive\n",
        "from google.colab import drive \n",
        "drive.mount('/content/drive')"
      ],
      "metadata": {
        "colab": {
          "base_uri": "https://localhost:8080/"
        },
        "id": "x_fh9iOI3esH",
        "outputId": "c3cb07ba-8e06-4ec4-ce71-c500de4bee23"
      },
      "execution_count": 118,
      "outputs": [
        {
          "output_type": "stream",
          "name": "stdout",
          "text": [
            "Drive already mounted at /content/drive; to attempt to forcibly remount, call drive.mount(\"/content/drive\", force_remount=True).\n"
          ]
        }
      ]
    },
    {
      "cell_type": "code",
      "source": [
        "# loading dataset\n",
        "df = pd.read_csv('/content/drive/MyDrive/AlmaBetter/Cardiovascular Risk Prediction - Nitesh Verma/data_cardiovascular_risk.csv')"
      ],
      "metadata": {
        "id": "OzP4v8_e1m1J"
      },
      "execution_count": 119,
      "outputs": []
    },
    {
      "cell_type": "code",
      "source": [
        "# top 5 index values\n",
        "df.head()"
      ],
      "metadata": {
        "colab": {
          "base_uri": "https://localhost:8080/",
          "height": 250
        },
        "id": "yxGQO9kE2H-y",
        "outputId": "124aac21-7d26-41c7-e0e2-9d1808f55179"
      },
      "execution_count": 120,
      "outputs": [
        {
          "output_type": "execute_result",
          "data": {
            "text/plain": [
              "   id  age  education sex is_smoking  cigsPerDay  BPMeds  prevalentStroke  \\\n",
              "0   0   64        2.0   F        YES         3.0     0.0                0   \n",
              "1   1   36        4.0   M         NO         0.0     0.0                0   \n",
              "2   2   46        1.0   F        YES        10.0     0.0                0   \n",
              "3   3   50        1.0   M        YES        20.0     0.0                0   \n",
              "4   4   64        1.0   F        YES        30.0     0.0                0   \n",
              "\n",
              "   prevalentHyp  diabetes  totChol  sysBP  diaBP    BMI  heartRate  glucose  \\\n",
              "0             0         0    221.0  148.0   85.0    NaN       90.0     80.0   \n",
              "1             1         0    212.0  168.0   98.0  29.77       72.0     75.0   \n",
              "2             0         0    250.0  116.0   71.0  20.35       88.0     94.0   \n",
              "3             1         0    233.0  158.0   88.0  28.26       68.0     94.0   \n",
              "4             0         0    241.0  136.5   85.0  26.42       70.0     77.0   \n",
              "\n",
              "   TenYearCHD  \n",
              "0           1  \n",
              "1           0  \n",
              "2           0  \n",
              "3           1  \n",
              "4           0  "
            ],
            "text/html": [
              "\n",
              "  <div id=\"df-c9ab4ffa-5644-42ff-8cca-fc0048ad2a81\">\n",
              "    <div class=\"colab-df-container\">\n",
              "      <div>\n",
              "<style scoped>\n",
              "    .dataframe tbody tr th:only-of-type {\n",
              "        vertical-align: middle;\n",
              "    }\n",
              "\n",
              "    .dataframe tbody tr th {\n",
              "        vertical-align: top;\n",
              "    }\n",
              "\n",
              "    .dataframe thead th {\n",
              "        text-align: right;\n",
              "    }\n",
              "</style>\n",
              "<table border=\"1\" class=\"dataframe\">\n",
              "  <thead>\n",
              "    <tr style=\"text-align: right;\">\n",
              "      <th></th>\n",
              "      <th>id</th>\n",
              "      <th>age</th>\n",
              "      <th>education</th>\n",
              "      <th>sex</th>\n",
              "      <th>is_smoking</th>\n",
              "      <th>cigsPerDay</th>\n",
              "      <th>BPMeds</th>\n",
              "      <th>prevalentStroke</th>\n",
              "      <th>prevalentHyp</th>\n",
              "      <th>diabetes</th>\n",
              "      <th>totChol</th>\n",
              "      <th>sysBP</th>\n",
              "      <th>diaBP</th>\n",
              "      <th>BMI</th>\n",
              "      <th>heartRate</th>\n",
              "      <th>glucose</th>\n",
              "      <th>TenYearCHD</th>\n",
              "    </tr>\n",
              "  </thead>\n",
              "  <tbody>\n",
              "    <tr>\n",
              "      <th>0</th>\n",
              "      <td>0</td>\n",
              "      <td>64</td>\n",
              "      <td>2.0</td>\n",
              "      <td>F</td>\n",
              "      <td>YES</td>\n",
              "      <td>3.0</td>\n",
              "      <td>0.0</td>\n",
              "      <td>0</td>\n",
              "      <td>0</td>\n",
              "      <td>0</td>\n",
              "      <td>221.0</td>\n",
              "      <td>148.0</td>\n",
              "      <td>85.0</td>\n",
              "      <td>NaN</td>\n",
              "      <td>90.0</td>\n",
              "      <td>80.0</td>\n",
              "      <td>1</td>\n",
              "    </tr>\n",
              "    <tr>\n",
              "      <th>1</th>\n",
              "      <td>1</td>\n",
              "      <td>36</td>\n",
              "      <td>4.0</td>\n",
              "      <td>M</td>\n",
              "      <td>NO</td>\n",
              "      <td>0.0</td>\n",
              "      <td>0.0</td>\n",
              "      <td>0</td>\n",
              "      <td>1</td>\n",
              "      <td>0</td>\n",
              "      <td>212.0</td>\n",
              "      <td>168.0</td>\n",
              "      <td>98.0</td>\n",
              "      <td>29.77</td>\n",
              "      <td>72.0</td>\n",
              "      <td>75.0</td>\n",
              "      <td>0</td>\n",
              "    </tr>\n",
              "    <tr>\n",
              "      <th>2</th>\n",
              "      <td>2</td>\n",
              "      <td>46</td>\n",
              "      <td>1.0</td>\n",
              "      <td>F</td>\n",
              "      <td>YES</td>\n",
              "      <td>10.0</td>\n",
              "      <td>0.0</td>\n",
              "      <td>0</td>\n",
              "      <td>0</td>\n",
              "      <td>0</td>\n",
              "      <td>250.0</td>\n",
              "      <td>116.0</td>\n",
              "      <td>71.0</td>\n",
              "      <td>20.35</td>\n",
              "      <td>88.0</td>\n",
              "      <td>94.0</td>\n",
              "      <td>0</td>\n",
              "    </tr>\n",
              "    <tr>\n",
              "      <th>3</th>\n",
              "      <td>3</td>\n",
              "      <td>50</td>\n",
              "      <td>1.0</td>\n",
              "      <td>M</td>\n",
              "      <td>YES</td>\n",
              "      <td>20.0</td>\n",
              "      <td>0.0</td>\n",
              "      <td>0</td>\n",
              "      <td>1</td>\n",
              "      <td>0</td>\n",
              "      <td>233.0</td>\n",
              "      <td>158.0</td>\n",
              "      <td>88.0</td>\n",
              "      <td>28.26</td>\n",
              "      <td>68.0</td>\n",
              "      <td>94.0</td>\n",
              "      <td>1</td>\n",
              "    </tr>\n",
              "    <tr>\n",
              "      <th>4</th>\n",
              "      <td>4</td>\n",
              "      <td>64</td>\n",
              "      <td>1.0</td>\n",
              "      <td>F</td>\n",
              "      <td>YES</td>\n",
              "      <td>30.0</td>\n",
              "      <td>0.0</td>\n",
              "      <td>0</td>\n",
              "      <td>0</td>\n",
              "      <td>0</td>\n",
              "      <td>241.0</td>\n",
              "      <td>136.5</td>\n",
              "      <td>85.0</td>\n",
              "      <td>26.42</td>\n",
              "      <td>70.0</td>\n",
              "      <td>77.0</td>\n",
              "      <td>0</td>\n",
              "    </tr>\n",
              "  </tbody>\n",
              "</table>\n",
              "</div>\n",
              "      <button class=\"colab-df-convert\" onclick=\"convertToInteractive('df-c9ab4ffa-5644-42ff-8cca-fc0048ad2a81')\"\n",
              "              title=\"Convert this dataframe to an interactive table.\"\n",
              "              style=\"display:none;\">\n",
              "        \n",
              "  <svg xmlns=\"http://www.w3.org/2000/svg\" height=\"24px\"viewBox=\"0 0 24 24\"\n",
              "       width=\"24px\">\n",
              "    <path d=\"M0 0h24v24H0V0z\" fill=\"none\"/>\n",
              "    <path d=\"M18.56 5.44l.94 2.06.94-2.06 2.06-.94-2.06-.94-.94-2.06-.94 2.06-2.06.94zm-11 1L8.5 8.5l.94-2.06 2.06-.94-2.06-.94L8.5 2.5l-.94 2.06-2.06.94zm10 10l.94 2.06.94-2.06 2.06-.94-2.06-.94-.94-2.06-.94 2.06-2.06.94z\"/><path d=\"M17.41 7.96l-1.37-1.37c-.4-.4-.92-.59-1.43-.59-.52 0-1.04.2-1.43.59L10.3 9.45l-7.72 7.72c-.78.78-.78 2.05 0 2.83L4 21.41c.39.39.9.59 1.41.59.51 0 1.02-.2 1.41-.59l7.78-7.78 2.81-2.81c.8-.78.8-2.07 0-2.86zM5.41 20L4 18.59l7.72-7.72 1.47 1.35L5.41 20z\"/>\n",
              "  </svg>\n",
              "      </button>\n",
              "      \n",
              "  <style>\n",
              "    .colab-df-container {\n",
              "      display:flex;\n",
              "      flex-wrap:wrap;\n",
              "      gap: 12px;\n",
              "    }\n",
              "\n",
              "    .colab-df-convert {\n",
              "      background-color: #E8F0FE;\n",
              "      border: none;\n",
              "      border-radius: 50%;\n",
              "      cursor: pointer;\n",
              "      display: none;\n",
              "      fill: #1967D2;\n",
              "      height: 32px;\n",
              "      padding: 0 0 0 0;\n",
              "      width: 32px;\n",
              "    }\n",
              "\n",
              "    .colab-df-convert:hover {\n",
              "      background-color: #E2EBFA;\n",
              "      box-shadow: 0px 1px 2px rgba(60, 64, 67, 0.3), 0px 1px 3px 1px rgba(60, 64, 67, 0.15);\n",
              "      fill: #174EA6;\n",
              "    }\n",
              "\n",
              "    [theme=dark] .colab-df-convert {\n",
              "      background-color: #3B4455;\n",
              "      fill: #D2E3FC;\n",
              "    }\n",
              "\n",
              "    [theme=dark] .colab-df-convert:hover {\n",
              "      background-color: #434B5C;\n",
              "      box-shadow: 0px 1px 3px 1px rgba(0, 0, 0, 0.15);\n",
              "      filter: drop-shadow(0px 1px 2px rgba(0, 0, 0, 0.3));\n",
              "      fill: #FFFFFF;\n",
              "    }\n",
              "  </style>\n",
              "\n",
              "      <script>\n",
              "        const buttonEl =\n",
              "          document.querySelector('#df-c9ab4ffa-5644-42ff-8cca-fc0048ad2a81 button.colab-df-convert');\n",
              "        buttonEl.style.display =\n",
              "          google.colab.kernel.accessAllowed ? 'block' : 'none';\n",
              "\n",
              "        async function convertToInteractive(key) {\n",
              "          const element = document.querySelector('#df-c9ab4ffa-5644-42ff-8cca-fc0048ad2a81');\n",
              "          const dataTable =\n",
              "            await google.colab.kernel.invokeFunction('convertToInteractive',\n",
              "                                                     [key], {});\n",
              "          if (!dataTable) return;\n",
              "\n",
              "          const docLinkHtml = 'Like what you see? Visit the ' +\n",
              "            '<a target=\"_blank\" href=https://colab.research.google.com/notebooks/data_table.ipynb>data table notebook</a>'\n",
              "            + ' to learn more about interactive tables.';\n",
              "          element.innerHTML = '';\n",
              "          dataTable['output_type'] = 'display_data';\n",
              "          await google.colab.output.renderOutput(dataTable, element);\n",
              "          const docLink = document.createElement('div');\n",
              "          docLink.innerHTML = docLinkHtml;\n",
              "          element.appendChild(docLink);\n",
              "        }\n",
              "      </script>\n",
              "    </div>\n",
              "  </div>\n",
              "  "
            ]
          },
          "metadata": {},
          "execution_count": 120
        }
      ]
    },
    {
      "cell_type": "code",
      "source": [
        "# last 5 index values\n",
        "df.tail()"
      ],
      "metadata": {
        "colab": {
          "base_uri": "https://localhost:8080/",
          "height": 270
        },
        "id": "1v2rJ_HS2P1I",
        "outputId": "fdcd76ed-715c-450f-b864-6db7453d532b"
      },
      "execution_count": 121,
      "outputs": [
        {
          "output_type": "execute_result",
          "data": {
            "text/plain": [
              "        id  age  education sex is_smoking  cigsPerDay  BPMeds  \\\n",
              "3385  3385   60        1.0   F         NO         0.0     0.0   \n",
              "3386  3386   46        1.0   F         NO         0.0     0.0   \n",
              "3387  3387   44        3.0   M        YES         3.0     0.0   \n",
              "3388  3388   60        1.0   M         NO         0.0     NaN   \n",
              "3389  3389   54        3.0   F         NO         0.0     0.0   \n",
              "\n",
              "      prevalentStroke  prevalentHyp  diabetes  totChol  sysBP  diaBP    BMI  \\\n",
              "3385                0             0         0    261.0  123.5   79.0  29.28   \n",
              "3386                0             0         0    199.0  102.0   56.0  21.96   \n",
              "3387                0             1         0    352.0  164.0  119.0  28.92   \n",
              "3388                0             1         0    191.0  167.0  105.0  23.01   \n",
              "3389                0             0         0    288.0  124.0   77.0  29.88   \n",
              "\n",
              "      heartRate  glucose  TenYearCHD  \n",
              "3385       70.0    103.0           0  \n",
              "3386       80.0     84.0           0  \n",
              "3387       73.0     72.0           1  \n",
              "3388       80.0     85.0           0  \n",
              "3389       79.0     92.0           0  "
            ],
            "text/html": [
              "\n",
              "  <div id=\"df-dd4031d6-7e2c-41ad-822e-376819cbcb96\">\n",
              "    <div class=\"colab-df-container\">\n",
              "      <div>\n",
              "<style scoped>\n",
              "    .dataframe tbody tr th:only-of-type {\n",
              "        vertical-align: middle;\n",
              "    }\n",
              "\n",
              "    .dataframe tbody tr th {\n",
              "        vertical-align: top;\n",
              "    }\n",
              "\n",
              "    .dataframe thead th {\n",
              "        text-align: right;\n",
              "    }\n",
              "</style>\n",
              "<table border=\"1\" class=\"dataframe\">\n",
              "  <thead>\n",
              "    <tr style=\"text-align: right;\">\n",
              "      <th></th>\n",
              "      <th>id</th>\n",
              "      <th>age</th>\n",
              "      <th>education</th>\n",
              "      <th>sex</th>\n",
              "      <th>is_smoking</th>\n",
              "      <th>cigsPerDay</th>\n",
              "      <th>BPMeds</th>\n",
              "      <th>prevalentStroke</th>\n",
              "      <th>prevalentHyp</th>\n",
              "      <th>diabetes</th>\n",
              "      <th>totChol</th>\n",
              "      <th>sysBP</th>\n",
              "      <th>diaBP</th>\n",
              "      <th>BMI</th>\n",
              "      <th>heartRate</th>\n",
              "      <th>glucose</th>\n",
              "      <th>TenYearCHD</th>\n",
              "    </tr>\n",
              "  </thead>\n",
              "  <tbody>\n",
              "    <tr>\n",
              "      <th>3385</th>\n",
              "      <td>3385</td>\n",
              "      <td>60</td>\n",
              "      <td>1.0</td>\n",
              "      <td>F</td>\n",
              "      <td>NO</td>\n",
              "      <td>0.0</td>\n",
              "      <td>0.0</td>\n",
              "      <td>0</td>\n",
              "      <td>0</td>\n",
              "      <td>0</td>\n",
              "      <td>261.0</td>\n",
              "      <td>123.5</td>\n",
              "      <td>79.0</td>\n",
              "      <td>29.28</td>\n",
              "      <td>70.0</td>\n",
              "      <td>103.0</td>\n",
              "      <td>0</td>\n",
              "    </tr>\n",
              "    <tr>\n",
              "      <th>3386</th>\n",
              "      <td>3386</td>\n",
              "      <td>46</td>\n",
              "      <td>1.0</td>\n",
              "      <td>F</td>\n",
              "      <td>NO</td>\n",
              "      <td>0.0</td>\n",
              "      <td>0.0</td>\n",
              "      <td>0</td>\n",
              "      <td>0</td>\n",
              "      <td>0</td>\n",
              "      <td>199.0</td>\n",
              "      <td>102.0</td>\n",
              "      <td>56.0</td>\n",
              "      <td>21.96</td>\n",
              "      <td>80.0</td>\n",
              "      <td>84.0</td>\n",
              "      <td>0</td>\n",
              "    </tr>\n",
              "    <tr>\n",
              "      <th>3387</th>\n",
              "      <td>3387</td>\n",
              "      <td>44</td>\n",
              "      <td>3.0</td>\n",
              "      <td>M</td>\n",
              "      <td>YES</td>\n",
              "      <td>3.0</td>\n",
              "      <td>0.0</td>\n",
              "      <td>0</td>\n",
              "      <td>1</td>\n",
              "      <td>0</td>\n",
              "      <td>352.0</td>\n",
              "      <td>164.0</td>\n",
              "      <td>119.0</td>\n",
              "      <td>28.92</td>\n",
              "      <td>73.0</td>\n",
              "      <td>72.0</td>\n",
              "      <td>1</td>\n",
              "    </tr>\n",
              "    <tr>\n",
              "      <th>3388</th>\n",
              "      <td>3388</td>\n",
              "      <td>60</td>\n",
              "      <td>1.0</td>\n",
              "      <td>M</td>\n",
              "      <td>NO</td>\n",
              "      <td>0.0</td>\n",
              "      <td>NaN</td>\n",
              "      <td>0</td>\n",
              "      <td>1</td>\n",
              "      <td>0</td>\n",
              "      <td>191.0</td>\n",
              "      <td>167.0</td>\n",
              "      <td>105.0</td>\n",
              "      <td>23.01</td>\n",
              "      <td>80.0</td>\n",
              "      <td>85.0</td>\n",
              "      <td>0</td>\n",
              "    </tr>\n",
              "    <tr>\n",
              "      <th>3389</th>\n",
              "      <td>3389</td>\n",
              "      <td>54</td>\n",
              "      <td>3.0</td>\n",
              "      <td>F</td>\n",
              "      <td>NO</td>\n",
              "      <td>0.0</td>\n",
              "      <td>0.0</td>\n",
              "      <td>0</td>\n",
              "      <td>0</td>\n",
              "      <td>0</td>\n",
              "      <td>288.0</td>\n",
              "      <td>124.0</td>\n",
              "      <td>77.0</td>\n",
              "      <td>29.88</td>\n",
              "      <td>79.0</td>\n",
              "      <td>92.0</td>\n",
              "      <td>0</td>\n",
              "    </tr>\n",
              "  </tbody>\n",
              "</table>\n",
              "</div>\n",
              "      <button class=\"colab-df-convert\" onclick=\"convertToInteractive('df-dd4031d6-7e2c-41ad-822e-376819cbcb96')\"\n",
              "              title=\"Convert this dataframe to an interactive table.\"\n",
              "              style=\"display:none;\">\n",
              "        \n",
              "  <svg xmlns=\"http://www.w3.org/2000/svg\" height=\"24px\"viewBox=\"0 0 24 24\"\n",
              "       width=\"24px\">\n",
              "    <path d=\"M0 0h24v24H0V0z\" fill=\"none\"/>\n",
              "    <path d=\"M18.56 5.44l.94 2.06.94-2.06 2.06-.94-2.06-.94-.94-2.06-.94 2.06-2.06.94zm-11 1L8.5 8.5l.94-2.06 2.06-.94-2.06-.94L8.5 2.5l-.94 2.06-2.06.94zm10 10l.94 2.06.94-2.06 2.06-.94-2.06-.94-.94-2.06-.94 2.06-2.06.94z\"/><path d=\"M17.41 7.96l-1.37-1.37c-.4-.4-.92-.59-1.43-.59-.52 0-1.04.2-1.43.59L10.3 9.45l-7.72 7.72c-.78.78-.78 2.05 0 2.83L4 21.41c.39.39.9.59 1.41.59.51 0 1.02-.2 1.41-.59l7.78-7.78 2.81-2.81c.8-.78.8-2.07 0-2.86zM5.41 20L4 18.59l7.72-7.72 1.47 1.35L5.41 20z\"/>\n",
              "  </svg>\n",
              "      </button>\n",
              "      \n",
              "  <style>\n",
              "    .colab-df-container {\n",
              "      display:flex;\n",
              "      flex-wrap:wrap;\n",
              "      gap: 12px;\n",
              "    }\n",
              "\n",
              "    .colab-df-convert {\n",
              "      background-color: #E8F0FE;\n",
              "      border: none;\n",
              "      border-radius: 50%;\n",
              "      cursor: pointer;\n",
              "      display: none;\n",
              "      fill: #1967D2;\n",
              "      height: 32px;\n",
              "      padding: 0 0 0 0;\n",
              "      width: 32px;\n",
              "    }\n",
              "\n",
              "    .colab-df-convert:hover {\n",
              "      background-color: #E2EBFA;\n",
              "      box-shadow: 0px 1px 2px rgba(60, 64, 67, 0.3), 0px 1px 3px 1px rgba(60, 64, 67, 0.15);\n",
              "      fill: #174EA6;\n",
              "    }\n",
              "\n",
              "    [theme=dark] .colab-df-convert {\n",
              "      background-color: #3B4455;\n",
              "      fill: #D2E3FC;\n",
              "    }\n",
              "\n",
              "    [theme=dark] .colab-df-convert:hover {\n",
              "      background-color: #434B5C;\n",
              "      box-shadow: 0px 1px 3px 1px rgba(0, 0, 0, 0.15);\n",
              "      filter: drop-shadow(0px 1px 2px rgba(0, 0, 0, 0.3));\n",
              "      fill: #FFFFFF;\n",
              "    }\n",
              "  </style>\n",
              "\n",
              "      <script>\n",
              "        const buttonEl =\n",
              "          document.querySelector('#df-dd4031d6-7e2c-41ad-822e-376819cbcb96 button.colab-df-convert');\n",
              "        buttonEl.style.display =\n",
              "          google.colab.kernel.accessAllowed ? 'block' : 'none';\n",
              "\n",
              "        async function convertToInteractive(key) {\n",
              "          const element = document.querySelector('#df-dd4031d6-7e2c-41ad-822e-376819cbcb96');\n",
              "          const dataTable =\n",
              "            await google.colab.kernel.invokeFunction('convertToInteractive',\n",
              "                                                     [key], {});\n",
              "          if (!dataTable) return;\n",
              "\n",
              "          const docLinkHtml = 'Like what you see? Visit the ' +\n",
              "            '<a target=\"_blank\" href=https://colab.research.google.com/notebooks/data_table.ipynb>data table notebook</a>'\n",
              "            + ' to learn more about interactive tables.';\n",
              "          element.innerHTML = '';\n",
              "          dataTable['output_type'] = 'display_data';\n",
              "          await google.colab.output.renderOutput(dataTable, element);\n",
              "          const docLink = document.createElement('div');\n",
              "          docLink.innerHTML = docLinkHtml;\n",
              "          element.appendChild(docLink);\n",
              "        }\n",
              "      </script>\n",
              "    </div>\n",
              "  </div>\n",
              "  "
            ]
          },
          "metadata": {},
          "execution_count": 121
        }
      ]
    },
    {
      "cell_type": "code",
      "source": [
        "df.describe()"
      ],
      "metadata": {
        "colab": {
          "base_uri": "https://localhost:8080/",
          "height": 364
        },
        "id": "2oNMO-QhwhM0",
        "outputId": "ce40fb61-12b4-4add-8c86-a0c175962c2c"
      },
      "execution_count": 122,
      "outputs": [
        {
          "output_type": "execute_result",
          "data": {
            "text/plain": [
              "                id          age    education   cigsPerDay       BPMeds  \\\n",
              "count  3390.000000  3390.000000  3303.000000  3368.000000  3346.000000   \n",
              "mean   1694.500000    49.542183     1.970936     9.069477     0.029886   \n",
              "std     978.753033     8.592878     1.019081    11.879078     0.170299   \n",
              "min       0.000000    32.000000     1.000000     0.000000     0.000000   \n",
              "25%     847.250000    42.000000     1.000000     0.000000     0.000000   \n",
              "50%    1694.500000    49.000000     2.000000     0.000000     0.000000   \n",
              "75%    2541.750000    56.000000     3.000000    20.000000     0.000000   \n",
              "max    3389.000000    70.000000     4.000000    70.000000     1.000000   \n",
              "\n",
              "       prevalentStroke  prevalentHyp     diabetes      totChol       sysBP  \\\n",
              "count      3390.000000   3390.000000  3390.000000  3352.000000  3390.00000   \n",
              "mean          0.006490      0.315339     0.025664   237.074284   132.60118   \n",
              "std           0.080309      0.464719     0.158153    45.247430    22.29203   \n",
              "min           0.000000      0.000000     0.000000   107.000000    83.50000   \n",
              "25%           0.000000      0.000000     0.000000   206.000000   117.00000   \n",
              "50%           0.000000      0.000000     0.000000   234.000000   128.50000   \n",
              "75%           0.000000      1.000000     0.000000   264.000000   144.00000   \n",
              "max           1.000000      1.000000     1.000000   696.000000   295.00000   \n",
              "\n",
              "             diaBP          BMI    heartRate      glucose   TenYearCHD  \n",
              "count  3390.000000  3376.000000  3389.000000  3086.000000  3390.000000  \n",
              "mean     82.883038    25.794964    75.977279    82.086520     0.150737  \n",
              "std      12.023581     4.115449    11.971868    24.244753     0.357846  \n",
              "min      48.000000    15.960000    45.000000    40.000000     0.000000  \n",
              "25%      74.500000    23.020000    68.000000    71.000000     0.000000  \n",
              "50%      82.000000    25.380000    75.000000    78.000000     0.000000  \n",
              "75%      90.000000    28.040000    83.000000    87.000000     0.000000  \n",
              "max     142.500000    56.800000   143.000000   394.000000     1.000000  "
            ],
            "text/html": [
              "\n",
              "  <div id=\"df-d587610f-b6de-4ae6-b0c2-0b309be5a5b5\">\n",
              "    <div class=\"colab-df-container\">\n",
              "      <div>\n",
              "<style scoped>\n",
              "    .dataframe tbody tr th:only-of-type {\n",
              "        vertical-align: middle;\n",
              "    }\n",
              "\n",
              "    .dataframe tbody tr th {\n",
              "        vertical-align: top;\n",
              "    }\n",
              "\n",
              "    .dataframe thead th {\n",
              "        text-align: right;\n",
              "    }\n",
              "</style>\n",
              "<table border=\"1\" class=\"dataframe\">\n",
              "  <thead>\n",
              "    <tr style=\"text-align: right;\">\n",
              "      <th></th>\n",
              "      <th>id</th>\n",
              "      <th>age</th>\n",
              "      <th>education</th>\n",
              "      <th>cigsPerDay</th>\n",
              "      <th>BPMeds</th>\n",
              "      <th>prevalentStroke</th>\n",
              "      <th>prevalentHyp</th>\n",
              "      <th>diabetes</th>\n",
              "      <th>totChol</th>\n",
              "      <th>sysBP</th>\n",
              "      <th>diaBP</th>\n",
              "      <th>BMI</th>\n",
              "      <th>heartRate</th>\n",
              "      <th>glucose</th>\n",
              "      <th>TenYearCHD</th>\n",
              "    </tr>\n",
              "  </thead>\n",
              "  <tbody>\n",
              "    <tr>\n",
              "      <th>count</th>\n",
              "      <td>3390.000000</td>\n",
              "      <td>3390.000000</td>\n",
              "      <td>3303.000000</td>\n",
              "      <td>3368.000000</td>\n",
              "      <td>3346.000000</td>\n",
              "      <td>3390.000000</td>\n",
              "      <td>3390.000000</td>\n",
              "      <td>3390.000000</td>\n",
              "      <td>3352.000000</td>\n",
              "      <td>3390.00000</td>\n",
              "      <td>3390.000000</td>\n",
              "      <td>3376.000000</td>\n",
              "      <td>3389.000000</td>\n",
              "      <td>3086.000000</td>\n",
              "      <td>3390.000000</td>\n",
              "    </tr>\n",
              "    <tr>\n",
              "      <th>mean</th>\n",
              "      <td>1694.500000</td>\n",
              "      <td>49.542183</td>\n",
              "      <td>1.970936</td>\n",
              "      <td>9.069477</td>\n",
              "      <td>0.029886</td>\n",
              "      <td>0.006490</td>\n",
              "      <td>0.315339</td>\n",
              "      <td>0.025664</td>\n",
              "      <td>237.074284</td>\n",
              "      <td>132.60118</td>\n",
              "      <td>82.883038</td>\n",
              "      <td>25.794964</td>\n",
              "      <td>75.977279</td>\n",
              "      <td>82.086520</td>\n",
              "      <td>0.150737</td>\n",
              "    </tr>\n",
              "    <tr>\n",
              "      <th>std</th>\n",
              "      <td>978.753033</td>\n",
              "      <td>8.592878</td>\n",
              "      <td>1.019081</td>\n",
              "      <td>11.879078</td>\n",
              "      <td>0.170299</td>\n",
              "      <td>0.080309</td>\n",
              "      <td>0.464719</td>\n",
              "      <td>0.158153</td>\n",
              "      <td>45.247430</td>\n",
              "      <td>22.29203</td>\n",
              "      <td>12.023581</td>\n",
              "      <td>4.115449</td>\n",
              "      <td>11.971868</td>\n",
              "      <td>24.244753</td>\n",
              "      <td>0.357846</td>\n",
              "    </tr>\n",
              "    <tr>\n",
              "      <th>min</th>\n",
              "      <td>0.000000</td>\n",
              "      <td>32.000000</td>\n",
              "      <td>1.000000</td>\n",
              "      <td>0.000000</td>\n",
              "      <td>0.000000</td>\n",
              "      <td>0.000000</td>\n",
              "      <td>0.000000</td>\n",
              "      <td>0.000000</td>\n",
              "      <td>107.000000</td>\n",
              "      <td>83.50000</td>\n",
              "      <td>48.000000</td>\n",
              "      <td>15.960000</td>\n",
              "      <td>45.000000</td>\n",
              "      <td>40.000000</td>\n",
              "      <td>0.000000</td>\n",
              "    </tr>\n",
              "    <tr>\n",
              "      <th>25%</th>\n",
              "      <td>847.250000</td>\n",
              "      <td>42.000000</td>\n",
              "      <td>1.000000</td>\n",
              "      <td>0.000000</td>\n",
              "      <td>0.000000</td>\n",
              "      <td>0.000000</td>\n",
              "      <td>0.000000</td>\n",
              "      <td>0.000000</td>\n",
              "      <td>206.000000</td>\n",
              "      <td>117.00000</td>\n",
              "      <td>74.500000</td>\n",
              "      <td>23.020000</td>\n",
              "      <td>68.000000</td>\n",
              "      <td>71.000000</td>\n",
              "      <td>0.000000</td>\n",
              "    </tr>\n",
              "    <tr>\n",
              "      <th>50%</th>\n",
              "      <td>1694.500000</td>\n",
              "      <td>49.000000</td>\n",
              "      <td>2.000000</td>\n",
              "      <td>0.000000</td>\n",
              "      <td>0.000000</td>\n",
              "      <td>0.000000</td>\n",
              "      <td>0.000000</td>\n",
              "      <td>0.000000</td>\n",
              "      <td>234.000000</td>\n",
              "      <td>128.50000</td>\n",
              "      <td>82.000000</td>\n",
              "      <td>25.380000</td>\n",
              "      <td>75.000000</td>\n",
              "      <td>78.000000</td>\n",
              "      <td>0.000000</td>\n",
              "    </tr>\n",
              "    <tr>\n",
              "      <th>75%</th>\n",
              "      <td>2541.750000</td>\n",
              "      <td>56.000000</td>\n",
              "      <td>3.000000</td>\n",
              "      <td>20.000000</td>\n",
              "      <td>0.000000</td>\n",
              "      <td>0.000000</td>\n",
              "      <td>1.000000</td>\n",
              "      <td>0.000000</td>\n",
              "      <td>264.000000</td>\n",
              "      <td>144.00000</td>\n",
              "      <td>90.000000</td>\n",
              "      <td>28.040000</td>\n",
              "      <td>83.000000</td>\n",
              "      <td>87.000000</td>\n",
              "      <td>0.000000</td>\n",
              "    </tr>\n",
              "    <tr>\n",
              "      <th>max</th>\n",
              "      <td>3389.000000</td>\n",
              "      <td>70.000000</td>\n",
              "      <td>4.000000</td>\n",
              "      <td>70.000000</td>\n",
              "      <td>1.000000</td>\n",
              "      <td>1.000000</td>\n",
              "      <td>1.000000</td>\n",
              "      <td>1.000000</td>\n",
              "      <td>696.000000</td>\n",
              "      <td>295.00000</td>\n",
              "      <td>142.500000</td>\n",
              "      <td>56.800000</td>\n",
              "      <td>143.000000</td>\n",
              "      <td>394.000000</td>\n",
              "      <td>1.000000</td>\n",
              "    </tr>\n",
              "  </tbody>\n",
              "</table>\n",
              "</div>\n",
              "      <button class=\"colab-df-convert\" onclick=\"convertToInteractive('df-d587610f-b6de-4ae6-b0c2-0b309be5a5b5')\"\n",
              "              title=\"Convert this dataframe to an interactive table.\"\n",
              "              style=\"display:none;\">\n",
              "        \n",
              "  <svg xmlns=\"http://www.w3.org/2000/svg\" height=\"24px\"viewBox=\"0 0 24 24\"\n",
              "       width=\"24px\">\n",
              "    <path d=\"M0 0h24v24H0V0z\" fill=\"none\"/>\n",
              "    <path d=\"M18.56 5.44l.94 2.06.94-2.06 2.06-.94-2.06-.94-.94-2.06-.94 2.06-2.06.94zm-11 1L8.5 8.5l.94-2.06 2.06-.94-2.06-.94L8.5 2.5l-.94 2.06-2.06.94zm10 10l.94 2.06.94-2.06 2.06-.94-2.06-.94-.94-2.06-.94 2.06-2.06.94z\"/><path d=\"M17.41 7.96l-1.37-1.37c-.4-.4-.92-.59-1.43-.59-.52 0-1.04.2-1.43.59L10.3 9.45l-7.72 7.72c-.78.78-.78 2.05 0 2.83L4 21.41c.39.39.9.59 1.41.59.51 0 1.02-.2 1.41-.59l7.78-7.78 2.81-2.81c.8-.78.8-2.07 0-2.86zM5.41 20L4 18.59l7.72-7.72 1.47 1.35L5.41 20z\"/>\n",
              "  </svg>\n",
              "      </button>\n",
              "      \n",
              "  <style>\n",
              "    .colab-df-container {\n",
              "      display:flex;\n",
              "      flex-wrap:wrap;\n",
              "      gap: 12px;\n",
              "    }\n",
              "\n",
              "    .colab-df-convert {\n",
              "      background-color: #E8F0FE;\n",
              "      border: none;\n",
              "      border-radius: 50%;\n",
              "      cursor: pointer;\n",
              "      display: none;\n",
              "      fill: #1967D2;\n",
              "      height: 32px;\n",
              "      padding: 0 0 0 0;\n",
              "      width: 32px;\n",
              "    }\n",
              "\n",
              "    .colab-df-convert:hover {\n",
              "      background-color: #E2EBFA;\n",
              "      box-shadow: 0px 1px 2px rgba(60, 64, 67, 0.3), 0px 1px 3px 1px rgba(60, 64, 67, 0.15);\n",
              "      fill: #174EA6;\n",
              "    }\n",
              "\n",
              "    [theme=dark] .colab-df-convert {\n",
              "      background-color: #3B4455;\n",
              "      fill: #D2E3FC;\n",
              "    }\n",
              "\n",
              "    [theme=dark] .colab-df-convert:hover {\n",
              "      background-color: #434B5C;\n",
              "      box-shadow: 0px 1px 3px 1px rgba(0, 0, 0, 0.15);\n",
              "      filter: drop-shadow(0px 1px 2px rgba(0, 0, 0, 0.3));\n",
              "      fill: #FFFFFF;\n",
              "    }\n",
              "  </style>\n",
              "\n",
              "      <script>\n",
              "        const buttonEl =\n",
              "          document.querySelector('#df-d587610f-b6de-4ae6-b0c2-0b309be5a5b5 button.colab-df-convert');\n",
              "        buttonEl.style.display =\n",
              "          google.colab.kernel.accessAllowed ? 'block' : 'none';\n",
              "\n",
              "        async function convertToInteractive(key) {\n",
              "          const element = document.querySelector('#df-d587610f-b6de-4ae6-b0c2-0b309be5a5b5');\n",
              "          const dataTable =\n",
              "            await google.colab.kernel.invokeFunction('convertToInteractive',\n",
              "                                                     [key], {});\n",
              "          if (!dataTable) return;\n",
              "\n",
              "          const docLinkHtml = 'Like what you see? Visit the ' +\n",
              "            '<a target=\"_blank\" href=https://colab.research.google.com/notebooks/data_table.ipynb>data table notebook</a>'\n",
              "            + ' to learn more about interactive tables.';\n",
              "          element.innerHTML = '';\n",
              "          dataTable['output_type'] = 'display_data';\n",
              "          await google.colab.output.renderOutput(dataTable, element);\n",
              "          const docLink = document.createElement('div');\n",
              "          docLink.innerHTML = docLinkHtml;\n",
              "          element.appendChild(docLink);\n",
              "        }\n",
              "      </script>\n",
              "    </div>\n",
              "  </div>\n",
              "  "
            ]
          },
          "metadata": {},
          "execution_count": 122
        }
      ]
    },
    {
      "cell_type": "code",
      "source": [
        "# shape of dataset\n",
        "df.shape"
      ],
      "metadata": {
        "colab": {
          "base_uri": "https://localhost:8080/"
        },
        "id": "fUFNb18z2maP",
        "outputId": "c141efae-3e28-4879-aed8-ed0fa6c99854"
      },
      "execution_count": 123,
      "outputs": [
        {
          "output_type": "execute_result",
          "data": {
            "text/plain": [
              "(3390, 17)"
            ]
          },
          "metadata": {},
          "execution_count": 123
        }
      ]
    },
    {
      "cell_type": "code",
      "source": [
        "# information regarding dataset\n",
        "df.info()"
      ],
      "metadata": {
        "colab": {
          "base_uri": "https://localhost:8080/"
        },
        "id": "haRJMtVQ2R1Q",
        "outputId": "03ebb0a4-7a39-4f5b-cde0-b249f69de702"
      },
      "execution_count": 124,
      "outputs": [
        {
          "output_type": "stream",
          "name": "stdout",
          "text": [
            "<class 'pandas.core.frame.DataFrame'>\n",
            "RangeIndex: 3390 entries, 0 to 3389\n",
            "Data columns (total 17 columns):\n",
            " #   Column           Non-Null Count  Dtype  \n",
            "---  ------           --------------  -----  \n",
            " 0   id               3390 non-null   int64  \n",
            " 1   age              3390 non-null   int64  \n",
            " 2   education        3303 non-null   float64\n",
            " 3   sex              3390 non-null   object \n",
            " 4   is_smoking       3390 non-null   object \n",
            " 5   cigsPerDay       3368 non-null   float64\n",
            " 6   BPMeds           3346 non-null   float64\n",
            " 7   prevalentStroke  3390 non-null   int64  \n",
            " 8   prevalentHyp     3390 non-null   int64  \n",
            " 9   diabetes         3390 non-null   int64  \n",
            " 10  totChol          3352 non-null   float64\n",
            " 11  sysBP            3390 non-null   float64\n",
            " 12  diaBP            3390 non-null   float64\n",
            " 13  BMI              3376 non-null   float64\n",
            " 14  heartRate        3389 non-null   float64\n",
            " 15  glucose          3086 non-null   float64\n",
            " 16  TenYearCHD       3390 non-null   int64  \n",
            "dtypes: float64(9), int64(6), object(2)\n",
            "memory usage: 450.4+ KB\n"
          ]
        }
      ]
    },
    {
      "cell_type": "code",
      "source": [
        "# looking for outliers of every fearture of dataset with the help of boxplot\n",
        "import warnings\n",
        "warnings.simplefilter(action='ignore',category=FutureWarning)\n",
        "plt.figure(figsize = (20, 10))\n",
        "num_it = 1 \n",
        "\n",
        "for col in df.describe().columns:\n",
        "    plt.subplot(6,4,num_it)\n",
        "    sns.boxplot(df[col])\n",
        "    num_it+=1\n",
        "    \n",
        "plt.tight_layout()"
      ],
      "metadata": {
        "colab": {
          "base_uri": "https://localhost:8080/",
          "height": 449
        },
        "id": "b7aK0KwNdKJx",
        "outputId": "c2aa84bb-7671-4ea9-af49-ee0b4c1f8fd1"
      },
      "execution_count": 125,
      "outputs": [
        {
          "output_type": "display_data",
          "data": {
            "text/plain": [
              "<Figure size 1440x720 with 15 Axes>"
            ],
            "image/png": "[encoded data removed]"
          },
          "metadata": {
            "needs_background": "light"
          }
        }
      ]
    },
    {
      "cell_type": "markdown",
      "source": [
        "# Feature engineering"
      ],
      "metadata": {
        "id": "KSPuhSiHT74L"
      }
    },
    {
      "cell_type": "markdown",
      "source": [
        "## 1. Droping irrelevant features"
      ],
      "metadata": {
        "id": "mPv0C7J6jM9u"
      }
    },
    {
      "cell_type": "code",
      "source": [
        "# droping irrelevant columns from dataset\n",
        "df.drop(['id','education'], axis=1, inplace=True) # id and education status of patients are not going to help to predict cardiovascular risk "
      ],
      "metadata": {
        "id": "H8P6190D7uit"
      },
      "execution_count": 126,
      "outputs": []
    },
    {
      "cell_type": "markdown",
      "source": [
        "* As id and education has not direct relation with Heart disease, we dropped these 2 columns"
      ],
      "metadata": {
        "id": "hj4dm9FhiaIZ"
      }
    },
    {
      "cell_type": "markdown",
      "source": [
        "## 2. Handling null values"
      ],
      "metadata": {
        "id": "XkqsgTVbf_DD"
      }
    },
    {
      "cell_type": "code",
      "source": [
        "# looking column names, datatype of features, null values, unique values and their number of unique values\n",
        "df_columns_table=[[name,df[name].dtypes,df[name].isnull().sum(),round(df[name].isnull().sum()/len(df)*100, 2),\n",
        "                   df[name].nunique(),df[name].unique()] for name in df.columns]\n",
        "df_columns = pd.DataFrame(df_columns_table, columns = ['Column', 'Dtype', 'Null', 'Null (%)', 'nUnique', 'Unique'])\n",
        "df_columns"
      ],
      "metadata": {
        "colab": {
          "base_uri": "https://localhost:8080/",
          "height": 520
        },
        "id": "guOhymFB2hzp",
        "outputId": "d8813ad7-7f74-483b-e971-d989370ced9c"
      },
      "execution_count": 127,
      "outputs": [
        {
          "output_type": "execute_result",
          "data": {
            "text/plain": [
              "             Column    Dtype  Null  Null (%)  nUnique  \\\n",
              "0               age    int64     0      0.00       39   \n",
              "1               sex   object     0      0.00        2   \n",
              "2        is_smoking   object     0      0.00        2   \n",
              "3        cigsPerDay  float64    22      0.65       32   \n",
              "4            BPMeds  float64    44      1.30        2   \n",
              "5   prevalentStroke    int64     0      0.00        2   \n",
              "6      prevalentHyp    int64     0      0.00        2   \n",
              "7          diabetes    int64     0      0.00        2   \n",
              "8           totChol  float64    38      1.12      240   \n",
              "9             sysBP  float64     0      0.00      226   \n",
              "10            diaBP  float64     0      0.00      142   \n",
              "11              BMI  float64    14      0.41     1259   \n",
              "12        heartRate  float64     1      0.03       68   \n",
              "13          glucose  float64   304      8.97      132   \n",
              "14       TenYearCHD    int64     0      0.00        2   \n",
              "\n",
              "                                               Unique  \n",
              "0   [64, 36, 46, 50, 61, 41, 55, 53, 43, 44, 58, 5...  \n",
              "1                                              [F, M]  \n",
              "2                                           [YES, NO]  \n",
              "3   [3.0, 0.0, 10.0, 20.0, 30.0, 35.0, 40.0, 15.0,...  \n",
              "4                                     [0.0, nan, 1.0]  \n",
              "5                                              [0, 1]  \n",
              "6                                              [0, 1]  \n",
              "7                                              [0, 1]  \n",
              "8   [221.0, 212.0, 250.0, 233.0, 241.0, 272.0, 238...  \n",
              "9   [148.0, 168.0, 116.0, 158.0, 136.5, 182.0, 232...  \n",
              "10  [85.0, 98.0, 71.0, 88.0, 121.0, 136.0, 68.0, 7...  \n",
              "11  [nan, 29.77, 20.35, 28.26, 26.42, 32.8, 24.83,...  \n",
              "12  [90.0, 72.0, 88.0, 68.0, 70.0, 85.0, 75.0, 60....  \n",
              "13  [80.0, 75.0, 94.0, 77.0, 65.0, 79.0, 63.0, nan...  \n",
              "14                                             [1, 0]  "
            ],
            "text/html": [
              "\n",
              "  <div id=\"df-710eabca-6f6a-423e-a9f6-19ac9dd411a5\">\n",
              "    <div class=\"colab-df-container\">\n",
              "      <div>\n",
              "<style scoped>\n",
              "    .dataframe tbody tr th:only-of-type {\n",
              "        vertical-align: middle;\n",
              "    }\n",
              "\n",
              "    .dataframe tbody tr th {\n",
              "        vertical-align: top;\n",
              "    }\n",
              "\n",
              "    .dataframe thead th {\n",
              "        text-align: right;\n",
              "    }\n",
              "</style>\n",
              "<table border=\"1\" class=\"dataframe\">\n",
              "  <thead>\n",
              "    <tr style=\"text-align: right;\">\n",
              "      <th></th>\n",
              "      <th>Column</th>\n",
              "      <th>Dtype</th>\n",
              "      <th>Null</th>\n",
              "      <th>Null (%)</th>\n",
              "      <th>nUnique</th>\n",
              "      <th>Unique</th>\n",
              "    </tr>\n",
              "  </thead>\n",
              "  <tbody>\n",
              "    <tr>\n",
              "      <th>0</th>\n",
              "      <td>age</td>\n",
              "      <td>int64</td>\n",
              "      <td>0</td>\n",
              "      <td>0.00</td>\n",
              "      <td>39</td>\n",
              "      <td>[64, 36, 46, 50, 61, 41, 55, 53, 43, 44, 58, 5...</td>\n",
              "    </tr>\n",
              "    <tr>\n",
              "      <th>1</th>\n",
              "      <td>sex</td>\n",
              "      <td>object</td>\n",
              "      <td>0</td>\n",
              "      <td>0.00</td>\n",
              "      <td>2</td>\n",
              "      <td>[F, M]</td>\n",
              "    </tr>\n",
              "    <tr>\n",
              "      <th>2</th>\n",
              "      <td>is_smoking</td>\n",
              "      <td>object</td>\n",
              "      <td>0</td>\n",
              "      <td>0.00</td>\n",
              "      <td>2</td>\n",
              "      <td>[YES, NO]</td>\n",
              "    </tr>\n",
              "    <tr>\n",
              "      <th>3</th>\n",
              "      <td>cigsPerDay</td>\n",
              "      <td>float64</td>\n",
              "      <td>22</td>\n",
              "      <td>0.65</td>\n",
              "      <td>32</td>\n",
              "      <td>[3.0, 0.0, 10.0, 20.0, 30.0, 35.0, 40.0, 15.0,...</td>\n",
              "    </tr>\n",
              "    <tr>\n",
              "      <th>4</th>\n",
              "      <td>BPMeds</td>\n",
              "      <td>float64</td>\n",
              "      <td>44</td>\n",
              "      <td>1.30</td>\n",
              "      <td>2</td>\n",
              "      <td>[0.0, nan, 1.0]</td>\n",
              "    </tr>\n",
              "    <tr>\n",
              "      <th>5</th>\n",
              "      <td>prevalentStroke</td>\n",
              "      <td>int64</td>\n",
              "      <td>0</td>\n",
              "      <td>0.00</td>\n",
              "      <td>2</td>\n",
              "      <td>[0, 1]</td>\n",
              "    </tr>\n",
              "    <tr>\n",
              "      <th>6</th>\n",
              "      <td>prevalentHyp</td>\n",
              "      <td>int64</td>\n",
              "      <td>0</td>\n",
              "      <td>0.00</td>\n",
              "      <td>2</td>\n",
              "      <td>[0, 1]</td>\n",
              "    </tr>\n",
              "    <tr>\n",
              "      <th>7</th>\n",
              "      <td>diabetes</td>\n",
              "      <td>int64</td>\n",
              "      <td>0</td>\n",
              "      <td>0.00</td>\n",
              "      <td>2</td>\n",
              "      <td>[0, 1]</td>\n",
              "    </tr>\n",
              "    <tr>\n",
              "      <th>8</th>\n",
              "      <td>totChol</td>\n",
              "      <td>float64</td>\n",
              "      <td>38</td>\n",
              "      <td>1.12</td>\n",
              "      <td>240</td>\n",
              "      <td>[221.0, 212.0, 250.0, 233.0, 241.0, 272.0, 238...</td>\n",
              "    </tr>\n",
              "    <tr>\n",
              "      <th>9</th>\n",
              "      <td>sysBP</td>\n",
              "      <td>float64</td>\n",
              "      <td>0</td>\n",
              "      <td>0.00</td>\n",
              "      <td>226</td>\n",
              "      <td>[148.0, 168.0, 116.0, 158.0, 136.5, 182.0, 232...</td>\n",
              "    </tr>\n",
              "    <tr>\n",
              "      <th>10</th>\n",
              "      <td>diaBP</td>\n",
              "      <td>float64</td>\n",
              "      <td>0</td>\n",
              "      <td>0.00</td>\n",
              "      <td>142</td>\n",
              "      <td>[85.0, 98.0, 71.0, 88.0, 121.0, 136.0, 68.0, 7...</td>\n",
              "    </tr>\n",
              "    <tr>\n",
              "      <th>11</th>\n",
              "      <td>BMI</td>\n",
              "      <td>float64</td>\n",
              "      <td>14</td>\n",
              "      <td>0.41</td>\n",
              "      <td>1259</td>\n",
              "      <td>[nan, 29.77, 20.35, 28.26, 26.42, 32.8, 24.83,...</td>\n",
              "    </tr>\n",
              "    <tr>\n",
              "      <th>12</th>\n",
              "      <td>heartRate</td>\n",
              "      <td>float64</td>\n",
              "      <td>1</td>\n",
              "      <td>0.03</td>\n",
              "      <td>68</td>\n",
              "      <td>[90.0, 72.0, 88.0, 68.0, 70.0, 85.0, 75.0, 60....</td>\n",
              "    </tr>\n",
              "    <tr>\n",
              "      <th>13</th>\n",
              "      <td>glucose</td>\n",
              "      <td>float64</td>\n",
              "      <td>304</td>\n",
              "      <td>8.97</td>\n",
              "      <td>132</td>\n",
              "      <td>[80.0, 75.0, 94.0, 77.0, 65.0, 79.0, 63.0, nan...</td>\n",
              "    </tr>\n",
              "    <tr>\n",
              "      <th>14</th>\n",
              "      <td>TenYearCHD</td>\n",
              "      <td>int64</td>\n",
              "      <td>0</td>\n",
              "      <td>0.00</td>\n",
              "      <td>2</td>\n",
              "      <td>[1, 0]</td>\n",
              "    </tr>\n",
              "  </tbody>\n",
              "</table>\n",
              "</div>\n",
              "      <button class=\"colab-df-convert\" onclick=\"convertToInteractive('df-710eabca-6f6a-423e-a9f6-19ac9dd411a5')\"\n",
              "              title=\"Convert this dataframe to an interactive table.\"\n",
              "              style=\"display:none;\">\n",
              "        \n",
              "  <svg xmlns=\"http://www.w3.org/2000/svg\" height=\"24px\"viewBox=\"0 0 24 24\"\n",
              "       width=\"24px\">\n",
              "    <path d=\"M0 0h24v24H0V0z\" fill=\"none\"/>\n",
              "    <path d=\"M18.56 5.44l.94 2.06.94-2.06 2.06-.94-2.06-.94-.94-2.06-.94 2.06-2.06.94zm-11 1L8.5 8.5l.94-2.06 2.06-.94-2.06-.94L8.5 2.5l-.94 2.06-2.06.94zm10 10l.94 2.06.94-2.06 2.06-.94-2.06-.94-.94-2.06-.94 2.06-2.06.94z\"/><path d=\"M17.41 7.96l-1.37-1.37c-.4-.4-.92-.59-1.43-.59-.52 0-1.04.2-1.43.59L10.3 9.45l-7.72 7.72c-.78.78-.78 2.05 0 2.83L4 21.41c.39.39.9.59 1.41.59.51 0 1.02-.2 1.41-.59l7.78-7.78 2.81-2.81c.8-.78.8-2.07 0-2.86zM5.41 20L4 18.59l7.72-7.72 1.47 1.35L5.41 20z\"/>\n",
              "  </svg>\n",
              "      </button>\n",
              "      \n",
              "  <style>\n",
              "    .colab-df-container {\n",
              "      display:flex;\n",
              "      flex-wrap:wrap;\n",
              "      gap: 12px;\n",
              "    }\n",
              "\n",
              "    .colab-df-convert {\n",
              "      background-color: #E8F0FE;\n",
              "      border: none;\n",
              "      border-radius: 50%;\n",
              "      cursor: pointer;\n",
              "      display: none;\n",
              "      fill: #1967D2;\n",
              "      height: 32px;\n",
              "      padding: 0 0 0 0;\n",
              "      width: 32px;\n",
              "    }\n",
              "\n",
              "    .colab-df-convert:hover {\n",
              "      background-color: #E2EBFA;\n",
              "      box-shadow: 0px 1px 2px rgba(60, 64, 67, 0.3), 0px 1px 3px 1px rgba(60, 64, 67, 0.15);\n",
              "      fill: #174EA6;\n",
              "    }\n",
              "\n",
              "    [theme=dark] .colab-df-convert {\n",
              "      background-color: #3B4455;\n",
              "      fill: #D2E3FC;\n",
              "    }\n",
              "\n",
              "    [theme=dark] .colab-df-convert:hover {\n",
              "      background-color: #434B5C;\n",
              "      box-shadow: 0px 1px 3px 1px rgba(0, 0, 0, 0.15);\n",
              "      filter: drop-shadow(0px 1px 2px rgba(0, 0, 0, 0.3));\n",
              "      fill: #FFFFFF;\n",
              "    }\n",
              "  </style>\n",
              "\n",
              "      <script>\n",
              "        const buttonEl =\n",
              "          document.querySelector('#df-710eabca-6f6a-423e-a9f6-19ac9dd411a5 button.colab-df-convert');\n",
              "        buttonEl.style.display =\n",
              "          google.colab.kernel.accessAllowed ? 'block' : 'none';\n",
              "\n",
              "        async function convertToInteractive(key) {\n",
              "          const element = document.querySelector('#df-710eabca-6f6a-423e-a9f6-19ac9dd411a5');\n",
              "          const dataTable =\n",
              "            await google.colab.kernel.invokeFunction('convertToInteractive',\n",
              "                                                     [key], {});\n",
              "          if (!dataTable) return;\n",
              "\n",
              "          const docLinkHtml = 'Like what you see? Visit the ' +\n",
              "            '<a target=\"_blank\" href=https://colab.research.google.com/notebooks/data_table.ipynb>data table notebook</a>'\n",
              "            + ' to learn more about interactive tables.';\n",
              "          element.innerHTML = '';\n",
              "          dataTable['output_type'] = 'display_data';\n",
              "          await google.colab.output.renderOutput(dataTable, element);\n",
              "          const docLink = document.createElement('div');\n",
              "          docLink.innerHTML = docLinkHtml;\n",
              "          element.appendChild(docLink);\n",
              "        }\n",
              "      </script>\n",
              "    </div>\n",
              "  </div>\n",
              "  "
            ]
          },
          "metadata": {},
          "execution_count": 127
        }
      ]
    },
    {
      "cell_type": "code",
      "source": [
        "# total null values present in columns\n",
        "df.isna().sum()"
      ],
      "metadata": {
        "colab": {
          "base_uri": "https://localhost:8080/"
        },
        "id": "lGkKjA032U7o",
        "outputId": "821f8011-b931-4b17-fa05-8082daa0f49a"
      },
      "execution_count": 128,
      "outputs": [
        {
          "output_type": "execute_result",
          "data": {
            "text/plain": [
              "age                  0\n",
              "sex                  0\n",
              "is_smoking           0\n",
              "cigsPerDay          22\n",
              "BPMeds              44\n",
              "prevalentStroke      0\n",
              "prevalentHyp         0\n",
              "diabetes             0\n",
              "totChol             38\n",
              "sysBP                0\n",
              "diaBP                0\n",
              "BMI                 14\n",
              "heartRate            1\n",
              "glucose            304\n",
              "TenYearCHD           0\n",
              "dtype: int64"
            ]
          },
          "metadata": {},
          "execution_count": 128
        }
      ]
    },
    {
      "cell_type": "markdown",
      "source": [
        "* In the Dataset we have total of 3390 rows and 17 columns.\n",
        "\n",
        "We havee missing values in:\n",
        " \n",
        "*   cigsperday\n",
        "*   BPMeds\n",
        "*   totChol\n",
        "*   BMI\n",
        "*   Heart Rate\n",
        "*   glucose\n"
      ],
      "metadata": {
        "id": "b3jimGpPgYhm"
      }
    },
    {
      "cell_type": "code",
      "source": [
        "#Sanity check\n",
        "round(df.isnull().sum()/df.shape[0]*100,2).sort_values(ascending=False).head()"
      ],
      "metadata": {
        "colab": {
          "base_uri": "https://localhost:8080/"
        },
        "id": "KNo-0gW8fzF3",
        "outputId": "a33c641c-31b6-439f-ee7c-2c10768b0365"
      },
      "execution_count": 129,
      "outputs": [
        {
          "output_type": "execute_result",
          "data": {
            "text/plain": [
              "glucose       8.97\n",
              "BPMeds        1.30\n",
              "totChol       1.12\n",
              "cigsPerDay    0.65\n",
              "BMI           0.41\n",
              "dtype: float64"
            ]
          },
          "metadata": {},
          "execution_count": 129
        }
      ]
    },
    {
      "cell_type": "markdown",
      "source": [
        "* Except glucose all other features in the dataset have less than 5% null values.\n",
        "* Now the main issue with these null values is that they can't be estimated from other data entries. The dataset we are working on is from a medical domain, that said, the entries in this data are person specific and the values vary among different individuals. Its a rare chance the two individuals share same health stats, hence the most logical option that we have to deal with such values is removing the rows with any null value."
      ],
      "metadata": {
        "id": "oSCUPQZijrQx"
      }
    },
    {
      "cell_type": "code",
      "source": [
        "# dropping the missing value.\n",
        "df = df.dropna(how = \"any\")"
      ],
      "metadata": {
        "id": "7HYpSHf0lvOI"
      },
      "execution_count": 130,
      "outputs": []
    },
    {
      "cell_type": "code",
      "source": [
        "# Checking if there's still any null values left.\n",
        "df.isna().sum()"
      ],
      "metadata": {
        "colab": {
          "base_uri": "https://localhost:8080/"
        },
        "id": "7CBjY-A9mWtK",
        "outputId": "89f0c8b2-9154-4a81-ef6c-7ab5ab8df87f"
      },
      "execution_count": 131,
      "outputs": [
        {
          "output_type": "execute_result",
          "data": {
            "text/plain": [
              "age                0\n",
              "sex                0\n",
              "is_smoking         0\n",
              "cigsPerDay         0\n",
              "BPMeds             0\n",
              "prevalentStroke    0\n",
              "prevalentHyp       0\n",
              "diabetes           0\n",
              "totChol            0\n",
              "sysBP              0\n",
              "diaBP              0\n",
              "BMI                0\n",
              "heartRate          0\n",
              "glucose            0\n",
              "TenYearCHD         0\n",
              "dtype: int64"
            ]
          },
          "metadata": {},
          "execution_count": 131
        }
      ]
    },
    {
      "cell_type": "markdown",
      "source": [
        "* Now, no null values present in dataset"
      ],
      "metadata": {
        "id": "jR1jCxRtn7K_"
      }
    },
    {
      "cell_type": "markdown",
      "source": [
        "## 3. Checking duplicate values "
      ],
      "metadata": {
        "id": "hEk0tbNhmkiV"
      }
    },
    {
      "cell_type": "code",
      "source": [
        "# Checking for the duplicate values\n",
        "len(df[df.duplicated()])"
      ],
      "metadata": {
        "colab": {
          "base_uri": "https://localhost:8080/"
        },
        "id": "LgBv6MR6meRK",
        "outputId": "f5d535b8-51ce-4449-97f5-6395a33fa6c2"
      },
      "execution_count": 132,
      "outputs": [
        {
          "output_type": "execute_result",
          "data": {
            "text/plain": [
              "0"
            ]
          },
          "metadata": {},
          "execution_count": 132
        }
      ]
    },
    {
      "cell_type": "markdown",
      "source": [
        "## 4. Dealing with outliers"
      ],
      "metadata": {
        "id": "6yJPX1E9m63Z"
      }
    },
    {
      "cell_type": "code",
      "source": [
        "# Numerical variables\n",
        "numerical = [var for var in df.columns if df[var].dtype!='O'and var not in ['BPMeds','diabetes','prevalentStroke','prevalentHyp','TenYearCHD']]\n",
        "print('There are {} numerical variables'.format(len(numerical)))\n",
        "print(numerical)"
      ],
      "metadata": {
        "colab": {
          "base_uri": "https://localhost:8080/"
        },
        "id": "fMkFRiM_nK2S",
        "outputId": "c2cd5ed4-48bf-4642-e649-89f1da0201d8"
      },
      "execution_count": 133,
      "outputs": [
        {
          "output_type": "stream",
          "name": "stdout",
          "text": [
            "There are 8 numerical variables\n",
            "['age', 'cigsPerDay', 'totChol', 'sysBP', 'diaBP', 'BMI', 'heartRate', 'glucose']\n"
          ]
        }
      ]
    },
    {
      "cell_type": "code",
      "source": [
        "# looking for outliers of every fearture of dataset with the help of boxplot\n",
        "import warnings\n",
        "warnings.simplefilter(action='ignore',category=FutureWarning)\n",
        "plt.figure(figsize = (20, 10))\n",
        "num_it = 1 \n",
        "\n",
        "for col in numerical:\n",
        "    plt.subplot(6,4,num_it)\n",
        "    sns.boxplot(df[col])\n",
        "    num_it+=1\n",
        "    \n",
        "plt.tight_layout()"
      ],
      "metadata": {
        "colab": {
          "base_uri": "https://localhost:8080/",
          "height": 234
        },
        "id": "sbjJ1-_NnYOX",
        "outputId": "b49bd796-d5a9-4f0c-f47c-a668e4ff31c1"
      },
      "execution_count": 134,
      "outputs": [
        {
          "output_type": "display_data",
          "data": {
            "text/plain": [
              "<Figure size 1440x720 with 8 Axes>"
            ],
            "image/png": "[encoded data removed]"
          },
          "metadata": {
            "needs_background": "light"
          }
        }
      ]
    },
    {
      "cell_type": "code",
      "source": [
        "##Dealing with the outliers by Capping the outlier rows with Percentiles\n",
        "for col in numerical:\n",
        "  upper_lim = df[col].quantile(.95)\n",
        "  lower_lim = df[col].quantile(.05)\n",
        "  df.loc[(df[col] > upper_lim),col] = upper_lim\n",
        "  df.loc[(df[col] < lower_lim),col] = lower_lim"
      ],
      "metadata": {
        "id": "cx7k_AlanfHX"
      },
      "execution_count": 135,
      "outputs": []
    },
    {
      "cell_type": "code",
      "source": [
        "##finding result \n",
        "import warnings\n",
        "warnings.simplefilter(action='ignore',category=FutureWarning)\n",
        "plt.figure(figsize = (20, 10))\n",
        "num_it = 1 \n",
        "\n",
        "for col in numerical:\n",
        "    plt.subplot(6,4,num_it)\n",
        "    sns.boxplot(df[col])\n",
        "    num_it+=1\n",
        "    \n",
        "plt.tight_layout()"
      ],
      "metadata": {
        "colab": {
          "base_uri": "https://localhost:8080/",
          "height": 234
        },
        "id": "KL86VPEbnisf",
        "outputId": "31392f0f-624e-4cf5-e125-2f535599f709"
      },
      "execution_count": 136,
      "outputs": [
        {
          "output_type": "display_data",
          "data": {
            "text/plain": [
              "<Figure size 1440x720 with 8 Axes>"
            ],
            "image/png": "[encoded data removed]"
          },
          "metadata": {
            "needs_background": "light"
          }
        }
      ]
    },
    {
      "cell_type": "markdown",
      "source": [
        "* Now, there is no outliers present in our dataset."
      ],
      "metadata": {
        "id": "rr_iiMuvnsND"
      }
    },
    {
      "cell_type": "markdown",
      "source": [
        "## 5. Combining columns"
      ],
      "metadata": {
        "id": "UsayeZ-XsrFD"
      }
    },
    {
      "cell_type": "markdown",
      "source": [
        "![map2.JPG](data:image/jpeg;base64,/9j/4AAQSkZJRgABAQEAYABgAAD/4RDgRXhpZgAATU0AKgAAAAgABAE7AAIAAAAHAAAISodpAAQAAAABAAAIUpydAAEAAAAOAAAQyuocAAcAAAgMAAAAPgAAAAAc6gAAAAgAAAAAAAAAAAAAAAAAAAAAAAAAAAAAAAAAAAAAAAAAAAAAAAAAAAAAAAAAAAAAAAAAAAAAAAAAAAAAAAAAAAAAAAAAAAAAAAAAAAAAAAAAAAAAAAAAAAAAAAAAAAAAAAAAAAAAAAAAAAAAAAAAAAAAAAAAAAAAAAAAAAAAAAAAAAAAAAAAAAAAAAAAAAAAAAAAAAAAAAAAAAAAAAAAAAAAAAAAAAAAAAAAAAAAAAAAAAAAAAAAAAAAAAAAAAAAAAAAAAAAAAAAAAAAAAAAAAAAAAAAAAAAAAAAAAAAAAAAAAAAAAAAAAAAAAAAAAAAAAAAAAAAAAAAAAAAAAAAAAAAAAAAAAAAAAAAAAAAAAAAAAAAAAAAAAAAAAAAAAAAAAAAAAAAAAAAAAAAAAAAAAAAAAAAAAAAAAAAAAAAAAAAAAAAAAAAAAAAAAAAAAAAAAAAAAAAAAAAAAAAAAAAAAAAAAAAAAAAAAAAAAAAAAAAAAAAAAAAAAAAAAAAAAAAAAAAAAAAAAAAAAAAAAAAAAAAAAAAAAAAAAAAAAAAAAAAAAAAAAAAAAAAAAAAAAAAAAAAAAAAAAAAAAAAAAAAAAAAAAAAAAAAAAAAAAAAAAAAAAAAAAAAAAAAAAAAAAAAAAAAAAAAAAAAAAAAAAAAAAAAAAAAAAAAAAAAAAAAAAAAAAAAAAAAAAAAAAAAAAAAAAAAAAAAAAAAAAAAAAAAAAAAAAAAAAAAAAAAAAAAAAAAAAAAAAAAAAAAAAAAAAAAAAAAAAAAAAAAAAAAAAAAAAAAAAAAAAAAAAAAAAAAAAAAAAAAAAAAAAAAAAAAAAAAAAAAAAAAAAAAAAAAAAAAAAAAAAAAAAAAAAAAAAAAAAAAAAAAAAAAAAAAAAAAAAAAAAAAAAAAAAAAAAAAAAAAAAAAAAAAAAAAAAAAAAAAAAAAAAAAAAAAAAAAAAAAAAAAAAAAAAAAAAAAAAAAAAAAAAAAAAAAAAAAAAAAAAAAAAAAAAAAAAAAAAAAAAAAAAAAAAAAAAAAAAAAAAAAAAAAAAAAAAAAAAAAAAAAAAAAAAAAAAAAAAAAAAAAAAAAAAAAAAAAAAAAAAAAAAAAAAAAAAAAAAAAAAAAAAAAAAAAAAAAAAAAAAAAAAAAAAAAAAAAAAAAAAAAAAAAAAAAAAAAAAAAAAAAAAAAAAAAAAAAAAAAAAAAAAAAAAAAAAAAAAAAAAAAAAAAAAAAAAAAAAAAAAAAAAAAAAAAAAAAAAAAAAAAAAAAAAAAAAAAAAAAAAAAAAAAAAAAAAAAAAAAAAAAAAAAAAAAAAAAAAAAAAAAAAAAAAAAAAAAAAAAAAAAAAAAAAAAAAAAAAAAAAAAAAAAAAAAAAAAAAAAAAAAAAAAAAAAAAAAAAAAAAAAAAAAAAAAAAAAAAAAAAAAAAAAAAAAAAAAAAAAAAAAAAAAAAAAAAAAAAAAAAAAAAAAAAAAAAAAAAAAAAAAAAAAAAAAAAAAAAAAAAAAAAAAAAAAAAAAAAAAAAAAAAAAAAAAAAAAAAAAAAAAAAAAAAAAAAAAAAAAAAAAAAAAAAAAAAAAAAAAAAAAAAAAAAAAAAAAAAAAAAAAAAAAAAAAAAAAAAAAAAAAAAAAAAAAAAAAAAAAAAAAAAAAAAAAAAAAAAAAAAAAAAAAAAAAAAAAAAAAAAAAAAAAAAAAAAAAAAAAAAAAAAAAAAAAAAAAAAAAAAAAAAAAAAAAAAAAAAAAAAAAAAAAAAAAAAAAAAAAAAAAAAAAAAAAAAAAAAAAAAAAAAAAAAAAAAAAAAAAAAAAAAAAAAAAAAAAAAAAAAAAAAAAAAAAAAAAAAAAAAAAAAAAAAAAAAAAAAAAAAAAAAAAAAAAAAAAAAAAAAAAAAAAAAAAAAAAAAAAAAAAAAAAAAAAAAAAAAAAAAAAAAAAAAAAAAAAAAAAAAAAAAAAAAAAAAAAAAAAAAAAAAAAAAAAAAAAAAAAAAAAAAAAAAAAAAAAAAAAAAAAAAAAAAAAAAAAAAAAAAAAAAAAAAAAAAAAAAAAAAAAAAAAAAAAAAAAAAAAAAAAAAAAAAAAAAAAAAAAAAAAAAAAAAAAAAAAAAAAAAAAAAAAAAAAAAAAAAAAAAAAAAAAAAAAAAAAAAAAAAAAAAAAAAAAAAAAAAAAAAAAAAAAAAAAAAAAAAAAAAAAAAAAAAAAAAAAAAAAAAAAAAAAAAAAAAAAAAAAAAAAAAAAAAAAAAAAAAAAAAAAAAAAAAAAAAAAAAAAAAAAAAAAAAAAAAAAAAAAAAAAAAAAAAAAAAAAAAAAAAAAAAAAAAAAAAAAAAAAAAAAAAAAAAAAAAAAAAAAAAAAAAAAAAAAAAAAAAAAAAAAAAAAAAAAAAAAAAAAAAAAAAAAAAAAAAAAAAAAAAAAAAAAAAAAAAAAAAAAAAAAAAAAAAAAAAAAAAAAAAAAAAAAAAAAAAAAAAAAAAAAAAAAAAAAAAAAAAAAAAAAAAAAAAAAAAAAAAAAAAAAAAAAAAAAAAAAAAAAAAAAAAAAAAAAAAAAAAAAAAAAAAAAAAAAAAAAAAAAAAAAAAAAAAAAAAAAAAAAAAAAAAAAAAAAAAAAAAAAAAAAAAAAAAAAAAAAAAAAAAAAAAAAAAAAAAAAAAAAAAAAAAAAAAAAAAAAAAAAAAAAAAAAAAAAAAAAAAAAAAAAAAAAAAAAAAAAAAAAAAAAAAAAAAAAAAAAAAAAAAAAAAAAAAAAAAAAAAAAAAAAAG5pdGVzaAAAAAWQAwACAAAAFAAAEKCQBAACAAAAFAAAELSSkQACAAAAAzA2AACSkgACAAAAAzA2AADqHAAHAAAIDAAACJQAAAAAHOoAAAAIAAAAAAAAAAAAAAAAAAAAAAAAAAAAAAAAAAAAAAAAAAAAAAAAAAAAAAAAAAAAAAAAAAAAAAAAAAAAAAAAAAAAAAAAAAAAAAAAAAAAAAAAAAAAAAAAAAAAAAAAAAAAAAAAAAAAAAAAAAAAAAAAAAAAAAAAAAAAAAAAAAAAAAAAAAAAAAAAAAAAAAAAAAAAAAAAAAAAAAAAAAAAAAAAAAAAAAAAAAAAAAAAAAAAAAAAAAAAAAAAAAAAAAAAAAAAAAAAAAAAAAAAAAAAAAAAAAAAAAAAAAAAAAAAAAAAAAAAAAAAAAAAAAAAAAAAAAAAAAAAAAAAAAAAAAAAAAAAAAAAAAAAAAAAAAAAAAAAAAAAAAAAAAAAAAAAAAAAAAAAAAAAAAAAAAAAAAAAAAAAAAAAAAAAAAAAAAAAAAAAAAAAAAAAAAAAAAAAAAAAAAAAAAAAAAAAAAAAAAAAAAAAAAAAAAAAAAAAAAAAAAAAAAAAAAAAAAAAAAAAAAAAAAAAAAAAAAAAAAAAAAAAAAAAAAAAAAAAAAAAAAAAAAAAAAAAAAAAAAAAAAAAAAAAAAAAAAAAAAAAAAAAAAAAAAAAAAAAAAAAAAAAAAAAAAAAAAAAAAAAAAAAAAAAAAAAAAAAAAAAAAAAAAAAAAAAAAAAAAAAAAAAAAAAAAAAAAAAAAAAAAAAAAAAAAAAAAAAAAAAAAAAAAAAAAAAAAAAAAAAAAAAAAAAAAAAAAAAAAAAAAAAAAAAAAAAAAAAAAAAAAAAAAAAAAAAAAAAAAAAAAAAAAAAAAAAAAAAAAAAAAAAAAAAAAAAAAAAAAAAAAAAAAAAAAAAAAAAAAAAAAAAAAAAAAAAAAAAAAAAAAAAAAAAAAAAAAAAAAAAAAAAAAAAAAAAAAAAAAAAAAAAAAAAAAAAAAAAAAAAAAAAAAAAAAAAAAAAAAAAAAAAAAAAAAAAAAAAAAAAAAAAAAAAAAAAAAAAAAAAAAAAAAAAAAAAAAAAAAAAAAAAAAAAAAAAAAAAAAAAAAAAAAAAAAAAAAAAAAAAAAAAAAAAAAAAAAAAAAAAAAAAAAAAAAAAAAAAAAAAAAAAAAAAAAAAAAAAAAAAAAAAAAAAAAAAAAAAAAAAAAAAAAAAAAAAAAAAAAAAAAAAAAAAAAAAAAAAAAAAAAAAAAAAAAAAAAAAAAAAAAAAAAAAAAAAAAAAAAAAAAAAAAAAAAAAAAAAAAAAAAAAAAAAAAAAAAAAAAAAAAAAAAAAAAAAAAAAAAAAAAAAAAAAAAAAAAAAAAAAAAAAAAAAAAAAAAAAAAAAAAAAAAAAAAAAAAAAAAAAAAAAAAAAAAAAAAAAAAAAAAAAAAAAAAAAAAAAAAAAAAAAAAAAAAAAAAAAAAAAAAAAAAAAAAAAAAAAAAAAAAAAAAAAAAAAAAAAAAAAAAAAAAAAAAAAAAAAAAAAAAAAAAAAAAAAAAAAAAAAAAAAAAAAAAAAAAAAAAAAAAAAAAAAAAAAAAAAAAAAAAAAAAAAAAAAAAAAAAAAAAAAAAAAAAAAAAAAAAAAAAAAAAAAAAAAAAAAAAAAAAAAAAAAAAAAAAAAAAAAAAAAAAAAAAAAAAAAAAAAAAAAAAAAAAAAAAAAAAAAAAAAAAAAAAAAAAAAAAAAAAAAAAAAAAAAAAAAAAAAAAAAAAAAAAAAAAAAAAAAAAAAAAAAAAAAAAAAAAAAAAAAAAAAAAAAAAAAAAAAAAAAAAAAAAAAAAAAAAAAAAAAAAAAAAAAAAAAAAAAAAAAAAAAAAAAAAAAAAAAAAAAAAAAAAAAAAAAAAAAAAAAAAAAAAAAAAAAAAAAAAAAAAAAAAAAAAAAAAAAAAAAAAAAAAAAAAAAAAAAAAAAAAAAAAAAAAAAAAAAAAAAAAAAAAAAAAAAAAAAAAAAAAAAAAAAAAAAAAAAAAAAAAAAAAAAAAAAAAAAAAAAAAAAAAAAAAAAAAAAAAAAAAAAAAAAAAAAAAAAAAAAAAAAAAAAAAAAAAAAAAAAAAAAAAAAAAAAAAAAAAAAAAAAAAAAAAAAAAAAAAAAAAAAAAAAAAAAAAAAAAAAAAAAAAAAAAAAAAAAAAAAAAAAAAAAAAAAAAAAAAAAAAAAAAAAAAAAAAAAAAAAAAAAAAAAAAAAAAAAAAAAAAAAAAAAAAAAAAAAAAAAAAAAAAAAAAAAAAAAAAAAAAAAAAAAAAAAAAAAAAAAAAAAAAAAAAAAAAAAAAAAAAAAAAAAAAAAAAAAAAAAAAAAAAAAAAAAAAAAAAAAAAAAAAAAAAAAAAAAAAAAAAAAAAAAAAAAAAAAAAAAAAAAAAAAAAAAAAAAAAAAAAAAAAAAAAAAAAAAAAAAAAAAAAAAAAAAAAAAAAAAAAAAAAAAAAAAAAAAAAAAAAAAAAAAAAAAAAAAAAAAAAAAAAAAAAAAAAAAAAAAAAAAAAAAAAAAAAAAAAAAAAAAAAAAAAAAAAAAAAAAAAAAAAAAAAAAAAAAAAAAAAAAAAAAAAAAAAAAAAAAAAAAAAAAAAAAAAAAAAAAAAAAAAAAAAAAAAAAAAAAAAAAAAAAAAAAAAAAAAAAAAAAAAAAAAAAAAAAAAAAAAAAAAAAAAAAAAAAAAAAAAAAAAAAAAAAAAAAAAAAAAAAAAAAAAAAAAAAAAAAAAAAAAAAAAAAAAAAAAAAAAAAAAAAAAAAAAAAAAAAAAAAAAAAAAAAAAAAAAAAAAAAAAAAAAAAAAAAAAAAAAAAAAAAAAAAAAAyMDIyOjEwOjAyIDE5OjM3OjM0ADIwMjI6MTA6MDIgMTk6Mzc6MzQAAABuAGkAdABlAHMAaAAAAP/hCxlodHRwOi8vbnMuYWRvYmUuY29tL3hhcC8xLjAvADw/eHBhY2tldCBiZWdpbj0n77u/JyBpZD0nVzVNME1wQ2VoaUh6cmVTek5UY3prYzlkJz8+DQo8eDp4bXBtZXRhIHhtbG5zOng9ImFkb2JlOm5zOm1ldGEvIj48cmRmOlJERiB4bWxuczpyZGY9Imh0dHA6Ly93d3cudzMub3JnLzE5OTkvMDIvMjItcmRmLXN5bnRheC1ucyMiPjxyZGY6RGVzY3JpcHRpb24gcmRmOmFib3V0PSJ1dWlkOmZhZjViZGQ1LWJhM2QtMTFkYS1hZDMxLWQzM2Q3NTE4MmYxYiIgeG1sbnM6ZGM9Imh0dHA6Ly9wdXJsLm9yZy9kYy9lbGVtZW50cy8xLjEvIi8+PHJkZjpEZXNjcmlwdGlvbiByZGY6YWJvdXQ9InV1aWQ6ZmFmNWJkZDUtYmEzZC0xMWRhLWFkMzEtZDMzZDc1MTgyZjFiIiB4bWxuczp4bXA9Imh0dHA6Ly9ucy5hZG9iZS5jb20veGFwLzEuMC8iPjx4bXA6Q3JlYXRlRGF0ZT4yMDIyLTEwLTAyVDE5OjM3OjM0LjA2MTwveG1wOkNyZWF0ZURhdGU+PC9yZGY6RGVzY3JpcHRpb24+PHJkZjpEZXNjcmlwdGlvbiByZGY6YWJvdXQ9InV1aWQ6ZmFmNWJkZDUtYmEzZC0xMWRhLWFkMzEtZDMzZDc1MTgyZjFiIiB4bWxuczpkYz0iaHR0cDovL3B1cmwub3JnL2RjL2VsZW1lbnRzLzEuMS8iPjxkYzpjcmVhdG9yPjxyZGY6U2VxIHhtbG5zOnJkZj0iaHR0cDovL3d3dy53My5vcmcvMTk5OS8wMi8yMi1yZGYtc3ludGF4LW5zIyI+PHJkZjpsaT5uaXRlc2g8L3JkZjpsaT48L3JkZjpTZXE+DQoJCQk8L2RjOmNyZWF0b3I+PC9yZGY6RGVzY3JpcHRpb24+PC9yZGY6UkRGPjwveDp4bXBtZXRhPg0KICAgICAgICAgICAgICAgICAgICAgICAgICAgICAgICAgICAgICAgICAgICAgICAgICAgICAgICAgICAgICAgICAgICAgICAgICAgICAgICAgICAgICAgICAgICAgICAgICAgIAogICAgICAgICAgICAgICAgICAgICAgICAgICAgICAgICAgICAgICAgICAgICAgICAgICAgICAgICAgICAgICAgICAgICAgICAgICAgICAgICAgICAgICAgICAgICAgICAgICAgCiAgICAgICAgICAgICAgICAgICAgICAgICAgICAgICAgICAgICAgICAgICAgICAgICAgICAgICAgICAgICAgICAgICAgICAgICAgICAgICAgICAgICAgICAgICAgICAgICAgICAKICAgICAgICAgICAgICAgICAgICAgICAgICAgICAgICAgICAgICAgICAgICAgICAgICAgICAgICAgICAgICAgICAgICAgICAgICAgICAgICAgICAgICAgICAgICAgICAgICAgIAogICAgICAgICAgICAgICAgICAgICAgICAgICAgICAgICAgICAgICAgICAgICAgICAgICAgICAgICAgICAgICAgICAgICAgICAgICAgICAgICAgICAgICAgICAgICAgICAgICAgCiAgICAgICAgICAgICAgICAgICAgICAgICAgICAgICAgICAgICAgICAgICAgICAgICAgICAgICAgICAgICAgICAgICAgICAgICAgICAgICAgICAgICAgICAgICAgICAgICAgICAKICAgICAgICAgICAgICAgICAgICAgICAgICAgICAgICAgICAgICAgICAgICAgICAgICAgICAgICAgICAgICAgICAgICAgICAgICAgICAgICAgICAgICAgICAgICAgICAgICAgIAogICAgICAgICAgICAgICAgICAgICAgICAgICAgICAgICAgICAgICAgICAgICAgICAgICAgICAgICAgICAgICAgICAgICAgICAgICAgICAgICAgICAgICAgICAgICAgICAgICAgCiAgICAgICAgICAgICAgICAgICAgICAgICAgICAgICAgICAgICAgICAgICAgICAgICAgICAgICAgICAgICAgICAgICAgICAgICAgICAgICAgICAgICAgICAgICAgICAgICAgICAKICAgICAgICAgICAgICAgICAgICAgICAgICAgICAgICAgICAgICAgICAgICAgICAgICAgICAgICAgICAgICAgICAgICAgICAgICAgICAgICAgICAgICAgICAgICAgICAgICAgIAogICAgICAgICAgICAgICAgICAgICAgICAgICAgICAgICAgICAgICAgICAgICAgICAgICAgICAgICAgICAgICAgICAgICAgICAgICAgICAgICAgICAgICAgICAgICAgICAgICAgCiAgICAgICAgICAgICAgICAgICAgICAgICAgICAgICAgICAgICAgICAgICAgICAgICAgICAgICAgICAgICAgICAgICAgICAgICAgICAgICAgICAgICAgICAgICAgICAgICAgICAKICAgICAgICAgICAgICAgICAgICAgICAgICAgICAgICAgICAgICAgICAgICAgICAgICAgICAgICAgICAgICAgICAgICAgICAgICAgICAgICAgICAgICAgICAgICAgICAgICAgIAogICAgICAgICAgICAgICAgICAgICAgICAgICAgICAgICAgICAgICAgICAgICAgICAgICAgICAgICAgICAgICAgICAgICAgICAgICAgICAgICAgICAgICAgICAgICAgICAgICAgCiAgICAgICAgICAgICAgICAgICAgICAgICAgICAgICAgICAgICAgICAgICAgICAgICAgICAgICAgICAgICAgICAgICAgICAgICAgICAgICAgICAgICAgICAgICAgICAgICAgICAKICAgICAgICAgICAgICAgICAgICAgICAgICAgICAgICAgICAgICAgICAgICAgICAgICAgICAgICAgICAgICAgICAgICAgICAgICAgICAgICAgICAgICAgICAgICAgICAgICAgIAogICAgICAgICAgICAgICAgICAgICAgICAgICAgICAgICAgICAgICAgICAgICAgICAgICAgICAgICAgICAgICAgICAgICAgICAgICAgICAgICAgICAgICAgICAgICAgICAgICAgCiAgICAgICAgICAgICAgICAgICAgICAgICAgICAgICAgICAgICAgICAgICAgICAgICAgICAgICAgICAgICAgICAgICAgICAgICAgICAgICAgICAgICAgICAgICAgICAgICAgICAKICAgICAgICAgICAgICAgICAgICAgICAgICAgICAgICAgICAgICAgICAgICAgICAgICAgICAgICAgICAgICAgICAgICAgICAgICAgICAgICAgICAgICAgICAgICAgICAgICAgIAogICAgICAgICAgICAgICAgICAgICAgICAgICAgICAgICAgICAgICAgICAgICAgICAgICAgICAgICAgICAgICAgICAgICAgICAgICAgICAgICAgICAgICAgICAgICAgICAgICAgCiAgICAgICAgICAgICAgICAgICAgICAgICAgICA8P3hwYWNrZXQgZW5kPSd3Jz8+/9sAQwAHBQUGBQQHBgUGCAcHCAoRCwoJCQoVDxAMERgVGhkYFRgXGx4nIRsdJR0XGCIuIiUoKSssKxogLzMvKjInKisq/9sAQwEHCAgKCQoUCwsUKhwYHCoqKioqKioqKioqKioqKioqKioqKioqKioqKioqKioqKioqKioqKioqKioqKioqKioq/8AAEQgBTwJlAwEiAAIRAQMRAf/EAB8AAAEFAQEBAQEBAAAAAAAAAAABAgMEBQYHCAkKC//EALUQAAIBAwMCBAMFBQQEAAABfQECAwAEEQUSITFBBhNRYQcicRQygZGhCCNCscEVUtHwJDNicoIJChYXGBkaJSYnKCkqNDU2Nzg5OkNERUZHSElKU1RVVldYWVpjZGVmZ2hpanN0dXZ3eHl6g4SFhoeIiYqSk5SVlpeYmZqio6Slpqeoqaqys7S1tre4ubrCw8TFxsfIycrS09TV1tfY2drh4uPk5ebn6Onq8fLz9PX29/j5+v/EAB8BAAMBAQEBAQEBAQEAAAAAAAABAgMEBQYHCAkKC//EALURAAIBAgQEAwQHBQQEAAECdwABAgMRBAUhMQYSQVEHYXETIjKBCBRCkaGxwQkjM1LwFWJy0QoWJDThJfEXGBkaJicoKSo1Njc4OTpDREVGR0hJSlNUVVZXWFlaY2RlZmdoaWpzdHV2d3h5eoKDhIWGh4iJipKTlJWWl5iZmqKjpKWmp6ipqrKztLW2t7i5usLDxMXGx8jJytLT1NXW19jZ2uLj5OXm5+jp6vLz9PX29/j5+v/aAAwDAQACEQMRAD8A9Pooor1zxQooooAKKKKACiiigAooooAKKKKACivJz8apB4+Hhv8AsRcHUhY+f9p9ZNm7bt/HGa9YqYyUtipQlHcKKKKokKKKKACiiigAooooAKK5Pxd8R9D8FX0FrrIujJPH5ieREGGM455FaPhXxdpXjHS2vtFldo0cxuki7XQ+49+tTzK9rlcsrc1tDboooqiQoqC9vbfTrGe8vZVit4EMkjseFUDJNcLpnxp8K6vq9rptoL7z7qZYYy0AC7mOBk7unNS5JbspRlLVI9BoooqiQooooAKKKKACiiigAooooAKKKKACiiigAooooAKKQnAyelecT/HXwfBcyQk3zmNypZIAVODjI+bpUyko7lRjKWyPSKKhtLqK+sobu2bfDPGskbDupGQf1qaqJCiiigAooooAKKKKACiiigAooooAKKKKACiiuT8T/Erw34S1KOw1e6k+0soZo4Yy5jB6FvT+dJtJXY1FydkdZRVexvrbU7CC9sZlmtp0DxyL0ZT3qxTEFFFFABRRXlfjT4yyeEvGFxoa6Kt0IRH++NzszuQN02n1qZSUVdlRhKbsj1SimQyebBHJjG9Q2PTIp9USFFFFABRRRQAUUUUAFFFFABRRRQAUUUUAFFFFABRRRQAVieMNcl8NeEb/AFe3hSaS1j3rG5IDcgc4+tbdeJ/GD4m+S2qeDrfTckoiS3Ty9MhX+VQPfuazqSUY3NKcHOVjqPhf8SLzx7calHe2MFqLNI2UxMTu3Fuuf92vRK+SvAnxAvfAc17JYWdvcm8VFYTFvl256YPvXuHwt+I9/wCPbjUo7+yt7YWaxsphLfNuLZzk/wCzWdKqmknua1qLi3JLQ8Zb/kvS/wDYxr/6UCvquvk3Ub2HTfjRPfXRKwWuumaQgZIVZ8nj6Cuv1j9oHWp75xoWn21vag/J54MjsPU4IA+nb1NZ06kYXua1acp2t2PoOivEvCfx++0XyWviyyigjkIAu7bOEP8AtKc8e4P4V7XHIksSyRMHRwGVlOQQehFdMZxmtDknTlB2kOorK8ReI9N8LaPJqWsTiGBOAByzt2VR3NeJav8AtB6xPeMND022trcH5PPBkdh6nBAH0/WlOpGG44UpT2PoKivBvD/7Qd4t4kXibTYXt2OGmtcq6e+05DfTivcNP1C11XT4L7T5lntp0DxyL0YGnCpGewp05Q3LNFFFWQfPn7RH/I0aV/15n/0M1xfw+8aXPgjxNFeDe9lNhLuEH76Z+8B6jqPxHeu0/aI/5GjSv+vM/wDoZpJvh8PEfwR0bWtLiJ1Syhl3Ig5niErkj3YdR+I9K4JKTqNx6HoQcVSSlsz32yvINQsYbyzlWWCdBJG6nhlIyDU9fP8A8EviB/Zt4vhjV5cWtw+bSR2/1ch/g+jdvf613nxc8fjwloX2HTpV/ta+UiPHJhToX+vYe/0rqjVThzHLKlJT5Tgvjb8QP7TvW8MaTKDaW7/6XIh/1kg/g+i/z+lefeBOPiHoGf8AoIwf+jBXa/BrwAfEWrf2/rERfTrSTMav/wAt5hzz6gdT6nj1rkvCn/JVtJ/7C8f/AKNFccuZtTfU7Y8sYuC6H11RRXlPjn43WWgXkum+H7dNRvImKSzO2IoyOoGOWP5D3rvlJRV2edGEpuyPVqK+cYvj94pjmDzWmnyR5+55TLn8d1eteAfiVpnjqBookNnqMK7pbV2zkf3lP8Q/lURqwk7IudGcFdnaUUV5p47+Mum+FrqXTdKhGpajGcSfNiKI+hI6n2H5irlJRV2RGMpOyPS6K+cV+PvisTea1np7RZ+55TAfnurqLn4/2zeFFurKwRNYEyxyWkzFk2kEl1YYyOPwz+NZqtBmrw9RdD2aiuV+HXiy58Z+E11a9t4reUzvHsiJ24XHPP1rgLL49PD4pnste0+GHT4ZJUM1uGaTK528E45Ix+NU6kUk31IVKTbS6HtNFfPeq/tBa3PeP/YunWttbA/IJgZHI9TggCtnwl8fPtWoR2niuzit45CFW7t8hUP+0p7e4PHpUqtBuxboVEr2Pa6KQEMoZSCCMgjvS1sYBRRRQBxfxX8Sf8I18P7ySGTZdXg+ywEHkFgckfRcnP0r5cj027l0qfUo4WNpBKkUkvZWcMVH/jp/T1r0X46eJBq/jRNLt33QaWmxsHgytgt+QwPwNeieGfhzG3wVk0S6ULealCbl2I+5KRmP8sKD+NcU06s2l0O6DVGmm+o34E+JP7W8GPpU8m640t9gBPPlNkr+RyPwFeoV8qfDDX28IfEa3F6TFDM5s7oH+HJwCfowH619V1vRlzQ9DCvDlnfuFFVNVu20/Rry8jUM9vA8qq3QlVJx+leQaB+0Ak0d8/iOwigMUQa2S13EzPnG3nOOuc+xq5TjF2ZnGnKSuj2qivnO6/aA8TS3DPaWNhBDniMozkD3ORXc678Wr3wz4O0G+v8ASo7jUNXtzMFWQxxxjgjjknhhxUKtBluhNWRQ8E/GnUvFPjGx0a50q1gjuWYNJG7Flwhbv9K9ir408MeIJ/C/iS11m1hjmltixWOTO05Urzj617P4H+M+reKfGNjo91plnDFclg0kZfcMKW4yfas6Va6tJ6mtajZ3itD2SiqGta1YeH9Jm1LVp1gtoRlmPUnsAO5PpXiOuftB6lLeOnh3TYIbYHCPc5d398AgD6c/Wtp1Iw3MIU5T2PfaK8B0T9oPU4rxE8Q6ZBPbE4d7bKOnuASQfpx9a9w0bWLHX9Jg1LSp1ntZ1yjjt6gjsQeCKIVIz2CdOUNy9RXn/wAU/iFfeAo9Laws7e6+2mUP5xb5dmzGMH/arldY/aAii0OxOj2CS6nNEGuRLkRQN0IHduefpjrRKrGLsxxpTkk0j2qvIviP8Hb7xX4p/tjR7+3iNwqrcR3O4bSoA3KQDngdOP14zfAfxa8VeKfGljpM9tYmCdi0rLEwKIoJJBz7Y+prb+JfxW1LwR4nh0yx0+1uY5LVZy8xbIJZhjg9PlqJThOF3sXGFSE7Lc7/AMM6HH4a8NWOkQytMtpEE8xhguepOO3J6Vq1n6BqL6v4b03UpkWOS8tYp2ReilkDED25rlvHnxT0nwSfsmw32psu4W0bABM9C7dvp1/nWvNGMb9DHllKVup3NFfOUnx98VPMZIrPT0iB+55THH47q6az+P8AbzeGbyW6sEg1mFQYYslopzkDg9RjJOD6dazVaDNXh6i6Hs9fLvxk/wCSu6h9IP8A0Ulez/C/x7e+O7C/nv7SC2a1lVFEJbnIJ5ya8Y+Mn/JXdQ+kH/opKzrSUqaaNKEXGo0z6cs/+PGD/rmv8qmqGz/48YP+ua/yqauo5AooooAKKKKACiiigAooooAKKKKACiiigAooooAKKKKACuG+Kulae3w91u9NhbG78kH7QYV8zOQPvYz0rua5D4qf8kv1v/rgP/QhUT+Fl0/jR5d+z/ptjqN9rg1Cyt7oJHDtE8SvtyXzjI4r3az0uw04udPsba1L43mCFU3Y6ZwOa8S/Zz/4/wDX/wDrlB/N693rOgvcRpiG/aM+P/FdtJefEnV7WAbpZtUljQepMhA/nX054T8D6P4U0WKztLOF5to8+4dAzytjkknt6DoK+eHGfjyoPT/hIl/9KBX1XUUIq7ZpiJO0UeE/HLwHY6faxeJdIgS23SiK7ijUKrE/dcAdDkYPrkGuo+BGvSar4HksLiQvJps3lruOSI2GV/XcPwrQ+NQB+Feo57SQ4/7+LXG/s4E7fEY7Ztv/AGrTty1tOoruVDXocv8AGXX7nxB8Q30mGXNtYMLeKPOF8w43MffJx+Fev+CfCnhbwfo0UKz6fcX7KDc3TuhZ2xyBk8L6Cvn/AOIVjJbfE7W4LlhH5l88m9ugV23A/TDCuuj/AGf/ABBLEskWqaa6OAysruQQehHy1lFy527XNZRjyRTdkdl8XPCvhzWPDFzq2nSWMOqWSeYGgdAZ1HVWA6nGSD14xWZ+z1r80sGpaDNIWjhAuYAT90E7WA9s7T+J9awv+Ge/Ef8A0EtO/wC+n/8Aia7L4YfC3WPBHiibUdQvLSaGW0aArCWzksrA8gf3atKTqKVrEScFTcea56vRRRXWcZ8+ftEf8jRpX/Xmf/QzXp/wh/5JRov+5L/6NevMP2iP+Ro0r/rzP/oZr0/4Q/8AJKNF/wByX/0a9c0P40jqn/AieT/Gb4fnw9q3/CQaPEU0+7kzKqH/AFEx5/AHqPQ8elcv4e0jWfid41jiurmSaRgpubl/+WcSgD88cAdyfqa+rru0tr+1e2vreK5gkGHimQOrfUHg1Bp+jaXpHmf2VptnY+Zjf9mgWPdjpnaBnrQ6Ccr9AjiGo26jtK0u00XSrfTtOhWG2t0CRoPQdz6k9Se9fKPhT/kq2lf9heP/ANGivrmvkbwp/wAlW0r/ALC8f/o0Uq+8R4faR7/8XvE8vhrwFO1oxS7vXFtE4PKZBLN/3yD+JFeU/Bzwdo+tXU+seJJLdra1kCQ280igSyYySwPUAEcdDn2rtv2hLWWTwfp1wgJjhvMPjtuU4/lXlHgn4cX/AI6tbmXTL+zhe2cK8UxYNgjIbgHjqPwqajftdrlUklSvex9J31p4V1LT3sb1dLltnXaYyyAAe2Oh9xXzdf4+HPxWL6VN59vYXKyRsrg+ZEwBK5HX5SVrpv8AhnvxH/0EtO/76f8A+Jo/4Z78R/8AQS07/vp//iaJ88re6On7OF/euj1r4jeKW8O/Dy71Swk2zzIsdtIOzP0YfQZP4V4z8HvAcHjDWbnUtbXzrCyYbo2J/fynnB9h1Prke9d78YdKuYPg3YW7kO+ny2/nMnQ4RkJ+mWFVP2eL2F9A1axDATx3Cylc8lWXAP5qaqXvVUmRH3aLcT1d9I02SzNo+n2rWxXb5JhXZj0xjFfNXxd8D2/g3xHC+mKyadfqzxITny2BG5QfTkEfWvqGvD/2itQgK6Jp6kGdTLOw7qpwB+ZB/KrrxXJcjDyfPY6f4Ef8kzT/AK+5f6V4RBpJ174kf2UH2C71Jomb+6DIcn8s17v8CP8Akmaf9fcv9K8d8Jf8lssv+ws3/oZrGesYI2g7Tmz6U0bwtougabHY6Zp0EUSLgkxgs59WJ5J+teLfHjwjpukXFhrOl26WrXjtFPHGoVWYDIYAdD1z619AV49+0T/yLmkf9fbf+gVvWivZswoyftEdf8Jr6TUPhfo8szFmjjaHJ9EYqP0Arsq4L4Lf8kp0z/fm/wDRrV3tXD4EZ1PjYVleJtch8N+Gr7V7gbltYi6pnG9v4V/E4FateJ/tB+JWjt7Dw5bvjzf9KuQDzgcIPpncfwFFSXLFsKceeSR5FpN9ZXPjCDUPEzSSWr3Pn3exdzPzuIx7nj8a9+Hx48HAYH24D/r3/wDr1w3w6+Ddn4r8KprGtXd5ameRhAkBUZQcbjkHqQfyrqv+GefDn/QV1T/vqP8A+IrlpxqpXj1OurKlJ2l0PHfH2p6PrHjO71Tw55qW10RKyyJsKyH735nn8a+kvhv4m/4SrwLY30h/0mNfIuB/trwT+Iwfxrzbxd8CtP0jwrfajol7fXF3ax+aIpihDKOW6KDnGT+FZfwC8SNY+JrjQp5MQagm+IE9JUGePqufyFOHNCpaXUKnLUp3j0PdPEn/ACKuq/8AXnN/6Aa+Wvhz4UTxj4zttMuHKWqq01wVPJRew+pIH419S+JP+RV1X/rzm/8AQDXgHwB/5KLP/wBg+T/0NKuqk5xTM6LapyaPoDT/AA7o+l2K2dhplrDbqu3YsQ5+p6k+5qa50jTb1IlvNPtbhYRtjEsKsEHoMjjoKuUV0WRzXZ8nfCm2gu/idpMF3DHPCzSbo5UDKf3bdQa+orfQtJtJ1ntNLsoJV+7JFborD6ECvmL4Q/8AJVtH/wB+T/0U1fVlc+HS5TpxLfOfOXx48TSaj4uTQ4XYW2moC654aVgGJ98KQPzr0j4d+EPDPhXQoJLmWwn1WeMPcTyyIxQkZ2LnoB04614t8W7SW0+KWsCZSBLIsqE/xKyA8fqPwresvgPruoWEF5a6pprw3EayRsGflSMj+Gs05e0btc1lGPs4q9j0X4n+FvDfiLwvd3dpJYRaraRNLDLFIitJtGShwecgcZ6GuO/Z98QyxatfeH5WJgmj+0wgn7rrgNj6g/8AjtUv+Ge/Ef8A0EtO/wC+n/8Aia6f4efCLWvCHjG31a9vbOWCON0ZIi247lx3HrVWm5qXLYhuCpuPNcp/tHf6nw7/AL1x/KOnfBP4faVd6IviTV7eO8nkkZbaKVQyRqpxuweC2c9emKb+0d/qfDv+9cfyjrsvgv8A8kr03/fl/wDRjU0k6zuJyaoKx2sdnaxSLJFbQo6ghWWMAgema+dv2gf+Sh2v/YNj/wDRklfSFfN/7QP/ACUO1/7Bsf8A6Mkqq/wEYf8AiHsGn6wPD/wasdVYBvsmjQyKp6FvKXA/PFeD+APDU/xI8eSyaxK8kAJur6TOGfJ4UemSfwANev61bSXf7OSRwglv7Gt3wPRVRj+gNcR+zxfwQ+IdWspGVZri3R4wT97YxyB/30D+dRPWcYvY0h7sJSW57laaLpljYpZ2mn20Vsi7REsQ24/rXg/xr+H1n4fkg17RIFgtLqTyriFPuxyEEgqOwIB46Aj3r6Gry/4+ahBb+AI7ORh591dp5ad8KCS30HA/GtasU4Mxoykpqxk/s6/8gXWv+viP/wBBNcH8ZP8AkruofSD/ANFJXefs6/8AIF1r/r4j/wDQTXB/GT/kruofSD/0UlYS/go6Yfx5H05Z/wDHjB/1zX+VTVDZ/wDHjB/1zX+VTV2nAFFFFABRRRQAUUUUAFFFFABRRRQAUUUUAFFFFABRRRQAVheNdJl13wTq2m2w3Tz2zCNc9WHIH4kVu0Umrqw07O58r/Dbx3/wr3W7039jLPDcoI5o1O142U8HB+pBHv7V7/4G8eWPjuyurjT7ea3+yyCNkmIycjIPH4/lUms/Dzwrr1815qejQSXLnLyplC/udpGT7mtDQ/DOjeGoZItD06GyWUgyGMcvjpknk4yfzrGnCcHa+htUqQmr21Pmlv8AkvS/9jGv/pQK+q6yv+EW8P8A2/7d/YWmfa/M837R9jj8zfnO7djOc8565rVqqcHC5NSop28jgvjV/wAkr1H/AH4f/Ri1xn7OHTxJ/wBuv/tWvaL2ws9StWtdRtYLu3fBaGeMOjYORkHiodN0TStG8z+yNMs7DzceZ9lt0i34zjO0DOMn8zQ4N1FIFUSpuB5n8ZPhrP4gUa/oMRkv4Y9txAvWZB0Kj+8OeO4x6c8H4L+MOseDrVdJ1Wz/ALQs4PkSN2McsPtkg8exH419LVi6x4O8O6/L5usaPaXUuMea0eHx/vDB/WplTfNzQdmVGquXlmro8g1v9oW5uLJodA0cWs7cefcy+Zt+igDn6n8K7z4Ta34n1rwy0niq0ddjYt7uQbXnX3X2/vcZ/CtvTPAHhTSLhZ9P0GzjmQ5WRo97KfUFs4/Cui6U4xne8mKc4NWigooorYxPnz9oj/kaNK/68z/6Ga9P+EP/ACSjRf8Acl/9GvXSaj4f0bWJUl1bSbG+kRdqvc2ySFR6AsDgVZs7K10+0S1sLaG1t487IYIwiLk5OAOBySayjTam5G0qidNQ7E9FFFamIV8jeFP+SraV/wBheP8A9GivrmsiLwl4cgu0uoPD+lx3COJFmSyjDq2c7gQMg571lUpubXkbU6ign5kviHQ7XxJ4fu9JvxmG6j2kgcqeoYe4IB/Cvmaa38VfCHxaZYwYyMqsu0mC6T09/p1FfVdQXljaajavbahbQ3UDjDRTIHU/gaKlPn1W4qdXk0eqPGYP2jIfsg+0+HZDcAciO6AQn8VyP1ql4Z+KXjbxT49tzp9gs1gW2S2US4jSMnlmkPRh6/pzXp3/AAq/wUZvN/4R603Zzj5tv5ZxXR2GnWWl2q22m2kFpAvSOCMIo/AVKhUb96RbnSS92JFrOk2uu6NdaZqCFra6jMbgHBGe4PqOor5kvLDxN8IPGX2iAY25WK4KEw3MZ7H+o6gj6GvqmoLyxtdRtXtr+2huoHGGimQOrfUGqqU+fVbkU6nJo9UeLP8AtFqdOPl+HiL3bgFrnMYb1+7nHt+teXeIJvEPiZJ/FmsRySQSTLB5+3agOCQij0AB/rya+l0+GPgtLjzl8O2e/OcFSV/75Jx+lb1zo+mXtgtjeadaXFomNtvLArRrjphSMcVm6U5L3maxrU4P3YnBfAj/AJJmn/X3L/SvHfCX/JbLL/sLN/6Ga+orDTbHSrX7Nplnb2cGS3lW8Sxrk9TgACqUPhXw9b3y3kGhaZFdK+9Z0s4w4b+9uAzn3qnSbUV2JVVJydtzWrx79on/AJFzSP8Ar7b/ANAr2Gqeo6PpusRpHq2nWl8kZ3ItzAsgU+oDA4rSceaLRlTlyyUjjvgt/wAkp0z/AH5v/RrV3tV7KwtNNtFtdOtYLS3TO2GCMIi5OTgDjrVinFWikKT5pNjJpo7eB5p3WOONS7uxwFAGSTXyTqtzd/ET4lSNbEmTUrsRQbuiJ91c+wUZP419az28N1byQXUSTQyqVkjkUMrg9QQeCKzrPwt4f066S50/QtNtbhPuywWcaOvbggZFZ1KbnZGlKoqd31LemafBpOlWun2gxDaxLEg9gMVaoorYxEZQ6MjjKsMEHuK+S/FOl3PgD4kypakr9juVubRxxlM7l/wP0NfWtZuoeHdE1a4E+q6PYX0yrtElzapIwHplgeKyqU+daG1KpyPUoXWqwa58ObnU7Ng0N1pskq47ZjOR9QePwrw/4Af8lDuP+wfJ/wChpX0Pb6ZYWmn/AGC0sreCzwV+zxRKseD1G0DHOTVfT/DmiaTcG40rRtPspiu0yW1qkbFfTKgHHAolBykn2CNRRjKPc0qKKK1MT5OjkuPhr8VPNntmk/s66YhCdvmRHIBB91Ne5+DPi1pPjTXjpVpZ3NrN5LSq0xXDYIyoweuDn8DXSa/4Q0HxOE/tzTYbp4xhJGBDqPQMOce1QaJ4D8M+HbpbrSNIt4LlQQsxBZ1yMHBJOOPSueFOcHo9DonUhOOq1OU+MHw6m8W2EWp6Ou7VLNCvlf8APePrtH+0D0+pry7wZ8VNc8Bg6TqFobuyhYj7LOTHJCe4UkcDPYj8q+nayNY8KaD4gIbWdJtbtwMCSSMbwPTcOf1pypty5ouzFCqlHlmro8i1b9oiSSxZNE0QQ3DDAluZt6p/wEAZ/Ous+EHiHxVr2lXL+JrZ2tw263vZBsaTJyV29wOx/CujsPh34R0ydZrPw/ZLIpyrOnmFT6jdnFdIAAMAYA7CnGM73kxSnDltFHiX7R3+p8O/71x/KOuy+C//ACSvTP8Ael/9GNXXalomlayIxq+mWd+Is+X9qt1l2ZxnG4HGcD8qmsrG0021W1061htLdM7YYIwiLk5OAOKag1UchOonTUCxXzf+0D/yUO1/7Bsf/oySvpCs3UPDmiatcC41XRtPvplUIJLm1SRgvJxlgTjk8e9OpDnjYVKahK7KPg6GO4+HOiQzoJIpNMhR0YZDAxgEGvAPGPg7Wfhj4sTVdH80WSy+ZaXajd5f+w/vjjnqK+m4IIrW3jgtokhhiUJHHGoVUUcAADgAelLLDHcQtFPGksbjDI6ghh6EGlOmpJLsOFVwk30Z4jZftFbNOUahoBkvFXDNDcbY3PrgqSv05rzvxLrPiT4gzXevXluzWdggB8pcRW6lgAAT1JJ+v4CvouX4ZeDJbjzn8O2YbOcKpVf++QcfpW6mjaZHpZ0xNOtRYFdptfJXyyPQrjFZunOStJmqq04u8Ynk37Ov/IF1r/r4j/8AQTXB/GT/AJK7qH0g/wDRSV9K6do2maOjppGnWlgshBdbWBYgx9TtAzUF74Y0DUbxrvUND027uWxumntI3c4GBliM9BTdJuCiTGslUc7F6z/48YP+ua/yqakACqFUAADAA7UtdBzhRRRQAUUUUAFFFFABRRRQAUUUUAFFFFABRRRQAUUUUAFFFFABRRRQAUUV59d/GvwhZXs9rPNdiWCRo3xbkjIOD/KpclHcqMZS2R6DRXnH/C9fBf8Az3vP/AY/41asPjR4KvrgRHUpLZm4BuIGVT+IBA/Gl7SHcfs59jvaKit7mG7t0uLWVJoZBuSSNgysPUEVLVkBRRRQAUUUUAFFFFABRRRQAUUUUAFFFFABRRRQAUUUUAFFFFABRRRQAUUUUAFFFFABRRRQAUVXv7630zTri+vZBFb28bSSOeygZNeWfDn4l+JPGvjG6tDZWv8AZMe6VpNjB4Ez8i7gcEn6dj6VDmk0u5cYOSbXQ9bornfFnjnRvBa2ra48yC7LiLyoy+duM59PvCn+FfGmi+MrWabQ7hpPIYLJHIu11z0OPQ+vtT5le3UXLK3NbQ36KKKokKKa7rHGzyMFRQSzE4AHrXBJ8afB0upLZQ3NzJI8oiRltztYk4BB9KlyS3KUZS2R39FFFUSFFZPiXxNpvhPRzqWsytHbh1jGxdzMx6ADv0J/CsTw58UvDPinWE0zS55/tLozIssJQNjqAfXFS5RTtcpRk1dI7GiiiqJCiuX8V/ELQvBl1b2+tyTrJcIXTyoi/AOKwP8Ahevgv/nvef8AgMf8ahzinZstU5tXSPR6K86T45+CmcBrm7QH+JrZsD8q7DQ/E2jeJbYz6HqMN4i/eCHDL9VOCPxFNTi9mJwlHdGrRWdr9xqNpoF5caLBHc30UReGGXO1yOccc9M/jXAfCj4n3XjG9vdN14QR3yfvoBEuwMnAKgEnkHn6H2pOSTSY1BuLkuh6hRRRVkBRRRQAUUUUAFFFFABRRRQAUUUUAFFFFABRRRQAUUUUAFFFFABRRRQAUUUUAFFFFABXx9c2Kan8SZbCVmRLrVjCzL1AaXaSPzr7Br5Itv8Akr8P/YdX/wBH1y4jodeG+0etf8M8aD/0GNR/KP8A+JrL1/8AZ8ig0uWfw/qs011GpZYLlRiTHYEdDXuNZ+t65p/h7SpdQ1a5jt4IxnLtgseygdyfStHSp22MlWqX3PAvgr40utH8UReHb6ZzYXzGOONzxDN2x6ZPGPUivo2vk/wPbz+Ivi1p81rFjfqH2xwBwiK+8/px+VfQ3xD8YSeCPDK6rDaLds1wsPlu5UchjnP4VFGVoO+yNK8bzSW7OqoryD/hfunr4TS9aw3as8rR/Ykk+VQMEOWx0II7dc1h6X8ePEmp61a2MOj6aTczLEijzM5Y467vf0q/bQ7maoVOx73RUN1dQWNpLdXkyQwQqXkkc4VQOpJrxrxH+0FHb3kkHhnTUuY0OBc3TEB/cKOcfU1cpxhuRCnKfwntdFeB6d+0RqS3C/2votrJDn5jauyMB/wIkGvZ/DviTTfFOjx6lo8/mwvwwPDRt3Vh2NKNSM9hzpShuatFZfiHxDp3hfR5dS1ifybePgYGWduyqO5NeNah+0Tem5b+y9Dt1gB+U3MjMxH/AAHAH60SqRhuEKcp7I95oryzwV8btO8RahHp2tWo0y6lIWKQPuidv7uTyp9M8V6i7rHGzyMFRRlmJwAPWqjJSV0TKEoOzHUV474o+Ptpp9/Ja+G7BdQWM4N1M5WNj/sgcke/FZ+jftDu14ia/o0aQMcNLaOcoPXa3X86z9tC9rmnsKlr2PcqKq6dqNpq2nQ3+nTrcW06745E6MK801X4w3OnfEc+GF0iJ4xex2vnmYg4YqM4x/tVcpqKuzOMJSdkeq0UVzHj/wAWSeC/CzatDardMsyR+Wz7R83fNU2krsSTbsjp6K4z4beOpfHmk3d5PYpZm3nEQVJC275Qc8j3rH+IvxWn8DeIINOi0uO7WWATF2lKkZYjGMe1T7SKjzdClTk5cvU9LorxzxT8fLWwlSDwzZx3zGNWeeZiI1JGdoA5OO/Iq78M/inrfjfxJJp99p1lFBFA0rywBwRyAByT3NT7WDlyor2M1HmaPVqKxvE/irSvCOktqGsz+WnSONRl5W/uqO5/SvGtQ/aI1Rrg/wBlaLZxQ54+0szsR/wEgU5VIw3FClOeqR79RXi/hn9oCC7vo7bxNpyWaSHb9qt2JVD6sp5x7gmvZYZo7iBJoJFkikUMjochgeQQe4pxnGewpwlB+8PoooqyDyb4++Izp/hi20SBsS6jJulx2iTBx+LEfka2/g54ZHh7wDbzSri61L/SZeOQp+4P++efqTXmHxhkk1/4wWujRHJjFvaKP9qQhv8A2cV9EwQpbW8cEQ2xxIEUegAwK54e9Ub7HRP3aUY99TxX9o7/AFHh7/euP5R15X4L8WXngzxJBqlp86fcnhPSWM9R9e4PqBXqn7R3+o8Pf71x/KOsPQPAC+MPguLvT4l/teyupmiPeZOCY/6j3+prGom6r5TopyiqS5tj37SdVs9c0m31LTZlmtrhA6MP5H0I6EVcr5w+Dnj9vDWsHQdZlKaddyYQv0t5en4A9D6HB9a9h+I3jaHwT4Za5GHvrjMdpEe7d2Psuc/kO9dMKilHmZyzpOM+VHD/ABv+IJs4G8LaPNieVc30ifwIekefU9T7Y9a8T0L/AJGPTf8Ar7i/9DFdj8NvBl18QfFkl/q7yS2MMnnXkz5JmcnOzPqe/oPwrN16NIfjFdRxIqRprG1VUYCgSDAArjm5SfOztgowXIj6zooqjrOq2+h6JeaneHENpE0rY6nA6D3PSvRPM3PB/j74lF/4jtdCtpN0WnpvmAPHmsOn4Lj/AL6Ned6Zd6h4Q8TWF+YmhubZo7hUcY3owDAfRlP61p+HNOuPiD8SYo7zc3265ae6K/wpnc2D9OB+FejfH7wqI7bTtfsolWOFRZzhR90dYz9Oo/KvPac71D0k4wtTZ7Tp97DqWm219atuhuYllQ+oYZH86sV5T8BfEn9peFJ9GuJN0+mvmME8mJskfkcj8RXq1dsJc0Uzz5x5JNHgH7RP/IxaP/16v/6HS+Bfg1pPivwbZaxd6lewzXG/ckQTaNrleMj2pP2if+Ri0f8A69X/APQ69G+Df/JKdJ/7a/8Ao1q51FSrNM6nKUaMWjmZP2d9FMbCHWb9Xx8pZUIB+mBXluo2eufCbx4qw3GJocSRypkJcRE9CPQ4II9RX1gSFUljgDkk9q+Z/jb4msPEPjGCLS5UuIbCDymnjOVdyxJAI6gcD65orQjGN1owo1JzlaWqPorQ9Wh17QbLVbUFYruFZVU9VyOQfoeK+ffHVtJ8OvjPBrFmm23mkW9RU4yrEiRP/QvzFe2fDvT59L+HejWt2jJMtsGZGGCu75sH864D9ojTg+h6RqQHMVy0BPsy7h/6Aaurd0+bqjOk0qnL0Z7DBNHc28c8DB45FDow6MCMg0+uT+GF+dS+GWiXDNuYQeUT/uMU/wDZa6yt07q5hJWbQUUUUxBRRRQAUUUUAFFFFABRRRQAUUUUAFFFFABRRRQAUUUUAFFFFABRRRQAUUUUAFfG2sQT3Xje+gs1ZriXUJEiVTglzIQAPxr7Jr5Itv8Akr8P/YdX/wBH1y4jodeG0uaA+HnxGP8AzDtQ/wDAkf8AxVPh+E3j3VLhI7qwkQZx5l1cLtX9Sfyr6kop/V49yfrMuyOH+HPw1s/AtrJNJKLvU7hQss4GFVf7qj0z371k/H3/AJJzF/1/xf8AoL16dXmPx9/5JzF/1/xf+gvVzio02kRTk5VU2eefBjwDY+K9QutS1qPzrOxZVWAnCyuefm9gO3fIr3+Hw9o1t5X2fSbKIwsGjKW6goR0IOODXmX7O/8AyK+rf9fg/wDQBXr9KjFKCY68m5tHiX7QXiaeBbHw5bSFEmT7TchT98ZIRT7ZDH8BWj8JfhrpVn4ft9b122hvL68QSRRzKGWBD04PBJHOfwrivj9ayxfEGCd8mOexQofTDMCP6/jWfovwZ8R6/otrqmnXWmNbXSb0LTsCOxB+XqDkVi2/at2ubqK9klex7f4w+Hfh/wAT6LNAlna2l7sJguYYwhRu2cdR6ivH/ghrlzo/xAbRpXIt79XjeIngSoCQ314YfjR/woHxd/z30v8A7/v/APEVs+Efgx4p0DxhpeqXM+nmG1uFkkEczFivfA2+lN8zmpKNhLkjBxcrk37Rf2zzNE+/9hxL0+75nHX3x0/Gr3wgvvAg8K29pdf2fHrDMwuBequ+QljjaW6jGOBXqmuaDp3iTSpNO1i2W4tpOqngqexBHII9a8c1z9niQb5PDuso3PywXqEYH++uf/QauUJKfOlciE4ShySdjqda+COgax4iOpw3E2nQsFLW9mqqNw/iBOcZ46Ct/wCJCXkfwv1lNNZ2nW1xu/iKAjef++N1eDJqnjb4Ta7Fa3MskSY3i3kfzIJkz2/xGCK+kPD2sQeJ/DFlqkUeIr2EM0bc7T0ZT64ORTg4yukrMVRSjZt3R86fCC88KWXiK4fxcLcExgWr3S7olbPOc8A4xgn3r2XxP8OvDPj3TLebT3tbZlcMt7YKjb17rkcH+mKwvE/wF0fVbuW70K8fSpJCWMHl74s+wyCo/P6V5trXgTxp8NlOq29yy2yMN11YTNhecDcCAeuByMc1mlKnG0o3Ro3GpLmjKzPoTwh4UtfBugjSrG5ubiESNIGuGBKk4yBgDA4zj1Jr5+8Tf8nCN/2GLf8A9CSvXPhJ4/uvGuj3MOqqv2+xKh5UGBMrZw2Ox4OccV5F4pYR/tAuznaF1e3JJ7DclOo04RcdhUlJTkpb2Pp+vN/jt/yTOT/r7i/ma9Irzb47sB8M3BOC13EB79a3qfAznpfGjK/Z4/5FXVf+v0f+gCuR/aC/5Hqy/wCvFf8A0Nq679nj/kVdV/6/R/6AK5H9oL/kerL/AK8V/wDQ2rnl/AR0x/3hnafCf4Z6RbeGLTWtZs4r2+voxNGJl3LFGeVwp4yRgk+9em2ulafZTtNZWNvbyuu1niiVCw9DgVneCePAHh7/ALBlt/6KWtyumEUoqxyzk5Sdz5c+IOr3fjv4ovp9rIWhS5+w2iE/KPm2lvxOTn0xXu/hj4feHPDOkx2sVlbXU4X97czxq7yN3PPQewr5gvtKnbxjc6VK6Q3Bvnty8xwqtvK5J9M13P8AwoHxd/z30v8A8CH/APiK5KcnzN8tztqRXKo81kdR8aPh9pUOgN4i0O2htJrZ1FzHCAqyIx2hto4yCR07E+lavwF8RTap4TudKumLvpkgETH/AJ5tkgfgQ34EVwX/AAoHxd/z30v/AL/v/wDEV6F8Jfh5rfge/wBSk1iS0eO6iRUFvIzHKk9cqPWripe05rWM5uPsuXmueoUUUV1nGfOOpfv/ANppPM5xqsOM/wCyq4/kK+jq+cfGB/sX9o6G7l+WFr60m3H+6QgY/wDoX5V9HVhR3l6nRW2j6HiP7R3+o8Pf71x/KOuk+A//ACTVf+vyX+lc3+0d/qPD3+9cfyjrpPgP/wAk1X/r8l/pUr+Oyn/u6ON+N3w++w3LeKdIixbzMBexov8Aq3JwJPoTwff6155aDX/iF4h0/TpLiW9uRGtvE0nIijXufYDknqa+u7i3hu7aS3uokmhlUo8bjKsD1BFZ2l+GND0W4afSNJtLOV12M8EIUkemRRKheV1sEMRyxs1qM8LeG7Pwn4dttJ08fJEMvIRzK56sfc18zeIv+Sz3n/YZ/wDatfWNfJ3iL/ks95/2Gf8A2rSrqySQ8O25Ns+sa8g+P/iU2WhWmgW74kvm86fHXy1PA/Fv/Qa9eJCqSxwBySe1fJnjDVLnx78Sp2sSZ/tNwtrZLnjYDtXHoD978TV15WjZdSMPG87vodB8H/FXhjwfJqF9r08iXswWKHZCz7Y+rcj1OP8Avmu78U/FPwJ4l8L3+kTX1wBcwlUY2r/I/VW6djg1TX9nXTdo369dbsc4hXGaX/hnXS/+g9d/9+VrOMasY8qRpKVGUuZtnmHwy8Sjwt49sruZ9trMfs9wewRjjP0Bwfwr6z69K+VPiX8P/wDhAtUs44LmS6tbqIskrqFO5T8w4+qn8a97+F3iX/hJ/AVlcSnN1bj7Ncc9WTgH8Rg/jToNxbgxYhKSVSJ5h+0T/wAjFo//AF6v/wCh1xGi+DfGmq6TDeaJZXkllJny3jmCqcEg4G4dwa7f9on/AJGLR/8Ar1f/ANDr0b4N/wDJKdJ/7a/+jWqORTqtMv2jhRTR4ifht8Q518uTTb1lbgh7gYP/AI9XceAfgbPa38Op+MGjxCweOxjbduI6bz0x7D8+1e30VtGhFO5jLETatsFeb/HaNX+GcjN1ju4mX65I/kTXpFeWftAXgg8A21sD81zfIMf7KqxP64q6vwMzpfxEXfgXIz/DGFWziO6lVfpkH+ZNejVwfwYszafCvTWYYa4aWUj6yMB+gFd5Tp/AhVPjYUUUVZAUUUUAFFFFABRRRQAUUUUAFFFFABRRRQAUUUUAFFFFABRRRQAUUUUAFFFFABXyRbf8lfh/7Dq/+j6+t6xh4Q8Nrei8XQNMFyJPNEwtE3h853ZxnOec1lUpudjalUUL36mzRRRWpiFeY/H3/knMX/X/ABf+gvXp1VNR0uw1e1Ftqtlb3sAYOIriISLkdDg9+TUzjzRaKhLlkmeWfs7/APIq6r/1+j/0AV69VLTdH03RoXi0jT7WxjdtzpbQrGGPTJAHWrtKEeWKQ6kuaTkcL8VPAR8a+H1aywup2RL25JwJAeqE++OD6ivFfB/xD174a3dxpl1ZtNbLJ+9sbglGjbuVODtz9CDX1JWVrPhjRPEMezWtLtrzjAaRPmX6MOR+BqJ023zRdmaU6qUeWSujyq9/aKtBZ/8AEu0GY3JH/LeYBFP4DJ/StD4TeO/FXivV70avZefpzEut2iBFt27Rj+8PzI6nrXVWfwo8EWFwJoPD8DODkCaSSVf++XYj9K6yCCK2hWG2iSKNRhURQoH0AojGpe8mEp07WijzX40X3i3TNFhuvDdw8OnYK3jQL+9Q9ju6he3GP1rj/D/7QN3YaTFaa1pP2+aFAguY59hkwMDcCp59T+le+soZSrAFSMEEda5bUPhl4N1O6Nxd6BbeYTkmItECfcIQDRKE+a8WEJw5eWaPnvxT4n1r4p+KLRILDDgeVa2kOX25OSScc+54AAr3+DQtZ8NfCqPSfDk0Z1e0tR5bum5WkzuYAH1ywGfbNbmj+HNG0CLy9G0y2swRgmKMBm+rdT+NadEKbV23qwnVUrKK0R81eGfjH4j8LaheQeIYptUEkuZIrlzHJC/Q4ODjp93GOO1P8dfGe78W6LJo9hposLWcjzmaXzHkAOcdBtGQPWvd9b8G+HvEbbta0i2upP8AnoV2v/30uD+tV9I+H3hTQ5hNpmh2scoOVkcGRl+hckj8Kj2dS3LzaF+1pX5uXU4z4F+Eb3QtDu9V1ONoJNRKeVEwwwjXOGI7ZJ6eg965H45+Drqx8Rf8JPZRyPaXYUXDqM+TKoCgn0BAHPrmvoSmSxRzxNFMiyRuMMjjII9CKt0k4cpmqzU+c8K0L9oSa10yODXNIa7uI0C/aIZgvmY7spHB9wfwrjfHHjrXPiEpuGsnt9KsCGMUWXSMscBnbHJ7Dp3x3r365+F/gu7ufPm8PWofOf3e6Nf++VIH6VuR6BpEOlNpkel2a2DDDWwgXy2+q4wah06klaTNFVpxd4x1PMf2eP8AkVdV/wCv0f8AoArkf2gv+R6sv+vFf/Q2r3/TdH03RoXi0jT7WxjdtzpbQrGGPqQB1qHUfDeiaxcLPq2j2N7Mq7VkuLZJGA9MkdKp026fIQqqVTnK/gv/AJEHw/8A9gy2/wDRS1t1HBBFbW8cFtGkUMSBI40XCooGAAB0AFSVstFYxbu7nhnxn+G11LfyeKNChadZBm9gjXLIQP8AWADqMdfTGfpl+Efjtf6Lp8Vh4gsm1KKFdiXCybZQB0ByMN9eD9a+h65rWPh34T16YzanodtJKeskeYmb6lCCfxrGVNqXNB2N41YuPLNXPKvEX7QVzdWr2/hrSzaO4wLm4cOy/RAMZ+pP0r034ba5rmveEIbrxJYvbXI+VJWAX7SmOH2/w/yPUdas6R8PvCmhSCXTNDtY5B0kkBlZfozkkV0lVCM07yZM5QatFBRRRWpieCftCaRJBrOla3Eh2SxG3dx2ZTuX9CfyNeyeFdYj8QeE9N1SJw/2i3VmPo4GGH4MCKz/AIh+GP8AhLfBN7psYBuQvnW2f+ei8ge2eR+NeafAbxX9lnu/Ceolo5C7TWofjDD76fXjP/fVc/wVfU6PjpeaJP2jv9R4e/3rj+UddJ8B/wDkmq/9fkv9K7vU9D0rWhGNY020vxFny/tMCybM4zjIOM4H5VLp+mWOk2v2bS7O3s4NxbyreIIuT1OBxVqm/ac5LqJ01AtUUUVqYhXyd4i/5LPef9hn/wBq19Y1jyeEvDs1815NoOmyXTP5hna0QuWznduxnOe9ZVIOdjalUUG7nO/F7xMvhzwDdLG+271D/RYAOvI+Y/gufxIry34DeGRqfiubWrhcwaYn7v3lbgfkMn64r33U9C0nWvL/ALX0y0vvKzs+0wLJtz1xkHFP03SNO0aBodJsLaxidt7JbQrGrNjGSAOvApSpuU1JhGoo03FbsuUUUVsYnEfFvw0fEngC7WCPfdWX+lQgDk7R8wH1XPHrivKfgP4lbTPFsujTyYt9TT5AT0lUEj8xke/FfRhAIIIyD1BrGh8HeGra6S5t/D+lxTxuHSVLOMMrA5BBAyDmsZU25qSNo1EoODPGv2if+Ri0f/r1f/0OvRvg3/ySnSf+2v8A6Nauo1Lw9o2syJJq+lWV88Y2o1zbrIVHoCRxVmysbTTbNLXTraG1t487IYUCKuTk4A4HNONNqbkEqidNQ7FiiiitTEK+f/j/AKx9v8TaZoVqTI9rHvdF5/eSEYX64AP/AAIV7lrWr2ug6LdapqD7Le1jLt6n0A9ycD8a8A+GumXfxA+Kdx4k1JR5FrN9ql7jf/yzQfTr9F96wrO9oLqdFBWvN9D3nw1pX9h+F9N0zjNrbJG2P7wHP65rUoorZaKxzt3dwooopgFFFFABRRRQAUUUUAFFFFABRRRQAUUUUAFFFFABRRRQAUUUUAFFFFABRRRQAUUUUAFFFFABRRRQAUUUUAFFFFABRRRQAUUUUAFFFFABRRRQAUUUUAFFFFABRRRQAUUUUAFFFFABRRRQAUUUUAFZdr4a0Sy1KbUbXSrSO9mcyPcCEbyx6nd1H4VqUUrILsKKKKYBRRRQAUUUUAFFFFABRRRQAUUUUAFFFFABRRRQBDdWtve27W95BFcQv96OVAyt9QeKraTommaFBJDo9jBZRSyGR0gQKCx4zgfQVfopWQXewUUUUwCiiigAooooAKKKKACiiigAooooAKKKKACiiigAqzaafcXwc2yBtmM/MB1qtXQ+F/u3P1X+tZ1JOMW0aUoqc1Fmf/YOof8APEf99j/Gj+wdQ/54j/vsf4119Fcn1iZ2fVoHIf2DqH/PEf8AfY/xo/sHUP8AniP++x/jXX0UfWJh9Wgch/YOof8APEf99j/Gj+wdQ/54j/vsf4119FH1iYfVoHIf2DqH/PEf99j/ABo/sHUP+eI/77H+NdfRR9YmH1aByH9g6h/zxH/fY/xo/sHUP+eI/wC+x/jXX0UfWJh9Wgch/YOof88R/wB9j/Gj+wdQ/wCeI/77H+NdfRR9YmH1aByH9g6h/wA8R/32P8aP7B1D/niP++x/jXX0UfWJh9Wgch/YOof88R/32P8AGj+wdQ/54j/vsf4119FH1iYfVoHIf2DqH/PEf99j/Gj+wdQ/54j/AL7H+NdfRR9YmH1aByH9g6h/zxH/AH2P8aP7B1D/AJ4j/vsf4119FH1iYfVoHIf2DqH/ADxH/fY/xo/sHUP+eI/77H+NdfRR9YmH1aByH9g6h/zxH/fY/wAaP7B1D/niP++x/jXX0UfWJh9Wgch/YOof88R/32P8aP7B1D/niP8Avsf4119FH1iYfVoHIf2DqH/PEf8AfY/xo/sHUP8AniP++x/jXX0UfWJh9Wgch/YOof8APEf99j/Gj+wdQ/54j/vsf4119FH1iYfVoHIf2DqH/PEf99j/ABo/sHUP+eI/77H+NdfRR9YmH1aByH9g6h/zxH/fY/xo/sHUP+eI/wC+x/jXX0UfWJh9Wgch/YOof88R/wB9j/Gj+wdQ/wCeI/77H+NdfRR9YmH1aByH9g6h/wA8R/32P8aP7B1D/niP++x/jXX0UfWJh9Wgch/YOof88R/32P8AGj+wdQ/54j/vsf4119FH1iYfVoHIf2DqH/PEf99j/Gj+wdQ/54j/AL7H+NdfRR9YmH1aByH9g6h/zxH/AH2P8aP7B1D/AJ4j/vsf4119FH1iYfVoHIf2DqH/ADxH/fY/xo/sHUP+eI/77H+NdfRR9YmH1aByH9g6h/zxH/fY/wAaP7B1D/niP++x/jXX0UfWJh9Wgch/YOof88R/32P8aP7B1D/niP8Avsf4119FH1iYfVoHIf2DqH/PEf8AfY/xo/sHUP8AniP++x/jXX0UfWJh9Wgch/YOof8APEf99j/Gj+wdQ/54j/vsf4119FH1iYfVoHIf2DqH/PEf99j/ABo/sHUP+eI/77H+NdfRR9YmH1aByH9g6h/zxH/fY/xo/sHUP+eI/wC+x/jXX0UfWJh9Wgch/YOof88R/wB9j/Gj+wdQ/wCeI/77H+NdfRR9YmH1aByH9g6h/wA8R/32P8aP7B1D/niP++x/jXX0UfWJh9Wgch/YOof88R/32P8AGj+wdQ/54j/vsf4119FH1iYfVoHIf2DqH/PEf99j/Gj+wdQ/54j/AL7H+NdfRR9YmH1aByH9g6h/zxH/AH2P8aP7B1D/AJ4j/vsf4119FH1iYfVoHIf2DqH/ADxH/fY/xo/sHUP+eI/77H+NdfRR9YmH1aBwDqUdkbgqcGkqW6/4/Jv+ujfzqKu5bHnvcKKKKYBRRRQAV0Phf7tz9V/rXPV0Phf7tz9V/rWNb+GzfD/xEb9FFFecemFFFFABRRRQAUUUUAFFFFABRRRQAUUUUAFFFFABRRRQAUUUUAFFFFABRRRQAUUUUAFFFFABRRRQAUUUUAFFFFABRRRQAUUUUAFFFFABRRRQAUUUUAFFFFABRRRQAUUUUAFFFFABRRRQAUUUUAFFFFABRRRQAUUUUAFFFFABRRRQAUUUUAFFFFAHCXX/AB+Tf9dG/nUVS3X/AB+Tf9dG/nUVestjxnuFFFFMQUUUUAFdD4X+7c/Vf61z1dD4X+7c/Vf61jW/hs3w/wDERv0UUV5x6YUUUUAFFFFABRRRQAUUUUAFFFFABRRRQAUUUUAFFFFABRRRQAUUUUAFFFFABRRRQAUUUUAFFFFABRRRQAUUUUAFFFFABRRRQAUUUUAFFFFABRRRQAUUUUAFFFFABRRRQAUUUUAFFFFABRRRQAUUUUAFFFFABRRRQAUUUUAFFFFABRRRQAUUUUAcJdf8fk3/AF0b+dRVLdf8fk3/AF0b+dRV6y2PGe4UUUUxBRRRQAV0Phf7tz9V/rXPV0Phf7tz9V/rWNb+GzfD/wARG/RRRXnHphRRRQAUUUUAFFeJ/tOavqOj+C9Hl0m/ubKR9Q2s9vK0ZYeWxwSD0q3+zn4yvfEXg280jWriSfUtHuCjNOxaQxuSV3E8khg4+gFAHsNFFfLn7RfxA1b/AITqPRPD2pXVrFpNuGujaTMmZJMH5ip5wNn0JNAH1HRXL/DO5mvPhb4buLuZ5p5dOhaSSRizOSoyST1NdRQAUV8m/E74i+IZfi3qGreHb28Oj+G7iCCVIZmWJir87gDg7n3LnvgV9TaTqdtrWjWep2EnmW15Ck8TeqsMj+dAFyiivlLwJoHiP4leNvFFp/wm2r6ZHp1wxQRzO4IMjDGNwxjFAH1bRXhd58EfHGn2r3Ph74manLfRjdHFcs6q59N284/I1sfBP4nar4sm1Lw14vRU1/SPvuFCmZA21iwHG4NgHHByKAPXKKKKACiiigAooooAKKhu7qKysp7q4bbFBG0jn0VRk/oK+cvD8vjP9oDXNTvh4hufDvhuzk8qK3tCQxJ5C8EbmxySSeoAFAH0nRXz34k+FPjD4eaLceIvBXjjUrqSwQzz2l0SQ6LyxAJKnA5wRyM816h8KvHyfEXwNBq7IsV7G5t7yJAdqSrg8Z7EFT+OO1AHaUV89/HW41e5+L3hLQdL1u+0uLU1jgdraZlCl5tu7AIyRmtZvgN4mRS1v8UdZWQfdLhyM/8AfygD26ivCfhd448W6N8ULv4cePboajNGrNbXhOW4UOPmx8yspzzyDx9PZfEUjxeF9UkiZkdLOZlZTgghDgigDRor5X+E3gnxJ8S/DV1qsvj/AFnTzb3Rt/LWV33YVWzneP71dXrXwn+IvhbTJdW8JfELUdRurVTIbS4LDzAOSBlmUn2I5oA99orzv4NfEpviP4Tlmv0ji1awkEN5HGMA5GVcDsGwePVTXolABRRVXU9RttI0q61G+cpbWkTTSsFJIVRknA68CgC1RWF4R8Y6N440Z9U8OXD3FokzQF3iaM7wASMMAejCt2gAoorL8S67beGPDGo63fZMFjbtMyjq2Bwo9ycD8aANSivnHwh4a8YfG+2uPE/iPxXe6RpckzR2llYEqMKcHAyBgHjJySQar+Il8XfADxNpV9D4gutc8N3snlSw3rltpHVSCTg45Vh6HI9QD6WpksscELyzOscaKWd2OAoHUk0RSLNCkqfddQw+hrxn43+Ib3Wdd0X4ZeHp3jvNakVr94+qQZPH4hWY+yjsaAPTfC3jDRfGdldXfh26+1W9rctavKFIDOoBJGeoww5rcrM8O+H9O8LaBa6Po0AgtLVAqqOrHuxPcnqTXzz8Qv7c8QftMr4VsfEeo6Ta3aRAG3ncLH+43khQwHJH60AfTNFeGXXwV8eaXA114a+Jmoy3sY3JFdlwjn0zuYD8Qa1/hN8VtS13W7vwb46gS08S2GQGAC/adv3uBwGA544I5HSgD1yiivk/4T+FfEvxOt9Vnl8d6zp32GZYwqTO+7cCf74x0oA+sKK+d/Fnw++IXw60C48SeHfiBqGorYL5s9vcgnMY6thmZWx1II6Zr1j4W+Nm8f8AgCz1ueFYbos0NyifdEinBI9iMH2zigDsKK8E/ab1bVNNfwnFpOp3en/aZbhJGtpmj3f6rGcEZxk/nVxPgN4haNXHxP1sEgHq/wD8coA9vrN8Q6/Y+F/D93rOrO6WdooeVkQsQCQOg68kV4FqGu+P/gV4msP+Ej1l/Enhi+k8vzZsll9cZyVYDnGSCPfp9EOltqenlZFjuLW5j5VhuWRGH6gg0ARaVqtjrel2+paTcx3VncJvimjOQwq5Xg3gi7k+FXxtvfh/cvINB1n/AEnSQ7ZELNkhQT2O1k+qr65r3mgAooooAKKKKACiiigAooooAKKKKAOEuv8Aj8m/66N/Ooqluv8Aj8m/66N/Ooq9ZbHjPcKKKKYgooooAK6Hwv8Adufqv9a56uh8L/dufqv9axrfw2b4f+Ijfooorzj0wooooAKKKKAPB/2rv+RF0X/sJf8AtJqxIyvwy/aB0PVUfydI8VWcYmzwiu4UNn6OFbPYMa2/2rv+RF0X/sJf+0mrQ+L/AITHiX4B2F9BHuvdGs4byNwPm2CMeYPpt+b/AICKAPVvEOtWvhzw5f6xfvtt7KBpn98DgD3JwB7mvkj+x5r34K+K/HmrKWvdb1OOOJ27J5u5yPq2B/wCur8dfEuTx38I/CXhrSS02s65LHBeIDyrRsEwf999rD2Fdf8AG/Q7fwz+zna6LZKFhspbaEbR94g8t9Sck+5oA9C+Ff8AySTwv/2DIP8A0AVP8RPFMXg34f6trUjbZIYCsA/vSt8qD/voj8Aag+Ff/JJPC/8A2DIP/QBXk37SWrXmv63oHw/0GJri9uZPtMsSnG5j8sa+38ZOegwaAL/wl+HMWp/s/wCqx38Ia98TrJMZJBzxkQn8GG8f71aP7NniZ7/wTd+Gr/cl/oVwYzG/BETEkfiGDjHbAqhYar8ddM022sbLwjo0dvaxLDEgdflVRgD/AFnoK47wpqXibwB+0HBeeNtNi0v/AISgss8cDAxEu3DjBPPmAE89GPqKAPqavmj4D67pGh/EPxu2tapZacss5EZu7hIg5Er5xuIzX0vXyj8Jvh74e8f+P/GMPia2kuEtLhmiEczR4LSuD9089KAPoPUfih4H0uze5ufFekMqDOyC8SV2+iqST+VeQfAWG48T/F7xZ45igkh024EsURYY3NJIrgfUKvP+8K721/Z5+G9rOsp0SScqchZryUr+I3c/jXomn6dZaVYx2emWsNpbRDCQwIEVR7AUAWaKKKAPIvFsHxtbxXfHwldaYmjFx9lWYRbgu0Zzlc9c1j/Zv2iv+f3R/wDvmH/4mt3xXL8al8U3w8JwaQ2j7x9lM+zeV2jOcn1zWP5/7Q3/AD76F/45/jQB6h4IXxMnhS2Hjd4JNZ3P5zQbdhG47cbQB0xXQVg+C28SN4Wtz42W3XWNz+cLbGzG47cY9sVvUAQXtpFf6fcWdwCYriJonA/usMH9DXzLot/4r/Zy1u/stT0eXVvDF5cBku4htBxwGB5CsVxlW9OD3r6R17Wrbw74fvdYvkle2soWmlWFdz7R1wMjNZ3hDxdo/wAQfDA1bSA8llK7xNHcIAwKnBDLkj0P0IoA5vw38avAPjTFhHqK201yPLNpqMYjMmeNuTlTnpjJzXa6RoWk6DbvDomnWthFI290toljVmxjJA74rzf4pfBnwlrfhjUtUtNPh0rU7S2knS4tVEauVUth1HBBx1xn3qH9m7xTqPiP4by2+qyNO+l3RtopnOWaPaGAJ7kZI+mKAON+PuqwaF8bvBWrXiyPb2IiuJViALlUn3EAEjJwPWumuP2o/B0du7QaTrssgHyo1vGoJ9z5hx+RrG+Mihv2ivh4rAFTPbAgjr/pIr3trCzdSr2kDKeoMYOaAPn/AODttc/Ej4sal8S9UuLSDyR5UGnwyh5I8psUsOoAUHk/eJJr3XxL/wAinq//AF4zf+gGvA9btLbwZ+1noaeFoktU1RIxeWsAwmJNyt8o6DChseozXvniX/kU9X/68Zv/AEA0AeHfs0eJtB0XwBqUGs63p2nzPqTOsd3dxxMy+WgyAxBxwea9M8S/F3wT4f0a4uj4i069lWNjHbWdyk7yNjgYUnGT3PFeJ/Ab4UeFPHfg2+1DxJZzT3EN80KNHcPGAoRDjAPqTXrum/AP4c6ZdJcJoAuJEOVF1cSSr+Kltp/EGgDjP2XPD97aaHrviG7jaKDVpo0t1IxuEe8lvpl8D/dNe9UyGGK2gSG3jSKKNQqIigKoHYAdKfQBW1C/ttL024v76Tyra2jaWV8E7VAyTx7V5R4z+NfgHVPA2t2Fjrqy3NzYzRRJ5Eg3MyEAcr616ze2dvqNjNZ3sSzW86GOWNujqRgg15n43+E/gXTvAWu3ll4ZsYbi3sJpIpFU5RghII59aAPP/gH8T/CPg74eT6b4i1ZbO7bUJJhGYnbKFEAOQD3U1714Y8WaN4y0p9R8O3gvLVJTC0gRlw4AJGCB2YV4f+z38PvCnij4bz33iDQ7W/ul1GWISzKSQoSMgdfUn86910Dw3o/hfT2sfD+nw2Fq0hlaKEYBcgAn8gPyoA1Krahp1nq2ny2Op2sV3azDEkMyBkcZzyD15FWaKAKmmaVYaLp8dhpFnBZWkWSkEEYRFySTgDjkkmvBvi5fn4p/EnRfh54c23ENhcGfU7lTlYiOGGf9lSwP+0wHUV0/xb+Jd9aX0fgbwEr3fijUcRu0Qz9kRh1z2bHOf4Rye1dF8LPhlZfDrQChZbrV7sB768I5ZuuxT12g/n1oA7iKNYYUiT7qKFH0ArwTwFIPEX7V3i3Upvn/ALMilt4c/wABVli4/JvzNe/V89/B1DZ/tG/EG2l4d5rl1z3BudwP5MKAPoSvnDWf+T2NO+kf/pKa+j6+cNZ/5PY076R/+kpoA+j6+e/inEmi/tOeCNUslEU180EU5XjeTKYyT77WA+gFfQlfOni6+j8dftV+HdN0jM0WglDcyqMqHjYyvz6D5V+uRQB9F18jfBH4raF8ObTWoNcttQna8nR4zZwq4AUEHOWHrX1zXzz+ytBDNpfiYzRJJi6ixuUHHytQBR+Iv7Q2n+KfDNx4c8K6ddW76on2aa71IpCkaNw2MMeoyMkjFev/AAl8HJ4I+HNhpgu47yWTNzNPC2Y2d+flPdQMAHvjPervjrwroOveDNUttYsrYRC1kcTmMBoSFJDhuxGM153+y7qd5e/De9tbp2eGyvjHbljnapVWKj2yT+dAGL+1OwS58FsxCqLi5JJPAGYa9ii8f+Dlt03eLNDGFGc6lDxx/vV45+1VGs03g2NxlXnuVYex8muxi/Zz+HLRIzaXcklQT/psn+NAHA/H3xrpPj3+xfCHgy4TWb570Oz2vzoCRtVQw4OdxJxwAK+h9GsP7L0Kw08vv+yW0cG/+9tULn9KxPC3w38JeC2MnhzRYLWcjBuGLSSkem9ySB7DiuooA8C/aZ3aPe+EPE1sMXNjeMoYdTja4H/jp/M171FKs0KSxnKOoZT6g14N+1dIP+ER0GAcu9+zADqcRkf1Fe5aZA9rpNpbyffigRG+oUCgC1RRRQAUUUUAFFFFABRRRQAUUUUAcJdf8fk3/XRv51FUt1/x+Tf9dG/nUVestjxnuFFFFMQUUUUAFdD4X+7c/Vf61z1dD4X+7c/Vf61jW/hs3w/8RG/RRRXnHphRRRQAUUUUAeW/HfwDrfxA8L6bY+HY4Xmt7zzpBNKEG3Yw6/U16FpNgbfw1ZafeorGO0jgmT7ynCBWHuOtaFFAHgPw1+BGpeFPi5Prepi3OkWTTNp22Tc7FjhMr2wpJ+uK9A+M/hDVfG/w7l0fQUie7a5ikAlk2LhSc8131FAGB4F0i60DwDoek6iFW6srKKGYI24BlUA4PevP/CXw78Rt8c9X8c+LYrdImV009I5g5QH5FyO2IwfxJr1+igAry744/DjUvH+g6a/h7yhqunXO+IySbPkYfNhuxyqn8K9RooAz9BbU38P2J1+OOPU/IQXaxNlfMx8xBHYnmvMvg/8ADnX/AAX4w8U6jrkcCW+pybrcxTByR5jtyO3DCvXaKACiiigAooooAKKKKACiikZlRSzkKqjJJOABQBHdWsN7aTWt3GssEyGOSNhkMpGCD+FeFL8J/H3w21q6u/hNq9vcaZdNufTb8jj0HPBx/eBU9jXsR8XeGwcHxBpQP/X7H/jR/wAJd4b/AOhh0r/wNj/+KoA8c1fQ/jn47sH0bWH0nQ9OuPkuXhYbnTuOCxx7DGeh4r1XwB4H0/4feE4NE0xjLtYyT3DLhp5D1YjtwAAOwAq9/wAJd4b/AOhh0r/wNj/+Ko/4S7w3/wBDDpX/AIGx/wDxVAHl/wAYPh54w8S/EDQPEXg6O0aTSY1ZWuJQuJVk3rweo6VC0f7Q0ilBLoMWeN4CEr+hr1b/AIS7w3/0MOlf+Bsf/wAVR/wl3hv/AKGHSv8AwNj/APiqAPOfht8GtQ0PxXL4x8dauNX8QSbimwlkiLDBbcQMnHAAAAHSvUdatZL7QdQtIADLPbSRJk4G5lIH86qf8Jd4b/6GHSv/AANj/wDiqP8AhLvDf/Qw6V/4Gx//ABVAHE/ArwLrXgDwffad4hSFLia+M6CGUONpRR1+qmvTqx/+Eu8N/wDQw6V/4Gx//FUf8Jd4b/6GHSv/AANj/wDiqANiisf/AIS7w3/0MOlf+Bsf/wAVR/wl3hv/AKGHSv8AwNj/APiqANiqer6Zb61o15pl5v8As95C8Euw4bawwcH1wap/8Jd4b/6GHSv/AANj/wDiqP8AhLvDf/Qw6V/4Gx//ABVAFTwR4H0nwBoL6RoJuDbPO05+0SB23MFB5AHGFFdHWP8A8Jd4b/6GHSv/AANj/wDiqP8AhLvDf/Qw6V/4Gx//ABVAGxWd4gGpt4b1FdAMY1Q20gszJ90S7TtJz2zioP8AhLvDf/Qw6V/4Gx//ABVH/CXeG/8AoYdK/wDA2P8A+KoA8A8JfDb4weDNVvdU0y00SfUb45mvLyYSyHJyQCemTyfXj0rrvM/aD/54+HPzH+Neo/8ACXeG/wDoYdK/8DY//iqP+Eu8N/8AQw6V/wCBsf8A8VQAvhU66fC9kfFotxrG1vtItv8AV53HGP8AgOK8a18P8PP2pNP12dCmk+Jovs8k3YSEBSPwYRk+zV7J/wAJd4b/AOhh0r/wNj/+KrlPiNZeDviF4Tl0q78R6XDcI3m2dyL2PMMoHB+907EenvigD0OvBfHvw18fXXxsbxr4MjsP3SR+Q9zMPvCLY2VP1Ndr8N/GUw8KCz8daxpEep2MxthOuoxMLuNVG2Xg984+oJ46V1v/AAl3hv8A6GHSv/A2P/4qgDyK70D4+eIoGsL/AFzStJtpfllltiqvt74KqWH4EV3Xwz+FWlfDaymNtM9/qd2B9pvpVwz99qjnaueepJ7muj/4S7w3/wBDDpX/AIGx/wDxVH/CXeG/+hh0r/wNj/8AiqANivmrwX8O/jN8P472Lw2mjxx3kgeXzpVfJGQMZ6da99/4S7w3/wBDDpX/AIGx/wDxVH/CXeG/+hh0r/wNj/8AiqAPG9X8F/G7xzZnSPEutaVpulzEC4FtjLr6HaMn6ZAPevWfAngrTvAHhSDRNKLyIhLyzSD5ppD1Y+noB2AFW/8AhLvDf/Qw6V/4Gx//ABVH/CXeG/8AoYdK/wDA2P8A+KoA88+OXw617x7ceGn8PRwONOmmefzpQmAxjxj1+4a9ZiUrCinqFANZP/CXeG/+hh0r/wADY/8A4qj/AIS7w3/0MOlf+Bsf/wAVQBsUVj/8Jd4b/wChh0r/AMDY/wD4qsnxT47sNP8AC9/deHdS0nUNUji/0a2a/iUO5IHXd2zn3xQB5j8SwfiB+0D4Y8I2SGa20bF3qDAZVMkOQf8AgKoPq+K98ryj4U6RovhWG71XXvE2l3/inWpPNvp1vYzgk5EaYPTJ7d+nAFer0AFFFFABRRRQAUUUUAFFFFABRRRQBwl1/wAfk3/XRv51FUt1/wAfk3/XRv51FXrLY8Z7hRRRTEFFFFABXQ+F/u3P1X+tc9XQ+F/u3P1X+tY1v4bN8P8AxEb9FFFecemFFFFABRRRQAUUUUAFFFFABRRRQAUUUUAFFFFABRRRQAUUUUAFFFFABVbUrCDVdLutPuwxguoWhkCnB2sMHB7cGrNFAHjJ/Zf8DZ/4+NW/8CF/+Jo/4Ze8Df8APxq3/gQv/wATXs1FAHjP/DL3gb/n41b/AMCF/wDiaP8Ahl7wN/z8at/4EL/8TXs1FAHjP/DL3gb/AJ+NW/8AAhf/AImj/hl7wN/z8at/4EL/APE17NRQB4z/AMMveBv+fjVv/Ahf/iaP+GXvA3/Pxq3/AIEL/wDE17NRQB4z/wAMveBv+fjVv/Ahf/iaP+GXvA3/AD8at/4EL/8AE17NRQB4z/wy94G/5+NW/wDAhf8A4mj/AIZe8Df8/Grf+BC//E17NRQB4z/wy94G/wCfjVv/AAIX/wCJo/4Ze8Df8/Grf+BC/wDxNezUUAeM/wDDL3gb/n41b/wIX/4mj/hl7wN/z8at/wCBC/8AxNezV518QvjHpfgbVIdGtbC41vXJ1DJYWpwVz03HBIJ7AAmgDnv+GXvA3/Pxq3/gQv8A8TR/wy94G/5+NW/8CF/+Jqo3x+1/Q3jm8bfDnU9J0+RgBdKzHbn2ZACfxFey6Rq1lruj2uqaXOtxZ3UYkikXowP9fagDyX/hl7wN/wA/Grf+BC//ABNH/DL3gb/n41b/AMCF/wDia9mooA8Z/wCGXvA3/Pxq3/gQv/xNH/DL3gb/AJ+NW/8AAhf/AImvZqKAPGf+GXvA3/Pxq3/gQv8A8TR/wy94G/5+NW/8CF/+Jr2aigDxn/hl7wN/z8at/wCBC/8AxNH/AAy94G/5+NW/8CF/+Jr2aigDxn/hl7wN/wA/Grf+BC//ABNH/DL3gb/n41b/AMCF/wDia9mooA8Z/wCGXvA3/Pxq3/gQv/xNH/DL3gb/AJ+NW/8AAhf/AImvZqKAPGf+GXvA3/Pxq3/gQv8A8TR/wy94G/5+NW/8CF/+Jr2aigDxn/hl7wN/z8at/wCBC/8AxNH/AAy94G/5+NW/8CF/+Jr2aigDxpf2YPAquCZ9VYA9Dcrz/wCO17FFGsMKRRjCIoVRnOAKfRQAUUUUAFFFFABRRRQAUUUUAFFFFAHCXX/H5N/10b+dRVLdf8fk3/XRv51FXrLY8Z7hRRRTEFFFFABXQ+F/u3P1X+tc9XQ+F/u3P1X+tY1v4bN8P/ERv0UUV5x6YUUUUAFFFFABRRRQAUUUUAFFFFABRRRQAUUUUAFFFFABRRRQAUUUUAFFFFABRRRQAUUUUAFFFFABRRRQAUUUUAFFFFABRRRQAVwGg/Cix0b4o6n43n1CW+vL4PsiliAWAsRypznhRt+hNd/WZ4j0h9e8N3+lRXstg93C0QuYfvxE/wAQ5HP40Acx8Zr7TLP4ReIF1eSNRPZvFAjkZeYj5MDuQ2D+FY/7Otnf2fwbsRqKPGss8stsrjBERbg49CdxHsc15v45+AWs6FpcviW08Rv4kfS0NxJaanCW3onLDljkYBOOM17P8KvHFv4+8CW2qQ2qWcsRNvPbR/cjdQPu/wCyQQR6dO1AHZ0UUUAFFFFABRRRQAUUUUAFFFFABRRRQAUUUUAFFFFABRRRQAUUUUAFFFFABRRRQAUUUUAFFFFAHCXX/H5N/wBdG/nUVS3X/H5N/wBdG/nUVestjxnuFFFFMQUUUUAFdD4X+7c/Vf61z1dD4X+7c/Vf61jW/hs3w/8AERv0UUV5x6YUUUUAFFFFABRRRQAUUUUAFFFFABRRRQAUUUUAFFFFABRRRQAUUUUAFFFFABRRRQAUUUUAFFFFABRRRQAUUUUAFFFFABRRRQAV8/3njnxB8KfjRqA8cXOoXfhXVCxspixkSEEhgVH+zypXrjkZ4z9AVWv9OstVs3tNTtILy2f70NxGHQ/geKAPIfH/AMevB7+Db+x8Mag2rapqFu9tbww28g2l1K7mLKOmenUntW38BPB1/wCDvhpHFrERgvb6drp4G6xKQAqn3wMkds47V12l+B/C2i3gu9J8PabaXK/dmitkDr9DjI/Ct6gAooooAKKKKACiiigAooooAKKKKACiiigAooooAKKKKACiiigAooooAKKKKACiiigAooooAKKKKAOEuv8Aj8m/66N/Ooqluv8Aj8m/66N/Ooq9ZbHjPcKKKKYgooooAK6Hwv8Adufqv9a56uh8L/dufqv9axrfw2b4f+Ijfooorzj0wooooAKKKKACiiigAooooAKKKKACiiigAooooAKKKKACiiigAooooAKKKKACiiigAooooAKKKKACiiigAooooAKKKKACiiigAooooAKKKKACiiigAooooAKKKKACiiigAooooAKKKKACiiigAooooAKKKKACiiigAooooAKKKKACiiigAooooA4S6/4/Jv8Aro386iqW6/4/Jv8Aro386ir1lseM9wooopiCiiigAq7p+py6cJBEitvxnd7f/rqlRSaUlZjjJxd0bP8Awk1z/wA8ov1o/wCEmuf+eUX61jUVn7KHY09tU7mz/wAJNc/88ov1o/4Sa5/55RfrWNRR7KHYPbVO5s/8JNc/88ov1o/4Sa5/55RfrWNRR7KHYPbVO5s/8JNc/wDPKL9aP+Emuf8AnlF+tY1FHsodg9tU7mz/AMJNc/8APKL9aP8AhJrn/nlF+tY1FHsodg9tU7mz/wAJNc/88ov1o/4Sa5/55RfrWNRR7KHYPbVO5s/8JNc/88ov1o/4Sa5/55RfrWNRR7KHYPbVO5s/8JNc/wDPKL9aP+Emuf8AnlF+tY1FHsodg9tU7mz/AMJNc/8APKL9aP8AhJrn/nlF+tY1FHsodg9tU7mz/wAJNc/88ov1o/4Sa5/55RfrWNRR7KHYPbVO5s/8JNc/88ov1o/4Sa5/55RfrWNRR7KHYPbVO5s/8JNc/wDPKL9aP+Emuf8AnlF+tY1FHsodg9tU7mz/AMJNc/8APKL9aP8AhJrn/nlF+tY1FHsodg9tU7mz/wAJNc/88ov1o/4Sa5/55RfrWNRR7KHYPbVO5s/8JNc/88ov1o/4Sa5/55RfrWNRR7KHYPbVO5s/8JNc/wDPKL9aP+Emuf8AnlF+tY1FHsodg9tU7mz/AMJNc/8APKL9aP8AhJrn/nlF+tY1FHsodg9tU7mz/wAJNc/88ov1o/4Sa5/55RfrWNRR7KHYPbVO5s/8JNc/88ov1o/4Sa5/55RfrWNRR7KHYPbVO5s/8JNc/wDPKL9aP+Emuf8AnlF+tY1FHsodg9tU7mz/AMJNc/8APKL9aP8AhJrn/nlF+tY1FHsodg9tU7mz/wAJNc/88ov1o/4Sa5/55RfrWNRR7KHYPbVO5s/8JNc/88ov1o/4Sa5/55RfrWNRR7KHYPbVO5s/8JNc/wDPKL9aP+Emuf8AnlF+tY1FHsodg9tU7mz/AMJNc/8APKL9aP8AhJrn/nlF+tY1FHsodg9tU7mz/wAJNc/88ov1o/4Sa5/55RfrWNRR7KHYPbVO5s/8JNc/88ov1o/4Sa5/55RfrWNRR7KHYPbVO5s/8JNc/wDPKL9aP+Emuf8AnlF+tY1FHsodg9tU7mz/AMJNc/8APKL9aP8AhJrn/nlF+tY1FHsodg9tU7mz/wAJNc/88ov1o/4Sa5/55RfrWNRR7KHYPbVO5s/8JNc/88ov1o/4Sa5/55RfrWNRR7KHYPbVO5s/8JNc/wDPKL9aP+Emuf8AnlF+tY1FHsodg9tU7mz/AMJNc/8APKL9aP8AhJrn/nlF+tY1FHsodg9tU7mz/wAJNc/88ov1o/4Sa5/55RfrWNRR7KHYPbVO5s/8JNc/88ov1o/4Sa5/55RfrWNRR7KHYPbVO46RzJKzngsSTTaKK1MgooooAKKKKACiiigAooooAKKKKACiiigAooooAKKKKACiiigAooooAKKKKACiiigAooooAKKKKACiiigAooooAKKKKACiiigAooooAKKKKACiiigAooooAKKKKACiiigAooooAKKKKACiiigAooooAKKKKACiiigAooooAKKKKACiiigAooooAKKKKACiiigAooooAKKKKACiiigAooooA//Z)"
      ],
      "metadata": {
        "id": "cLC9IR6zfUIv"
      }
    },
    {
      "cell_type": "code",
      "source": [
        "# Combining systolic and diastolic blood pressure column through formula \n",
        "df['map']=round((df['sysBP']+2*df['diaBP'])/3,3) # calculating mean arterial pressure and storing in seperate column\n",
        "\n",
        "# droping systolic and diastolic blood pressure column\n",
        "df.drop(['sysBP','diaBP'],axis=1,inplace=True)"
      ],
      "metadata": {
        "id": "YmpaBohdBAXE"
      },
      "execution_count": 137,
      "outputs": []
    },
    {
      "cell_type": "code",
      "source": [
        "df.head()"
      ],
      "metadata": {
        "colab": {
          "base_uri": "https://localhost:8080/",
          "height": 206
        },
        "id": "kCnN_V-8vGtb",
        "outputId": "ade2201c-d651-4951-fbc3-88f61cd6c5a3"
      },
      "execution_count": 138,
      "outputs": [
        {
          "output_type": "execute_result",
          "data": {
            "text/plain": [
              "   age sex is_smoking  cigsPerDay  BPMeds  prevalentStroke  prevalentHyp  \\\n",
              "1   37   M         NO         0.0     0.0                0             1   \n",
              "2   46   F        YES        10.0     0.0                0             0   \n",
              "3   50   M        YES        20.0     0.0                0             1   \n",
              "4   64   F        YES        30.0     0.0                0             0   \n",
              "5   61   F         NO         0.0     0.0                0             1   \n",
              "\n",
              "   diabetes  totChol    BMI  heartRate  glucose  TenYearCHD      map  \n",
              "1         0    212.0  29.77       72.0     75.0           0  121.333  \n",
              "2         0    250.0  20.35       88.0     94.0           0   86.000  \n",
              "3         0    233.0  28.26       68.0     94.0           1  111.333  \n",
              "4         0    241.0  26.42       70.0     77.0           0  102.167  \n",
              "5         0    272.0  32.80       85.0     65.0           1  128.333  "
            ],
            "text/html": [
              "\n",
              "  <div id=\"df-99d3120c-bd89-4ea5-8e80-7e03054a7e68\">\n",
              "    <div class=\"colab-df-container\">\n",
              "      <div>\n",
              "<style scoped>\n",
              "    .dataframe tbody tr th:only-of-type {\n",
              "        vertical-align: middle;\n",
              "    }\n",
              "\n",
              "    .dataframe tbody tr th {\n",
              "        vertical-align: top;\n",
              "    }\n",
              "\n",
              "    .dataframe thead th {\n",
              "        text-align: right;\n",
              "    }\n",
              "</style>\n",
              "<table border=\"1\" class=\"dataframe\">\n",
              "  <thead>\n",
              "    <tr style=\"text-align: right;\">\n",
              "      <th></th>\n",
              "      <th>age</th>\n",
              "      <th>sex</th>\n",
              "      <th>is_smoking</th>\n",
              "      <th>cigsPerDay</th>\n",
              "      <th>BPMeds</th>\n",
              "      <th>prevalentStroke</th>\n",
              "      <th>prevalentHyp</th>\n",
              "      <th>diabetes</th>\n",
              "      <th>totChol</th>\n",
              "      <th>BMI</th>\n",
              "      <th>heartRate</th>\n",
              "      <th>glucose</th>\n",
              "      <th>TenYearCHD</th>\n",
              "      <th>map</th>\n",
              "    </tr>\n",
              "  </thead>\n",
              "  <tbody>\n",
              "    <tr>\n",
              "      <th>1</th>\n",
              "      <td>37</td>\n",
              "      <td>M</td>\n",
              "      <td>NO</td>\n",
              "      <td>0.0</td>\n",
              "      <td>0.0</td>\n",
              "      <td>0</td>\n",
              "      <td>1</td>\n",
              "      <td>0</td>\n",
              "      <td>212.0</td>\n",
              "      <td>29.77</td>\n",
              "      <td>72.0</td>\n",
              "      <td>75.0</td>\n",
              "      <td>0</td>\n",
              "      <td>121.333</td>\n",
              "    </tr>\n",
              "    <tr>\n",
              "      <th>2</th>\n",
              "      <td>46</td>\n",
              "      <td>F</td>\n",
              "      <td>YES</td>\n",
              "      <td>10.0</td>\n",
              "      <td>0.0</td>\n",
              "      <td>0</td>\n",
              "      <td>0</td>\n",
              "      <td>0</td>\n",
              "      <td>250.0</td>\n",
              "      <td>20.35</td>\n",
              "      <td>88.0</td>\n",
              "      <td>94.0</td>\n",
              "      <td>0</td>\n",
              "      <td>86.000</td>\n",
              "    </tr>\n",
              "    <tr>\n",
              "      <th>3</th>\n",
              "      <td>50</td>\n",
              "      <td>M</td>\n",
              "      <td>YES</td>\n",
              "      <td>20.0</td>\n",
              "      <td>0.0</td>\n",
              "      <td>0</td>\n",
              "      <td>1</td>\n",
              "      <td>0</td>\n",
              "      <td>233.0</td>\n",
              "      <td>28.26</td>\n",
              "      <td>68.0</td>\n",
              "      <td>94.0</td>\n",
              "      <td>1</td>\n",
              "      <td>111.333</td>\n",
              "    </tr>\n",
              "    <tr>\n",
              "      <th>4</th>\n",
              "      <td>64</td>\n",
              "      <td>F</td>\n",
              "      <td>YES</td>\n",
              "      <td>30.0</td>\n",
              "      <td>0.0</td>\n",
              "      <td>0</td>\n",
              "      <td>0</td>\n",
              "      <td>0</td>\n",
              "      <td>241.0</td>\n",
              "      <td>26.42</td>\n",
              "      <td>70.0</td>\n",
              "      <td>77.0</td>\n",
              "      <td>0</td>\n",
              "      <td>102.167</td>\n",
              "    </tr>\n",
              "    <tr>\n",
              "      <th>5</th>\n",
              "      <td>61</td>\n",
              "      <td>F</td>\n",
              "      <td>NO</td>\n",
              "      <td>0.0</td>\n",
              "      <td>0.0</td>\n",
              "      <td>0</td>\n",
              "      <td>1</td>\n",
              "      <td>0</td>\n",
              "      <td>272.0</td>\n",
              "      <td>32.80</td>\n",
              "      <td>85.0</td>\n",
              "      <td>65.0</td>\n",
              "      <td>1</td>\n",
              "      <td>128.333</td>\n",
              "    </tr>\n",
              "  </tbody>\n",
              "</table>\n",
              "</div>\n",
              "      <button class=\"colab-df-convert\" onclick=\"convertToInteractive('df-99d3120c-bd89-4ea5-8e80-7e03054a7e68')\"\n",
              "              title=\"Convert this dataframe to an interactive table.\"\n",
              "              style=\"display:none;\">\n",
              "        \n",
              "  <svg xmlns=\"http://www.w3.org/2000/svg\" height=\"24px\"viewBox=\"0 0 24 24\"\n",
              "       width=\"24px\">\n",
              "    <path d=\"M0 0h24v24H0V0z\" fill=\"none\"/>\n",
              "    <path d=\"M18.56 5.44l.94 2.06.94-2.06 2.06-.94-2.06-.94-.94-2.06-.94 2.06-2.06.94zm-11 1L8.5 8.5l.94-2.06 2.06-.94-2.06-.94L8.5 2.5l-.94 2.06-2.06.94zm10 10l.94 2.06.94-2.06 2.06-.94-2.06-.94-.94-2.06-.94 2.06-2.06.94z\"/><path d=\"M17.41 7.96l-1.37-1.37c-.4-.4-.92-.59-1.43-.59-.52 0-1.04.2-1.43.59L10.3 9.45l-7.72 7.72c-.78.78-.78 2.05 0 2.83L4 21.41c.39.39.9.59 1.41.59.51 0 1.02-.2 1.41-.59l7.78-7.78 2.81-2.81c.8-.78.8-2.07 0-2.86zM5.41 20L4 18.59l7.72-7.72 1.47 1.35L5.41 20z\"/>\n",
              "  </svg>\n",
              "      </button>\n",
              "      \n",
              "  <style>\n",
              "    .colab-df-container {\n",
              "      display:flex;\n",
              "      flex-wrap:wrap;\n",
              "      gap: 12px;\n",
              "    }\n",
              "\n",
              "    .colab-df-convert {\n",
              "      background-color: #E8F0FE;\n",
              "      border: none;\n",
              "      border-radius: 50%;\n",
              "      cursor: pointer;\n",
              "      display: none;\n",
              "      fill: #1967D2;\n",
              "      height: 32px;\n",
              "      padding: 0 0 0 0;\n",
              "      width: 32px;\n",
              "    }\n",
              "\n",
              "    .colab-df-convert:hover {\n",
              "      background-color: #E2EBFA;\n",
              "      box-shadow: 0px 1px 2px rgba(60, 64, 67, 0.3), 0px 1px 3px 1px rgba(60, 64, 67, 0.15);\n",
              "      fill: #174EA6;\n",
              "    }\n",
              "\n",
              "    [theme=dark] .colab-df-convert {\n",
              "      background-color: #3B4455;\n",
              "      fill: #D2E3FC;\n",
              "    }\n",
              "\n",
              "    [theme=dark] .colab-df-convert:hover {\n",
              "      background-color: #434B5C;\n",
              "      box-shadow: 0px 1px 3px 1px rgba(0, 0, 0, 0.15);\n",
              "      filter: drop-shadow(0px 1px 2px rgba(0, 0, 0, 0.3));\n",
              "      fill: #FFFFFF;\n",
              "    }\n",
              "  </style>\n",
              "\n",
              "      <script>\n",
              "        const buttonEl =\n",
              "          document.querySelector('#df-99d3120c-bd89-4ea5-8e80-7e03054a7e68 button.colab-df-convert');\n",
              "        buttonEl.style.display =\n",
              "          google.colab.kernel.accessAllowed ? 'block' : 'none';\n",
              "\n",
              "        async function convertToInteractive(key) {\n",
              "          const element = document.querySelector('#df-99d3120c-bd89-4ea5-8e80-7e03054a7e68');\n",
              "          const dataTable =\n",
              "            await google.colab.kernel.invokeFunction('convertToInteractive',\n",
              "                                                     [key], {});\n",
              "          if (!dataTable) return;\n",
              "\n",
              "          const docLinkHtml = 'Like what you see? Visit the ' +\n",
              "            '<a target=\"_blank\" href=https://colab.research.google.com/notebooks/data_table.ipynb>data table notebook</a>'\n",
              "            + ' to learn more about interactive tables.';\n",
              "          element.innerHTML = '';\n",
              "          dataTable['output_type'] = 'display_data';\n",
              "          await google.colab.output.renderOutput(dataTable, element);\n",
              "          const docLink = document.createElement('div');\n",
              "          docLink.innerHTML = docLinkHtml;\n",
              "          element.appendChild(docLink);\n",
              "        }\n",
              "      </script>\n",
              "    </div>\n",
              "  </div>\n",
              "  "
            ]
          },
          "metadata": {},
          "execution_count": 138
        }
      ]
    },
    {
      "cell_type": "markdown",
      "source": [
        "## 6. Categorical encoding"
      ],
      "metadata": {
        "id": "NTBuB8LXvSxC"
      }
    },
    {
      "cell_type": "code",
      "source": [
        "# Categorical encoding for smoking column (0='NO' and 1 ='YES')\n",
        "df['is_smoking'].replace({'YES':1,'NO':0},inplace=True)\n",
        "\n",
        "# Categorical encoding for smoking column (1='M' and 2 ='F')\n",
        "df['sex'].replace({'M':1,'F':2},inplace=True)"
      ],
      "metadata": {
        "id": "7YtS_ZiB-Gcv"
      },
      "execution_count": 139,
      "outputs": []
    },
    {
      "cell_type": "markdown",
      "source": [
        "## 7. Renaming Target Variable"
      ],
      "metadata": {
        "id": "5gvDiBiQwI2l"
      }
    },
    {
      "cell_type": "code",
      "source": [
        "df = df.rename(columns={'TenYearCHD':'Heart_Disease'})"
      ],
      "metadata": {
        "id": "RvbMxz91wNp0"
      },
      "execution_count": 140,
      "outputs": []
    },
    {
      "cell_type": "markdown",
      "source": [
        "# Exploratory Data Analysis (EDA)"
      ],
      "metadata": {
        "id": "bEPPS44T1J6D"
      }
    },
    {
      "cell_type": "markdown",
      "source": [
        "##Correlation and Heatmap"
      ],
      "metadata": {
        "id": "hswJJ6L317hu"
      }
    },
    {
      "cell_type": "code",
      "source": [
        "# ploting heat map finding correlation between columns\n",
        "cdf = df.corr()\n",
        "\n",
        "plt.subplots(figsize=(18, 11))\n",
        "sns.heatmap(cdf,annot = True,fmt='.2f', annot_kws={'size': 10},  vmax=1, square=True, cmap='coolwarm');"
      ],
      "metadata": {
        "id": "kghjuv6hDmE3",
        "colab": {
          "base_uri": "https://localhost:8080/",
          "height": 719
        },
        "outputId": "1ab2fec1-8c7c-406f-a67c-93262d0f799d"
      },
      "execution_count": 141,
      "outputs": [
        {
          "output_type": "display_data",
          "data": {
            "text/plain": [
              "<Figure size 1296x792 with 2 Axes>"
            ],
            "image/png": "[encoded data removed]"
          },
          "metadata": {
            "needs_background": "light"
          }
        }
      ]
    },
    {
      "cell_type": "code",
      "source": [
        "# droping is_smoking and prevalentHyp columns\n",
        "df.drop(['is_smoking','prevalentHyp'],axis=1, inplace=True)"
      ],
      "metadata": {
        "id": "HlB2fENHsjAf"
      },
      "execution_count": 142,
      "outputs": []
    },
    {
      "cell_type": "markdown",
      "source": [
        "* we are droping is smoking column because cigsperday and is_smoking columns are corelated, they both indicating cigrates \n",
        "* we are droping prevalentHyp because map and prevalentHyp is coreleted and they both indicating hypertension"
      ],
      "metadata": {
        "id": "aqpSQYZD0Yoy"
      }
    },
    {
      "cell_type": "code",
      "source": [
        "\n",
        "from statsmodels.stats.outliers_influence import variance_inflation_factor\n",
        "def calc_vif(X):\n",
        "  '''\n",
        "    Function to calculate VIF\n",
        "  '''\n",
        "  vif = pd.DataFrame()\n",
        "  vif[\"variables\"] = X.columns\n",
        "  vif[\"VIF\"] = [variance_inflation_factor(X.values, i) for i in range(X.shape[1])]\n",
        " \n",
        "  return(vif)"
      ],
      "metadata": {
        "id": "YpG5hOVN3D35"
      },
      "execution_count": 143,
      "outputs": []
    },
    {
      "cell_type": "code",
      "source": [
        "calc_vif(df[[i for i in df.describe().columns if i not in ['Heart_Disease']]])"
      ],
      "metadata": {
        "colab": {
          "base_uri": "https://localhost:8080/",
          "height": 394
        },
        "id": "0mCSa08A3iAB",
        "outputId": "a58e8920-0ad3-4cce-9cb5-dcfd359df416"
      },
      "execution_count": 144,
      "outputs": [
        {
          "output_type": "execute_result",
          "data": {
            "text/plain": [
              "          variables        VIF\n",
              "0               age  43.015016\n",
              "1               sex  11.922487\n",
              "2        cigsPerDay   1.897678\n",
              "3            BPMeds   1.103574\n",
              "4   prevalentStroke   1.023506\n",
              "5          diabetes   1.111451\n",
              "6           totChol  39.593176\n",
              "7               BMI  57.722514\n",
              "8         heartRate  52.890963\n",
              "9           glucose  41.309474\n",
              "10              map  81.714739"
            ],
            "text/html": [
              "\n",
              "  <div id=\"df-0c247501-94ed-4946-8fbe-79de7b708a78\">\n",
              "    <div class=\"colab-df-container\">\n",
              "      <div>\n",
              "<style scoped>\n",
              "    .dataframe tbody tr th:only-of-type {\n",
              "        vertical-align: middle;\n",
              "    }\n",
              "\n",
              "    .dataframe tbody tr th {\n",
              "        vertical-align: top;\n",
              "    }\n",
              "\n",
              "    .dataframe thead th {\n",
              "        text-align: right;\n",
              "    }\n",
              "</style>\n",
              "<table border=\"1\" class=\"dataframe\">\n",
              "  <thead>\n",
              "    <tr style=\"text-align: right;\">\n",
              "      <th></th>\n",
              "      <th>variables</th>\n",
              "      <th>VIF</th>\n",
              "    </tr>\n",
              "  </thead>\n",
              "  <tbody>\n",
              "    <tr>\n",
              "      <th>0</th>\n",
              "      <td>age</td>\n",
              "      <td>43.015016</td>\n",
              "    </tr>\n",
              "    <tr>\n",
              "      <th>1</th>\n",
              "      <td>sex</td>\n",
              "      <td>11.922487</td>\n",
              "    </tr>\n",
              "    <tr>\n",
              "      <th>2</th>\n",
              "      <td>cigsPerDay</td>\n",
              "      <td>1.897678</td>\n",
              "    </tr>\n",
              "    <tr>\n",
              "      <th>3</th>\n",
              "      <td>BPMeds</td>\n",
              "      <td>1.103574</td>\n",
              "    </tr>\n",
              "    <tr>\n",
              "      <th>4</th>\n",
              "      <td>prevalentStroke</td>\n",
              "      <td>1.023506</td>\n",
              "    </tr>\n",
              "    <tr>\n",
              "      <th>5</th>\n",
              "      <td>diabetes</td>\n",
              "      <td>1.111451</td>\n",
              "    </tr>\n",
              "    <tr>\n",
              "      <th>6</th>\n",
              "      <td>totChol</td>\n",
              "      <td>39.593176</td>\n",
              "    </tr>\n",
              "    <tr>\n",
              "      <th>7</th>\n",
              "      <td>BMI</td>\n",
              "      <td>57.722514</td>\n",
              "    </tr>\n",
              "    <tr>\n",
              "      <th>8</th>\n",
              "      <td>heartRate</td>\n",
              "      <td>52.890963</td>\n",
              "    </tr>\n",
              "    <tr>\n",
              "      <th>9</th>\n",
              "      <td>glucose</td>\n",
              "      <td>41.309474</td>\n",
              "    </tr>\n",
              "    <tr>\n",
              "      <th>10</th>\n",
              "      <td>map</td>\n",
              "      <td>81.714739</td>\n",
              "    </tr>\n",
              "  </tbody>\n",
              "</table>\n",
              "</div>\n",
              "      <button class=\"colab-df-convert\" onclick=\"convertToInteractive('df-0c247501-94ed-4946-8fbe-79de7b708a78')\"\n",
              "              title=\"Convert this dataframe to an interactive table.\"\n",
              "              style=\"display:none;\">\n",
              "        \n",
              "  <svg xmlns=\"http://www.w3.org/2000/svg\" height=\"24px\"viewBox=\"0 0 24 24\"\n",
              "       width=\"24px\">\n",
              "    <path d=\"M0 0h24v24H0V0z\" fill=\"none\"/>\n",
              "    <path d=\"M18.56 5.44l.94 2.06.94-2.06 2.06-.94-2.06-.94-.94-2.06-.94 2.06-2.06.94zm-11 1L8.5 8.5l.94-2.06 2.06-.94-2.06-.94L8.5 2.5l-.94 2.06-2.06.94zm10 10l.94 2.06.94-2.06 2.06-.94-2.06-.94-.94-2.06-.94 2.06-2.06.94z\"/><path d=\"M17.41 7.96l-1.37-1.37c-.4-.4-.92-.59-1.43-.59-.52 0-1.04.2-1.43.59L10.3 9.45l-7.72 7.72c-.78.78-.78 2.05 0 2.83L4 21.41c.39.39.9.59 1.41.59.51 0 1.02-.2 1.41-.59l7.78-7.78 2.81-2.81c.8-.78.8-2.07 0-2.86zM5.41 20L4 18.59l7.72-7.72 1.47 1.35L5.41 20z\"/>\n",
              "  </svg>\n",
              "      </button>\n",
              "      \n",
              "  <style>\n",
              "    .colab-df-container {\n",
              "      display:flex;\n",
              "      flex-wrap:wrap;\n",
              "      gap: 12px;\n",
              "    }\n",
              "\n",
              "    .colab-df-convert {\n",
              "      background-color: #E8F0FE;\n",
              "      border: none;\n",
              "      border-radius: 50%;\n",
              "      cursor: pointer;\n",
              "      display: none;\n",
              "      fill: #1967D2;\n",
              "      height: 32px;\n",
              "      padding: 0 0 0 0;\n",
              "      width: 32px;\n",
              "    }\n",
              "\n",
              "    .colab-df-convert:hover {\n",
              "      background-color: #E2EBFA;\n",
              "      box-shadow: 0px 1px 2px rgba(60, 64, 67, 0.3), 0px 1px 3px 1px rgba(60, 64, 67, 0.15);\n",
              "      fill: #174EA6;\n",
              "    }\n",
              "\n",
              "    [theme=dark] .colab-df-convert {\n",
              "      background-color: #3B4455;\n",
              "      fill: #D2E3FC;\n",
              "    }\n",
              "\n",
              "    [theme=dark] .colab-df-convert:hover {\n",
              "      background-color: #434B5C;\n",
              "      box-shadow: 0px 1px 3px 1px rgba(0, 0, 0, 0.15);\n",
              "      filter: drop-shadow(0px 1px 2px rgba(0, 0, 0, 0.3));\n",
              "      fill: #FFFFFF;\n",
              "    }\n",
              "  </style>\n",
              "\n",
              "      <script>\n",
              "        const buttonEl =\n",
              "          document.querySelector('#df-0c247501-94ed-4946-8fbe-79de7b708a78 button.colab-df-convert');\n",
              "        buttonEl.style.display =\n",
              "          google.colab.kernel.accessAllowed ? 'block' : 'none';\n",
              "\n",
              "        async function convertToInteractive(key) {\n",
              "          const element = document.querySelector('#df-0c247501-94ed-4946-8fbe-79de7b708a78');\n",
              "          const dataTable =\n",
              "            await google.colab.kernel.invokeFunction('convertToInteractive',\n",
              "                                                     [key], {});\n",
              "          if (!dataTable) return;\n",
              "\n",
              "          const docLinkHtml = 'Like what you see? Visit the ' +\n",
              "            '<a target=\"_blank\" href=https://colab.research.google.com/notebooks/data_table.ipynb>data table notebook</a>'\n",
              "            + ' to learn more about interactive tables.';\n",
              "          element.innerHTML = '';\n",
              "          dataTable['output_type'] = 'display_data';\n",
              "          await google.colab.output.renderOutput(dataTable, element);\n",
              "          const docLink = document.createElement('div');\n",
              "          docLink.innerHTML = docLinkHtml;\n",
              "          element.appendChild(docLink);\n",
              "        }\n",
              "      </script>\n",
              "    </div>\n",
              "  </div>\n",
              "  "
            ]
          },
          "metadata": {},
          "execution_count": 144
        }
      ]
    },
    {
      "cell_type": "markdown",
      "source": [
        "What is imbalanced data?\n",
        "\n",
        "Imbalanced data refers to those types of datasets where the target class has an uneven distribution of observations, i.e one class label has a very high number of observations and the other has a very low number of observations.\n",
        "\n",
        "Methods to handle imbalanced dataset\n",
        "\n",
        "* Resampling\n",
        "* SMOTE (Synthetic Minority Oversampling Technique)\n",
        "* BalancedBaggingClassifier\n",
        "\n",
        "We shall use SMOTE Technique here to balance our imbalanced dataset"
      ],
      "metadata": {
        "id": "FvWKWwqdABom"
      }
    },
    {
      "cell_type": "markdown",
      "source": [
        "##Univariate analysis"
      ],
      "metadata": {
        "id": "GEjfBKPH3ZsQ"
      }
    },
    {
      "cell_type": "markdown",
      "source": [
        "### 1. Heart disease (target variable) distribution"
      ],
      "metadata": {
        "id": "kodlsc252P5c"
      }
    },
    {
      "cell_type": "code",
      "source": [
        "# visualize the target variable\n",
        "g = sns.countplot(df['Heart_Disease'])\n",
        "g.set_xticklabels(['Heart Disease','Normal'])\n",
        "plt.show()"
      ],
      "metadata": {
        "id": "uirzJc2HrqBN",
        "colab": {
          "base_uri": "https://localhost:8080/",
          "height": 280
        },
        "outputId": "b6c94d37-04a4-4a00-f1d1-275410d0e591"
      },
      "execution_count": 145,
      "outputs": [
        {
          "output_type": "display_data",
          "data": {
            "text/plain": [
              "<Figure size 432x288 with 1 Axes>"
            ],
            "image/png": "[encoded data removed]"
          },
          "metadata": {
            "needs_background": "light"
          }
        }
      ]
    },
    {
      "cell_type": "markdown",
      "source": [
        "* Given dataset is highly imbalanced which will be dealt further at the time of model building."
      ],
      "metadata": {
        "id": "SVQiLEwk2hc1"
      }
    },
    {
      "cell_type": "code",
      "source": [
        "# Plot\n",
        "fig, (ax1, ax2) = plt.subplots(nrows=1, ncols=2, sharey=False, figsize=(14,6))\n",
        "\n",
        "ax1 = df['Heart_Disease'].value_counts().plot.pie( x=\"Heart_Disease\" ,y ='no.of patients', \n",
        "autopct = \"%1.0f%%\",labels=[\"Heart Disease\",\"Normal\"], startangle = 60,ax=ax1,explode = (0,0.1))\n",
        "ax1.set(title = 'Percentage of Heart disease patients in Dataset')\n",
        "\n",
        "ax2 = df['Heart_Disease'].value_counts().plot(kind=\"barh\" ,ax =ax2)\n",
        "for i,j in enumerate(df['Heart_Disease'].value_counts().values): ax2.text(.5,i,j,fontsize=12)\n",
        "ax2.set(title = 'No. of Heart disease patients in Dataset')\n",
        "plt.show()"
      ],
      "metadata": {
        "colab": {
          "base_uri": "https://localhost:8080/",
          "height": 390
        },
        "id": "PbZXPtsb2ajq",
        "outputId": "ae01f1ac-4532-4e49-a1fd-e07c3db15b15"
      },
      "execution_count": 146,
      "outputs": [
        {
          "output_type": "display_data",
          "data": {
            "text/plain": [
              "<Figure size 1008x432 with 2 Axes>"
            ],
            "image/png": "[encoded data removed]"
          },
          "metadata": {
            "needs_background": "light"
          }
        }
      ]
    },
    {
      "cell_type": "markdown",
      "source": [
        "* Over 85% of the people have heart disease"
      ],
      "metadata": {
        "id": "EBeTpLjc28Z2"
      }
    },
    {
      "cell_type": "markdown",
      "source": [
        "###2. Genderwise distribution"
      ],
      "metadata": {
        "id": "EnIO3MCN3GSr"
      }
    },
    {
      "cell_type": "code",
      "source": [
        "# creating separate df for normal and heart patients\n",
        "\n",
        "patient =df[df['Heart_Disease']==1]\n",
        "\n",
        "normal =df[df['Heart_Disease']==0]"
      ],
      "metadata": {
        "id": "KdcM7Frk3LIc"
      },
      "execution_count": 147,
      "outputs": []
    },
    {
      "cell_type": "code",
      "source": [
        "plt.figure(figsize=(18,12))\n",
        "plt.subplot(221)\n",
        "df['sex'].value_counts().plot.pie(autopct = \"%1.0f%%\",colors = sns.color_palette(\"flare\",5),startangle = 60,labels=[\"Male\",\"Female\"],\n",
        "wedgeprops={\"linewidth\":2,\"edgecolor\":\"k\"},explode=[.1,.1],shadow =True)\n",
        "plt.title(\"Distribution of Gender\")"
      ],
      "metadata": {
        "colab": {
          "base_uri": "https://localhost:8080/",
          "height": 360
        },
        "id": "RWnXV-5g20rN",
        "outputId": "5c44d00e-fb3b-4f04-d503-52edf33166eb"
      },
      "execution_count": 148,
      "outputs": [
        {
          "output_type": "execute_result",
          "data": {
            "text/plain": [
              "Text(0.5, 1.0, 'Distribution of Gender')"
            ]
          },
          "metadata": {},
          "execution_count": 148
        },
        {
          "output_type": "display_data",
          "data": {
            "text/plain": [
              "<Figure size 1296x864 with 1 Axes>"
            ],
            "image/png": "[encoded data removed]"
          },
          "metadata": {}
        }
      ]
    },
    {
      "cell_type": "code",
      "source": [
        "# plotting normal patients\n",
        "fig,ax=plt.subplots(figsize=(15,5))\n",
        "ax1 = plt.subplot2grid((1,2),(0,0))\n",
        "sns.countplot(normal['sex'], palette='plasma')\n",
        "plt.title('GENDER DISTRIBUTION OF NORMAL PATIENTS', fontsize=15, weight='bold' )\n",
        "\n",
        "\n",
        "#plotting heart patients\n",
        "ax1 = plt.subplot2grid((1,2),(0,1))\n",
        "sns.countplot(patient['sex'], palette='viridis')\n",
        "plt.title('GENDER DISTRIBUTION OF HEART DISEASE PATIENTS', fontsize=15, weight='bold' )\n",
        "plt.show()"
      ],
      "metadata": {
        "colab": {
          "base_uri": "https://localhost:8080/",
          "height": 352
        },
        "id": "XIpi1-D74Tk-",
        "outputId": "5219c1d0-510c-43cf-b8d3-d8764fc2aec5"
      },
      "execution_count": 149,
      "outputs": [
        {
          "output_type": "display_data",
          "data": {
            "text/plain": [
              "<Figure size 1080x360 with 2 Axes>"
            ],
            "image/png": "[encoded data removed]"
          },
          "metadata": {
            "needs_background": "light"
          }
        }
      ]
    },
    {
      "cell_type": "markdown",
      "source": [
        "###3. Age Distribution"
      ],
      "metadata": {
        "id": "AVOESGzu3QxZ"
      }
    },
    {
      "cell_type": "code",
      "source": [
        "# plotting normal patients\n",
        "fig = plt.figure(figsize=(15,5))\n",
        "ax1 = plt.subplot2grid((1,2),(0,0))\n",
        "sns.distplot(normal['age'])\n",
        "plt.title('AGE DISTRIBUTION OF NORMAL PATIENTS', fontsize=15, weight='bold')\n",
        "\n",
        "fig = plt.figure(figsize=(15,5))\n",
        "ax1 = plt.subplot2grid((1,2),(0,0))\n",
        "sns.distplot(patient['age'])\n",
        "plt.title('AGE DISTRIBUTION OF HEART DISEASE PATIENTS', fontsize=15, weight='bold')\n",
        "\n",
        "plt.show()"
      ],
      "metadata": {
        "colab": {
          "base_uri": "https://localhost:8080/",
          "height": 687
        },
        "id": "nwYRgrNw37La",
        "outputId": "36a36e65-1d93-4863-8d94-bb7c7aad77c2"
      },
      "execution_count": 150,
      "outputs": [
        {
          "output_type": "display_data",
          "data": {
            "text/plain": [
              "<Figure size 1080x360 with 1 Axes>"
            ],
            "image/png": "[encoded data removed]"
          },
          "metadata": {
            "needs_background": "light"
          }
        },
        {
          "output_type": "display_data",
          "data": {
            "text/plain": [
              "<Figure size 1080x360 with 1 Axes>"
            ],
            "image/png": "[encoded data removed]"
          },
          "metadata": {
            "needs_background": "light"
          }
        }
      ]
    },
    {
      "cell_type": "code",
      "source": [
        "# plotting normal patients\n",
        "fig,ax=plt.subplots(figsize=(25,5))\n",
        "ax1 = plt.subplot2grid((1,2),(0,0))\n",
        "sns.countplot(normal['age'], palette='rocket')\n",
        "plt.title('Age distribution of Normal patients', fontsize=15, weight='bold' )\n",
        "\n",
        "\n",
        "#plotting heart patients\n",
        "ax1 = plt.subplot2grid((1,2),(0,1))\n",
        "sns.countplot(patient['age'], palette='rocket')\n",
        "plt.title('Age distribution of heart disease patients', fontsize=15, weight='bold' )\n",
        "plt.show()"
      ],
      "metadata": {
        "colab": {
          "base_uri": "https://localhost:8080/",
          "height": 305
        },
        "id": "nvNhL74P4H3T",
        "outputId": "3feecdcc-d692-48a3-e36f-c77822c2743f"
      },
      "execution_count": 151,
      "outputs": [
        {
          "output_type": "display_data",
          "data": {
            "text/plain": [
              "<Figure size 1800x360 with 2 Axes>"
            ],
            "image/png": "[encoded data removed]"
          },
          "metadata": {
            "needs_background": "light"
          }
        }
      ]
    },
    {
      "cell_type": "markdown",
      "source": [
        "###4. Cigarette Consumption"
      ],
      "metadata": {
        "id": "ei11vuq74jka"
      }
    },
    {
      "cell_type": "code",
      "source": [
        "# plotting normal patients\n",
        "fig = plt.figure(figsize=(25,5))\n",
        "ax1 = plt.subplot2grid((1,2),(0,0))\n",
        "sns.kdeplot(x='cigsPerDay',data = normal, color='green')\n",
        "plt.title('Daily cigrettes consumption by normal people', fontsize=15, weight='bold')\n",
        "\n",
        "#plotting heart patients\n",
        "ax1 = plt.subplot2grid((1,2),(0,1))\n",
        "sns.kdeplot(x='cigsPerDay',data = patient, color='orange')\n",
        "plt.title('Daily cigrettes consumption by Heart Patients', fontsize=15, weight='bold' )\n",
        "plt.show()"
      ],
      "metadata": {
        "colab": {
          "base_uri": "https://localhost:8080/",
          "height": 304
        },
        "id": "VwUVUlAR4IVx",
        "outputId": "72e8246b-b700-45fe-c523-64f9367df27a"
      },
      "execution_count": 152,
      "outputs": [
        {
          "output_type": "display_data",
          "data": {
            "text/plain": [
              "<Figure size 1800x360 with 2 Axes>"
            ],
            "image/png": "[encoded data removed]"
          },
          "metadata": {
            "needs_background": "light"
          }
        }
      ]
    },
    {
      "cell_type": "markdown",
      "source": [
        "###5. Body Mass Index (BMI) Distribution"
      ],
      "metadata": {
        "id": "QTdti-Q042bO"
      }
    },
    {
      "cell_type": "code",
      "source": [
        "fig = plt.figure(figsize=(9, 6))\n",
        "ax = fig.gca()\n",
        "df.boxplot(column = 'BMI', by = 'Heart_Disease', ax = ax, color='orange')\n",
        "ax.set_ylabel(\"BMI\")\n",
        "plt.show()"
      ],
      "metadata": {
        "colab": {
          "base_uri": "https://localhost:8080/",
          "height": 476
        },
        "id": "gJ0SWpBC4zLD",
        "outputId": "130218ef-1fd0-4670-b3a2-875586f343ab"
      },
      "execution_count": 153,
      "outputs": [
        {
          "output_type": "stream",
          "name": "stderr",
          "text": [
            "/usr/local/lib/python3.7/dist-packages/matplotlib/cbook/__init__.py:1376: VisibleDeprecationWarning: Creating an ndarray from ragged nested sequences (which is a list-or-tuple of lists-or-tuples-or ndarrays with different lengths or shapes) is deprecated. If you meant to do this, you must specify 'dtype=object' when creating the ndarray.\n",
            "  X = np.atleast_1d(X.T if isinstance(X, np.ndarray) else np.asarray(X))\n"
          ]
        },
        {
          "output_type": "display_data",
          "data": {
            "text/plain": [
              "<Figure size 648x432 with 1 Axes>"
            ],
            "image/png": "[encoded data removed]"
          },
          "metadata": {
            "needs_background": "light"
          }
        }
      ]
    },
    {
      "cell_type": "markdown",
      "source": [
        "###6. Cholestrol Distribution"
      ],
      "metadata": {
        "id": "Rj-xlZEU5GtF"
      }
    },
    {
      "cell_type": "code",
      "source": [
        "# plotting normal patients\n",
        "fig = plt.figure(figsize=(25,5))\n",
        "ax1 = plt.subplot2grid((1,2),(0,0))\n",
        "sns.boxplot(x='totChol',data = normal, palette='pastel')\n",
        "plt.title('total cholestrol level of  normal people', fontsize=15, weight='bold')\n",
        "\n",
        "#plotting heart patients\n",
        "ax1 = plt.subplot2grid((1,2),(0,1))\n",
        "sns.boxplot(x='totChol',data = patient, palette='plasma')\n",
        "plt.title('total cholestrol level of Heart Patients', fontsize=15, weight='bold' )\n",
        "plt.show()"
      ],
      "metadata": {
        "colab": {
          "base_uri": "https://localhost:8080/",
          "height": 310
        },
        "id": "i8DztySn5M4-",
        "outputId": "ae452ed3-50b3-4f5f-f84c-5afd22fa1edf"
      },
      "execution_count": 154,
      "outputs": [
        {
          "output_type": "display_data",
          "data": {
            "text/plain": [
              "<Figure size 1800x360 with 2 Axes>"
            ],
            "image/png": "[encoded data removed]"
          },
          "metadata": {
            "needs_background": "light"
          }
        }
      ]
    },
    {
      "cell_type": "markdown",
      "source": [
        "* Total Cholestrol level of heart patient seems to be slightly higher than normal patient. \n",
        "* People with similar levels of cholestrol have got heart disease as well as are free from heart disease. \n",
        "* Clearly, there is no direct correlation of heart disease with the cholestrol level."
      ],
      "metadata": {
        "id": "3EwsmtlD5Q4E"
      }
    },
    {
      "cell_type": "markdown",
      "source": [
        "###7. Mean Arterial Pressure (map) Distribution"
      ],
      "metadata": {
        "id": "YNpm8Y0Z5iIS"
      }
    },
    {
      "cell_type": "code",
      "source": [
        "# plotting normal patients\n",
        "fig,ax=plt.subplots(figsize=(20,5))\n",
        "ax1 = plt.subplot2grid((1,2),(0,0))\n",
        "sns.kdeplot(x=normal['map'], palette='')\n",
        "plt.title('MAP of Normal patients', fontsize=15, weight='bold' )\n",
        "\n",
        "\n",
        "#plotting heart patients\n",
        "ax1 = plt.subplot2grid((1,2),(0,1))\n",
        "sns.kdeplot(x=patient['map'], color= 'orange')\n",
        "plt.title('Map of heart disease patients', fontsize=15, weight='bold' )"
      ],
      "metadata": {
        "colab": {
          "base_uri": "https://localhost:8080/",
          "height": 369
        },
        "id": "KBDsBT1R5wzB",
        "outputId": "bad836c3-954b-4038-9a1d-b4432551772c"
      },
      "execution_count": 155,
      "outputs": [
        {
          "output_type": "execute_result",
          "data": {
            "text/plain": [
              "Text(0.5, 1.0, 'Map of heart disease patients')"
            ]
          },
          "metadata": {},
          "execution_count": 155
        },
        {
          "output_type": "display_data",
          "data": {
            "text/plain": [
              "<Figure size 1440x360 with 2 Axes>"
            ],
            "image/png": "[encoded data removed]"
          },
          "metadata": {
            "needs_background": "light"
          }
        }
      ]
    },
    {
      "cell_type": "code",
      "source": [
        "df.info()"
      ],
      "metadata": {
        "colab": {
          "base_uri": "https://localhost:8080/"
        },
        "id": "AZwQEloM5xZM",
        "outputId": "5532fb74-427e-433c-bc60-027e81076777"
      },
      "execution_count": 156,
      "outputs": [
        {
          "output_type": "stream",
          "name": "stdout",
          "text": [
            "<class 'pandas.core.frame.DataFrame'>\n",
            "Int64Index: 3004 entries, 1 to 3389\n",
            "Data columns (total 12 columns):\n",
            " #   Column           Non-Null Count  Dtype  \n",
            "---  ------           --------------  -----  \n",
            " 0   age              3004 non-null   int64  \n",
            " 1   sex              3004 non-null   int64  \n",
            " 2   cigsPerDay       3004 non-null   float64\n",
            " 3   BPMeds           3004 non-null   float64\n",
            " 4   prevalentStroke  3004 non-null   int64  \n",
            " 5   diabetes         3004 non-null   int64  \n",
            " 6   totChol          3004 non-null   float64\n",
            " 7   BMI              3004 non-null   float64\n",
            " 8   heartRate        3004 non-null   float64\n",
            " 9   glucose          3004 non-null   float64\n",
            " 10  Heart_Disease    3004 non-null   int64  \n",
            " 11  map              3004 non-null   float64\n",
            "dtypes: float64(7), int64(5)\n",
            "memory usage: 369.6 KB\n"
          ]
        }
      ]
    },
    {
      "cell_type": "markdown",
      "source": [
        "##Bivariate Analysis"
      ],
      "metadata": {
        "id": "8hI0xjdY8DmA"
      }
    },
    {
      "cell_type": "markdown",
      "source": [
        "###1. BP Medication and Heart_Disease"
      ],
      "metadata": {
        "id": "vXlk4UR-8rDu"
      }
    },
    {
      "cell_type": "code",
      "source": [
        "freq_df = df.groupby('Heart_Disease')['BPMeds'].value_counts().unstack(0)\n",
        "pct_df = freq_df.divide(freq_df.sum(axis=1), axis=0)*100\n",
        "pct_df.plot(kind=\"bar\")\n",
        "plt.ylim(0,100)\n",
        "plt.ylabel('Percentage')\n",
        "plt.xticks(rotation=0)"
      ],
      "metadata": {
        "colab": {
          "base_uri": "https://localhost:8080/",
          "height": 300
        },
        "id": "3tMUQMDI6Igs",
        "outputId": "58704e54-9f61-46df-bed1-e50676539510"
      },
      "execution_count": 157,
      "outputs": [
        {
          "output_type": "execute_result",
          "data": {
            "text/plain": [
              "(array([0, 1]), <a list of 2 Text major ticklabel objects>)"
            ]
          },
          "metadata": {},
          "execution_count": 157
        },
        {
          "output_type": "display_data",
          "data": {
            "text/plain": [
              "<Figure size 432x288 with 1 Axes>"
            ],
            "image/png": "[encoded data removed]"
          },
          "metadata": {
            "needs_background": "light"
          }
        }
      ]
    },
    {
      "cell_type": "markdown",
      "source": [
        "* People who take Blood pressure meds have a higher chance of having heart disease."
      ],
      "metadata": {
        "id": "3oYyXhjz8iMM"
      }
    },
    {
      "cell_type": "markdown",
      "source": [
        "###2. Prevalent Stroke and Heart_Disease"
      ],
      "metadata": {
        "id": "cSSq9wQj847b"
      }
    },
    {
      "cell_type": "code",
      "source": [
        "freq_df = df.groupby('Heart_Disease')['prevalentStroke'].value_counts().unstack(0)\n",
        "pct_df = freq_df.divide(freq_df.sum(axis=1), axis=0)*100\n",
        "pct_df.plot(kind=\"bar\")\n",
        "plt.ylim(0,100)\n",
        "plt.ylabel('Percentage')\n",
        "plt.xticks(rotation=0)"
      ],
      "metadata": {
        "colab": {
          "base_uri": "https://localhost:8080/",
          "height": 300
        },
        "id": "x6KIE_Ip8J2O",
        "outputId": "867fb20c-5b4c-4ff0-c711-47222fe40a30"
      },
      "execution_count": 158,
      "outputs": [
        {
          "output_type": "execute_result",
          "data": {
            "text/plain": [
              "(array([0, 1]), <a list of 2 Text major ticklabel objects>)"
            ]
          },
          "metadata": {},
          "execution_count": 158
        },
        {
          "output_type": "display_data",
          "data": {
            "text/plain": [
              "<Figure size 432x288 with 1 Axes>"
            ],
            "image/png": "[encoded data removed]"
          },
          "metadata": {
            "needs_background": "light"
          }
        }
      ]
    },
    {
      "cell_type": "markdown",
      "source": [
        "* Higher percentage of patients with prevalent stroke symptoms have a 10-year risk of Heart disease."
      ],
      "metadata": {
        "id": "QaBrJVFt9TZQ"
      }
    },
    {
      "cell_type": "markdown",
      "source": [
        "###3. Diabetes and Heart_Disease"
      ],
      "metadata": {
        "id": "0nDyzNvg9fq_"
      }
    },
    {
      "cell_type": "code",
      "source": [
        "freq_df = df.groupby('Heart_Disease')['diabetes'].value_counts().unstack(0)\n",
        "pct_df = freq_df.divide(freq_df.sum(axis=1), axis=0)*100\n",
        "pct_df.plot(kind=\"bar\")\n",
        "plt.ylim(0,100)\n",
        "plt.ylabel('Percentage')\n",
        "plt.xticks(rotation=0)"
      ],
      "metadata": {
        "colab": {
          "base_uri": "https://localhost:8080/",
          "height": 300
        },
        "id": "uaq6mWX29PuT",
        "outputId": "50323e6b-63ac-4ca2-c2a1-8f97f583066f"
      },
      "execution_count": 159,
      "outputs": [
        {
          "output_type": "execute_result",
          "data": {
            "text/plain": [
              "(array([0, 1]), <a list of 2 Text major ticklabel objects>)"
            ]
          },
          "metadata": {},
          "execution_count": 159
        },
        {
          "output_type": "display_data",
          "data": {
            "text/plain": [
              "<Figure size 432x288 with 1 Axes>"
            ],
            "image/png": "[encoded data removed]"
          },
          "metadata": {
            "needs_background": "light"
          }
        }
      ]
    },
    {
      "cell_type": "markdown",
      "source": [
        "###4."
      ],
      "metadata": {
        "id": "4L6SvGgS-906"
      }
    },
    {
      "cell_type": "code",
      "source": [
        "plt.figure(figsize=(30,15))\n",
        "sns.countplot(data=df,x='age',hue='Heart_Disease',palette='pastel')\n",
        "plt.show()"
      ],
      "metadata": {
        "colab": {
          "base_uri": "https://localhost:8080/",
          "height": 636
        },
        "id": "_7jcfX6q9jpl",
        "outputId": "8f66d96b-07f5-4fb6-e7ca-226bc3715974"
      },
      "execution_count": 160,
      "outputs": [
        {
          "output_type": "display_data",
          "data": {
            "text/plain": [
              "<Figure size 2160x1080 with 1 Axes>"
            ],
            "image/png": "[encoded data removed]"
          },
          "metadata": {
            "needs_background": "light"
          }
        }
      ]
    },
    {
      "cell_type": "markdown",
      "source": [
        "* Chances of getting CHD are mostly among the age group 42-63.\n",
        "\n",
        "* While age group below 35 has lowest chances of getting CHD."
      ],
      "metadata": {
        "id": "VYNphjjp_XKz"
      }
    },
    {
      "cell_type": "markdown",
      "source": [
        "###5. sex and risk of Heart_Disease"
      ],
      "metadata": {
        "id": "qLdgnm3d_fWG"
      }
    },
    {
      "cell_type": "code",
      "source": [
        "sns.catplot(data= df, kind='count', x='sex', hue='Heart_Disease', palette='pastel')\n",
        "plt.show()"
      ],
      "metadata": {
        "colab": {
          "base_uri": "https://localhost:8080/",
          "height": 369
        },
        "id": "H504eMAR_yas",
        "outputId": "0eca5ee5-6872-45c2-8130-30c66574f11d"
      },
      "execution_count": 161,
      "outputs": [
        {
          "output_type": "display_data",
          "data": {
            "text/plain": [
              "<Figure size 440.25x360 with 1 Axes>"
            ],
            "image/png": "[encoded data removed]"
          },
          "metadata": {
            "needs_background": "light"
          }
        }
      ]
    },
    {
      "cell_type": "markdown",
      "source": [
        "#Models"
      ],
      "metadata": {
        "id": "LNXwd7ws5O8f"
      }
    },
    {
      "cell_type": "markdown",
      "source": [
        "##Dependent and independent variables"
      ],
      "metadata": {
        "id": "oKeE31XiOQel"
      }
    },
    {
      "cell_type": "code",
      "source": [
        "# Splitting the data into set of independent variables and a dependent variable.\n",
        "X = df.drop('Heart_Disease',axis=1).values\n",
        "y = df['Heart_Disease'].values"
      ],
      "metadata": {
        "id": "IbknY4PPkOA-"
      },
      "execution_count": 162,
      "outputs": []
    },
    {
      "cell_type": "markdown",
      "source": [
        "##Train test split"
      ],
      "metadata": {
        "id": "YsrvioqtOVRl"
      }
    },
    {
      "cell_type": "code",
      "source": [
        "# splitting data in train and test\n",
        "from sklearn.model_selection import train_test_split\n",
        "X_train, X_test, y_train, y_test = train_test_split(X, y, test_size=0.2, random_state = 0, stratify = y)"
      ],
      "metadata": {
        "id": "_hGtC0ETG6o1"
      },
      "execution_count": 163,
      "outputs": []
    },
    {
      "cell_type": "markdown",
      "source": [
        "##Data Standardization"
      ],
      "metadata": {
        "id": "7NZ_0d8DO0XN"
      }
    },
    {
      "cell_type": "code",
      "source": [
        "#scaling data\n",
        "from sklearn.preprocessing import StandardScaler\n",
        "std = StandardScaler()\n",
        "X_train = std.fit_transform(X_train)\n",
        "X_test = std.transform(X_test)"
      ],
      "metadata": {
        "id": "W9O69xkvOx0U"
      },
      "execution_count": 164,
      "outputs": []
    },
    {
      "cell_type": "markdown",
      "source": [
        "#1. Logistic Regression"
      ],
      "metadata": {
        "id": "qsQ17fRrPDOs"
      }
    },
    {
      "cell_type": "code",
      "source": [
        "from sklearn.linear_model import LogisticRegression\n",
        "\n",
        "lr_model = LogisticRegression(fit_intercept=True, max_iter=10000)\n",
        "lr_model.fit(X_train, y_train)"
      ],
      "metadata": {
        "colab": {
          "base_uri": "https://localhost:8080/"
        },
        "id": "c99EFdP0H56f",
        "outputId": "e049bea5-5bcf-4e21-fa17-228549b3baf8"
      },
      "execution_count": 165,
      "outputs": [
        {
          "output_type": "execute_result",
          "data": {
            "text/plain": [
              "LogisticRegression(max_iter=10000)"
            ]
          },
          "metadata": {},
          "execution_count": 165
        }
      ]
    },
    {
      "cell_type": "code",
      "source": [
        "# Get the model coefficients\n",
        "lr_model.coef_"
      ],
      "metadata": {
        "colab": {
          "base_uri": "https://localhost:8080/"
        },
        "id": "-43w6jgi_QVB",
        "outputId": "e37eb7da-2a2d-4983-ef5d-2291a0a2eda9"
      },
      "execution_count": 166,
      "outputs": [
        {
          "output_type": "execute_result",
          "data": {
            "text/plain": [
              "array([[ 0.58044896, -0.21429302,  0.28348484,  0.06196233,  0.03868728,\n",
              "         0.11882944,  0.1131717 ,  0.0267905 , -0.01969659,  0.11258364,\n",
              "         0.3011826 ]])"
            ]
          },
          "metadata": {},
          "execution_count": 166
        }
      ]
    },
    {
      "cell_type": "code",
      "source": [
        "lr_model.intercept_"
      ],
      "metadata": {
        "colab": {
          "base_uri": "https://localhost:8080/"
        },
        "id": "UCjr8AHJ_ZMC",
        "outputId": "4922504c-0be4-427f-a8f4-1ce5832e11d6"
      },
      "execution_count": 167,
      "outputs": [
        {
          "output_type": "execute_result",
          "data": {
            "text/plain": [
              "array([-1.97155659])"
            ]
          },
          "metadata": {},
          "execution_count": 167
        }
      ]
    },
    {
      "cell_type": "code",
      "source": [
        "train_pred = lr_model.predict_proba(X_train)\n",
        "test_pred = lr_model.predict_proba(X_test)"
      ],
      "metadata": {
        "id": "B4QTEzGgxcun"
      },
      "execution_count": 168,
      "outputs": []
    },
    {
      "cell_type": "code",
      "source": [
        "test_pred"
      ],
      "metadata": {
        "id": "Cdv3mEeLxeek",
        "colab": {
          "base_uri": "https://localhost:8080/"
        },
        "outputId": "b7ef3085-8cb6-4448-fd90-111d3be8b3fd"
      },
      "execution_count": 169,
      "outputs": [
        {
          "output_type": "execute_result",
          "data": {
            "text/plain": [
              "array([[0.95964145, 0.04035855],\n",
              "       [0.75507408, 0.24492592],\n",
              "       [0.56687396, 0.43312604],\n",
              "       ...,\n",
              "       [0.85742667, 0.14257333],\n",
              "       [0.94227458, 0.05772542],\n",
              "       [0.96296125, 0.03703875]])"
            ]
          },
          "metadata": {},
          "execution_count": 169
        }
      ]
    },
    {
      "cell_type": "code",
      "source": [
        "train_preds = lr_model.predict_proba(X_train)[:,1]\n",
        "test_preds = lr_model.predict_proba(X_test)[:,1]"
      ],
      "metadata": {
        "id": "x3Um1-rP_hr5"
      },
      "execution_count": 170,
      "outputs": []
    },
    {
      "cell_type": "code",
      "source": [
        "# Get the predicted classes\n",
        "X_pred_lr = lr_model.predict(X_train)\n",
        "y_pred_lr = lr_model.predict(X_test)"
      ],
      "metadata": {
        "id": "XMJgJYf4_lyz"
      },
      "execution_count": 171,
      "outputs": []
    },
    {
      "cell_type": "code",
      "source": [
        "from sklearn.metrics import classification_report, accuracy_score\n",
        "lr_cr = classification_report(y_test,y_pred_lr,output_dict = True)\n",
        "lr_cr = pd.DataFrame(lr_cr).T\n",
        "print('accuracy_score =',accuracy_score(y_test,y_pred_lr))\n",
        "lr_cr"
      ],
      "metadata": {
        "colab": {
          "base_uri": "https://localhost:8080/",
          "height": 224
        },
        "id": "nJ6B1jfREqJz",
        "outputId": "cce00eae-301d-4831-e5ce-e2fe5d7d356f"
      },
      "execution_count": 172,
      "outputs": [
        {
          "output_type": "stream",
          "name": "stdout",
          "text": [
            "accuracy_score = 0.848585690515807\n"
          ]
        },
        {
          "output_type": "execute_result",
          "data": {
            "text/plain": [
              "              precision    recall  f1-score     support\n",
              "0              0.852101  0.994118  0.917647  510.000000\n",
              "1              0.500000  0.032967  0.061856   91.000000\n",
              "accuracy       0.848586  0.848586  0.848586    0.848586\n",
              "macro avg      0.676050  0.513542  0.489751  601.000000\n",
              "weighted avg   0.798788  0.848586  0.788068  601.000000"
            ],
            "text/html": [
              "\n",
              "  <div id=\"df-99cf4bc9-faea-42b5-b872-d33ad2af1aac\">\n",
              "    <div class=\"colab-df-container\">\n",
              "      <div>\n",
              "<style scoped>\n",
              "    .dataframe tbody tr th:only-of-type {\n",
              "        vertical-align: middle;\n",
              "    }\n",
              "\n",
              "    .dataframe tbody tr th {\n",
              "        vertical-align: top;\n",
              "    }\n",
              "\n",
              "    .dataframe thead th {\n",
              "        text-align: right;\n",
              "    }\n",
              "</style>\n",
              "<table border=\"1\" class=\"dataframe\">\n",
              "  <thead>\n",
              "    <tr style=\"text-align: right;\">\n",
              "      <th></th>\n",
              "      <th>precision</th>\n",
              "      <th>recall</th>\n",
              "      <th>f1-score</th>\n",
              "      <th>support</th>\n",
              "    </tr>\n",
              "  </thead>\n",
              "  <tbody>\n",
              "    <tr>\n",
              "      <th>0</th>\n",
              "      <td>0.852101</td>\n",
              "      <td>0.994118</td>\n",
              "      <td>0.917647</td>\n",
              "      <td>510.000000</td>\n",
              "    </tr>\n",
              "    <tr>\n",
              "      <th>1</th>\n",
              "      <td>0.500000</td>\n",
              "      <td>0.032967</td>\n",
              "      <td>0.061856</td>\n",
              "      <td>91.000000</td>\n",
              "    </tr>\n",
              "    <tr>\n",
              "      <th>accuracy</th>\n",
              "      <td>0.848586</td>\n",
              "      <td>0.848586</td>\n",
              "      <td>0.848586</td>\n",
              "      <td>0.848586</td>\n",
              "    </tr>\n",
              "    <tr>\n",
              "      <th>macro avg</th>\n",
              "      <td>0.676050</td>\n",
              "      <td>0.513542</td>\n",
              "      <td>0.489751</td>\n",
              "      <td>601.000000</td>\n",
              "    </tr>\n",
              "    <tr>\n",
              "      <th>weighted avg</th>\n",
              "      <td>0.798788</td>\n",
              "      <td>0.848586</td>\n",
              "      <td>0.788068</td>\n",
              "      <td>601.000000</td>\n",
              "    </tr>\n",
              "  </tbody>\n",
              "</table>\n",
              "</div>\n",
              "      <button class=\"colab-df-convert\" onclick=\"convertToInteractive('df-99cf4bc9-faea-42b5-b872-d33ad2af1aac')\"\n",
              "              title=\"Convert this dataframe to an interactive table.\"\n",
              "              style=\"display:none;\">\n",
              "        \n",
              "  <svg xmlns=\"http://www.w3.org/2000/svg\" height=\"24px\"viewBox=\"0 0 24 24\"\n",
              "       width=\"24px\">\n",
              "    <path d=\"M0 0h24v24H0V0z\" fill=\"none\"/>\n",
              "    <path d=\"M18.56 5.44l.94 2.06.94-2.06 2.06-.94-2.06-.94-.94-2.06-.94 2.06-2.06.94zm-11 1L8.5 8.5l.94-2.06 2.06-.94-2.06-.94L8.5 2.5l-.94 2.06-2.06.94zm10 10l.94 2.06.94-2.06 2.06-.94-2.06-.94-.94-2.06-.94 2.06-2.06.94z\"/><path d=\"M17.41 7.96l-1.37-1.37c-.4-.4-.92-.59-1.43-.59-.52 0-1.04.2-1.43.59L10.3 9.45l-7.72 7.72c-.78.78-.78 2.05 0 2.83L4 21.41c.39.39.9.59 1.41.59.51 0 1.02-.2 1.41-.59l7.78-7.78 2.81-2.81c.8-.78.8-2.07 0-2.86zM5.41 20L4 18.59l7.72-7.72 1.47 1.35L5.41 20z\"/>\n",
              "  </svg>\n",
              "      </button>\n",
              "      \n",
              "  <style>\n",
              "    .colab-df-container {\n",
              "      display:flex;\n",
              "      flex-wrap:wrap;\n",
              "      gap: 12px;\n",
              "    }\n",
              "\n",
              "    .colab-df-convert {\n",
              "      background-color: #E8F0FE;\n",
              "      border: none;\n",
              "      border-radius: 50%;\n",
              "      cursor: pointer;\n",
              "      display: none;\n",
              "      fill: #1967D2;\n",
              "      height: 32px;\n",
              "      padding: 0 0 0 0;\n",
              "      width: 32px;\n",
              "    }\n",
              "\n",
              "    .colab-df-convert:hover {\n",
              "      background-color: #E2EBFA;\n",
              "      box-shadow: 0px 1px 2px rgba(60, 64, 67, 0.3), 0px 1px 3px 1px rgba(60, 64, 67, 0.15);\n",
              "      fill: #174EA6;\n",
              "    }\n",
              "\n",
              "    [theme=dark] .colab-df-convert {\n",
              "      background-color: #3B4455;\n",
              "      fill: #D2E3FC;\n",
              "    }\n",
              "\n",
              "    [theme=dark] .colab-df-convert:hover {\n",
              "      background-color: #434B5C;\n",
              "      box-shadow: 0px 1px 3px 1px rgba(0, 0, 0, 0.15);\n",
              "      filter: drop-shadow(0px 1px 2px rgba(0, 0, 0, 0.3));\n",
              "      fill: #FFFFFF;\n",
              "    }\n",
              "  </style>\n",
              "\n",
              "      <script>\n",
              "        const buttonEl =\n",
              "          document.querySelector('#df-99cf4bc9-faea-42b5-b872-d33ad2af1aac button.colab-df-convert');\n",
              "        buttonEl.style.display =\n",
              "          google.colab.kernel.accessAllowed ? 'block' : 'none';\n",
              "\n",
              "        async function convertToInteractive(key) {\n",
              "          const element = document.querySelector('#df-99cf4bc9-faea-42b5-b872-d33ad2af1aac');\n",
              "          const dataTable =\n",
              "            await google.colab.kernel.invokeFunction('convertToInteractive',\n",
              "                                                     [key], {});\n",
              "          if (!dataTable) return;\n",
              "\n",
              "          const docLinkHtml = 'Like what you see? Visit the ' +\n",
              "            '<a target=\"_blank\" href=https://colab.research.google.com/notebooks/data_table.ipynb>data table notebook</a>'\n",
              "            + ' to learn more about interactive tables.';\n",
              "          element.innerHTML = '';\n",
              "          dataTable['output_type'] = 'display_data';\n",
              "          await google.colab.output.renderOutput(dataTable, element);\n",
              "          const docLink = document.createElement('div');\n",
              "          docLink.innerHTML = docLinkHtml;\n",
              "          element.appendChild(docLink);\n",
              "        }\n",
              "      </script>\n",
              "    </div>\n",
              "  </div>\n",
              "  "
            ]
          },
          "metadata": {},
          "execution_count": 172
        }
      ]
    },
    {
      "cell_type": "code",
      "source": [
        "from sklearn.metrics import confusion_matrix,roc_auc_score,precision_score,recall_score,f1_score\n",
        "CM=confusion_matrix(y_test,y_pred_lr)\n",
        "sns.heatmap(CM, annot=True)\n",
        "\n",
        "TN = CM[0][0]\n",
        "FN = CM[1][0]\n",
        "TP = CM[1][1]\n",
        "FP = CM[0][1]\n",
        "specificity = TN/(TN+FP)\n",
        "acc= accuracy_score(y_test, y_pred_lr)\n",
        "roc=roc_auc_score(y_test, y_pred_lr)\n",
        "prec = precision_score(y_test, y_pred_lr)\n",
        "rec = recall_score(y_test, y_pred_lr)\n",
        "f1 = f1_score(y_test, y_pred_lr)\n",
        "\n",
        "evaluation_metrics1 =pd.DataFrame([['Logistic Regression',acc, prec,rec,specificity, f1,roc]],\n",
        "columns = ['Model', 'Accuracy','Precision', 'Sensitivity','Specificity', 'F1 Score','ROC'])\n",
        "\n",
        "evaluation_metrics1"
      ],
      "metadata": {
        "colab": {
          "base_uri": "https://localhost:8080/",
          "height": 330
        },
        "id": "_MryMaO_ktja",
        "outputId": "b5450d05-d464-4a31-d818-e7636fe0c5e2"
      },
      "execution_count": 173,
      "outputs": [
        {
          "output_type": "execute_result",
          "data": {
            "text/plain": [
              "                 Model  Accuracy  Precision  Sensitivity  Specificity  \\\n",
              "0  Logistic Regression  0.848586        0.5     0.032967     0.994118   \n",
              "\n",
              "   F1 Score       ROC  \n",
              "0  0.061856  0.513542  "
            ],
            "text/html": [
              "\n",
              "  <div id=\"df-d78ae3ff-6b9c-4972-8c99-6b5030500b9d\">\n",
              "    <div class=\"colab-df-container\">\n",
              "      <div>\n",
              "<style scoped>\n",
              "    .dataframe tbody tr th:only-of-type {\n",
              "        vertical-align: middle;\n",
              "    }\n",
              "\n",
              "    .dataframe tbody tr th {\n",
              "        vertical-align: top;\n",
              "    }\n",
              "\n",
              "    .dataframe thead th {\n",
              "        text-align: right;\n",
              "    }\n",
              "</style>\n",
              "<table border=\"1\" class=\"dataframe\">\n",
              "  <thead>\n",
              "    <tr style=\"text-align: right;\">\n",
              "      <th></th>\n",
              "      <th>Model</th>\n",
              "      <th>Accuracy</th>\n",
              "      <th>Precision</th>\n",
              "      <th>Sensitivity</th>\n",
              "      <th>Specificity</th>\n",
              "      <th>F1 Score</th>\n",
              "      <th>ROC</th>\n",
              "    </tr>\n",
              "  </thead>\n",
              "  <tbody>\n",
              "    <tr>\n",
              "      <th>0</th>\n",
              "      <td>Logistic Regression</td>\n",
              "      <td>0.848586</td>\n",
              "      <td>0.5</td>\n",
              "      <td>0.032967</td>\n",
              "      <td>0.994118</td>\n",
              "      <td>0.061856</td>\n",
              "      <td>0.513542</td>\n",
              "    </tr>\n",
              "  </tbody>\n",
              "</table>\n",
              "</div>\n",
              "      <button class=\"colab-df-convert\" onclick=\"convertToInteractive('df-d78ae3ff-6b9c-4972-8c99-6b5030500b9d')\"\n",
              "              title=\"Convert this dataframe to an interactive table.\"\n",
              "              style=\"display:none;\">\n",
              "        \n",
              "  <svg xmlns=\"http://www.w3.org/2000/svg\" height=\"24px\"viewBox=\"0 0 24 24\"\n",
              "       width=\"24px\">\n",
              "    <path d=\"M0 0h24v24H0V0z\" fill=\"none\"/>\n",
              "    <path d=\"M18.56 5.44l.94 2.06.94-2.06 2.06-.94-2.06-.94-.94-2.06-.94 2.06-2.06.94zm-11 1L8.5 8.5l.94-2.06 2.06-.94-2.06-.94L8.5 2.5l-.94 2.06-2.06.94zm10 10l.94 2.06.94-2.06 2.06-.94-2.06-.94-.94-2.06-.94 2.06-2.06.94z\"/><path d=\"M17.41 7.96l-1.37-1.37c-.4-.4-.92-.59-1.43-.59-.52 0-1.04.2-1.43.59L10.3 9.45l-7.72 7.72c-.78.78-.78 2.05 0 2.83L4 21.41c.39.39.9.59 1.41.59.51 0 1.02-.2 1.41-.59l7.78-7.78 2.81-2.81c.8-.78.8-2.07 0-2.86zM5.41 20L4 18.59l7.72-7.72 1.47 1.35L5.41 20z\"/>\n",
              "  </svg>\n",
              "      </button>\n",
              "      \n",
              "  <style>\n",
              "    .colab-df-container {\n",
              "      display:flex;\n",
              "      flex-wrap:wrap;\n",
              "      gap: 12px;\n",
              "    }\n",
              "\n",
              "    .colab-df-convert {\n",
              "      background-color: #E8F0FE;\n",
              "      border: none;\n",
              "      border-radius: 50%;\n",
              "      cursor: pointer;\n",
              "      display: none;\n",
              "      fill: #1967D2;\n",
              "      height: 32px;\n",
              "      padding: 0 0 0 0;\n",
              "      width: 32px;\n",
              "    }\n",
              "\n",
              "    .colab-df-convert:hover {\n",
              "      background-color: #E2EBFA;\n",
              "      box-shadow: 0px 1px 2px rgba(60, 64, 67, 0.3), 0px 1px 3px 1px rgba(60, 64, 67, 0.15);\n",
              "      fill: #174EA6;\n",
              "    }\n",
              "\n",
              "    [theme=dark] .colab-df-convert {\n",
              "      background-color: #3B4455;\n",
              "      fill: #D2E3FC;\n",
              "    }\n",
              "\n",
              "    [theme=dark] .colab-df-convert:hover {\n",
              "      background-color: #434B5C;\n",
              "      box-shadow: 0px 1px 3px 1px rgba(0, 0, 0, 0.15);\n",
              "      filter: drop-shadow(0px 1px 2px rgba(0, 0, 0, 0.3));\n",
              "      fill: #FFFFFF;\n",
              "    }\n",
              "  </style>\n",
              "\n",
              "      <script>\n",
              "        const buttonEl =\n",
              "          document.querySelector('#df-d78ae3ff-6b9c-4972-8c99-6b5030500b9d button.colab-df-convert');\n",
              "        buttonEl.style.display =\n",
              "          google.colab.kernel.accessAllowed ? 'block' : 'none';\n",
              "\n",
              "        async function convertToInteractive(key) {\n",
              "          const element = document.querySelector('#df-d78ae3ff-6b9c-4972-8c99-6b5030500b9d');\n",
              "          const dataTable =\n",
              "            await google.colab.kernel.invokeFunction('convertToInteractive',\n",
              "                                                     [key], {});\n",
              "          if (!dataTable) return;\n",
              "\n",
              "          const docLinkHtml = 'Like what you see? Visit the ' +\n",
              "            '<a target=\"_blank\" href=https://colab.research.google.com/notebooks/data_table.ipynb>data table notebook</a>'\n",
              "            + ' to learn more about interactive tables.';\n",
              "          element.innerHTML = '';\n",
              "          dataTable['output_type'] = 'display_data';\n",
              "          await google.colab.output.renderOutput(dataTable, element);\n",
              "          const docLink = document.createElement('div');\n",
              "          docLink.innerHTML = docLinkHtml;\n",
              "          element.appendChild(docLink);\n",
              "        }\n",
              "      </script>\n",
              "    </div>\n",
              "  </div>\n",
              "  "
            ]
          },
          "metadata": {},
          "execution_count": 173
        },
        {
          "output_type": "display_data",
          "data": {
            "text/plain": [
              "<Figure size 432x288 with 2 Axes>"
            ],
            "image/png": "[encoded data removed]"
          },
          "metadata": {
            "needs_background": "light"
          }
        }
      ]
    },
    {
      "cell_type": "markdown",
      "source": [
        "#2. KNN Model"
      ],
      "metadata": {
        "id": "H3r8QqxFQkwY"
      }
    },
    {
      "cell_type": "markdown",
      "source": [
        "##a.KNN model without imbalancing the Dataset"
      ],
      "metadata": {
        "id": "rRi9uPCYQcEO"
      }
    },
    {
      "cell_type": "code",
      "source": [
        "from sklearn.neighbors import KNeighborsClassifier\n",
        "model = KNeighborsClassifier()\n",
        "model.fit(X_train,y_train)\n",
        "y_predict = model.predict(X_test)"
      ],
      "metadata": {
        "id": "M9-O6Z38RASx"
      },
      "execution_count": 174,
      "outputs": []
    },
    {
      "cell_type": "code",
      "source": [
        "##KNN on balanced dataset\n",
        "model.fit(X_train,y_train)\n",
        "y_pred_knn = model.predict(X_test)"
      ],
      "metadata": {
        "id": "xPPHad03Q0S1"
      },
      "execution_count": 175,
      "outputs": []
    },
    {
      "cell_type": "code",
      "source": [
        "print(accuracy_score(y_test,y_pred_knn))\n",
        "pd.crosstab(y_test,y_pred_knn)"
      ],
      "metadata": {
        "colab": {
          "base_uri": "https://localhost:8080/",
          "height": 161
        },
        "id": "67EwFnpQQ2d6",
        "outputId": "e500aed5-f0c4-4ca5-f0b9-e6e34d71fc03"
      },
      "execution_count": 176,
      "outputs": [
        {
          "output_type": "stream",
          "name": "stdout",
          "text": [
            "0.8435940099833611\n"
          ]
        },
        {
          "output_type": "execute_result",
          "data": {
            "text/plain": [
              "col_0    0   1\n",
              "row_0         \n",
              "0      499  11\n",
              "1       83   8"
            ],
            "text/html": [
              "\n",
              "  <div id=\"df-63e41a0a-6b89-47cc-835f-a1cb81335f00\">\n",
              "    <div class=\"colab-df-container\">\n",
              "      <div>\n",
              "<style scoped>\n",
              "    .dataframe tbody tr th:only-of-type {\n",
              "        vertical-align: middle;\n",
              "    }\n",
              "\n",
              "    .dataframe tbody tr th {\n",
              "        vertical-align: top;\n",
              "    }\n",
              "\n",
              "    .dataframe thead th {\n",
              "        text-align: right;\n",
              "    }\n",
              "</style>\n",
              "<table border=\"1\" class=\"dataframe\">\n",
              "  <thead>\n",
              "    <tr style=\"text-align: right;\">\n",
              "      <th>col_0</th>\n",
              "      <th>0</th>\n",
              "      <th>1</th>\n",
              "    </tr>\n",
              "    <tr>\n",
              "      <th>row_0</th>\n",
              "      <th></th>\n",
              "      <th></th>\n",
              "    </tr>\n",
              "  </thead>\n",
              "  <tbody>\n",
              "    <tr>\n",
              "      <th>0</th>\n",
              "      <td>499</td>\n",
              "      <td>11</td>\n",
              "    </tr>\n",
              "    <tr>\n",
              "      <th>1</th>\n",
              "      <td>83</td>\n",
              "      <td>8</td>\n",
              "    </tr>\n",
              "  </tbody>\n",
              "</table>\n",
              "</div>\n",
              "      <button class=\"colab-df-convert\" onclick=\"convertToInteractive('df-63e41a0a-6b89-47cc-835f-a1cb81335f00')\"\n",
              "              title=\"Convert this dataframe to an interactive table.\"\n",
              "              style=\"display:none;\">\n",
              "        \n",
              "  <svg xmlns=\"http://www.w3.org/2000/svg\" height=\"24px\"viewBox=\"0 0 24 24\"\n",
              "       width=\"24px\">\n",
              "    <path d=\"M0 0h24v24H0V0z\" fill=\"none\"/>\n",
              "    <path d=\"M18.56 5.44l.94 2.06.94-2.06 2.06-.94-2.06-.94-.94-2.06-.94 2.06-2.06.94zm-11 1L8.5 8.5l.94-2.06 2.06-.94-2.06-.94L8.5 2.5l-.94 2.06-2.06.94zm10 10l.94 2.06.94-2.06 2.06-.94-2.06-.94-.94-2.06-.94 2.06-2.06.94z\"/><path d=\"M17.41 7.96l-1.37-1.37c-.4-.4-.92-.59-1.43-.59-.52 0-1.04.2-1.43.59L10.3 9.45l-7.72 7.72c-.78.78-.78 2.05 0 2.83L4 21.41c.39.39.9.59 1.41.59.51 0 1.02-.2 1.41-.59l7.78-7.78 2.81-2.81c.8-.78.8-2.07 0-2.86zM5.41 20L4 18.59l7.72-7.72 1.47 1.35L5.41 20z\"/>\n",
              "  </svg>\n",
              "      </button>\n",
              "      \n",
              "  <style>\n",
              "    .colab-df-container {\n",
              "      display:flex;\n",
              "      flex-wrap:wrap;\n",
              "      gap: 12px;\n",
              "    }\n",
              "\n",
              "    .colab-df-convert {\n",
              "      background-color: #E8F0FE;\n",
              "      border: none;\n",
              "      border-radius: 50%;\n",
              "      cursor: pointer;\n",
              "      display: none;\n",
              "      fill: #1967D2;\n",
              "      height: 32px;\n",
              "      padding: 0 0 0 0;\n",
              "      width: 32px;\n",
              "    }\n",
              "\n",
              "    .colab-df-convert:hover {\n",
              "      background-color: #E2EBFA;\n",
              "      box-shadow: 0px 1px 2px rgba(60, 64, 67, 0.3), 0px 1px 3px 1px rgba(60, 64, 67, 0.15);\n",
              "      fill: #174EA6;\n",
              "    }\n",
              "\n",
              "    [theme=dark] .colab-df-convert {\n",
              "      background-color: #3B4455;\n",
              "      fill: #D2E3FC;\n",
              "    }\n",
              "\n",
              "    [theme=dark] .colab-df-convert:hover {\n",
              "      background-color: #434B5C;\n",
              "      box-shadow: 0px 1px 3px 1px rgba(0, 0, 0, 0.15);\n",
              "      filter: drop-shadow(0px 1px 2px rgba(0, 0, 0, 0.3));\n",
              "      fill: #FFFFFF;\n",
              "    }\n",
              "  </style>\n",
              "\n",
              "      <script>\n",
              "        const buttonEl =\n",
              "          document.querySelector('#df-63e41a0a-6b89-47cc-835f-a1cb81335f00 button.colab-df-convert');\n",
              "        buttonEl.style.display =\n",
              "          google.colab.kernel.accessAllowed ? 'block' : 'none';\n",
              "\n",
              "        async function convertToInteractive(key) {\n",
              "          const element = document.querySelector('#df-63e41a0a-6b89-47cc-835f-a1cb81335f00');\n",
              "          const dataTable =\n",
              "            await google.colab.kernel.invokeFunction('convertToInteractive',\n",
              "                                                     [key], {});\n",
              "          if (!dataTable) return;\n",
              "\n",
              "          const docLinkHtml = 'Like what you see? Visit the ' +\n",
              "            '<a target=\"_blank\" href=https://colab.research.google.com/notebooks/data_table.ipynb>data table notebook</a>'\n",
              "            + ' to learn more about interactive tables.';\n",
              "          element.innerHTML = '';\n",
              "          dataTable['output_type'] = 'display_data';\n",
              "          await google.colab.output.renderOutput(dataTable, element);\n",
              "          const docLink = document.createElement('div');\n",
              "          docLink.innerHTML = docLinkHtml;\n",
              "          element.appendChild(docLink);\n",
              "        }\n",
              "      </script>\n",
              "    </div>\n",
              "  </div>\n",
              "  "
            ]
          },
          "metadata": {},
          "execution_count": 176
        }
      ]
    },
    {
      "cell_type": "markdown",
      "source": [
        "This model showing the accuracy of 82.9% without Balancing the dataset. Let's Balanced the dataset and then check the accuracy."
      ],
      "metadata": {
        "id": "tvp_cNnJRHRc"
      }
    },
    {
      "cell_type": "markdown",
      "source": [
        "###Handling Data Imbalance using SMOTE"
      ],
      "metadata": {
        "id": "tc3ykGRSROZG"
      }
    },
    {
      "cell_type": "code",
      "source": [
        "pip install imblearn"
      ],
      "metadata": {
        "colab": {
          "base_uri": "https://localhost:8080/"
        },
        "id": "QIMi8SQauPBL",
        "outputId": "a8e45ec5-5f83-4b7a-bfb2-3329f3a2ef45"
      },
      "execution_count": 177,
      "outputs": [
        {
          "output_type": "stream",
          "name": "stdout",
          "text": [
            "Looking in indexes: https://pypi.org/simple, https://us-python.pkg.dev/colab-wheels/public/simple/\n",
            "Requirement already satisfied: imblearn in /usr/local/lib/python3.7/dist-packages (0.0)\n",
            "Requirement already satisfied: imbalanced-learn in /usr/local/lib/python3.7/dist-packages (from imblearn) (0.8.1)\n",
            "Requirement already satisfied: numpy>=1.13.3 in /usr/local/lib/python3.7/dist-packages (from imbalanced-learn->imblearn) (1.21.6)\n",
            "Requirement already satisfied: scipy>=0.19.1 in /usr/local/lib/python3.7/dist-packages (from imbalanced-learn->imblearn) (1.7.3)\n",
            "Requirement already satisfied: joblib>=0.11 in /usr/local/lib/python3.7/dist-packages (from imbalanced-learn->imblearn) (1.1.0)\n",
            "Requirement already satisfied: scikit-learn>=0.24 in /usr/local/lib/python3.7/dist-packages (from imbalanced-learn->imblearn) (1.0.2)\n",
            "Requirement already satisfied: threadpoolctl>=2.0.0 in /usr/local/lib/python3.7/dist-packages (from scikit-learn>=0.24->imbalanced-learn->imblearn) (3.1.0)\n"
          ]
        }
      ]
    },
    {
      "cell_type": "code",
      "source": [
        "from imblearn.under_sampling import RandomUnderSampler\n",
        "from imblearn.pipeline import Pipeline"
      ],
      "metadata": {
        "id": "cch6-MKcTZpQ"
      },
      "execution_count": 178,
      "outputs": []
    },
    {
      "cell_type": "code",
      "source": [
        "from imblearn.over_sampling import SMOTE"
      ],
      "metadata": {
        "id": "iOy959aqDeTq"
      },
      "execution_count": 179,
      "outputs": []
    },
    {
      "cell_type": "code",
      "source": [
        "# define pipeline\n",
        "under = RandomUnderSampler(sampling_strategy=0.8)\n",
        "over = SMOTE(sampling_strategy=0.8)\n",
        "steps = [('o', over), ('u', under)]\n",
        "pipeline = Pipeline(steps=steps)\n",
        "\n",
        "X_smote, y_smote = pipeline.fit_resample(X, y)"
      ],
      "metadata": {
        "id": "U1WaA4mzTNtY"
      },
      "execution_count": 180,
      "outputs": []
    },
    {
      "cell_type": "code",
      "source": [
        "# split the data\n",
        "X_train,X_test,y_train,y_test = train_test_split(X_smote,y_smote,test_size=.2)"
      ],
      "metadata": {
        "id": "RcsrgTysT82w"
      },
      "execution_count": 181,
      "outputs": []
    },
    {
      "cell_type": "code",
      "source": [
        "# scaling the data\n",
        "scaler = StandardScaler()\n",
        "\n",
        "X_train_scaled = scaler.fit_transform(X_train)\n",
        "X_train = pd.DataFrame(X_train_scaled)\n",
        "\n",
        "X_test_scaled = scaler.transform(X_test)\n",
        "X_test = pd.DataFrame(X_test_scaled)"
      ],
      "metadata": {
        "id": "Tyk5c0XPUIkU"
      },
      "execution_count": 182,
      "outputs": []
    },
    {
      "cell_type": "code",
      "source": [
        "from collections import Counter"
      ],
      "metadata": {
        "id": "Bjxx5-gPUhD3"
      },
      "execution_count": 183,
      "outputs": []
    },
    {
      "cell_type": "markdown",
      "source": [
        "##b.KNN using Balanced dataset using SMOTE"
      ],
      "metadata": {
        "id": "GWFeBcFX_-9C"
      }
    },
    {
      "cell_type": "code",
      "source": [
        "##KNN on balanced dataset\n",
        "model.fit(X_train,y_train)\n",
        "y_pred_knn = model.predict(X_test)"
      ],
      "metadata": {
        "id": "NvbXhB22wlwx"
      },
      "execution_count": 184,
      "outputs": []
    },
    {
      "cell_type": "code",
      "source": [
        "print(accuracy_score(y_test,y_pred_knn))\n",
        "pd.crosstab(y_test,y_pred_knn)"
      ],
      "metadata": {
        "colab": {
          "base_uri": "https://localhost:8080/",
          "height": 161
        },
        "id": "YyB88xAywqaD",
        "outputId": "6a837956-992c-49ee-a79b-3e0d324e6cbb"
      },
      "execution_count": 185,
      "outputs": [
        {
          "output_type": "stream",
          "name": "stdout",
          "text": [
            "0.8058887677208287\n"
          ]
        },
        {
          "output_type": "execute_result",
          "data": {
            "text/plain": [
              "col_0    0    1\n",
              "row_0          \n",
              "0      383  126\n",
              "1       52  356"
            ],
            "text/html": [
              "\n",
              "  <div id=\"df-2ce64119-cc48-4850-be46-38c40e6f46d9\">\n",
              "    <div class=\"colab-df-container\">\n",
              "      <div>\n",
              "<style scoped>\n",
              "    .dataframe tbody tr th:only-of-type {\n",
              "        vertical-align: middle;\n",
              "    }\n",
              "\n",
              "    .dataframe tbody tr th {\n",
              "        vertical-align: top;\n",
              "    }\n",
              "\n",
              "    .dataframe thead th {\n",
              "        text-align: right;\n",
              "    }\n",
              "</style>\n",
              "<table border=\"1\" class=\"dataframe\">\n",
              "  <thead>\n",
              "    <tr style=\"text-align: right;\">\n",
              "      <th>col_0</th>\n",
              "      <th>0</th>\n",
              "      <th>1</th>\n",
              "    </tr>\n",
              "    <tr>\n",
              "      <th>row_0</th>\n",
              "      <th></th>\n",
              "      <th></th>\n",
              "    </tr>\n",
              "  </thead>\n",
              "  <tbody>\n",
              "    <tr>\n",
              "      <th>0</th>\n",
              "      <td>383</td>\n",
              "      <td>126</td>\n",
              "    </tr>\n",
              "    <tr>\n",
              "      <th>1</th>\n",
              "      <td>52</td>\n",
              "      <td>356</td>\n",
              "    </tr>\n",
              "  </tbody>\n",
              "</table>\n",
              "</div>\n",
              "      <button class=\"colab-df-convert\" onclick=\"convertToInteractive('df-2ce64119-cc48-4850-be46-38c40e6f46d9')\"\n",
              "              title=\"Convert this dataframe to an interactive table.\"\n",
              "              style=\"display:none;\">\n",
              "        \n",
              "  <svg xmlns=\"http://www.w3.org/2000/svg\" height=\"24px\"viewBox=\"0 0 24 24\"\n",
              "       width=\"24px\">\n",
              "    <path d=\"M0 0h24v24H0V0z\" fill=\"none\"/>\n",
              "    <path d=\"M18.56 5.44l.94 2.06.94-2.06 2.06-.94-2.06-.94-.94-2.06-.94 2.06-2.06.94zm-11 1L8.5 8.5l.94-2.06 2.06-.94-2.06-.94L8.5 2.5l-.94 2.06-2.06.94zm10 10l.94 2.06.94-2.06 2.06-.94-2.06-.94-.94-2.06-.94 2.06-2.06.94z\"/><path d=\"M17.41 7.96l-1.37-1.37c-.4-.4-.92-.59-1.43-.59-.52 0-1.04.2-1.43.59L10.3 9.45l-7.72 7.72c-.78.78-.78 2.05 0 2.83L4 21.41c.39.39.9.59 1.41.59.51 0 1.02-.2 1.41-.59l7.78-7.78 2.81-2.81c.8-.78.8-2.07 0-2.86zM5.41 20L4 18.59l7.72-7.72 1.47 1.35L5.41 20z\"/>\n",
              "  </svg>\n",
              "      </button>\n",
              "      \n",
              "  <style>\n",
              "    .colab-df-container {\n",
              "      display:flex;\n",
              "      flex-wrap:wrap;\n",
              "      gap: 12px;\n",
              "    }\n",
              "\n",
              "    .colab-df-convert {\n",
              "      background-color: #E8F0FE;\n",
              "      border: none;\n",
              "      border-radius: 50%;\n",
              "      cursor: pointer;\n",
              "      display: none;\n",
              "      fill: #1967D2;\n",
              "      height: 32px;\n",
              "      padding: 0 0 0 0;\n",
              "      width: 32px;\n",
              "    }\n",
              "\n",
              "    .colab-df-convert:hover {\n",
              "      background-color: #E2EBFA;\n",
              "      box-shadow: 0px 1px 2px rgba(60, 64, 67, 0.3), 0px 1px 3px 1px rgba(60, 64, 67, 0.15);\n",
              "      fill: #174EA6;\n",
              "    }\n",
              "\n",
              "    [theme=dark] .colab-df-convert {\n",
              "      background-color: #3B4455;\n",
              "      fill: #D2E3FC;\n",
              "    }\n",
              "\n",
              "    [theme=dark] .colab-df-convert:hover {\n",
              "      background-color: #434B5C;\n",
              "      box-shadow: 0px 1px 3px 1px rgba(0, 0, 0, 0.15);\n",
              "      filter: drop-shadow(0px 1px 2px rgba(0, 0, 0, 0.3));\n",
              "      fill: #FFFFFF;\n",
              "    }\n",
              "  </style>\n",
              "\n",
              "      <script>\n",
              "        const buttonEl =\n",
              "          document.querySelector('#df-2ce64119-cc48-4850-be46-38c40e6f46d9 button.colab-df-convert');\n",
              "        buttonEl.style.display =\n",
              "          google.colab.kernel.accessAllowed ? 'block' : 'none';\n",
              "\n",
              "        async function convertToInteractive(key) {\n",
              "          const element = document.querySelector('#df-2ce64119-cc48-4850-be46-38c40e6f46d9');\n",
              "          const dataTable =\n",
              "            await google.colab.kernel.invokeFunction('convertToInteractive',\n",
              "                                                     [key], {});\n",
              "          if (!dataTable) return;\n",
              "\n",
              "          const docLinkHtml = 'Like what you see? Visit the ' +\n",
              "            '<a target=\"_blank\" href=https://colab.research.google.com/notebooks/data_table.ipynb>data table notebook</a>'\n",
              "            + ' to learn more about interactive tables.';\n",
              "          element.innerHTML = '';\n",
              "          dataTable['output_type'] = 'display_data';\n",
              "          await google.colab.output.renderOutput(dataTable, element);\n",
              "          const docLink = document.createElement('div');\n",
              "          docLink.innerHTML = docLinkHtml;\n",
              "          element.appendChild(docLink);\n",
              "        }\n",
              "      </script>\n",
              "    </div>\n",
              "  </div>\n",
              "  "
            ]
          },
          "metadata": {},
          "execution_count": 185
        }
      ]
    },
    {
      "cell_type": "markdown",
      "source": [
        "Model Evaluation"
      ],
      "metadata": {
        "id": "CMV84yK5DgaQ"
      }
    },
    {
      "cell_type": "code",
      "source": [
        "from sklearn.metrics import roc_auc_score,precision_score,f1_score,recall_score,roc_curve,auc\n",
        "from sklearn.metrics import classification_report, confusion_matrix,accuracy_score\n",
        "from sklearn import metrics\n"
      ],
      "metadata": {
        "id": "S0u02TusDkN_"
      },
      "execution_count": 186,
      "outputs": []
    },
    {
      "cell_type": "code",
      "source": [
        "CM=confusion_matrix(y_test,y_pred_knn)\n",
        "sns.heatmap(CM, annot=True)\n",
        "\n",
        "TN = CM[0][0]\n",
        "FN = CM[1][0]\n",
        "TP = CM[1][1]\n",
        "FP = CM[0][1]\n",
        "specificity = TN/(TN+FP)\n",
        "acc= accuracy_score(y_test, y_pred_knn)\n",
        "roc=roc_auc_score(y_test, y_pred_knn)\n",
        "prec = precision_score(y_test, y_pred_knn)\n",
        "rec = recall_score(y_test, y_pred_knn)\n",
        "f1 = f1_score(y_test, y_pred_knn)\n",
        "\n",
        "evaluation_metrics2 =pd.DataFrame([['KNN',acc, prec,rec,specificity, f1,roc]],\n",
        "columns = ['Model', 'Accuracy','Precision', 'Sensitivity','Specificity', 'F1 Score','ROC'])\n",
        "\n",
        "evaluation_metrics2"
      ],
      "metadata": {
        "colab": {
          "base_uri": "https://localhost:8080/",
          "height": 329
        },
        "id": "IUzJv3XFDKA4",
        "outputId": "570ff422-6093-4a2b-83be-2f2e26682573"
      },
      "execution_count": 187,
      "outputs": [
        {
          "output_type": "execute_result",
          "data": {
            "text/plain": [
              "  Model  Accuracy  Precision  Sensitivity  Specificity  F1 Score       ROC\n",
              "0   KNN  0.805889   0.738589     0.872549     0.752456       0.8  0.812502"
            ],
            "text/html": [
              "\n",
              "  <div id=\"df-bbec27b7-6d6f-4ce9-9d9f-801f05249bc6\">\n",
              "    <div class=\"colab-df-container\">\n",
              "      <div>\n",
              "<style scoped>\n",
              "    .dataframe tbody tr th:only-of-type {\n",
              "        vertical-align: middle;\n",
              "    }\n",
              "\n",
              "    .dataframe tbody tr th {\n",
              "        vertical-align: top;\n",
              "    }\n",
              "\n",
              "    .dataframe thead th {\n",
              "        text-align: right;\n",
              "    }\n",
              "</style>\n",
              "<table border=\"1\" class=\"dataframe\">\n",
              "  <thead>\n",
              "    <tr style=\"text-align: right;\">\n",
              "      <th></th>\n",
              "      <th>Model</th>\n",
              "      <th>Accuracy</th>\n",
              "      <th>Precision</th>\n",
              "      <th>Sensitivity</th>\n",
              "      <th>Specificity</th>\n",
              "      <th>F1 Score</th>\n",
              "      <th>ROC</th>\n",
              "    </tr>\n",
              "  </thead>\n",
              "  <tbody>\n",
              "    <tr>\n",
              "      <th>0</th>\n",
              "      <td>KNN</td>\n",
              "      <td>0.805889</td>\n",
              "      <td>0.738589</td>\n",
              "      <td>0.872549</td>\n",
              "      <td>0.752456</td>\n",
              "      <td>0.8</td>\n",
              "      <td>0.812502</td>\n",
              "    </tr>\n",
              "  </tbody>\n",
              "</table>\n",
              "</div>\n",
              "      <button class=\"colab-df-convert\" onclick=\"convertToInteractive('df-bbec27b7-6d6f-4ce9-9d9f-801f05249bc6')\"\n",
              "              title=\"Convert this dataframe to an interactive table.\"\n",
              "              style=\"display:none;\">\n",
              "        \n",
              "  <svg xmlns=\"http://www.w3.org/2000/svg\" height=\"24px\"viewBox=\"0 0 24 24\"\n",
              "       width=\"24px\">\n",
              "    <path d=\"M0 0h24v24H0V0z\" fill=\"none\"/>\n",
              "    <path d=\"M18.56 5.44l.94 2.06.94-2.06 2.06-.94-2.06-.94-.94-2.06-.94 2.06-2.06.94zm-11 1L8.5 8.5l.94-2.06 2.06-.94-2.06-.94L8.5 2.5l-.94 2.06-2.06.94zm10 10l.94 2.06.94-2.06 2.06-.94-2.06-.94-.94-2.06-.94 2.06-2.06.94z\"/><path d=\"M17.41 7.96l-1.37-1.37c-.4-.4-.92-.59-1.43-.59-.52 0-1.04.2-1.43.59L10.3 9.45l-7.72 7.72c-.78.78-.78 2.05 0 2.83L4 21.41c.39.39.9.59 1.41.59.51 0 1.02-.2 1.41-.59l7.78-7.78 2.81-2.81c.8-.78.8-2.07 0-2.86zM5.41 20L4 18.59l7.72-7.72 1.47 1.35L5.41 20z\"/>\n",
              "  </svg>\n",
              "      </button>\n",
              "      \n",
              "  <style>\n",
              "    .colab-df-container {\n",
              "      display:flex;\n",
              "      flex-wrap:wrap;\n",
              "      gap: 12px;\n",
              "    }\n",
              "\n",
              "    .colab-df-convert {\n",
              "      background-color: #E8F0FE;\n",
              "      border: none;\n",
              "      border-radius: 50%;\n",
              "      cursor: pointer;\n",
              "      display: none;\n",
              "      fill: #1967D2;\n",
              "      height: 32px;\n",
              "      padding: 0 0 0 0;\n",
              "      width: 32px;\n",
              "    }\n",
              "\n",
              "    .colab-df-convert:hover {\n",
              "      background-color: #E2EBFA;\n",
              "      box-shadow: 0px 1px 2px rgba(60, 64, 67, 0.3), 0px 1px 3px 1px rgba(60, 64, 67, 0.15);\n",
              "      fill: #174EA6;\n",
              "    }\n",
              "\n",
              "    [theme=dark] .colab-df-convert {\n",
              "      background-color: #3B4455;\n",
              "      fill: #D2E3FC;\n",
              "    }\n",
              "\n",
              "    [theme=dark] .colab-df-convert:hover {\n",
              "      background-color: #434B5C;\n",
              "      box-shadow: 0px 1px 3px 1px rgba(0, 0, 0, 0.15);\n",
              "      filter: drop-shadow(0px 1px 2px rgba(0, 0, 0, 0.3));\n",
              "      fill: #FFFFFF;\n",
              "    }\n",
              "  </style>\n",
              "\n",
              "      <script>\n",
              "        const buttonEl =\n",
              "          document.querySelector('#df-bbec27b7-6d6f-4ce9-9d9f-801f05249bc6 button.colab-df-convert');\n",
              "        buttonEl.style.display =\n",
              "          google.colab.kernel.accessAllowed ? 'block' : 'none';\n",
              "\n",
              "        async function convertToInteractive(key) {\n",
              "          const element = document.querySelector('#df-bbec27b7-6d6f-4ce9-9d9f-801f05249bc6');\n",
              "          const dataTable =\n",
              "            await google.colab.kernel.invokeFunction('convertToInteractive',\n",
              "                                                     [key], {});\n",
              "          if (!dataTable) return;\n",
              "\n",
              "          const docLinkHtml = 'Like what you see? Visit the ' +\n",
              "            '<a target=\"_blank\" href=https://colab.research.google.com/notebooks/data_table.ipynb>data table notebook</a>'\n",
              "            + ' to learn more about interactive tables.';\n",
              "          element.innerHTML = '';\n",
              "          dataTable['output_type'] = 'display_data';\n",
              "          await google.colab.output.renderOutput(dataTable, element);\n",
              "          const docLink = document.createElement('div');\n",
              "          docLink.innerHTML = docLinkHtml;\n",
              "          element.appendChild(docLink);\n",
              "        }\n",
              "      </script>\n",
              "    </div>\n",
              "  </div>\n",
              "  "
            ]
          },
          "metadata": {},
          "execution_count": 187
        },
        {
          "output_type": "display_data",
          "data": {
            "text/plain": [
              "<Figure size 432x288 with 2 Axes>"
            ],
            "image/png": "[encoded data removed]"
          },
          "metadata": {
            "needs_background": "light"
          }
        }
      ]
    },
    {
      "cell_type": "code",
      "source": [],
      "metadata": {
        "id": "N7y20Um7RV9Z"
      },
      "execution_count": 187,
      "outputs": []
    },
    {
      "cell_type": "markdown",
      "source": [
        "##3.Decision Tree Classifier"
      ],
      "metadata": {
        "id": "_nv746fSG5FI"
      }
    },
    {
      "cell_type": "code",
      "source": [
        "from sklearn.tree import DecisionTreeClassifier"
      ],
      "metadata": {
        "id": "GRqJmq_OHI_j"
      },
      "execution_count": 188,
      "outputs": []
    },
    {
      "cell_type": "code",
      "source": [
        "dtc = DecisionTreeClassifier()\n",
        "dtc.fit(X_train,y_train)\n",
        "y_pred_dtc = dtc.predict(X_test)"
      ],
      "metadata": {
        "id": "NQqFGZIFGzu1"
      },
      "execution_count": 189,
      "outputs": []
    },
    {
      "cell_type": "markdown",
      "source": [
        "Model Evaluation"
      ],
      "metadata": {
        "id": "OPcTcQ98HQCd"
      }
    },
    {
      "cell_type": "code",
      "source": [
        "CM=confusion_matrix(y_test,y_pred_dtc)\n",
        "sns.heatmap(CM, annot=True)\n",
        "\n",
        "TN = CM[0][0]\n",
        "FN = CM[1][0]\n",
        "TP = CM[1][1]\n",
        "FP = CM[0][1]\n",
        "specificity = TN/(TN+FP)\n",
        "acc= accuracy_score(y_test, y_pred_dtc)\n",
        "roc=roc_auc_score(y_test, y_pred_dtc)\n",
        "prec = precision_score(y_test, y_pred_dtc)\n",
        "rec = recall_score(y_test, y_pred_dtc)\n",
        "f1 = f1_score(y_test, y_pred_dtc)\n",
        "\n",
        "evaluation_metrics3 =pd.DataFrame([['DecisionTree',acc, prec,rec,specificity, f1,roc]],\n",
        "columns = ['Model', 'Accuracy','Precision', 'Sensitivity','Specificity', 'F1 Score','ROC'])\n",
        "\n",
        "evaluation_metrics3"
      ],
      "metadata": {
        "colab": {
          "base_uri": "https://localhost:8080/",
          "height": 332
        },
        "id": "jFYDYH7ZHP0n",
        "outputId": "fd74b60d-f1c5-474d-cb90-ae6f643b5817"
      },
      "execution_count": 190,
      "outputs": [
        {
          "output_type": "execute_result",
          "data": {
            "text/plain": [
              "          Model  Accuracy  Precision  Sensitivity  Specificity  F1 Score  \\\n",
              "0  DecisionTree  0.804798   0.758465     0.823529     0.789784  0.789659   \n",
              "\n",
              "        ROC  \n",
              "0  0.806657  "
            ],
            "text/html": [
              "\n",
              "  <div id=\"df-dc873fec-4d08-4224-b996-a38ff4965c5a\">\n",
              "    <div class=\"colab-df-container\">\n",
              "      <div>\n",
              "<style scoped>\n",
              "    .dataframe tbody tr th:only-of-type {\n",
              "        vertical-align: middle;\n",
              "    }\n",
              "\n",
              "    .dataframe tbody tr th {\n",
              "        vertical-align: top;\n",
              "    }\n",
              "\n",
              "    .dataframe thead th {\n",
              "        text-align: right;\n",
              "    }\n",
              "</style>\n",
              "<table border=\"1\" class=\"dataframe\">\n",
              "  <thead>\n",
              "    <tr style=\"text-align: right;\">\n",
              "      <th></th>\n",
              "      <th>Model</th>\n",
              "      <th>Accuracy</th>\n",
              "      <th>Precision</th>\n",
              "      <th>Sensitivity</th>\n",
              "      <th>Specificity</th>\n",
              "      <th>F1 Score</th>\n",
              "      <th>ROC</th>\n",
              "    </tr>\n",
              "  </thead>\n",
              "  <tbody>\n",
              "    <tr>\n",
              "      <th>0</th>\n",
              "      <td>DecisionTree</td>\n",
              "      <td>0.804798</td>\n",
              "      <td>0.758465</td>\n",
              "      <td>0.823529</td>\n",
              "      <td>0.789784</td>\n",
              "      <td>0.789659</td>\n",
              "      <td>0.806657</td>\n",
              "    </tr>\n",
              "  </tbody>\n",
              "</table>\n",
              "</div>\n",
              "      <button class=\"colab-df-convert\" onclick=\"convertToInteractive('df-dc873fec-4d08-4224-b996-a38ff4965c5a')\"\n",
              "              title=\"Convert this dataframe to an interactive table.\"\n",
              "              style=\"display:none;\">\n",
              "        \n",
              "  <svg xmlns=\"http://www.w3.org/2000/svg\" height=\"24px\"viewBox=\"0 0 24 24\"\n",
              "       width=\"24px\">\n",
              "    <path d=\"M0 0h24v24H0V0z\" fill=\"none\"/>\n",
              "    <path d=\"M18.56 5.44l.94 2.06.94-2.06 2.06-.94-2.06-.94-.94-2.06-.94 2.06-2.06.94zm-11 1L8.5 8.5l.94-2.06 2.06-.94-2.06-.94L8.5 2.5l-.94 2.06-2.06.94zm10 10l.94 2.06.94-2.06 2.06-.94-2.06-.94-.94-2.06-.94 2.06-2.06.94z\"/><path d=\"M17.41 7.96l-1.37-1.37c-.4-.4-.92-.59-1.43-.59-.52 0-1.04.2-1.43.59L10.3 9.45l-7.72 7.72c-.78.78-.78 2.05 0 2.83L4 21.41c.39.39.9.59 1.41.59.51 0 1.02-.2 1.41-.59l7.78-7.78 2.81-2.81c.8-.78.8-2.07 0-2.86zM5.41 20L4 18.59l7.72-7.72 1.47 1.35L5.41 20z\"/>\n",
              "  </svg>\n",
              "      </button>\n",
              "      \n",
              "  <style>\n",
              "    .colab-df-container {\n",
              "      display:flex;\n",
              "      flex-wrap:wrap;\n",
              "      gap: 12px;\n",
              "    }\n",
              "\n",
              "    .colab-df-convert {\n",
              "      background-color: #E8F0FE;\n",
              "      border: none;\n",
              "      border-radius: 50%;\n",
              "      cursor: pointer;\n",
              "      display: none;\n",
              "      fill: #1967D2;\n",
              "      height: 32px;\n",
              "      padding: 0 0 0 0;\n",
              "      width: 32px;\n",
              "    }\n",
              "\n",
              "    .colab-df-convert:hover {\n",
              "      background-color: #E2EBFA;\n",
              "      box-shadow: 0px 1px 2px rgba(60, 64, 67, 0.3), 0px 1px 3px 1px rgba(60, 64, 67, 0.15);\n",
              "      fill: #174EA6;\n",
              "    }\n",
              "\n",
              "    [theme=dark] .colab-df-convert {\n",
              "      background-color: #3B4455;\n",
              "      fill: #D2E3FC;\n",
              "    }\n",
              "\n",
              "    [theme=dark] .colab-df-convert:hover {\n",
              "      background-color: #434B5C;\n",
              "      box-shadow: 0px 1px 3px 1px rgba(0, 0, 0, 0.15);\n",
              "      filter: drop-shadow(0px 1px 2px rgba(0, 0, 0, 0.3));\n",
              "      fill: #FFFFFF;\n",
              "    }\n",
              "  </style>\n",
              "\n",
              "      <script>\n",
              "        const buttonEl =\n",
              "          document.querySelector('#df-dc873fec-4d08-4224-b996-a38ff4965c5a button.colab-df-convert');\n",
              "        buttonEl.style.display =\n",
              "          google.colab.kernel.accessAllowed ? 'block' : 'none';\n",
              "\n",
              "        async function convertToInteractive(key) {\n",
              "          const element = document.querySelector('#df-dc873fec-4d08-4224-b996-a38ff4965c5a');\n",
              "          const dataTable =\n",
              "            await google.colab.kernel.invokeFunction('convertToInteractive',\n",
              "                                                     [key], {});\n",
              "          if (!dataTable) return;\n",
              "\n",
              "          const docLinkHtml = 'Like what you see? Visit the ' +\n",
              "            '<a target=\"_blank\" href=https://colab.research.google.com/notebooks/data_table.ipynb>data table notebook</a>'\n",
              "            + ' to learn more about interactive tables.';\n",
              "          element.innerHTML = '';\n",
              "          dataTable['output_type'] = 'display_data';\n",
              "          await google.colab.output.renderOutput(dataTable, element);\n",
              "          const docLink = document.createElement('div');\n",
              "          docLink.innerHTML = docLinkHtml;\n",
              "          element.appendChild(docLink);\n",
              "        }\n",
              "      </script>\n",
              "    </div>\n",
              "  </div>\n",
              "  "
            ]
          },
          "metadata": {},
          "execution_count": 190
        },
        {
          "output_type": "display_data",
          "data": {
            "text/plain": [
              "<Figure size 432x288 with 2 Axes>"
            ],
            "image/png": "[encoded data removed]"
          },
          "metadata": {
            "needs_background": "light"
          }
        }
      ]
    },
    {
      "cell_type": "markdown",
      "source": [
        "##4. Gradient Boost Classifier"
      ],
      "metadata": {
        "id": "zquNeDhFfWJ2"
      }
    },
    {
      "cell_type": "code",
      "source": [
        "from sklearn.ensemble import GradientBoostingClassifier"
      ],
      "metadata": {
        "id": "z_Z-7239IjFN"
      },
      "execution_count": 191,
      "outputs": []
    },
    {
      "cell_type": "code",
      "source": [
        "gbm = GradientBoostingClassifier(n_estimators=100,max_features='sqrt')\n",
        "gbm.fit(X_train,y_train)\n",
        "y_pred_gbm = gbm.predict(X_test)"
      ],
      "metadata": {
        "id": "Ug7grfMqIiLk"
      },
      "execution_count": 192,
      "outputs": []
    },
    {
      "cell_type": "code",
      "source": [
        "CM=confusion_matrix(y_test,y_pred_gbm)\n",
        "sns.heatmap(CM, annot=True)\n",
        "\n",
        "TN = CM[0][0]\n",
        "FN = CM[1][0]\n",
        "TP = CM[1][1]\n",
        "FP = CM[0][1]\n",
        "specificity = TN/(TN+FP)\n",
        "acc= accuracy_score(y_test, y_pred_gbm)\n",
        "roc=roc_auc_score(y_test, y_pred_gbm)\n",
        "prec = precision_score(y_test, y_pred_gbm)\n",
        "rec = recall_score(y_test, y_pred_gbm)\n",
        "f1 = f1_score(y_test, y_pred_gbm)\n",
        "\n",
        "evaluation_metrics4 =pd.DataFrame([['GradientBoosting',acc, prec,rec,specificity, f1,roc]],\n",
        "columns = ['Model', 'Accuracy','Precision', 'Sensitivity','Specificity', 'F1 Score','ROC'])\n",
        "\n",
        "evaluation_metrics4"
      ],
      "metadata": {
        "colab": {
          "base_uri": "https://localhost:8080/",
          "height": 331
        },
        "id": "VtcjF4hXI9K1",
        "outputId": "c622904d-0023-4020-9c7a-81f68db9e747"
      },
      "execution_count": 193,
      "outputs": [
        {
          "output_type": "execute_result",
          "data": {
            "text/plain": [
              "              Model  Accuracy  Precision  Sensitivity  Specificity  F1 Score  \\\n",
              "0  GradientBoosting  0.806979   0.840708     0.698529      0.89391  0.763052   \n",
              "\n",
              "       ROC  \n",
              "0  0.79622  "
            ],
            "text/html": [
              "\n",
              "  <div id=\"df-56810012-4f59-4f23-81b1-14e1bd0e1b60\">\n",
              "    <div class=\"colab-df-container\">\n",
              "      <div>\n",
              "<style scoped>\n",
              "    .dataframe tbody tr th:only-of-type {\n",
              "        vertical-align: middle;\n",
              "    }\n",
              "\n",
              "    .dataframe tbody tr th {\n",
              "        vertical-align: top;\n",
              "    }\n",
              "\n",
              "    .dataframe thead th {\n",
              "        text-align: right;\n",
              "    }\n",
              "</style>\n",
              "<table border=\"1\" class=\"dataframe\">\n",
              "  <thead>\n",
              "    <tr style=\"text-align: right;\">\n",
              "      <th></th>\n",
              "      <th>Model</th>\n",
              "      <th>Accuracy</th>\n",
              "      <th>Precision</th>\n",
              "      <th>Sensitivity</th>\n",
              "      <th>Specificity</th>\n",
              "      <th>F1 Score</th>\n",
              "      <th>ROC</th>\n",
              "    </tr>\n",
              "  </thead>\n",
              "  <tbody>\n",
              "    <tr>\n",
              "      <th>0</th>\n",
              "      <td>GradientBoosting</td>\n",
              "      <td>0.806979</td>\n",
              "      <td>0.840708</td>\n",
              "      <td>0.698529</td>\n",
              "      <td>0.89391</td>\n",
              "      <td>0.763052</td>\n",
              "      <td>0.79622</td>\n",
              "    </tr>\n",
              "  </tbody>\n",
              "</table>\n",
              "</div>\n",
              "      <button class=\"colab-df-convert\" onclick=\"convertToInteractive('df-56810012-4f59-4f23-81b1-14e1bd0e1b60')\"\n",
              "              title=\"Convert this dataframe to an interactive table.\"\n",
              "              style=\"display:none;\">\n",
              "        \n",
              "  <svg xmlns=\"http://www.w3.org/2000/svg\" height=\"24px\"viewBox=\"0 0 24 24\"\n",
              "       width=\"24px\">\n",
              "    <path d=\"M0 0h24v24H0V0z\" fill=\"none\"/>\n",
              "    <path d=\"M18.56 5.44l.94 2.06.94-2.06 2.06-.94-2.06-.94-.94-2.06-.94 2.06-2.06.94zm-11 1L8.5 8.5l.94-2.06 2.06-.94-2.06-.94L8.5 2.5l-.94 2.06-2.06.94zm10 10l.94 2.06.94-2.06 2.06-.94-2.06-.94-.94-2.06-.94 2.06-2.06.94z\"/><path d=\"M17.41 7.96l-1.37-1.37c-.4-.4-.92-.59-1.43-.59-.52 0-1.04.2-1.43.59L10.3 9.45l-7.72 7.72c-.78.78-.78 2.05 0 2.83L4 21.41c.39.39.9.59 1.41.59.51 0 1.02-.2 1.41-.59l7.78-7.78 2.81-2.81c.8-.78.8-2.07 0-2.86zM5.41 20L4 18.59l7.72-7.72 1.47 1.35L5.41 20z\"/>\n",
              "  </svg>\n",
              "      </button>\n",
              "      \n",
              "  <style>\n",
              "    .colab-df-container {\n",
              "      display:flex;\n",
              "      flex-wrap:wrap;\n",
              "      gap: 12px;\n",
              "    }\n",
              "\n",
              "    .colab-df-convert {\n",
              "      background-color: #E8F0FE;\n",
              "      border: none;\n",
              "      border-radius: 50%;\n",
              "      cursor: pointer;\n",
              "      display: none;\n",
              "      fill: #1967D2;\n",
              "      height: 32px;\n",
              "      padding: 0 0 0 0;\n",
              "      width: 32px;\n",
              "    }\n",
              "\n",
              "    .colab-df-convert:hover {\n",
              "      background-color: #E2EBFA;\n",
              "      box-shadow: 0px 1px 2px rgba(60, 64, 67, 0.3), 0px 1px 3px 1px rgba(60, 64, 67, 0.15);\n",
              "      fill: #174EA6;\n",
              "    }\n",
              "\n",
              "    [theme=dark] .colab-df-convert {\n",
              "      background-color: #3B4455;\n",
              "      fill: #D2E3FC;\n",
              "    }\n",
              "\n",
              "    [theme=dark] .colab-df-convert:hover {\n",
              "      background-color: #434B5C;\n",
              "      box-shadow: 0px 1px 3px 1px rgba(0, 0, 0, 0.15);\n",
              "      filter: drop-shadow(0px 1px 2px rgba(0, 0, 0, 0.3));\n",
              "      fill: #FFFFFF;\n",
              "    }\n",
              "  </style>\n",
              "\n",
              "      <script>\n",
              "        const buttonEl =\n",
              "          document.querySelector('#df-56810012-4f59-4f23-81b1-14e1bd0e1b60 button.colab-df-convert');\n",
              "        buttonEl.style.display =\n",
              "          google.colab.kernel.accessAllowed ? 'block' : 'none';\n",
              "\n",
              "        async function convertToInteractive(key) {\n",
              "          const element = document.querySelector('#df-56810012-4f59-4f23-81b1-14e1bd0e1b60');\n",
              "          const dataTable =\n",
              "            await google.colab.kernel.invokeFunction('convertToInteractive',\n",
              "                                                     [key], {});\n",
              "          if (!dataTable) return;\n",
              "\n",
              "          const docLinkHtml = 'Like what you see? Visit the ' +\n",
              "            '<a target=\"_blank\" href=https://colab.research.google.com/notebooks/data_table.ipynb>data table notebook</a>'\n",
              "            + ' to learn more about interactive tables.';\n",
              "          element.innerHTML = '';\n",
              "          dataTable['output_type'] = 'display_data';\n",
              "          await google.colab.output.renderOutput(dataTable, element);\n",
              "          const docLink = document.createElement('div');\n",
              "          docLink.innerHTML = docLinkHtml;\n",
              "          element.appendChild(docLink);\n",
              "        }\n",
              "      </script>\n",
              "    </div>\n",
              "  </div>\n",
              "  "
            ]
          },
          "metadata": {},
          "execution_count": 193
        },
        {
          "output_type": "display_data",
          "data": {
            "text/plain": [
              "<Figure size 432x288 with 2 Axes>"
            ],
            "image/png": "[encoded data removed]"
          },
          "metadata": {
            "needs_background": "light"
          }
        }
      ]
    },
    {
      "cell_type": "markdown",
      "source": [
        "##5. XGBoost"
      ],
      "metadata": {
        "id": "9_W_yl5qfbtN"
      }
    },
    {
      "cell_type": "code",
      "source": [
        "import xgboost as xgb"
      ],
      "metadata": {
        "id": "_GSEv2ErNxYL"
      },
      "execution_count": 194,
      "outputs": []
    },
    {
      "cell_type": "code",
      "source": [
        "import xgboost as xgb\n",
        "xgb = xgb.XGBClassifier(n_estimators= 500)\n",
        "xgb.fit(X_train,y_train)\n",
        "y_pred_xgb = xgb.predict(X_test)"
      ],
      "metadata": {
        "id": "X2jH73lzVgXP"
      },
      "execution_count": 195,
      "outputs": []
    },
    {
      "cell_type": "code",
      "source": [
        "CM=confusion_matrix(y_test,y_pred_xgb)\n",
        "sns.heatmap(CM, annot=True)\n",
        "\n",
        "TN = CM[0][0]\n",
        "FN = CM[1][0]\n",
        "TP = CM[1][1]\n",
        "FP = CM[0][1]\n",
        "specificity = TN/(TN+FP)\n",
        "acc= accuracy_score(y_test, y_pred_xgb)\n",
        "roc=roc_auc_score(y_test, y_pred_xgb)\n",
        "prec = precision_score(y_test, y_pred_xgb)\n",
        "rec = recall_score(y_test, y_pred_xgb)\n",
        "f1 = f1_score(y_test, y_pred_xgb)\n",
        "\n",
        "evaluation_metrics5 =pd.DataFrame([['XGBoost',acc, prec,rec,specificity, f1,roc]],\n",
        "columns = ['Model', 'Accuracy','Precision', 'Sensitivity','Specificity', 'F1 Score','ROC'])\n",
        "\n",
        "evaluation_metrics5"
      ],
      "metadata": {
        "colab": {
          "base_uri": "https://localhost:8080/",
          "height": 329
        },
        "id": "jzeNHzxHVmGS",
        "outputId": "28c127d2-6011-4a68-e9ce-7b2623e2755d"
      },
      "execution_count": 196,
      "outputs": [
        {
          "output_type": "execute_result",
          "data": {
            "text/plain": [
              "     Model  Accuracy  Precision  Sensitivity  Specificity  F1 Score       ROC\n",
              "0  XGBoost  0.865867   0.905983     0.779412     0.935167  0.837945  0.857289"
            ],
            "text/html": [
              "\n",
              "  <div id=\"df-7cdb0dc9-478b-4000-ae07-f0887ee93408\">\n",
              "    <div class=\"colab-df-container\">\n",
              "      <div>\n",
              "<style scoped>\n",
              "    .dataframe tbody tr th:only-of-type {\n",
              "        vertical-align: middle;\n",
              "    }\n",
              "\n",
              "    .dataframe tbody tr th {\n",
              "        vertical-align: top;\n",
              "    }\n",
              "\n",
              "    .dataframe thead th {\n",
              "        text-align: right;\n",
              "    }\n",
              "</style>\n",
              "<table border=\"1\" class=\"dataframe\">\n",
              "  <thead>\n",
              "    <tr style=\"text-align: right;\">\n",
              "      <th></th>\n",
              "      <th>Model</th>\n",
              "      <th>Accuracy</th>\n",
              "      <th>Precision</th>\n",
              "      <th>Sensitivity</th>\n",
              "      <th>Specificity</th>\n",
              "      <th>F1 Score</th>\n",
              "      <th>ROC</th>\n",
              "    </tr>\n",
              "  </thead>\n",
              "  <tbody>\n",
              "    <tr>\n",
              "      <th>0</th>\n",
              "      <td>XGBoost</td>\n",
              "      <td>0.865867</td>\n",
              "      <td>0.905983</td>\n",
              "      <td>0.779412</td>\n",
              "      <td>0.935167</td>\n",
              "      <td>0.837945</td>\n",
              "      <td>0.857289</td>\n",
              "    </tr>\n",
              "  </tbody>\n",
              "</table>\n",
              "</div>\n",
              "      <button class=\"colab-df-convert\" onclick=\"convertToInteractive('df-7cdb0dc9-478b-4000-ae07-f0887ee93408')\"\n",
              "              title=\"Convert this dataframe to an interactive table.\"\n",
              "              style=\"display:none;\">\n",
              "        \n",
              "  <svg xmlns=\"http://www.w3.org/2000/svg\" height=\"24px\"viewBox=\"0 0 24 24\"\n",
              "       width=\"24px\">\n",
              "    <path d=\"M0 0h24v24H0V0z\" fill=\"none\"/>\n",
              "    <path d=\"M18.56 5.44l.94 2.06.94-2.06 2.06-.94-2.06-.94-.94-2.06-.94 2.06-2.06.94zm-11 1L8.5 8.5l.94-2.06 2.06-.94-2.06-.94L8.5 2.5l-.94 2.06-2.06.94zm10 10l.94 2.06.94-2.06 2.06-.94-2.06-.94-.94-2.06-.94 2.06-2.06.94z\"/><path d=\"M17.41 7.96l-1.37-1.37c-.4-.4-.92-.59-1.43-.59-.52 0-1.04.2-1.43.59L10.3 9.45l-7.72 7.72c-.78.78-.78 2.05 0 2.83L4 21.41c.39.39.9.59 1.41.59.51 0 1.02-.2 1.41-.59l7.78-7.78 2.81-2.81c.8-.78.8-2.07 0-2.86zM5.41 20L4 18.59l7.72-7.72 1.47 1.35L5.41 20z\"/>\n",
              "  </svg>\n",
              "      </button>\n",
              "      \n",
              "  <style>\n",
              "    .colab-df-container {\n",
              "      display:flex;\n",
              "      flex-wrap:wrap;\n",
              "      gap: 12px;\n",
              "    }\n",
              "\n",
              "    .colab-df-convert {\n",
              "      background-color: #E8F0FE;\n",
              "      border: none;\n",
              "      border-radius: 50%;\n",
              "      cursor: pointer;\n",
              "      display: none;\n",
              "      fill: #1967D2;\n",
              "      height: 32px;\n",
              "      padding: 0 0 0 0;\n",
              "      width: 32px;\n",
              "    }\n",
              "\n",
              "    .colab-df-convert:hover {\n",
              "      background-color: #E2EBFA;\n",
              "      box-shadow: 0px 1px 2px rgba(60, 64, 67, 0.3), 0px 1px 3px 1px rgba(60, 64, 67, 0.15);\n",
              "      fill: #174EA6;\n",
              "    }\n",
              "\n",
              "    [theme=dark] .colab-df-convert {\n",
              "      background-color: #3B4455;\n",
              "      fill: #D2E3FC;\n",
              "    }\n",
              "\n",
              "    [theme=dark] .colab-df-convert:hover {\n",
              "      background-color: #434B5C;\n",
              "      box-shadow: 0px 1px 3px 1px rgba(0, 0, 0, 0.15);\n",
              "      filter: drop-shadow(0px 1px 2px rgba(0, 0, 0, 0.3));\n",
              "      fill: #FFFFFF;\n",
              "    }\n",
              "  </style>\n",
              "\n",
              "      <script>\n",
              "        const buttonEl =\n",
              "          document.querySelector('#df-7cdb0dc9-478b-4000-ae07-f0887ee93408 button.colab-df-convert');\n",
              "        buttonEl.style.display =\n",
              "          google.colab.kernel.accessAllowed ? 'block' : 'none';\n",
              "\n",
              "        async function convertToInteractive(key) {\n",
              "          const element = document.querySelector('#df-7cdb0dc9-478b-4000-ae07-f0887ee93408');\n",
              "          const dataTable =\n",
              "            await google.colab.kernel.invokeFunction('convertToInteractive',\n",
              "                                                     [key], {});\n",
              "          if (!dataTable) return;\n",
              "\n",
              "          const docLinkHtml = 'Like what you see? Visit the ' +\n",
              "            '<a target=\"_blank\" href=https://colab.research.google.com/notebooks/data_table.ipynb>data table notebook</a>'\n",
              "            + ' to learn more about interactive tables.';\n",
              "          element.innerHTML = '';\n",
              "          dataTable['output_type'] = 'display_data';\n",
              "          await google.colab.output.renderOutput(dataTable, element);\n",
              "          const docLink = document.createElement('div');\n",
              "          docLink.innerHTML = docLinkHtml;\n",
              "          element.appendChild(docLink);\n",
              "        }\n",
              "      </script>\n",
              "    </div>\n",
              "  </div>\n",
              "  "
            ]
          },
          "metadata": {},
          "execution_count": 196
        },
        {
          "output_type": "display_data",
          "data": {
            "text/plain": [
              "<Figure size 432x288 with 2 Axes>"
            ],
            "image/png": "[encoded data removed]"
          },
          "metadata": {
            "needs_background": "light"
          }
        }
      ]
    },
    {
      "cell_type": "markdown",
      "source": [
        "##6. Naive Bayes Classifier"
      ],
      "metadata": {
        "id": "GnHRJBUhzYMx"
      }
    },
    {
      "cell_type": "code",
      "source": [
        "from sklearn.naive_bayes import GaussianNB"
      ],
      "metadata": {
        "id": "8pXndxpI0AIF"
      },
      "execution_count": 197,
      "outputs": []
    },
    {
      "cell_type": "code",
      "source": [
        "# Creating naive bayes model \n",
        "gnb = GaussianNB()\n",
        "\n",
        "# Fitting the model\n",
        "gnb.fit(X_smote, y_smote)\n",
        " \n",
        "# Making predictions on training and testing set\n",
        "y_pred_gnb = gnb.predict(X_test)\n",
        "y_train_pred = gnb.predict(X_smote)"
      ],
      "metadata": {
        "id": "uy2N722ZzZb0"
      },
      "execution_count": 198,
      "outputs": []
    },
    {
      "cell_type": "code",
      "source": [
        "# Display accuracy scores for training and testing sets\n",
        "print(accuracy_score(y_train_pred, y_smote))\n",
        "print(accuracy_score(y_pred_gnb, y_test))"
      ],
      "metadata": {
        "colab": {
          "base_uri": "https://localhost:8080/"
        },
        "id": "9YOW_Xfiz0Fh",
        "outputId": "ce9b8059-3b02-45b3-c595-e7fed36cd929"
      },
      "execution_count": 199,
      "outputs": [
        {
          "output_type": "stream",
          "name": "stdout",
          "text": [
            "0.6288457342352171\n",
            "0.5965103598691385\n"
          ]
        }
      ]
    },
    {
      "cell_type": "code",
      "source": [
        "# Confusion matrix for training data in naive bayes classifier\n",
        "confusion_matrix(y_smote, y_train_pred)"
      ],
      "metadata": {
        "colab": {
          "base_uri": "https://localhost:8080/"
        },
        "id": "leIX25s4zz9l",
        "outputId": "4895187a-96c0-4550-8512-90a2fe229cf9"
      },
      "execution_count": 200,
      "outputs": [
        {
          "output_type": "execute_result",
          "data": {
            "text/plain": [
              "array([[2317,  229],\n",
              "       [1472,  565]])"
            ]
          },
          "metadata": {},
          "execution_count": 200
        }
      ]
    },
    {
      "cell_type": "code",
      "source": [
        "# Confusion matrix for testing data in naive bayes classifier\n",
        "confusion_matrix(y_test, y_pred_gnb)"
      ],
      "metadata": {
        "colab": {
          "base_uri": "https://localhost:8080/"
        },
        "id": "WXzpZRAszz1R",
        "outputId": "922a8471-5197-48f6-faba-0701e30294af"
      },
      "execution_count": 201,
      "outputs": [
        {
          "output_type": "execute_result",
          "data": {
            "text/plain": [
              "array([[488,  21],\n",
              "       [349,  59]])"
            ]
          },
          "metadata": {},
          "execution_count": 201
        }
      ]
    },
    {
      "cell_type": "code",
      "source": [
        "# Prediction probabilities for naive bayes classifier\n",
        "y_pred_proba_gnb = gnb.predict_proba(X_test)[:,1]"
      ],
      "metadata": {
        "id": "5Gy_xF7nzzs7"
      },
      "execution_count": 202,
      "outputs": []
    },
    {
      "cell_type": "code",
      "source": [
        "# Getting the parameters for ROC curve\n",
        "fpr, tpr, thresholds = roc_curve(y_test, y_pred_proba_gnb)"
      ],
      "metadata": {
        "id": "5337zK-yzzk6"
      },
      "execution_count": 203,
      "outputs": []
    },
    {
      "cell_type": "code",
      "source": [
        "# Plotting the ROC curve\n",
        "plt.plot([0,1],[0,1],'k--')\n",
        "plt.plot(fpr,tpr, label='Knn')\n",
        "plt.xlabel('fpr')\n",
        "plt.ylabel('tpr')\n",
        "plt.title('ROC curve')\n",
        "plt.show()"
      ],
      "metadata": {
        "colab": {
          "base_uri": "https://localhost:8080/",
          "height": 295
        },
        "id": "DfkNpfHkzzcu",
        "outputId": "64c25aac-8e62-4b6f-ea77-dfab5f84401a"
      },
      "execution_count": 204,
      "outputs": [
        {
          "output_type": "display_data",
          "data": {
            "text/plain": [
              "<Figure size 432x288 with 1 Axes>"
            ],
            "image/png": "[encoded data removed]"
          },
          "metadata": {
            "needs_background": "light"
          }
        }
      ]
    },
    {
      "cell_type": "code",
      "source": [
        "# Area under ROC curve\n",
        "roc_auc_score(y_test,y_pred_proba_gnb)"
      ],
      "metadata": {
        "colab": {
          "base_uri": "https://localhost:8080/"
        },
        "id": "XSPhTD2YzzZQ",
        "outputId": "9f431699-05e6-435c-da42-668370d73882"
      },
      "execution_count": 205,
      "outputs": [
        {
          "output_type": "execute_result",
          "data": {
            "text/plain": [
              "0.5988433683886127"
            ]
          },
          "metadata": {},
          "execution_count": 205
        }
      ]
    },
    {
      "cell_type": "code",
      "source": [
        "# Importing Counter.\n",
        "from collections import Counter"
      ],
      "metadata": {
        "id": "Dm48g2hZ0Pbe"
      },
      "execution_count": 206,
      "outputs": []
    },
    {
      "cell_type": "code",
      "source": [
        "# Counts of test set \n",
        "Counter(y_test)"
      ],
      "metadata": {
        "colab": {
          "base_uri": "https://localhost:8080/"
        },
        "id": "45nal-Gk0It2",
        "outputId": "d483dd48-df61-462a-df5e-ac8201198fd2"
      },
      "execution_count": 207,
      "outputs": [
        {
          "output_type": "execute_result",
          "data": {
            "text/plain": [
              "Counter({1: 408, 0: 509})"
            ]
          },
          "metadata": {},
          "execution_count": 207
        }
      ]
    },
    {
      "cell_type": "code",
      "source": [
        "# counts of predicted set\n",
        "Counter(y_pred_gnb)"
      ],
      "metadata": {
        "colab": {
          "base_uri": "https://localhost:8080/"
        },
        "id": "06H12DdM0Ik1",
        "outputId": "13dc52ee-fa48-42c8-ab71-a066e15bf4f8"
      },
      "execution_count": 208,
      "outputs": [
        {
          "output_type": "execute_result",
          "data": {
            "text/plain": [
              "Counter({1: 80, 0: 837})"
            ]
          },
          "metadata": {},
          "execution_count": 208
        }
      ]
    },
    {
      "cell_type": "code",
      "source": [
        "# Getting Classification report for Naive bayes classifier\n",
        "dict1= classification_report(y_test, y_pred_gnb, output_dict=True)\n",
        "\n",
        "#adding results to evaluation dataframe\n",
        "tempodf=pd.DataFrame(dict1).transpose()\n",
        "tempodf"
      ],
      "metadata": {
        "id": "A16bQYPx0IbU",
        "colab": {
          "base_uri": "https://localhost:8080/",
          "height": 206
        },
        "outputId": "e56e0115-d377-4ef4-bbf9-71f74fbf71bc"
      },
      "execution_count": 209,
      "outputs": [
        {
          "output_type": "execute_result",
          "data": {
            "text/plain": [
              "              precision    recall  f1-score    support\n",
              "0              0.583035  0.958743  0.725111  509.00000\n",
              "1              0.737500  0.144608  0.241803  408.00000\n",
              "accuracy       0.596510  0.596510  0.596510    0.59651\n",
              "macro avg      0.660267  0.551675  0.483457  917.00000\n",
              "weighted avg   0.651761  0.596510  0.510074  917.00000"
            ],
            "text/html": [
              "\n",
              "  <div id=\"df-7d21f3da-66d8-4d4d-812a-3f70a2276c45\">\n",
              "    <div class=\"colab-df-container\">\n",
              "      <div>\n",
              "<style scoped>\n",
              "    .dataframe tbody tr th:only-of-type {\n",
              "        vertical-align: middle;\n",
              "    }\n",
              "\n",
              "    .dataframe tbody tr th {\n",
              "        vertical-align: top;\n",
              "    }\n",
              "\n",
              "    .dataframe thead th {\n",
              "        text-align: right;\n",
              "    }\n",
              "</style>\n",
              "<table border=\"1\" class=\"dataframe\">\n",
              "  <thead>\n",
              "    <tr style=\"text-align: right;\">\n",
              "      <th></th>\n",
              "      <th>precision</th>\n",
              "      <th>recall</th>\n",
              "      <th>f1-score</th>\n",
              "      <th>support</th>\n",
              "    </tr>\n",
              "  </thead>\n",
              "  <tbody>\n",
              "    <tr>\n",
              "      <th>0</th>\n",
              "      <td>0.583035</td>\n",
              "      <td>0.958743</td>\n",
              "      <td>0.725111</td>\n",
              "      <td>509.00000</td>\n",
              "    </tr>\n",
              "    <tr>\n",
              "      <th>1</th>\n",
              "      <td>0.737500</td>\n",
              "      <td>0.144608</td>\n",
              "      <td>0.241803</td>\n",
              "      <td>408.00000</td>\n",
              "    </tr>\n",
              "    <tr>\n",
              "      <th>accuracy</th>\n",
              "      <td>0.596510</td>\n",
              "      <td>0.596510</td>\n",
              "      <td>0.596510</td>\n",
              "      <td>0.59651</td>\n",
              "    </tr>\n",
              "    <tr>\n",
              "      <th>macro avg</th>\n",
              "      <td>0.660267</td>\n",
              "      <td>0.551675</td>\n",
              "      <td>0.483457</td>\n",
              "      <td>917.00000</td>\n",
              "    </tr>\n",
              "    <tr>\n",
              "      <th>weighted avg</th>\n",
              "      <td>0.651761</td>\n",
              "      <td>0.596510</td>\n",
              "      <td>0.510074</td>\n",
              "      <td>917.00000</td>\n",
              "    </tr>\n",
              "  </tbody>\n",
              "</table>\n",
              "</div>\n",
              "      <button class=\"colab-df-convert\" onclick=\"convertToInteractive('df-7d21f3da-66d8-4d4d-812a-3f70a2276c45')\"\n",
              "              title=\"Convert this dataframe to an interactive table.\"\n",
              "              style=\"display:none;\">\n",
              "        \n",
              "  <svg xmlns=\"http://www.w3.org/2000/svg\" height=\"24px\"viewBox=\"0 0 24 24\"\n",
              "       width=\"24px\">\n",
              "    <path d=\"M0 0h24v24H0V0z\" fill=\"none\"/>\n",
              "    <path d=\"M18.56 5.44l.94 2.06.94-2.06 2.06-.94-2.06-.94-.94-2.06-.94 2.06-2.06.94zm-11 1L8.5 8.5l.94-2.06 2.06-.94-2.06-.94L8.5 2.5l-.94 2.06-2.06.94zm10 10l.94 2.06.94-2.06 2.06-.94-2.06-.94-.94-2.06-.94 2.06-2.06.94z\"/><path d=\"M17.41 7.96l-1.37-1.37c-.4-.4-.92-.59-1.43-.59-.52 0-1.04.2-1.43.59L10.3 9.45l-7.72 7.72c-.78.78-.78 2.05 0 2.83L4 21.41c.39.39.9.59 1.41.59.51 0 1.02-.2 1.41-.59l7.78-7.78 2.81-2.81c.8-.78.8-2.07 0-2.86zM5.41 20L4 18.59l7.72-7.72 1.47 1.35L5.41 20z\"/>\n",
              "  </svg>\n",
              "      </button>\n",
              "      \n",
              "  <style>\n",
              "    .colab-df-container {\n",
              "      display:flex;\n",
              "      flex-wrap:wrap;\n",
              "      gap: 12px;\n",
              "    }\n",
              "\n",
              "    .colab-df-convert {\n",
              "      background-color: #E8F0FE;\n",
              "      border: none;\n",
              "      border-radius: 50%;\n",
              "      cursor: pointer;\n",
              "      display: none;\n",
              "      fill: #1967D2;\n",
              "      height: 32px;\n",
              "      padding: 0 0 0 0;\n",
              "      width: 32px;\n",
              "    }\n",
              "\n",
              "    .colab-df-convert:hover {\n",
              "      background-color: #E2EBFA;\n",
              "      box-shadow: 0px 1px 2px rgba(60, 64, 67, 0.3), 0px 1px 3px 1px rgba(60, 64, 67, 0.15);\n",
              "      fill: #174EA6;\n",
              "    }\n",
              "\n",
              "    [theme=dark] .colab-df-convert {\n",
              "      background-color: #3B4455;\n",
              "      fill: #D2E3FC;\n",
              "    }\n",
              "\n",
              "    [theme=dark] .colab-df-convert:hover {\n",
              "      background-color: #434B5C;\n",
              "      box-shadow: 0px 1px 3px 1px rgba(0, 0, 0, 0.15);\n",
              "      filter: drop-shadow(0px 1px 2px rgba(0, 0, 0, 0.3));\n",
              "      fill: #FFFFFF;\n",
              "    }\n",
              "  </style>\n",
              "\n",
              "      <script>\n",
              "        const buttonEl =\n",
              "          document.querySelector('#df-7d21f3da-66d8-4d4d-812a-3f70a2276c45 button.colab-df-convert');\n",
              "        buttonEl.style.display =\n",
              "          google.colab.kernel.accessAllowed ? 'block' : 'none';\n",
              "\n",
              "        async function convertToInteractive(key) {\n",
              "          const element = document.querySelector('#df-7d21f3da-66d8-4d4d-812a-3f70a2276c45');\n",
              "          const dataTable =\n",
              "            await google.colab.kernel.invokeFunction('convertToInteractive',\n",
              "                                                     [key], {});\n",
              "          if (!dataTable) return;\n",
              "\n",
              "          const docLinkHtml = 'Like what you see? Visit the ' +\n",
              "            '<a target=\"_blank\" href=https://colab.research.google.com/notebooks/data_table.ipynb>data table notebook</a>'\n",
              "            + ' to learn more about interactive tables.';\n",
              "          element.innerHTML = '';\n",
              "          dataTable['output_type'] = 'display_data';\n",
              "          await google.colab.output.renderOutput(dataTable, element);\n",
              "          const docLink = document.createElement('div');\n",
              "          docLink.innerHTML = docLinkHtml;\n",
              "          element.appendChild(docLink);\n",
              "        }\n",
              "      </script>\n",
              "    </div>\n",
              "  </div>\n",
              "  "
            ]
          },
          "metadata": {},
          "execution_count": 209
        }
      ]
    },
    {
      "cell_type": "code",
      "source": [
        "CM=confusion_matrix(y_test,y_pred_gnb)\n",
        "sns.heatmap(CM, annot=True)\n",
        "\n",
        "TN = CM[0][0]\n",
        "FN = CM[1][0]\n",
        "TP = CM[1][1]\n",
        "FP = CM[0][1]\n",
        "specificity = TN/(TN+FP)\n",
        "acc= accuracy_score(y_test, y_pred_gnb)\n",
        "roc=roc_auc_score(y_test, y_pred_gnb)\n",
        "prec = precision_score(y_test, y_pred_gnb)\n",
        "rec = recall_score(y_test, y_pred_gnb)\n",
        "f1 = f1_score(y_test, y_pred_gnb)\n",
        "\n",
        "evaluation_metrics6 =pd.DataFrame([['Naive Bayes',acc, prec,rec,specificity, f1,roc]],\n",
        "columns = ['Model', 'Accuracy','Precision', 'Sensitivity','Specificity', 'F1 Score','ROC'])\n",
        "\n",
        "evaluation_metrics6"
      ],
      "metadata": {
        "colab": {
          "base_uri": "https://localhost:8080/",
          "height": 329
        },
        "id": "ByvuWMafkIUh",
        "outputId": "4d0ce39d-4700-485c-9c8e-04827b164c83"
      },
      "execution_count": 210,
      "outputs": [
        {
          "output_type": "execute_result",
          "data": {
            "text/plain": [
              "         Model  Accuracy  Precision  Sensitivity  Specificity  F1 Score  \\\n",
              "0  Naive Bayes   0.59651     0.7375     0.144608     0.958743  0.241803   \n",
              "\n",
              "        ROC  \n",
              "0  0.551675  "
            ],
            "text/html": [
              "\n",
              "  <div id=\"df-b94ec42e-b238-4682-a5af-d9de2bb8f68d\">\n",
              "    <div class=\"colab-df-container\">\n",
              "      <div>\n",
              "<style scoped>\n",
              "    .dataframe tbody tr th:only-of-type {\n",
              "        vertical-align: middle;\n",
              "    }\n",
              "\n",
              "    .dataframe tbody tr th {\n",
              "        vertical-align: top;\n",
              "    }\n",
              "\n",
              "    .dataframe thead th {\n",
              "        text-align: right;\n",
              "    }\n",
              "</style>\n",
              "<table border=\"1\" class=\"dataframe\">\n",
              "  <thead>\n",
              "    <tr style=\"text-align: right;\">\n",
              "      <th></th>\n",
              "      <th>Model</th>\n",
              "      <th>Accuracy</th>\n",
              "      <th>Precision</th>\n",
              "      <th>Sensitivity</th>\n",
              "      <th>Specificity</th>\n",
              "      <th>F1 Score</th>\n",
              "      <th>ROC</th>\n",
              "    </tr>\n",
              "  </thead>\n",
              "  <tbody>\n",
              "    <tr>\n",
              "      <th>0</th>\n",
              "      <td>Naive Bayes</td>\n",
              "      <td>0.59651</td>\n",
              "      <td>0.7375</td>\n",
              "      <td>0.144608</td>\n",
              "      <td>0.958743</td>\n",
              "      <td>0.241803</td>\n",
              "      <td>0.551675</td>\n",
              "    </tr>\n",
              "  </tbody>\n",
              "</table>\n",
              "</div>\n",
              "      <button class=\"colab-df-convert\" onclick=\"convertToInteractive('df-b94ec42e-b238-4682-a5af-d9de2bb8f68d')\"\n",
              "              title=\"Convert this dataframe to an interactive table.\"\n",
              "              style=\"display:none;\">\n",
              "        \n",
              "  <svg xmlns=\"http://www.w3.org/2000/svg\" height=\"24px\"viewBox=\"0 0 24 24\"\n",
              "       width=\"24px\">\n",
              "    <path d=\"M0 0h24v24H0V0z\" fill=\"none\"/>\n",
              "    <path d=\"M18.56 5.44l.94 2.06.94-2.06 2.06-.94-2.06-.94-.94-2.06-.94 2.06-2.06.94zm-11 1L8.5 8.5l.94-2.06 2.06-.94-2.06-.94L8.5 2.5l-.94 2.06-2.06.94zm10 10l.94 2.06.94-2.06 2.06-.94-2.06-.94-.94-2.06-.94 2.06-2.06.94z\"/><path d=\"M17.41 7.96l-1.37-1.37c-.4-.4-.92-.59-1.43-.59-.52 0-1.04.2-1.43.59L10.3 9.45l-7.72 7.72c-.78.78-.78 2.05 0 2.83L4 21.41c.39.39.9.59 1.41.59.51 0 1.02-.2 1.41-.59l7.78-7.78 2.81-2.81c.8-.78.8-2.07 0-2.86zM5.41 20L4 18.59l7.72-7.72 1.47 1.35L5.41 20z\"/>\n",
              "  </svg>\n",
              "      </button>\n",
              "      \n",
              "  <style>\n",
              "    .colab-df-container {\n",
              "      display:flex;\n",
              "      flex-wrap:wrap;\n",
              "      gap: 12px;\n",
              "    }\n",
              "\n",
              "    .colab-df-convert {\n",
              "      background-color: #E8F0FE;\n",
              "      border: none;\n",
              "      border-radius: 50%;\n",
              "      cursor: pointer;\n",
              "      display: none;\n",
              "      fill: #1967D2;\n",
              "      height: 32px;\n",
              "      padding: 0 0 0 0;\n",
              "      width: 32px;\n",
              "    }\n",
              "\n",
              "    .colab-df-convert:hover {\n",
              "      background-color: #E2EBFA;\n",
              "      box-shadow: 0px 1px 2px rgba(60, 64, 67, 0.3), 0px 1px 3px 1px rgba(60, 64, 67, 0.15);\n",
              "      fill: #174EA6;\n",
              "    }\n",
              "\n",
              "    [theme=dark] .colab-df-convert {\n",
              "      background-color: #3B4455;\n",
              "      fill: #D2E3FC;\n",
              "    }\n",
              "\n",
              "    [theme=dark] .colab-df-convert:hover {\n",
              "      background-color: #434B5C;\n",
              "      box-shadow: 0px 1px 3px 1px rgba(0, 0, 0, 0.15);\n",
              "      filter: drop-shadow(0px 1px 2px rgba(0, 0, 0, 0.3));\n",
              "      fill: #FFFFFF;\n",
              "    }\n",
              "  </style>\n",
              "\n",
              "      <script>\n",
              "        const buttonEl =\n",
              "          document.querySelector('#df-b94ec42e-b238-4682-a5af-d9de2bb8f68d button.colab-df-convert');\n",
              "        buttonEl.style.display =\n",
              "          google.colab.kernel.accessAllowed ? 'block' : 'none';\n",
              "\n",
              "        async function convertToInteractive(key) {\n",
              "          const element = document.querySelector('#df-b94ec42e-b238-4682-a5af-d9de2bb8f68d');\n",
              "          const dataTable =\n",
              "            await google.colab.kernel.invokeFunction('convertToInteractive',\n",
              "                                                     [key], {});\n",
              "          if (!dataTable) return;\n",
              "\n",
              "          const docLinkHtml = 'Like what you see? Visit the ' +\n",
              "            '<a target=\"_blank\" href=https://colab.research.google.com/notebooks/data_table.ipynb>data table notebook</a>'\n",
              "            + ' to learn more about interactive tables.';\n",
              "          element.innerHTML = '';\n",
              "          dataTable['output_type'] = 'display_data';\n",
              "          await google.colab.output.renderOutput(dataTable, element);\n",
              "          const docLink = document.createElement('div');\n",
              "          docLink.innerHTML = docLinkHtml;\n",
              "          element.appendChild(docLink);\n",
              "        }\n",
              "      </script>\n",
              "    </div>\n",
              "  </div>\n",
              "  "
            ]
          },
          "metadata": {},
          "execution_count": 210
        },
        {
          "output_type": "display_data",
          "data": {
            "text/plain": [
              "<Figure size 432x288 with 2 Axes>"
            ],
            "image/png": "[encoded data removed]"
          },
          "metadata": {
            "needs_background": "light"
          }
        }
      ]
    },
    {
      "cell_type": "markdown",
      "source": [
        "##7.Support Vector CLassifier"
      ],
      "metadata": {
        "id": "t-DsmDb6FBfm"
      }
    },
    {
      "cell_type": "code",
      "source": [
        "from sklearn.svm import SVC"
      ],
      "metadata": {
        "id": "zOITbtNgFUt3"
      },
      "execution_count": 211,
      "outputs": []
    },
    {
      "cell_type": "code",
      "source": [
        "svc = SVC(kernel='linear',gamma='auto',probability=True)\n",
        "svc.fit(X_train,y_train)\n",
        "y_pred_svc = svc.predict(X_test)"
      ],
      "metadata": {
        "id": "h-FT_PcBFWhO"
      },
      "execution_count": 212,
      "outputs": []
    },
    {
      "cell_type": "markdown",
      "source": [
        "Model Evaluation"
      ],
      "metadata": {
        "id": "L5L9qfpRHUkN"
      }
    },
    {
      "cell_type": "code",
      "source": [
        "\n",
        "CM=confusion_matrix(y_test,y_pred_svc)\n",
        "sns.heatmap(CM, annot=True)\n",
        "\n",
        "TN = CM[0][0]\n",
        "FN = CM[1][0]\n",
        "TP = CM[1][1]\n",
        "FP = CM[0][1]\n",
        "specificity = TN/(TN+FP)\n",
        "acc= accuracy_score(y_test, y_pred_svc)\n",
        "roc=roc_auc_score(y_test, y_pred_svc)\n",
        "prec = precision_score(y_test, y_pred_svc)\n",
        "rec = recall_score(y_test, y_pred_svc)\n",
        "f1 = f1_score(y_test, y_pred_svc)\n",
        "\n",
        "evaluation_metrics7 =pd.DataFrame([['SupportVector',acc, prec,rec,specificity, f1,roc]],\n",
        "columns = ['Model', 'Accuracy','Precision', 'Sensitivity','Specificity', 'F1 Score','ROC'])\n",
        "\n",
        "evaluation_metrics7"
      ],
      "metadata": {
        "colab": {
          "base_uri": "https://localhost:8080/",
          "height": 331
        },
        "id": "ZBASvAvMGe7R",
        "outputId": "b7f109e4-53d2-4e82-939a-351ab233c9ee"
      },
      "execution_count": 213,
      "outputs": [
        {
          "output_type": "execute_result",
          "data": {
            "text/plain": [
              "           Model  Accuracy  Precision  Sensitivity  Specificity  F1 Score  \\\n",
              "0  SupportVector  0.671756   0.627078     0.647059     0.691552  0.636912   \n",
              "\n",
              "        ROC  \n",
              "0  0.669305  "
            ],
            "text/html": [
              "\n",
              "  <div id=\"df-a6230a13-e0a4-426a-964b-c59b4a7d4c6f\">\n",
              "    <div class=\"colab-df-container\">\n",
              "      <div>\n",
              "<style scoped>\n",
              "    .dataframe tbody tr th:only-of-type {\n",
              "        vertical-align: middle;\n",
              "    }\n",
              "\n",
              "    .dataframe tbody tr th {\n",
              "        vertical-align: top;\n",
              "    }\n",
              "\n",
              "    .dataframe thead th {\n",
              "        text-align: right;\n",
              "    }\n",
              "</style>\n",
              "<table border=\"1\" class=\"dataframe\">\n",
              "  <thead>\n",
              "    <tr style=\"text-align: right;\">\n",
              "      <th></th>\n",
              "      <th>Model</th>\n",
              "      <th>Accuracy</th>\n",
              "      <th>Precision</th>\n",
              "      <th>Sensitivity</th>\n",
              "      <th>Specificity</th>\n",
              "      <th>F1 Score</th>\n",
              "      <th>ROC</th>\n",
              "    </tr>\n",
              "  </thead>\n",
              "  <tbody>\n",
              "    <tr>\n",
              "      <th>0</th>\n",
              "      <td>SupportVector</td>\n",
              "      <td>0.671756</td>\n",
              "      <td>0.627078</td>\n",
              "      <td>0.647059</td>\n",
              "      <td>0.691552</td>\n",
              "      <td>0.636912</td>\n",
              "      <td>0.669305</td>\n",
              "    </tr>\n",
              "  </tbody>\n",
              "</table>\n",
              "</div>\n",
              "      <button class=\"colab-df-convert\" onclick=\"convertToInteractive('df-a6230a13-e0a4-426a-964b-c59b4a7d4c6f')\"\n",
              "              title=\"Convert this dataframe to an interactive table.\"\n",
              "              style=\"display:none;\">\n",
              "        \n",
              "  <svg xmlns=\"http://www.w3.org/2000/svg\" height=\"24px\"viewBox=\"0 0 24 24\"\n",
              "       width=\"24px\">\n",
              "    <path d=\"M0 0h24v24H0V0z\" fill=\"none\"/>\n",
              "    <path d=\"M18.56 5.44l.94 2.06.94-2.06 2.06-.94-2.06-.94-.94-2.06-.94 2.06-2.06.94zm-11 1L8.5 8.5l.94-2.06 2.06-.94-2.06-.94L8.5 2.5l-.94 2.06-2.06.94zm10 10l.94 2.06.94-2.06 2.06-.94-2.06-.94-.94-2.06-.94 2.06-2.06.94z\"/><path d=\"M17.41 7.96l-1.37-1.37c-.4-.4-.92-.59-1.43-.59-.52 0-1.04.2-1.43.59L10.3 9.45l-7.72 7.72c-.78.78-.78 2.05 0 2.83L4 21.41c.39.39.9.59 1.41.59.51 0 1.02-.2 1.41-.59l7.78-7.78 2.81-2.81c.8-.78.8-2.07 0-2.86zM5.41 20L4 18.59l7.72-7.72 1.47 1.35L5.41 20z\"/>\n",
              "  </svg>\n",
              "      </button>\n",
              "      \n",
              "  <style>\n",
              "    .colab-df-container {\n",
              "      display:flex;\n",
              "      flex-wrap:wrap;\n",
              "      gap: 12px;\n",
              "    }\n",
              "\n",
              "    .colab-df-convert {\n",
              "      background-color: #E8F0FE;\n",
              "      border: none;\n",
              "      border-radius: 50%;\n",
              "      cursor: pointer;\n",
              "      display: none;\n",
              "      fill: #1967D2;\n",
              "      height: 32px;\n",
              "      padding: 0 0 0 0;\n",
              "      width: 32px;\n",
              "    }\n",
              "\n",
              "    .colab-df-convert:hover {\n",
              "      background-color: #E2EBFA;\n",
              "      box-shadow: 0px 1px 2px rgba(60, 64, 67, 0.3), 0px 1px 3px 1px rgba(60, 64, 67, 0.15);\n",
              "      fill: #174EA6;\n",
              "    }\n",
              "\n",
              "    [theme=dark] .colab-df-convert {\n",
              "      background-color: #3B4455;\n",
              "      fill: #D2E3FC;\n",
              "    }\n",
              "\n",
              "    [theme=dark] .colab-df-convert:hover {\n",
              "      background-color: #434B5C;\n",
              "      box-shadow: 0px 1px 3px 1px rgba(0, 0, 0, 0.15);\n",
              "      filter: drop-shadow(0px 1px 2px rgba(0, 0, 0, 0.3));\n",
              "      fill: #FFFFFF;\n",
              "    }\n",
              "  </style>\n",
              "\n",
              "      <script>\n",
              "        const buttonEl =\n",
              "          document.querySelector('#df-a6230a13-e0a4-426a-964b-c59b4a7d4c6f button.colab-df-convert');\n",
              "        buttonEl.style.display =\n",
              "          google.colab.kernel.accessAllowed ? 'block' : 'none';\n",
              "\n",
              "        async function convertToInteractive(key) {\n",
              "          const element = document.querySelector('#df-a6230a13-e0a4-426a-964b-c59b4a7d4c6f');\n",
              "          const dataTable =\n",
              "            await google.colab.kernel.invokeFunction('convertToInteractive',\n",
              "                                                     [key], {});\n",
              "          if (!dataTable) return;\n",
              "\n",
              "          const docLinkHtml = 'Like what you see? Visit the ' +\n",
              "            '<a target=\"_blank\" href=https://colab.research.google.com/notebooks/data_table.ipynb>data table notebook</a>'\n",
              "            + ' to learn more about interactive tables.';\n",
              "          element.innerHTML = '';\n",
              "          dataTable['output_type'] = 'display_data';\n",
              "          await google.colab.output.renderOutput(dataTable, element);\n",
              "          const docLink = document.createElement('div');\n",
              "          docLink.innerHTML = docLinkHtml;\n",
              "          element.appendChild(docLink);\n",
              "        }\n",
              "      </script>\n",
              "    </div>\n",
              "  </div>\n",
              "  "
            ]
          },
          "metadata": {},
          "execution_count": 213
        },
        {
          "output_type": "display_data",
          "data": {
            "text/plain": [
              "<Figure size 432x288 with 2 Axes>"
            ],
            "image/png": "[encoded data removed]"
          },
          "metadata": {
            "needs_background": "light"
          }
        }
      ]
    },
    {
      "cell_type": "markdown",
      "source": [
        "#Models' Evaluation Matrix"
      ],
      "metadata": {
        "id": "O88W9rAul4H7"
      }
    },
    {
      "cell_type": "code",
      "source": [
        "evaluation_metrics = [evaluation_metrics1,evaluation_metrics2,evaluation_metrics3,\n",
        "                      evaluation_metrics4,evaluation_metrics5,evaluation_metrics6,\n",
        "                      evaluation_metrics7]"
      ],
      "metadata": {
        "id": "mWDz5AUWmA9y"
      },
      "execution_count": 214,
      "outputs": []
    },
    {
      "cell_type": "code",
      "source": [
        "em_list=pd.concat(evaluation_metrics).reset_index(drop=True)\n",
        "em_list"
      ],
      "metadata": {
        "colab": {
          "base_uri": "https://localhost:8080/",
          "height": 269
        },
        "id": "gQfC7-CJoVfU",
        "outputId": "70bc7996-5033-4cc3-ffcb-760a174bec0d"
      },
      "execution_count": 215,
      "outputs": [
        {
          "output_type": "execute_result",
          "data": {
            "text/plain": [
              "                 Model  Accuracy  Precision  Sensitivity  Specificity  \\\n",
              "0  Logistic Regression  0.848586   0.500000     0.032967     0.994118   \n",
              "1                  KNN  0.805889   0.738589     0.872549     0.752456   \n",
              "2         DecisionTree  0.804798   0.758465     0.823529     0.789784   \n",
              "3     GradientBoosting  0.806979   0.840708     0.698529     0.893910   \n",
              "4              XGBoost  0.865867   0.905983     0.779412     0.935167   \n",
              "5          Naive Bayes  0.596510   0.737500     0.144608     0.958743   \n",
              "6        SupportVector  0.671756   0.627078     0.647059     0.691552   \n",
              "\n",
              "   F1 Score       ROC  \n",
              "0  0.061856  0.513542  \n",
              "1  0.800000  0.812502  \n",
              "2  0.789659  0.806657  \n",
              "3  0.763052  0.796220  \n",
              "4  0.837945  0.857289  \n",
              "5  0.241803  0.551675  \n",
              "6  0.636912  0.669305  "
            ],
            "text/html": [
              "\n",
              "  <div id=\"df-41c96684-f8b5-4197-b7e8-c26ff1b82305\">\n",
              "    <div class=\"colab-df-container\">\n",
              "      <div>\n",
              "<style scoped>\n",
              "    .dataframe tbody tr th:only-of-type {\n",
              "        vertical-align: middle;\n",
              "    }\n",
              "\n",
              "    .dataframe tbody tr th {\n",
              "        vertical-align: top;\n",
              "    }\n",
              "\n",
              "    .dataframe thead th {\n",
              "        text-align: right;\n",
              "    }\n",
              "</style>\n",
              "<table border=\"1\" class=\"dataframe\">\n",
              "  <thead>\n",
              "    <tr style=\"text-align: right;\">\n",
              "      <th></th>\n",
              "      <th>Model</th>\n",
              "      <th>Accuracy</th>\n",
              "      <th>Precision</th>\n",
              "      <th>Sensitivity</th>\n",
              "      <th>Specificity</th>\n",
              "      <th>F1 Score</th>\n",
              "      <th>ROC</th>\n",
              "    </tr>\n",
              "  </thead>\n",
              "  <tbody>\n",
              "    <tr>\n",
              "      <th>0</th>\n",
              "      <td>Logistic Regression</td>\n",
              "      <td>0.848586</td>\n",
              "      <td>0.500000</td>\n",
              "      <td>0.032967</td>\n",
              "      <td>0.994118</td>\n",
              "      <td>0.061856</td>\n",
              "      <td>0.513542</td>\n",
              "    </tr>\n",
              "    <tr>\n",
              "      <th>1</th>\n",
              "      <td>KNN</td>\n",
              "      <td>0.805889</td>\n",
              "      <td>0.738589</td>\n",
              "      <td>0.872549</td>\n",
              "      <td>0.752456</td>\n",
              "      <td>0.800000</td>\n",
              "      <td>0.812502</td>\n",
              "    </tr>\n",
              "    <tr>\n",
              "      <th>2</th>\n",
              "      <td>DecisionTree</td>\n",
              "      <td>0.804798</td>\n",
              "      <td>0.758465</td>\n",
              "      <td>0.823529</td>\n",
              "      <td>0.789784</td>\n",
              "      <td>0.789659</td>\n",
              "      <td>0.806657</td>\n",
              "    </tr>\n",
              "    <tr>\n",
              "      <th>3</th>\n",
              "      <td>GradientBoosting</td>\n",
              "      <td>0.806979</td>\n",
              "      <td>0.840708</td>\n",
              "      <td>0.698529</td>\n",
              "      <td>0.893910</td>\n",
              "      <td>0.763052</td>\n",
              "      <td>0.796220</td>\n",
              "    </tr>\n",
              "    <tr>\n",
              "      <th>4</th>\n",
              "      <td>XGBoost</td>\n",
              "      <td>0.865867</td>\n",
              "      <td>0.905983</td>\n",
              "      <td>0.779412</td>\n",
              "      <td>0.935167</td>\n",
              "      <td>0.837945</td>\n",
              "      <td>0.857289</td>\n",
              "    </tr>\n",
              "    <tr>\n",
              "      <th>5</th>\n",
              "      <td>Naive Bayes</td>\n",
              "      <td>0.596510</td>\n",
              "      <td>0.737500</td>\n",
              "      <td>0.144608</td>\n",
              "      <td>0.958743</td>\n",
              "      <td>0.241803</td>\n",
              "      <td>0.551675</td>\n",
              "    </tr>\n",
              "    <tr>\n",
              "      <th>6</th>\n",
              "      <td>SupportVector</td>\n",
              "      <td>0.671756</td>\n",
              "      <td>0.627078</td>\n",
              "      <td>0.647059</td>\n",
              "      <td>0.691552</td>\n",
              "      <td>0.636912</td>\n",
              "      <td>0.669305</td>\n",
              "    </tr>\n",
              "  </tbody>\n",
              "</table>\n",
              "</div>\n",
              "      <button class=\"colab-df-convert\" onclick=\"convertToInteractive('df-41c96684-f8b5-4197-b7e8-c26ff1b82305')\"\n",
              "              title=\"Convert this dataframe to an interactive table.\"\n",
              "              style=\"display:none;\">\n",
              "        \n",
              "  <svg xmlns=\"http://www.w3.org/2000/svg\" height=\"24px\"viewBox=\"0 0 24 24\"\n",
              "       width=\"24px\">\n",
              "    <path d=\"M0 0h24v24H0V0z\" fill=\"none\"/>\n",
              "    <path d=\"M18.56 5.44l.94 2.06.94-2.06 2.06-.94-2.06-.94-.94-2.06-.94 2.06-2.06.94zm-11 1L8.5 8.5l.94-2.06 2.06-.94-2.06-.94L8.5 2.5l-.94 2.06-2.06.94zm10 10l.94 2.06.94-2.06 2.06-.94-2.06-.94-.94-2.06-.94 2.06-2.06.94z\"/><path d=\"M17.41 7.96l-1.37-1.37c-.4-.4-.92-.59-1.43-.59-.52 0-1.04.2-1.43.59L10.3 9.45l-7.72 7.72c-.78.78-.78 2.05 0 2.83L4 21.41c.39.39.9.59 1.41.59.51 0 1.02-.2 1.41-.59l7.78-7.78 2.81-2.81c.8-.78.8-2.07 0-2.86zM5.41 20L4 18.59l7.72-7.72 1.47 1.35L5.41 20z\"/>\n",
              "  </svg>\n",
              "      </button>\n",
              "      \n",
              "  <style>\n",
              "    .colab-df-container {\n",
              "      display:flex;\n",
              "      flex-wrap:wrap;\n",
              "      gap: 12px;\n",
              "    }\n",
              "\n",
              "    .colab-df-convert {\n",
              "      background-color: #E8F0FE;\n",
              "      border: none;\n",
              "      border-radius: 50%;\n",
              "      cursor: pointer;\n",
              "      display: none;\n",
              "      fill: #1967D2;\n",
              "      height: 32px;\n",
              "      padding: 0 0 0 0;\n",
              "      width: 32px;\n",
              "    }\n",
              "\n",
              "    .colab-df-convert:hover {\n",
              "      background-color: #E2EBFA;\n",
              "      box-shadow: 0px 1px 2px rgba(60, 64, 67, 0.3), 0px 1px 3px 1px rgba(60, 64, 67, 0.15);\n",
              "      fill: #174EA6;\n",
              "    }\n",
              "\n",
              "    [theme=dark] .colab-df-convert {\n",
              "      background-color: #3B4455;\n",
              "      fill: #D2E3FC;\n",
              "    }\n",
              "\n",
              "    [theme=dark] .colab-df-convert:hover {\n",
              "      background-color: #434B5C;\n",
              "      box-shadow: 0px 1px 3px 1px rgba(0, 0, 0, 0.15);\n",
              "      filter: drop-shadow(0px 1px 2px rgba(0, 0, 0, 0.3));\n",
              "      fill: #FFFFFF;\n",
              "    }\n",
              "  </style>\n",
              "\n",
              "      <script>\n",
              "        const buttonEl =\n",
              "          document.querySelector('#df-41c96684-f8b5-4197-b7e8-c26ff1b82305 button.colab-df-convert');\n",
              "        buttonEl.style.display =\n",
              "          google.colab.kernel.accessAllowed ? 'block' : 'none';\n",
              "\n",
              "        async function convertToInteractive(key) {\n",
              "          const element = document.querySelector('#df-41c96684-f8b5-4197-b7e8-c26ff1b82305');\n",
              "          const dataTable =\n",
              "            await google.colab.kernel.invokeFunction('convertToInteractive',\n",
              "                                                     [key], {});\n",
              "          if (!dataTable) return;\n",
              "\n",
              "          const docLinkHtml = 'Like what you see? Visit the ' +\n",
              "            '<a target=\"_blank\" href=https://colab.research.google.com/notebooks/data_table.ipynb>data table notebook</a>'\n",
              "            + ' to learn more about interactive tables.';\n",
              "          element.innerHTML = '';\n",
              "          dataTable['output_type'] = 'display_data';\n",
              "          await google.colab.output.renderOutput(dataTable, element);\n",
              "          const docLink = document.createElement('div');\n",
              "          docLink.innerHTML = docLinkHtml;\n",
              "          element.appendChild(docLink);\n",
              "        }\n",
              "      </script>\n",
              "    </div>\n",
              "  </div>\n",
              "  "
            ]
          },
          "metadata": {},
          "execution_count": 215
        }
      ]
    },
    {
      "cell_type": "code",
      "source": [],
      "metadata": {
        "id": "0UN1eYNkqQ0H"
      },
      "execution_count": 215,
      "outputs": []
    }
  ]
}